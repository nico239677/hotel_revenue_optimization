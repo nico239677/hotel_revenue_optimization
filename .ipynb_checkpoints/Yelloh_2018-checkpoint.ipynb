{
 "cells": [
  {
   "cell_type": "code",
   "execution_count": 45,
   "metadata": {},
   "outputs": [],
   "source": [
    "import pandas as pd\n",
    "import numpy as np\n",
    "import matplotlib.pyplot as plt\n",
    "from sklearn.model_selection import TimeSeriesSplit"
   ]
  },
  {
   "cell_type": "code",
   "execution_count": 46,
   "metadata": {},
   "outputs": [
    {
     "name": "stdout",
     "output_type": "stream",
     "text": [
      "Collecting NBprocessing\n",
      "  Downloading NBprocessing-0.0.195-py3-none-any.whl (24 kB)\n",
      "Requirement already satisfied: numpy in /opt/anaconda3/lib/python3.6/site-packages (from NBprocessing) (1.18.1)\n",
      "Requirement already satisfied: pandas in /opt/anaconda3/lib/python3.6/site-packages (from NBprocessing) (1.0.1)\n",
      "Requirement already satisfied: matplotlib in /opt/anaconda3/lib/python3.6/site-packages (from NBprocessing) (3.1.3)\n",
      "Requirement already satisfied: seaborn in /opt/anaconda3/lib/python3.6/site-packages (from NBprocessing) (0.10.0)\n",
      "Requirement already satisfied: plotly in /opt/anaconda3/lib/python3.6/site-packages (from NBprocessing) (4.9.0)\n",
      "Requirement already satisfied: pytz>=2017.2 in /opt/anaconda3/lib/python3.6/site-packages (from pandas->NBprocessing) (2019.3)\n",
      "Requirement already satisfied: python-dateutil>=2.6.1 in /opt/anaconda3/lib/python3.6/site-packages (from pandas->NBprocessing) (2.8.1)\n",
      "Requirement already satisfied: pyparsing!=2.0.4,!=2.1.2,!=2.1.6,>=2.0.1 in /opt/anaconda3/lib/python3.6/site-packages (from matplotlib->NBprocessing) (2.4.6)\n",
      "Requirement already satisfied: cycler>=0.10 in /opt/anaconda3/lib/python3.6/site-packages (from matplotlib->NBprocessing) (0.10.0)\n",
      "Requirement already satisfied: kiwisolver>=1.0.1 in /opt/anaconda3/lib/python3.6/site-packages (from matplotlib->NBprocessing) (1.1.0)\n",
      "Requirement already satisfied: scipy>=1.0.1 in /opt/anaconda3/lib/python3.6/site-packages (from seaborn->NBprocessing) (1.4.1)\n",
      "Requirement already satisfied: six in /opt/anaconda3/lib/python3.6/site-packages (from plotly->NBprocessing) (1.14.0)\n",
      "Requirement already satisfied: retrying>=1.3.3 in /opt/anaconda3/lib/python3.6/site-packages (from plotly->NBprocessing) (1.3.3)\n",
      "Requirement already satisfied: setuptools in /opt/anaconda3/lib/python3.6/site-packages (from kiwisolver>=1.0.1->matplotlib->NBprocessing) (46.0.0.post20200309)\n",
      "Installing collected packages: NBprocessing\n",
      "Successfully installed NBprocessing-0.0.195\n"
     ]
    }
   ],
   "source": [
    "!pip install NBprocessing"
   ]
  },
  {
   "cell_type": "code",
   "execution_count": 49,
   "metadata": {},
   "outputs": [],
   "source": [
    "from NBprocessing import NBcategorical\n",
    "from NBprocessing import NBcontinuous\n",
    "from NBprocessing import NBplot\n",
    "from NBprocessing import NBgeneral"
   ]
  },
  {
   "cell_type": "code",
   "execution_count": 105,
   "metadata": {},
   "outputs": [],
   "source": [
    "data_dict = pd.read_excel('20-08-14_EPA_Data_Dictionnary_Campstat.xlsx')\n",
    "data_dict.rename(columns={data.columns[0]: 'feature', data.columns[1]:'definition'}, inplace=True)\n",
    "data_dict = data_dict.iloc[1:, :]"
   ]
  },
  {
   "cell_type": "markdown",
   "metadata": {},
   "source": [
    "# Loading data dictionary"
   ]
  },
  {
   "cell_type": "code",
   "execution_count": 107,
   "metadata": {},
   "outputs": [
    {
     "data": {
      "text/html": [
       "<div>\n",
       "<style scoped>\n",
       "    .dataframe tbody tr th:only-of-type {\n",
       "        vertical-align: middle;\n",
       "    }\n",
       "\n",
       "    .dataframe tbody tr th {\n",
       "        vertical-align: top;\n",
       "    }\n",
       "\n",
       "    .dataframe thead th {\n",
       "        text-align: right;\n",
       "    }\n",
       "</style>\n",
       "<table border=\"1\" class=\"dataframe\">\n",
       "  <thead>\n",
       "    <tr style=\"text-align: right;\">\n",
       "      <th></th>\n",
       "      <th>DATA DICTIONNARY</th>\n",
       "      <th>Unnamed: 1</th>\n",
       "    </tr>\n",
       "  </thead>\n",
       "  <tbody>\n",
       "    <tr>\n",
       "      <th>1</th>\n",
       "      <td>idstay</td>\n",
       "      <td>Internal ID for each booking</td>\n",
       "    </tr>\n",
       "    <tr>\n",
       "      <th>2</th>\n",
       "      <td>idstay_to</td>\n",
       "      <td>External ID for a booking coming from a distributor</td>\n",
       "    </tr>\n",
       "    <tr>\n",
       "      <th>3</th>\n",
       "      <td>type_stay_lbl</td>\n",
       "      <td>INDIV RESID : stock from a Unit belowing to a owner - INDIV ALLOT : stock from a distributor allotment - INDIV DIRECT : stock directly managed by the campsite</td>\n",
       "    </tr>\n",
       "    <tr>\n",
       "      <th>4</th>\n",
       "      <td>resinternet</td>\n",
       "      <td>Internal ID for each booking. Beginning with U means a booking made by phone or on site by the campsite. Beginning with O means a Internet Booking</td>\n",
       "    </tr>\n",
       "    <tr>\n",
       "      <th>5</th>\n",
       "      <td>type_guest</td>\n",
       "      <td>Not very use : A = Allotment - N = Individual customer</td>\n",
       "    </tr>\n",
       "    <tr>\n",
       "      <th>6</th>\n",
       "      <td>extract_date</td>\n",
       "      <td>Date of the last export (ie creation/modification) of the booking from the PMS. System Date</td>\n",
       "    </tr>\n",
       "    <tr>\n",
       "      <th>7</th>\n",
       "      <td>resdate</td>\n",
       "      <td>Date of the booking</td>\n",
       "    </tr>\n",
       "    <tr>\n",
       "      <th>8</th>\n",
       "      <td>camping_code</td>\n",
       "      <td>Internal ID for each campsite</td>\n",
       "    </tr>\n",
       "    <tr>\n",
       "      <th>9</th>\n",
       "      <td>camping_label</td>\n",
       "      <td>Name of the campsite</td>\n",
       "    </tr>\n",
       "    <tr>\n",
       "      <th>10</th>\n",
       "      <td>Région</td>\n",
       "      <td>Region of the Campsite</td>\n",
       "    </tr>\n",
       "    <tr>\n",
       "      <th>11</th>\n",
       "      <td>type_hebergement</td>\n",
       "      <td>LOCA = Mobile Home ; EMPL = Pitch</td>\n",
       "    </tr>\n",
       "    <tr>\n",
       "      <th>12</th>\n",
       "      <td>hebergement</td>\n",
       "      <td>Internal ID for the category at the groupe Level</td>\n",
       "    </tr>\n",
       "    <tr>\n",
       "      <th>13</th>\n",
       "      <td>hebergement_label</td>\n",
       "      <td>Category Label (uniformized at Yelloh level)</td>\n",
       "    </tr>\n",
       "    <tr>\n",
       "      <th>14</th>\n",
       "      <td>datein</td>\n",
       "      <td>Arrival date</td>\n",
       "    </tr>\n",
       "    <tr>\n",
       "      <th>15</th>\n",
       "      <td>dateout</td>\n",
       "      <td>Departure date</td>\n",
       "    </tr>\n",
       "    <tr>\n",
       "      <th>16</th>\n",
       "      <td>los</td>\n",
       "      <td>Lengh of stay</td>\n",
       "    </tr>\n",
       "    <tr>\n",
       "      <th>17</th>\n",
       "      <td>nbroom</td>\n",
       "      <td>Nb Room. Always 1 - Required for some distributors such as Trip Advisor</td>\n",
       "    </tr>\n",
       "    <tr>\n",
       "      <th>18</th>\n",
       "      <td>nbguest</td>\n",
       "      <td>Number of person within the booking</td>\n",
       "    </tr>\n",
       "    <tr>\n",
       "      <th>19</th>\n",
       "      <td>nb_nuit_fid</td>\n",
       "      <td>Number of free nights including in the booking due the Loyalty Program</td>\n",
       "    </tr>\n",
       "    <tr>\n",
       "      <th>20</th>\n",
       "      <td>Séjour Gratuit</td>\n",
       "      <td>1 = the customer has used his points to have all the nights of the booking free. Not possible anymore in 2020. One night should be paid.</td>\n",
       "    </tr>\n",
       "    <tr>\n",
       "      <th>21</th>\n",
       "      <td>Nb Nuits Payantes</td>\n",
       "      <td>Number of paying nights = los - nb_nuit_fid</td>\n",
       "    </tr>\n",
       "    <tr>\n",
       "      <th>22</th>\n",
       "      <td>vrai_date_resa</td>\n",
       "      <td>The real date of the booking by the customer</td>\n",
       "    </tr>\n",
       "    <tr>\n",
       "      <th>23</th>\n",
       "      <td>client _id_grp</td>\n",
       "      <td>Internal ID Customer at the Group level. Unique at Yelloh Level</td>\n",
       "    </tr>\n",
       "    <tr>\n",
       "      <th>24</th>\n",
       "      <td>client_name</td>\n",
       "      <td>Client name</td>\n",
       "    </tr>\n",
       "    <tr>\n",
       "      <th>25</th>\n",
       "      <td>rev1</td>\n",
       "      <td>Revenue for the accomodation only</td>\n",
       "    </tr>\n",
       "    <tr>\n",
       "      <th>26</th>\n",
       "      <td>rev2</td>\n",
       "      <td>Revenue for the insurance cancellation</td>\n",
       "    </tr>\n",
       "    <tr>\n",
       "      <th>27</th>\n",
       "      <td>rev3</td>\n",
       "      <td>Revenue for the supplements (animals, additionnal persons, ….)</td>\n",
       "    </tr>\n",
       "    <tr>\n",
       "      <th>28</th>\n",
       "      <td>rev4</td>\n",
       "      <td>Others revenues (taxes, prestations,….)</td>\n",
       "    </tr>\n",
       "    <tr>\n",
       "      <th>29</th>\n",
       "      <td>rev5</td>\n",
       "      <td>Revenue for a specific prestation (number of accomodation choice)</td>\n",
       "    </tr>\n",
       "    <tr>\n",
       "      <th>30</th>\n",
       "      <td>rev</td>\n",
       "      <td>Total revenue of the booking</td>\n",
       "    </tr>\n",
       "    <tr>\n",
       "      <th>31</th>\n",
       "      <td>fid_id</td>\n",
       "      <td>Loyalty Program Number for the customer</td>\n",
       "    </tr>\n",
       "    <tr>\n",
       "      <th>32</th>\n",
       "      <td>pays</td>\n",
       "      <td>Customer country of residence</td>\n",
       "    </tr>\n",
       "    <tr>\n",
       "      <th>33</th>\n",
       "      <td>region</td>\n",
       "      <td>Language spoken by the customer</td>\n",
       "    </tr>\n",
       "    <tr>\n",
       "      <th>34</th>\n",
       "      <td>fidelisation</td>\n",
       "      <td>1 = no subscription to the loyalty program by the customer ; 2 = subscription of the loyalty program by the customer</td>\n",
       "    </tr>\n",
       "    <tr>\n",
       "      <th>35</th>\n",
       "      <td>date_fid</td>\n",
       "      <td>Date of the subscription of the loyalty program by the customer</td>\n",
       "    </tr>\n",
       "    <tr>\n",
       "      <th>36</th>\n",
       "      <td>creation_date</td>\n",
       "      <td>Date of the creation of the customer</td>\n",
       "    </tr>\n",
       "    <tr>\n",
       "      <th>37</th>\n",
       "      <td>segment</td>\n",
       "      <td>see datasheet Mapping - Classification of the booking</td>\n",
       "    </tr>\n",
       "    <tr>\n",
       "      <th>38</th>\n",
       "      <td>scode1</td>\n",
       "      <td>see datasheet Mapping - Classification of the booking</td>\n",
       "    </tr>\n",
       "    <tr>\n",
       "      <th>39</th>\n",
       "      <td>scode2</td>\n",
       "      <td>see datasheet Mapping - Classification of the booking</td>\n",
       "    </tr>\n",
       "    <tr>\n",
       "      <th>40</th>\n",
       "      <td>hébergement entreprise id</td>\n",
       "      <td>Internal ID for the category within the PMS of the Campsite. As PMS are not linked, we could have the same ID for different categories in different campsites</td>\n",
       "    </tr>\n",
       "    <tr>\n",
       "      <th>41</th>\n",
       "      <td>hébergement entreprise lbl</td>\n",
       "      <td>Name of the Category within the PMS of the Campsite</td>\n",
       "    </tr>\n",
       "  </tbody>\n",
       "</table>\n",
       "</div>"
      ],
      "text/plain": [
       "              DATA DICTIONNARY  \\\n",
       "1   idstay                       \n",
       "2   idstay_to                    \n",
       "3   type_stay_lbl                \n",
       "4   resinternet                  \n",
       "5   type_guest                   \n",
       "6   extract_date                 \n",
       "7   resdate                      \n",
       "8   camping_code                 \n",
       "9   camping_label                \n",
       "10  Région                       \n",
       "11  type_hebergement             \n",
       "12  hebergement                  \n",
       "13  hebergement_label            \n",
       "14  datein                       \n",
       "15  dateout                      \n",
       "16  los                          \n",
       "17  nbroom                       \n",
       "18  nbguest                      \n",
       "19  nb_nuit_fid                  \n",
       "20  Séjour Gratuit               \n",
       "21  Nb Nuits Payantes            \n",
       "22  vrai_date_resa               \n",
       "23  client _id_grp               \n",
       "24  client_name                  \n",
       "25  rev1                         \n",
       "26  rev2                         \n",
       "27  rev3                         \n",
       "28  rev4                         \n",
       "29  rev5                         \n",
       "30  rev                          \n",
       "31  fid_id                       \n",
       "32  pays                         \n",
       "33  region                       \n",
       "34  fidelisation                 \n",
       "35  date_fid                     \n",
       "36  creation_date                \n",
       "37  segment                      \n",
       "38  scode1                       \n",
       "39  scode2                       \n",
       "40  hébergement entreprise id    \n",
       "41  hébergement entreprise lbl   \n",
       "\n",
       "                                                                                                                                                        Unnamed: 1  \n",
       "1   Internal ID for each booking                                                                                                                                    \n",
       "2   External ID for a booking coming from a distributor                                                                                                             \n",
       "3   INDIV RESID : stock from a Unit belowing to a owner - INDIV ALLOT : stock from a distributor allotment - INDIV DIRECT : stock directly managed by the campsite  \n",
       "4   Internal ID for each booking. Beginning with U means a booking made by phone or on site by the campsite. Beginning with O means a Internet Booking              \n",
       "5   Not very use : A = Allotment - N = Individual customer                                                                                                          \n",
       "6   Date of the last export (ie creation/modification) of the booking from the PMS. System Date                                                                     \n",
       "7   Date of the booking                                                                                                                                             \n",
       "8   Internal ID for each campsite                                                                                                                                   \n",
       "9   Name of the campsite                                                                                                                                            \n",
       "10  Region of the Campsite                                                                                                                                          \n",
       "11  LOCA = Mobile Home ; EMPL = Pitch                                                                                                                               \n",
       "12  Internal ID for the category at the groupe Level                                                                                                                \n",
       "13  Category Label (uniformized at Yelloh level)                                                                                                                    \n",
       "14  Arrival date                                                                                                                                                    \n",
       "15  Departure date                                                                                                                                                  \n",
       "16  Lengh of stay                                                                                                                                                   \n",
       "17  Nb Room. Always 1 - Required for some distributors such as Trip Advisor                                                                                         \n",
       "18  Number of person within the booking                                                                                                                             \n",
       "19  Number of free nights including in the booking due the Loyalty Program                                                                                          \n",
       "20  1 = the customer has used his points to have all the nights of the booking free. Not possible anymore in 2020. One night should be paid.                        \n",
       "21  Number of paying nights = los - nb_nuit_fid                                                                                                                     \n",
       "22  The real date of the booking by the customer                                                                                                                    \n",
       "23  Internal ID Customer at the Group level. Unique at Yelloh Level                                                                                                 \n",
       "24  Client name                                                                                                                                                     \n",
       "25  Revenue for the accomodation only                                                                                                                               \n",
       "26  Revenue for the insurance cancellation                                                                                                                          \n",
       "27  Revenue for the supplements (animals, additionnal persons, ….)                                                                                                  \n",
       "28  Others revenues (taxes, prestations,….)                                                                                                                         \n",
       "29  Revenue for a specific prestation (number of accomodation choice)                                                                                               \n",
       "30  Total revenue of the booking                                                                                                                                    \n",
       "31  Loyalty Program Number for the customer                                                                                                                         \n",
       "32  Customer country of residence                                                                                                                                   \n",
       "33  Language spoken by the customer                                                                                                                                 \n",
       "34  1 = no subscription to the loyalty program by the customer ; 2 = subscription of the loyalty program by the customer                                            \n",
       "35  Date of the subscription of the loyalty program by the customer                                                                                                 \n",
       "36  Date of the creation of the customer                                                                                                                            \n",
       "37  see datasheet Mapping - Classification of the booking                                                                                                           \n",
       "38  see datasheet Mapping - Classification of the booking                                                                                                           \n",
       "39  see datasheet Mapping - Classification of the booking                                                                                                           \n",
       "40  Internal ID for the category within the PMS of the Campsite. As PMS are not linked, we could have the same ID for different categories in different campsites   \n",
       "41  Name of the Category within the PMS of the Campsite                                                                                                             "
      ]
     },
     "execution_count": 107,
     "metadata": {},
     "output_type": "execute_result"
    }
   ],
   "source": [
    "pd.set_option('display.max_colwidth', 0)\n",
    "\n",
    "data_dict"
   ]
  },
  {
   "cell_type": "markdown",
   "metadata": {},
   "source": [
    "### Summary statistics"
   ]
  },
  {
   "cell_type": "code",
   "execution_count": 65,
   "metadata": {},
   "outputs": [],
   "source": [
    "data = pd.read_excel('19-01-04_Séjours_2018.xlsb', engine='pyxlsb')"
   ]
  },
  {
   "cell_type": "code",
   "execution_count": 366,
   "metadata": {},
   "outputs": [],
   "source": [
    "df = data.copy()"
   ]
  },
  {
   "cell_type": "code",
   "execution_count": 367,
   "metadata": {},
   "outputs": [],
   "source": [
    "pd.set_option('display.max_columns', None)"
   ]
  },
  {
   "cell_type": "code",
   "execution_count": 368,
   "metadata": {},
   "outputs": [
    {
     "data": {
      "text/html": [
       "<div>\n",
       "<style scoped>\n",
       "    .dataframe tbody tr th:only-of-type {\n",
       "        vertical-align: middle;\n",
       "    }\n",
       "\n",
       "    .dataframe tbody tr th {\n",
       "        vertical-align: top;\n",
       "    }\n",
       "\n",
       "    .dataframe thead th {\n",
       "        text-align: right;\n",
       "    }\n",
       "</style>\n",
       "<table border=\"1\" class=\"dataframe\">\n",
       "  <thead>\n",
       "    <tr style=\"text-align: right;\">\n",
       "      <th></th>\n",
       "      <th>idstay</th>\n",
       "      <th>idstay_to</th>\n",
       "      <th>type_stay_lbl</th>\n",
       "      <th>resinternet</th>\n",
       "      <th>type_guest</th>\n",
       "      <th>extract_date</th>\n",
       "      <th>resdate</th>\n",
       "      <th>camping_code</th>\n",
       "      <th>camping_label</th>\n",
       "      <th>Région</th>\n",
       "      <th>type_hebergement</th>\n",
       "      <th>hebergement</th>\n",
       "      <th>hebergement_label</th>\n",
       "      <th>datein</th>\n",
       "      <th>dateout</th>\n",
       "      <th>los</th>\n",
       "      <th>nbroom</th>\n",
       "      <th>nbguest</th>\n",
       "      <th>nb_nuit_fid</th>\n",
       "      <th>Séjour Gratuit</th>\n",
       "      <th>Nb Nuits Payantes</th>\n",
       "      <th>vrai_date_resa</th>\n",
       "      <th>client_id_grp</th>\n",
       "      <th>client_name</th>\n",
       "      <th>rev1</th>\n",
       "      <th>rev2</th>\n",
       "      <th>rev3</th>\n",
       "      <th>rev4</th>\n",
       "      <th>rev5</th>\n",
       "      <th>rev</th>\n",
       "      <th>fid_id</th>\n",
       "      <th>pays</th>\n",
       "      <th>region</th>\n",
       "      <th>fidelisation</th>\n",
       "      <th>date_fid</th>\n",
       "      <th>camping_fid</th>\n",
       "      <th>creation_date</th>\n",
       "      <th>segment</th>\n",
       "      <th>scode1</th>\n",
       "      <th>scode2</th>\n",
       "      <th>hebergement_camping_id</th>\n",
       "      <th>hebergement_camping_lbl</th>\n",
       "    </tr>\n",
       "  </thead>\n",
       "  <tbody>\n",
       "    <tr>\n",
       "      <th>0</th>\n",
       "      <td>320-14150</td>\n",
       "      <td>NaN</td>\n",
       "      <td>INDIV DIRECT</td>\n",
       "      <td>U20130628DEBUR932214355</td>\n",
       "      <td>N</td>\n",
       "      <td>43220.0</td>\n",
       "      <td>43040.0</td>\n",
       "      <td>59.0</td>\n",
       "      <td>TURISCAMPO</td>\n",
       "      <td>Portugal</td>\n",
       "      <td>LOCA</td>\n",
       "      <td>8.0</td>\n",
       "      <td>Locatif 3 ch. 4 *</td>\n",
       "      <td>43191.0</td>\n",
       "      <td>43220.0</td>\n",
       "      <td>29.0</td>\n",
       "      <td>1.0</td>\n",
       "      <td>1.0</td>\n",
       "      <td>0.0</td>\n",
       "      <td>0.0</td>\n",
       "      <td>29.0</td>\n",
       "      <td>41453.0</td>\n",
       "      <td>1939194.0</td>\n",
       "      <td>XXXXX</td>\n",
       "      <td>670.00</td>\n",
       "      <td>0.0</td>\n",
       "      <td>70.0</td>\n",
       "      <td>0.0</td>\n",
       "      <td>0.0</td>\n",
       "      <td>740.00</td>\n",
       "      <td>1.001500e+11</td>\n",
       "      <td>BE</td>\n",
       "      <td>7322</td>\n",
       "      <td>Y</td>\n",
       "      <td>42005.0</td>\n",
       "      <td>100.0</td>\n",
       "      <td>41212.0</td>\n",
       "      <td>DIRECT</td>\n",
       "      <td>Village</td>\n",
       "      <td>Village</td>\n",
       "      <td>999999.0</td>\n",
       "      <td>LOCA - Not Defined</td>\n",
       "    </tr>\n",
       "    <tr>\n",
       "      <th>1</th>\n",
       "      <td>320-19097</td>\n",
       "      <td>NaN</td>\n",
       "      <td>INDIV DIRECT</td>\n",
       "      <td>U20131119GRIME393582153</td>\n",
       "      <td>N</td>\n",
       "      <td>43136.0</td>\n",
       "      <td>42675.0</td>\n",
       "      <td>59.0</td>\n",
       "      <td>TURISCAMPO</td>\n",
       "      <td>Portugal</td>\n",
       "      <td>EMPL</td>\n",
       "      <td>2.0</td>\n",
       "      <td>Emplacement nu de 0 à 3 *</td>\n",
       "      <td>43072.0</td>\n",
       "      <td>43136.0</td>\n",
       "      <td>64.0</td>\n",
       "      <td>1.0</td>\n",
       "      <td>2.0</td>\n",
       "      <td>0.0</td>\n",
       "      <td>0.0</td>\n",
       "      <td>64.0</td>\n",
       "      <td>41597.0</td>\n",
       "      <td>1675500.0</td>\n",
       "      <td>XXXXX</td>\n",
       "      <td>915.64</td>\n",
       "      <td>0.0</td>\n",
       "      <td>0.0</td>\n",
       "      <td>0.0</td>\n",
       "      <td>0.0</td>\n",
       "      <td>915.64</td>\n",
       "      <td>5.912000e+10</td>\n",
       "      <td>GB</td>\n",
       "      <td>PO381NX</td>\n",
       "      <td>Y</td>\n",
       "      <td>41275.0</td>\n",
       "      <td>59.0</td>\n",
       "      <td>40835.0</td>\n",
       "      <td>DIRECT</td>\n",
       "      <td>Village</td>\n",
       "      <td>Village</td>\n",
       "      <td>999998.0</td>\n",
       "      <td>EMPL - Not Defined</td>\n",
       "    </tr>\n",
       "    <tr>\n",
       "      <th>2</th>\n",
       "      <td>320-20471</td>\n",
       "      <td>NaN</td>\n",
       "      <td>INDIV DIRECT</td>\n",
       "      <td>U20140228HINDL599191284</td>\n",
       "      <td>N</td>\n",
       "      <td>43327.0</td>\n",
       "      <td>43040.0</td>\n",
       "      <td>59.0</td>\n",
       "      <td>TURISCAMPO</td>\n",
       "      <td>Portugal</td>\n",
       "      <td>EMPL</td>\n",
       "      <td>2.0</td>\n",
       "      <td>Emplacement nu de 0 à 3 *</td>\n",
       "      <td>43101.0</td>\n",
       "      <td>43165.0</td>\n",
       "      <td>64.0</td>\n",
       "      <td>1.0</td>\n",
       "      <td>2.0</td>\n",
       "      <td>0.0</td>\n",
       "      <td>0.0</td>\n",
       "      <td>64.0</td>\n",
       "      <td>41698.0</td>\n",
       "      <td>1664127.0</td>\n",
       "      <td>XXXXX</td>\n",
       "      <td>1074.66</td>\n",
       "      <td>0.0</td>\n",
       "      <td>64.0</td>\n",
       "      <td>0.0</td>\n",
       "      <td>0.0</td>\n",
       "      <td>1138.66</td>\n",
       "      <td>5.917000e+10</td>\n",
       "      <td>GB</td>\n",
       "      <td>NaN</td>\n",
       "      <td>Y</td>\n",
       "      <td>42736.0</td>\n",
       "      <td>59.0</td>\n",
       "      <td>40835.0</td>\n",
       "      <td>DIRECT</td>\n",
       "      <td>Village</td>\n",
       "      <td>Village</td>\n",
       "      <td>22.0</td>\n",
       "      <td>Empla. Super Deluxe *** Luz</td>\n",
       "    </tr>\n",
       "    <tr>\n",
       "      <th>3</th>\n",
       "      <td>320-22588</td>\n",
       "      <td>NaN</td>\n",
       "      <td>INDIV DIRECT</td>\n",
       "      <td>U20140528ENGEL311651611</td>\n",
       "      <td>N</td>\n",
       "      <td>43261.0</td>\n",
       "      <td>43040.0</td>\n",
       "      <td>59.0</td>\n",
       "      <td>TURISCAMPO</td>\n",
       "      <td>Portugal</td>\n",
       "      <td>EMPL</td>\n",
       "      <td>2.0</td>\n",
       "      <td>Emplacement nu de 0 à 3 *</td>\n",
       "      <td>43191.0</td>\n",
       "      <td>43252.0</td>\n",
       "      <td>61.0</td>\n",
       "      <td>1.0</td>\n",
       "      <td>2.0</td>\n",
       "      <td>0.0</td>\n",
       "      <td>0.0</td>\n",
       "      <td>61.0</td>\n",
       "      <td>41787.0</td>\n",
       "      <td>1686399.0</td>\n",
       "      <td>XXXXX</td>\n",
       "      <td>901.00</td>\n",
       "      <td>0.0</td>\n",
       "      <td>0.0</td>\n",
       "      <td>0.0</td>\n",
       "      <td>0.0</td>\n",
       "      <td>901.00</td>\n",
       "      <td>1.001700e+11</td>\n",
       "      <td>DE</td>\n",
       "      <td>49740</td>\n",
       "      <td>Y</td>\n",
       "      <td>43101.0</td>\n",
       "      <td>100.0</td>\n",
       "      <td>40835.0</td>\n",
       "      <td>DIRECT</td>\n",
       "      <td>Village</td>\n",
       "      <td>Village</td>\n",
       "      <td>999998.0</td>\n",
       "      <td>EMPL - Not Defined</td>\n",
       "    </tr>\n",
       "    <tr>\n",
       "      <th>4</th>\n",
       "      <td>320-22610</td>\n",
       "      <td>NaN</td>\n",
       "      <td>INDIV DIRECT</td>\n",
       "      <td>U20140529SRCOL428189086</td>\n",
       "      <td>N</td>\n",
       "      <td>43078.0</td>\n",
       "      <td>42675.0</td>\n",
       "      <td>59.0</td>\n",
       "      <td>TURISCAMPO</td>\n",
       "      <td>Portugal</td>\n",
       "      <td>LOCA</td>\n",
       "      <td>10.0</td>\n",
       "      <td>Locatif 2 ch. PREMIUM</td>\n",
       "      <td>43074.0</td>\n",
       "      <td>43078.0</td>\n",
       "      <td>4.0</td>\n",
       "      <td>1.0</td>\n",
       "      <td>2.0</td>\n",
       "      <td>0.0</td>\n",
       "      <td>0.0</td>\n",
       "      <td>4.0</td>\n",
       "      <td>41788.0</td>\n",
       "      <td>-1.0</td>\n",
       "      <td>XXXXX</td>\n",
       "      <td>0.00</td>\n",
       "      <td>0.0</td>\n",
       "      <td>0.0</td>\n",
       "      <td>0.0</td>\n",
       "      <td>0.0</td>\n",
       "      <td>0.00</td>\n",
       "      <td>0.000000e+00</td>\n",
       "      <td>PT</td>\n",
       "      <td>NaN</td>\n",
       "      <td>N</td>\n",
       "      <td>NaN</td>\n",
       "      <td>0.0</td>\n",
       "      <td>39721.0</td>\n",
       "      <td>DIRECT</td>\n",
       "      <td>Village</td>\n",
       "      <td>Village</td>\n",
       "      <td>999999.0</td>\n",
       "      <td>LOCA - Not Defined</td>\n",
       "    </tr>\n",
       "  </tbody>\n",
       "</table>\n",
       "</div>"
      ],
      "text/plain": [
       "      idstay idstay_to type_stay_lbl              resinternet type_guest  \\\n",
       "0  320-14150  NaN       INDIV DIRECT  U20130628DEBUR932214355  N           \n",
       "1  320-19097  NaN       INDIV DIRECT  U20131119GRIME393582153  N           \n",
       "2  320-20471  NaN       INDIV DIRECT  U20140228HINDL599191284  N           \n",
       "3  320-22588  NaN       INDIV DIRECT  U20140528ENGEL311651611  N           \n",
       "4  320-22610  NaN       INDIV DIRECT  U20140529SRCOL428189086  N           \n",
       "\n",
       "   extract_date  resdate  camping_code camping_label    Région  \\\n",
       "0  43220.0       43040.0  59.0          TURISCAMPO    Portugal   \n",
       "1  43136.0       42675.0  59.0          TURISCAMPO    Portugal   \n",
       "2  43327.0       43040.0  59.0          TURISCAMPO    Portugal   \n",
       "3  43261.0       43040.0  59.0          TURISCAMPO    Portugal   \n",
       "4  43078.0       42675.0  59.0          TURISCAMPO    Portugal   \n",
       "\n",
       "  type_hebergement  hebergement          hebergement_label   datein  dateout  \\\n",
       "0  LOCA             8.0          Locatif 3 ch. 4 *          43191.0  43220.0   \n",
       "1  EMPL             2.0          Emplacement nu de 0 à 3 *  43072.0  43136.0   \n",
       "2  EMPL             2.0          Emplacement nu de 0 à 3 *  43101.0  43165.0   \n",
       "3  EMPL             2.0          Emplacement nu de 0 à 3 *  43191.0  43252.0   \n",
       "4  LOCA             10.0         Locatif 2 ch. PREMIUM      43074.0  43078.0   \n",
       "\n",
       "    los  nbroom  nbguest  nb_nuit_fid  Séjour Gratuit  Nb Nuits Payantes  \\\n",
       "0  29.0  1.0     1.0      0.0          0.0             29.0                \n",
       "1  64.0  1.0     2.0      0.0          0.0             64.0                \n",
       "2  64.0  1.0     2.0      0.0          0.0             64.0                \n",
       "3  61.0  1.0     2.0      0.0          0.0             61.0                \n",
       "4  4.0   1.0     2.0      0.0          0.0             4.0                 \n",
       "\n",
       "   vrai_date_resa  client_id_grp client_name     rev1  rev2  rev3  rev4  rev5  \\\n",
       "0  41453.0         1939194.0      XXXXX       670.00   0.0   70.0  0.0   0.0    \n",
       "1  41597.0         1675500.0      XXXXX       915.64   0.0   0.0   0.0   0.0    \n",
       "2  41698.0         1664127.0      XXXXX       1074.66  0.0   64.0  0.0   0.0    \n",
       "3  41787.0         1686399.0      XXXXX       901.00   0.0   0.0   0.0   0.0    \n",
       "4  41788.0        -1.0            XXXXX       0.00     0.0   0.0   0.0   0.0    \n",
       "\n",
       "       rev        fid_id pays   region fidelisation  date_fid  camping_fid  \\\n",
       "0  740.00   1.001500e+11  BE   7322     Y            42005.0   100.0         \n",
       "1  915.64   5.912000e+10  GB   PO381NX  Y            41275.0   59.0          \n",
       "2  1138.66  5.917000e+10  GB   NaN      Y            42736.0   59.0          \n",
       "3  901.00   1.001700e+11  DE   49740    Y            43101.0   100.0         \n",
       "4  0.00     0.000000e+00  PT   NaN      N           NaN        0.0           \n",
       "\n",
       "   creation_date segment   scode1   scode2  hebergement_camping_id  \\\n",
       "0  41212.0        DIRECT  Village  Village  999999.0                 \n",
       "1  40835.0        DIRECT  Village  Village  999998.0                 \n",
       "2  40835.0        DIRECT  Village  Village  22.0                     \n",
       "3  40835.0        DIRECT  Village  Village  999998.0                 \n",
       "4  39721.0        DIRECT  Village  Village  999999.0                 \n",
       "\n",
       "       hebergement_camping_lbl  \n",
       "0  LOCA - Not Defined           \n",
       "1  EMPL - Not Defined           \n",
       "2  Empla. Super Deluxe *** Luz  \n",
       "3  EMPL - Not Defined           \n",
       "4  LOCA - Not Defined           "
      ]
     },
     "execution_count": 368,
     "metadata": {},
     "output_type": "execute_result"
    }
   ],
   "source": [
    "df.head()"
   ]
  },
  {
   "cell_type": "code",
   "execution_count": 369,
   "metadata": {},
   "outputs": [
    {
     "data": {
      "text/plain": [
       "(312552, 42)"
      ]
     },
     "execution_count": 369,
     "metadata": {},
     "output_type": "execute_result"
    }
   ],
   "source": [
    "df.shape"
   ]
  },
  {
   "cell_type": "code",
   "execution_count": 370,
   "metadata": {},
   "outputs": [
    {
     "name": "stdout",
     "output_type": "stream",
     "text": [
      "<class 'pandas.core.frame.DataFrame'>\n",
      "RangeIndex: 312552 entries, 0 to 312551\n",
      "Data columns (total 42 columns):\n",
      " #   Column                   Non-Null Count   Dtype  \n",
      "---  ------                   --------------   -----  \n",
      " 0   idstay                   305235 non-null  object \n",
      " 1   idstay_to                3116 non-null    object \n",
      " 2   type_stay_lbl            305235 non-null  object \n",
      " 3   resinternet              304637 non-null  object \n",
      " 4   type_guest               305235 non-null  object \n",
      " 5   extract_date             305235 non-null  float64\n",
      " 6   resdate                  305235 non-null  float64\n",
      " 7   camping_code             305235 non-null  float64\n",
      " 8   camping_label            305235 non-null  object \n",
      " 9   Région                   305235 non-null  object \n",
      " 10  type_hebergement         305235 non-null  object \n",
      " 11  hebergement              305235 non-null  float64\n",
      " 12  hebergement_label        305235 non-null  object \n",
      " 13  datein                   305235 non-null  float64\n",
      " 14  dateout                  305235 non-null  float64\n",
      " 15  los                      305235 non-null  float64\n",
      " 16  nbroom                   305235 non-null  float64\n",
      " 17  nbguest                  305235 non-null  float64\n",
      " 18  nb_nuit_fid              305235 non-null  float64\n",
      " 19  Séjour Gratuit           305235 non-null  float64\n",
      " 20  Nb Nuits Payantes        305235 non-null  float64\n",
      " 21  vrai_date_resa           305235 non-null  float64\n",
      " 22  client_id_grp            305235 non-null  float64\n",
      " 23  client_name              305235 non-null  object \n",
      " 24  rev1                     305235 non-null  float64\n",
      " 25  rev2                     305235 non-null  float64\n",
      " 26  rev3                     305235 non-null  float64\n",
      " 27  rev4                     305235 non-null  float64\n",
      " 28  rev5                     305235 non-null  float64\n",
      " 29  rev                      305235 non-null  float64\n",
      " 30  fid_id                   305235 non-null  float64\n",
      " 31  pays                     305235 non-null  object \n",
      " 32  region                   86412 non-null   object \n",
      " 33  fidelisation             305235 non-null  object \n",
      " 34  date_fid                 118366 non-null  float64\n",
      " 35  camping_fid              305235 non-null  float64\n",
      " 36  creation_date            305235 non-null  float64\n",
      " 37  segment                  305235 non-null  object \n",
      " 38  scode1                   305235 non-null  object \n",
      " 39  scode2                   305023 non-null  object \n",
      " 40  hebergement_camping_id   305235 non-null  float64\n",
      " 41  hebergement_camping_lbl  305235 non-null  object \n",
      "dtypes: float64(25), object(17)\n",
      "memory usage: 100.2+ MB\n"
     ]
    }
   ],
   "source": [
    "df.info()"
   ]
  },
  {
   "cell_type": "code",
   "execution_count": 371,
   "metadata": {
    "scrolled": true
   },
   "outputs": [
    {
     "data": {
      "text/html": [
       "<div>\n",
       "<style scoped>\n",
       "    .dataframe tbody tr th:only-of-type {\n",
       "        vertical-align: middle;\n",
       "    }\n",
       "\n",
       "    .dataframe tbody tr th {\n",
       "        vertical-align: top;\n",
       "    }\n",
       "\n",
       "    .dataframe thead th {\n",
       "        text-align: right;\n",
       "    }\n",
       "</style>\n",
       "<table border=\"1\" class=\"dataframe\">\n",
       "  <thead>\n",
       "    <tr style=\"text-align: right;\">\n",
       "      <th></th>\n",
       "      <th>extract_date</th>\n",
       "      <th>resdate</th>\n",
       "      <th>camping_code</th>\n",
       "      <th>hebergement</th>\n",
       "      <th>datein</th>\n",
       "      <th>dateout</th>\n",
       "      <th>los</th>\n",
       "      <th>nbroom</th>\n",
       "      <th>nbguest</th>\n",
       "      <th>nb_nuit_fid</th>\n",
       "      <th>Séjour Gratuit</th>\n",
       "      <th>Nb Nuits Payantes</th>\n",
       "      <th>vrai_date_resa</th>\n",
       "      <th>client_id_grp</th>\n",
       "      <th>rev1</th>\n",
       "      <th>rev2</th>\n",
       "      <th>rev3</th>\n",
       "      <th>rev4</th>\n",
       "      <th>rev5</th>\n",
       "      <th>rev</th>\n",
       "      <th>fid_id</th>\n",
       "      <th>date_fid</th>\n",
       "      <th>camping_fid</th>\n",
       "      <th>creation_date</th>\n",
       "      <th>hebergement_camping_id</th>\n",
       "    </tr>\n",
       "  </thead>\n",
       "  <tbody>\n",
       "    <tr>\n",
       "      <th>count</th>\n",
       "      <td>305235.000000</td>\n",
       "      <td>305235.000000</td>\n",
       "      <td>305235.000000</td>\n",
       "      <td>305235.000000</td>\n",
       "      <td>305235.000000</td>\n",
       "      <td>305235.000000</td>\n",
       "      <td>305235.00000</td>\n",
       "      <td>305235.0</td>\n",
       "      <td>305235.000000</td>\n",
       "      <td>305235.000000</td>\n",
       "      <td>305235.000000</td>\n",
       "      <td>305235.000000</td>\n",
       "      <td>305235.000000</td>\n",
       "      <td>3.052350e+05</td>\n",
       "      <td>305235.000000</td>\n",
       "      <td>305235.000000</td>\n",
       "      <td>305235.00000</td>\n",
       "      <td>305235.000000</td>\n",
       "      <td>305235.000000</td>\n",
       "      <td>305235.000000</td>\n",
       "      <td>3.052350e+05</td>\n",
       "      <td>118366.000000</td>\n",
       "      <td>305235.000000</td>\n",
       "      <td>305235.000000</td>\n",
       "      <td>305235.000000</td>\n",
       "    </tr>\n",
       "    <tr>\n",
       "      <th>mean</th>\n",
       "      <td>43299.119341</td>\n",
       "      <td>43212.494268</td>\n",
       "      <td>45.445725</td>\n",
       "      <td>4.789746</td>\n",
       "      <td>43289.007031</td>\n",
       "      <td>43295.507881</td>\n",
       "      <td>6.50085</td>\n",
       "      <td>1.0</td>\n",
       "      <td>3.460612</td>\n",
       "      <td>0.072908</td>\n",
       "      <td>0.005452</td>\n",
       "      <td>6.427942</td>\n",
       "      <td>43210.936000</td>\n",
       "      <td>2.643037e+06</td>\n",
       "      <td>583.742852</td>\n",
       "      <td>3.932891</td>\n",
       "      <td>38.68114</td>\n",
       "      <td>8.233819</td>\n",
       "      <td>0.000885</td>\n",
       "      <td>634.591586</td>\n",
       "      <td>2.966033e+10</td>\n",
       "      <td>42208.776591</td>\n",
       "      <td>31.281232</td>\n",
       "      <td>42286.529530</td>\n",
       "      <td>286923.124783</td>\n",
       "    </tr>\n",
       "    <tr>\n",
       "      <th>std</th>\n",
       "      <td>51.286247</td>\n",
       "      <td>91.420644</td>\n",
       "      <td>31.288675</td>\n",
       "      <td>3.000703</td>\n",
       "      <td>49.553522</td>\n",
       "      <td>50.072155</td>\n",
       "      <td>7.00520</td>\n",
       "      <td>0.0</td>\n",
       "      <td>1.336851</td>\n",
       "      <td>0.464705</td>\n",
       "      <td>0.073633</td>\n",
       "      <td>7.002484</td>\n",
       "      <td>95.699663</td>\n",
       "      <td>1.032134e+06</td>\n",
       "      <td>739.653708</td>\n",
       "      <td>9.569056</td>\n",
       "      <td>85.01661</td>\n",
       "      <td>9.042442</td>\n",
       "      <td>0.162899</td>\n",
       "      <td>765.081456</td>\n",
       "      <td>4.334142e+10</td>\n",
       "      <td>992.933777</td>\n",
       "      <td>44.115905</td>\n",
       "      <td>1250.907792</td>\n",
       "      <td>452318.103607</td>\n",
       "    </tr>\n",
       "    <tr>\n",
       "      <th>min</th>\n",
       "      <td>43041.000000</td>\n",
       "      <td>42675.000000</td>\n",
       "      <td>1.000000</td>\n",
       "      <td>2.000000</td>\n",
       "      <td>43040.000000</td>\n",
       "      <td>43041.000000</td>\n",
       "      <td>1.00000</td>\n",
       "      <td>1.0</td>\n",
       "      <td>1.000000</td>\n",
       "      <td>0.000000</td>\n",
       "      <td>0.000000</td>\n",
       "      <td>-4.000000</td>\n",
       "      <td>41031.000000</td>\n",
       "      <td>-1.000000e+00</td>\n",
       "      <td>0.000000</td>\n",
       "      <td>0.000000</td>\n",
       "      <td>0.00000</td>\n",
       "      <td>0.000000</td>\n",
       "      <td>0.000000</td>\n",
       "      <td>0.000000</td>\n",
       "      <td>0.000000e+00</td>\n",
       "      <td>39814.000000</td>\n",
       "      <td>0.000000</td>\n",
       "      <td>36555.000000</td>\n",
       "      <td>1.000000</td>\n",
       "    </tr>\n",
       "    <tr>\n",
       "      <th>25%</th>\n",
       "      <td>43261.000000</td>\n",
       "      <td>43139.000000</td>\n",
       "      <td>18.000000</td>\n",
       "      <td>2.000000</td>\n",
       "      <td>43253.000000</td>\n",
       "      <td>43259.000000</td>\n",
       "      <td>2.00000</td>\n",
       "      <td>1.0</td>\n",
       "      <td>2.000000</td>\n",
       "      <td>0.000000</td>\n",
       "      <td>0.000000</td>\n",
       "      <td>2.000000</td>\n",
       "      <td>43139.000000</td>\n",
       "      <td>2.135159e+06</td>\n",
       "      <td>102.000000</td>\n",
       "      <td>0.000000</td>\n",
       "      <td>0.00000</td>\n",
       "      <td>2.400000</td>\n",
       "      <td>0.000000</td>\n",
       "      <td>121.600000</td>\n",
       "      <td>0.000000e+00</td>\n",
       "      <td>41640.000000</td>\n",
       "      <td>0.000000</td>\n",
       "      <td>41655.000000</td>\n",
       "      <td>4.000000</td>\n",
       "    </tr>\n",
       "    <tr>\n",
       "      <th>50%</th>\n",
       "      <td>43308.000000</td>\n",
       "      <td>43220.000000</td>\n",
       "      <td>39.000000</td>\n",
       "      <td>5.000000</td>\n",
       "      <td>43295.000000</td>\n",
       "      <td>43303.000000</td>\n",
       "      <td>5.00000</td>\n",
       "      <td>1.0</td>\n",
       "      <td>4.000000</td>\n",
       "      <td>0.000000</td>\n",
       "      <td>0.000000</td>\n",
       "      <td>5.000000</td>\n",
       "      <td>43220.000000</td>\n",
       "      <td>3.199374e+06</td>\n",
       "      <td>288.000000</td>\n",
       "      <td>0.000000</td>\n",
       "      <td>0.00000</td>\n",
       "      <td>6.000000</td>\n",
       "      <td>0.000000</td>\n",
       "      <td>329.040000</td>\n",
       "      <td>0.000000e+00</td>\n",
       "      <td>42736.000000</td>\n",
       "      <td>0.000000</td>\n",
       "      <td>42956.000000</td>\n",
       "      <td>12.000000</td>\n",
       "    </tr>\n",
       "    <tr>\n",
       "      <th>75%</th>\n",
       "      <td>43338.000000</td>\n",
       "      <td>43284.000000</td>\n",
       "      <td>67.000000</td>\n",
       "      <td>6.000000</td>\n",
       "      <td>43327.000000</td>\n",
       "      <td>43335.000000</td>\n",
       "      <td>8.00000</td>\n",
       "      <td>1.0</td>\n",
       "      <td>4.000000</td>\n",
       "      <td>0.000000</td>\n",
       "      <td>0.000000</td>\n",
       "      <td>8.000000</td>\n",
       "      <td>43284.000000</td>\n",
       "      <td>3.381626e+06</td>\n",
       "      <td>777.000000</td>\n",
       "      <td>0.000000</td>\n",
       "      <td>38.00000</td>\n",
       "      <td>11.000000</td>\n",
       "      <td>0.000000</td>\n",
       "      <td>885.600000</td>\n",
       "      <td>9.817000e+10</td>\n",
       "      <td>43101.000000</td>\n",
       "      <td>100.000000</td>\n",
       "      <td>43229.000000</td>\n",
       "      <td>999998.000000</td>\n",
       "    </tr>\n",
       "    <tr>\n",
       "      <th>max</th>\n",
       "      <td>43467.000000</td>\n",
       "      <td>43404.000000</td>\n",
       "      <td>111.000000</td>\n",
       "      <td>15.000000</td>\n",
       "      <td>43404.000000</td>\n",
       "      <td>43658.000000</td>\n",
       "      <td>364.00000</td>\n",
       "      <td>1.0</td>\n",
       "      <td>54.000000</td>\n",
       "      <td>10.000000</td>\n",
       "      <td>1.000000</td>\n",
       "      <td>364.000000</td>\n",
       "      <td>43448.000000</td>\n",
       "      <td>3.539606e+06</td>\n",
       "      <td>12753.000000</td>\n",
       "      <td>138.000000</td>\n",
       "      <td>4699.53000</td>\n",
       "      <td>274.560000</td>\n",
       "      <td>30.000000</td>\n",
       "      <td>12810.720000</td>\n",
       "      <td>1.140900e+11</td>\n",
       "      <td>43466.000000</td>\n",
       "      <td>114.000000</td>\n",
       "      <td>43433.000000</td>\n",
       "      <td>999999.000000</td>\n",
       "    </tr>\n",
       "  </tbody>\n",
       "</table>\n",
       "</div>"
      ],
      "text/plain": [
       "        extract_date        resdate   camping_code    hebergement  \\\n",
       "count  305235.000000  305235.000000  305235.000000  305235.000000   \n",
       "mean   43299.119341   43212.494268   45.445725      4.789746        \n",
       "std    51.286247      91.420644      31.288675      3.000703        \n",
       "min    43041.000000   42675.000000   1.000000       2.000000        \n",
       "25%    43261.000000   43139.000000   18.000000      2.000000        \n",
       "50%    43308.000000   43220.000000   39.000000      5.000000        \n",
       "75%    43338.000000   43284.000000   67.000000      6.000000        \n",
       "max    43467.000000   43404.000000   111.000000     15.000000       \n",
       "\n",
       "              datein        dateout           los    nbroom        nbguest  \\\n",
       "count  305235.000000  305235.000000  305235.00000  305235.0  305235.000000   \n",
       "mean   43289.007031   43295.507881   6.50085       1.0       3.460612        \n",
       "std    49.553522      50.072155      7.00520       0.0       1.336851        \n",
       "min    43040.000000   43041.000000   1.00000       1.0       1.000000        \n",
       "25%    43253.000000   43259.000000   2.00000       1.0       2.000000        \n",
       "50%    43295.000000   43303.000000   5.00000       1.0       4.000000        \n",
       "75%    43327.000000   43335.000000   8.00000       1.0       4.000000        \n",
       "max    43404.000000   43658.000000   364.00000     1.0       54.000000       \n",
       "\n",
       "         nb_nuit_fid  Séjour Gratuit  Nb Nuits Payantes  vrai_date_resa  \\\n",
       "count  305235.000000  305235.000000   305235.000000      305235.000000    \n",
       "mean   0.072908       0.005452        6.427942           43210.936000     \n",
       "std    0.464705       0.073633        7.002484           95.699663        \n",
       "min    0.000000       0.000000       -4.000000           41031.000000     \n",
       "25%    0.000000       0.000000        2.000000           43139.000000     \n",
       "50%    0.000000       0.000000        5.000000           43220.000000     \n",
       "75%    0.000000       0.000000        8.000000           43284.000000     \n",
       "max    10.000000      1.000000        364.000000         43448.000000     \n",
       "\n",
       "       client_id_grp           rev1           rev2          rev3  \\\n",
       "count  3.052350e+05   305235.000000  305235.000000  305235.00000   \n",
       "mean   2.643037e+06   583.742852     3.932891       38.68114       \n",
       "std    1.032134e+06   739.653708     9.569056       85.01661       \n",
       "min   -1.000000e+00   0.000000       0.000000       0.00000        \n",
       "25%    2.135159e+06   102.000000     0.000000       0.00000        \n",
       "50%    3.199374e+06   288.000000     0.000000       0.00000        \n",
       "75%    3.381626e+06   777.000000     0.000000       38.00000       \n",
       "max    3.539606e+06   12753.000000   138.000000     4699.53000     \n",
       "\n",
       "                rev4           rev5            rev        fid_id  \\\n",
       "count  305235.000000  305235.000000  305235.000000  3.052350e+05   \n",
       "mean   8.233819       0.000885       634.591586     2.966033e+10   \n",
       "std    9.042442       0.162899       765.081456     4.334142e+10   \n",
       "min    0.000000       0.000000       0.000000       0.000000e+00   \n",
       "25%    2.400000       0.000000       121.600000     0.000000e+00   \n",
       "50%    6.000000       0.000000       329.040000     0.000000e+00   \n",
       "75%    11.000000      0.000000       885.600000     9.817000e+10   \n",
       "max    274.560000     30.000000      12810.720000   1.140900e+11   \n",
       "\n",
       "            date_fid    camping_fid  creation_date  hebergement_camping_id  \n",
       "count  118366.000000  305235.000000  305235.000000  305235.000000           \n",
       "mean   42208.776591   31.281232      42286.529530   286923.124783           \n",
       "std    992.933777     44.115905      1250.907792    452318.103607           \n",
       "min    39814.000000   0.000000       36555.000000   1.000000                \n",
       "25%    41640.000000   0.000000       41655.000000   4.000000                \n",
       "50%    42736.000000   0.000000       42956.000000   12.000000               \n",
       "75%    43101.000000   100.000000     43229.000000   999998.000000           \n",
       "max    43466.000000   114.000000     43433.000000   999999.000000           "
      ]
     },
     "execution_count": 371,
     "metadata": {},
     "output_type": "execute_result"
    }
   ],
   "source": [
    "df.describe()"
   ]
  },
  {
   "cell_type": "markdown",
   "metadata": {},
   "source": [
    "# EDA"
   ]
  },
  {
   "cell_type": "markdown",
   "metadata": {},
   "source": [
    "Removing rows that have NaN for idstay:"
   ]
  },
  {
   "cell_type": "code",
   "execution_count": 372,
   "metadata": {},
   "outputs": [],
   "source": [
    "df = df[df['idstay'].notna()]"
   ]
  },
  {
   "cell_type": "code",
   "execution_count": 373,
   "metadata": {},
   "outputs": [
    {
     "data": {
      "text/plain": [
       "(305235, 42)"
      ]
     },
     "execution_count": 373,
     "metadata": {},
     "output_type": "execute_result"
    }
   ],
   "source": [
    "df.shape"
   ]
  },
  {
   "cell_type": "markdown",
   "metadata": {},
   "source": [
    "Removing **idstay** column"
   ]
  },
  {
   "cell_type": "code",
   "execution_count": 374,
   "metadata": {},
   "outputs": [],
   "source": [
    "df.drop(columns=['idstay'], inplace=True)"
   ]
  },
  {
   "cell_type": "markdown",
   "metadata": {},
   "source": [
    "# Managing categorical features"
   ]
  },
  {
   "cell_type": "code",
   "execution_count": 375,
   "metadata": {},
   "outputs": [
    {
     "name": "stdout",
     "output_type": "stream",
     "text": [
      "<class 'pandas.core.frame.DataFrame'>\n",
      "Int64Index: 305235 entries, 0 to 305234\n",
      "Data columns (total 16 columns):\n",
      " #   Column                   Non-Null Count   Dtype \n",
      "---  ------                   --------------   ----- \n",
      " 0   idstay_to                3116 non-null    object\n",
      " 1   type_stay_lbl            305235 non-null  object\n",
      " 2   resinternet              304637 non-null  object\n",
      " 3   type_guest               305235 non-null  object\n",
      " 4   camping_label            305235 non-null  object\n",
      " 5   Région                   305235 non-null  object\n",
      " 6   type_hebergement         305235 non-null  object\n",
      " 7   hebergement_label        305235 non-null  object\n",
      " 8   client_name              305235 non-null  object\n",
      " 9   pays                     305235 non-null  object\n",
      " 10  region                   86412 non-null   object\n",
      " 11  fidelisation             305235 non-null  object\n",
      " 12  segment                  305235 non-null  object\n",
      " 13  scode1                   305235 non-null  object\n",
      " 14  scode2                   305023 non-null  object\n",
      " 15  hebergement_camping_lbl  305235 non-null  object\n",
      "dtypes: object(16)\n",
      "memory usage: 39.6+ MB\n"
     ]
    }
   ],
   "source": [
    "df.select_dtypes(include=['object']).info()"
   ]
  },
  {
   "cell_type": "markdown",
   "metadata": {},
   "source": [
    "1. Feature **idstay_to**: External ID for a booking coming from a distributor"
   ]
  },
  {
   "cell_type": "markdown",
   "metadata": {},
   "source": [
    "1 if booking comes from a distributor, 0 otherwise"
   ]
  },
  {
   "cell_type": "code",
   "execution_count": 376,
   "metadata": {},
   "outputs": [
    {
     "name": "stderr",
     "output_type": "stream",
     "text": [
      "/opt/anaconda3/lib/python3.6/site-packages/pandas/core/indexing.py:670: SettingWithCopyWarning:\n",
      "\n",
      "\n",
      "A value is trying to be set on a copy of a slice from a DataFrame\n",
      "\n",
      "See the caveats in the documentation: https://pandas.pydata.org/pandas-docs/stable/user_guide/indexing.html#returning-a-view-versus-a-copy\n",
      "\n"
     ]
    }
   ],
   "source": [
    "df['idstay_to'].loc[~df['idstay_to'].isnull()] = 1\n",
    "df['idstay_to'].loc[df['idstay_to'].isnull()] = 0"
   ]
  },
  {
   "cell_type": "markdown",
   "metadata": {},
   "source": [
    "2. Removing **type_stay_lbl** and **client_name** because it has a single value"
   ]
  },
  {
   "cell_type": "code",
   "execution_count": 377,
   "metadata": {},
   "outputs": [],
   "source": [
    "df.drop(columns=['type_stay_lbl', 'client_name'], inplace=True)"
   ]
  },
  {
   "cell_type": "markdown",
   "metadata": {},
   "source": [
    "3. Feature **resinternet**: Internal ID for each booking. Beginning with U means a booking made by phone or on site by the campsite. Beginning with O means a Internet Booking"
   ]
  },
  {
   "cell_type": "code",
   "execution_count": 378,
   "metadata": {},
   "outputs": [],
   "source": [
    "df['resinternet'] = df['resinternet'].astype(str).str[0]"
   ]
  },
  {
   "cell_type": "code",
   "execution_count": 379,
   "metadata": {},
   "outputs": [
    {
     "data": {
      "text/plain": [
       "O    175426\n",
       "U    129211\n",
       "n    598   \n",
       "Name: resinternet, dtype: int64"
      ]
     },
     "execution_count": 379,
     "metadata": {},
     "output_type": "execute_result"
    }
   ],
   "source": [
    "df['resinternet'].value_counts()"
   ]
  },
  {
   "cell_type": "markdown",
   "metadata": {},
   "source": [
    "4. Feature type_guest"
   ]
  },
  {
   "cell_type": "code",
   "execution_count": 380,
   "metadata": {},
   "outputs": [
    {
     "data": {
      "text/plain": [
       "N    295615\n",
       "A    9620  \n",
       "Name: type_guest, dtype: int64"
      ]
     },
     "execution_count": 380,
     "metadata": {},
     "output_type": "execute_result"
    }
   ],
   "source": [
    "df['type_guest'].value_counts()"
   ]
  },
  {
   "cell_type": "markdown",
   "metadata": {},
   "source": [
    "5. Feature camping_label:"
   ]
  },
  {
   "cell_type": "code",
   "execution_count": 381,
   "metadata": {},
   "outputs": [
    {
     "data": {
      "text/plain": [
       "79"
      ]
     },
     "execution_count": 381,
     "metadata": {},
     "output_type": "execute_result"
    }
   ],
   "source": [
    "df.camping_label.nunique()"
   ]
  },
  {
   "cell_type": "markdown",
   "metadata": {},
   "source": [
    "6. Feature Région:"
   ]
  },
  {
   "cell_type": "code",
   "execution_count": 382,
   "metadata": {},
   "outputs": [
    {
     "data": {
      "text/plain": [
       "LR                  63605\n",
       "Atlantique Sud      50167\n",
       "Bretagne            45199\n",
       "PACA                29342\n",
       "Atlantique Loire    17129\n",
       "Sud Ouest           16750\n",
       "Rhones Alpes        14693\n",
       "Espagne             13278\n",
       "Portugal            13142\n",
       "Centre              12615\n",
       "Jura-Vosges         11241\n",
       "Centre Sud          8772 \n",
       "Normandie           4077 \n",
       "Picardie            2824 \n",
       "Corse               2401 \n",
       "Name: Région, dtype: int64"
      ]
     },
     "execution_count": 382,
     "metadata": {},
     "output_type": "execute_result"
    }
   ],
   "source": [
    "df.Région.value_counts()"
   ]
  },
  {
   "cell_type": "markdown",
   "metadata": {},
   "source": [
    "7. Feature type_hebergement:"
   ]
  },
  {
   "cell_type": "code",
   "execution_count": 383,
   "metadata": {},
   "outputs": [
    {
     "data": {
      "text/plain": [
       "LOCA    178089\n",
       "EMPL    127146\n",
       "Name: type_hebergement, dtype: int64"
      ]
     },
     "execution_count": 383,
     "metadata": {},
     "output_type": "execute_result"
    }
   ],
   "source": [
    "df.type_hebergement.value_counts()"
   ]
  },
  {
   "cell_type": "markdown",
   "metadata": {},
   "source": [
    "Feature **hebergement_label**:"
   ]
  },
  {
   "cell_type": "code",
   "execution_count": 384,
   "metadata": {},
   "outputs": [
    {
     "data": {
      "text/plain": [
       "Emplacement nu de 0 à 3 *         121564\n",
       "Locatif 2 ch. de 0 à 3 *          76080 \n",
       "Locatif 2 ch. 4 *                 29515 \n",
       "Locatif 3 ch. de 0 à 3 *          19717 \n",
       "Locatif 3 ch. 4 *                 16582 \n",
       "Locatif 2 ch. PREMIUM             13912 \n",
       "Locatif 3 ch. PREMIUM             11022 \n",
       "Locatif 1 ch. de 0 à 3 *          9297  \n",
       "Emplacement nu 4 * et PREMIUM     5582  \n",
       "Locatif 1 ch. 4 *                 553   \n",
       "Tente et locatif 1 ch. PREMIUM    508   \n",
       "Locatif 4 ch. PREMIUM             376   \n",
       "Locatif 4 ch. 4 *                 350   \n",
       "Locatif 4 ch. de 0 à 3 *          177   \n",
       "Name: hebergement_label, dtype: int64"
      ]
     },
     "execution_count": 384,
     "metadata": {},
     "output_type": "execute_result"
    }
   ],
   "source": [
    "df.hebergement_label.value_counts()"
   ]
  },
  {
   "cell_type": "code",
   "execution_count": 385,
   "metadata": {},
   "outputs": [
    {
     "data": {
      "text/plain": [
       "LOCA - Not Defined                        58855\n",
       "EMPL - Not Defined                        28722\n",
       "Emplacement **                            10636\n",
       "Emplacement ***                           7702 \n",
       "Emplacement ** + Eau                      3718 \n",
       "                                          ...  \n",
       "Chalet Veyou 4p 2ch ** Climatisé          1    \n",
       "Cottage Evasion Rivière 5p 2ch ***        1    \n",
       "Cottage 4p 2ch **** climatisé             1    \n",
       "Cottage**** 6p 3Ch Climatisé              1    \n",
       "NR - Cot. Patio 7 pers. 3 ch climatisé    1    \n",
       "Name: hebergement_camping_lbl, Length: 1256, dtype: int64"
      ]
     },
     "execution_count": 385,
     "metadata": {},
     "output_type": "execute_result"
    }
   ],
   "source": [
    "df.hebergement_camping_lbl.value_counts()"
   ]
  },
  {
   "cell_type": "code",
   "execution_count": 386,
   "metadata": {},
   "outputs": [],
   "source": [
    "df2 = df.copy()"
   ]
  },
  {
   "cell_type": "code",
   "execution_count": 387,
   "metadata": {},
   "outputs": [
    {
     "data": {
      "text/plain": [
       "86"
      ]
     },
     "execution_count": 387,
     "metadata": {},
     "output_type": "execute_result"
    }
   ],
   "source": [
    "df2.pays.nunique()"
   ]
  },
  {
   "cell_type": "code",
   "execution_count": 388,
   "metadata": {},
   "outputs": [],
   "source": [
    "def replace_outliers(df, col, rate_cumsum, value_replace):\n",
    "    low_elements_prob = list(df[col].value_counts().loc[df[col].value_counts(ascending=False, normalize=True).cumsum() > rate_cumsum].index)\n",
    "    df[col].loc[df2[col].isin(low_elements_prob)] = value_replace"
   ]
  },
  {
   "cell_type": "code",
   "execution_count": 391,
   "metadata": {},
   "outputs": [],
   "source": [
    "replace_outliers(df2, 'pays', 0.97, 'Other')"
   ]
  },
  {
   "cell_type": "code",
   "execution_count": 392,
   "metadata": {},
   "outputs": [
    {
     "data": {
      "text/plain": [
       "FR       167197\n",
       "DE       35856 \n",
       "NL       27127 \n",
       "ES       22371 \n",
       "Other    19770 \n",
       "GB       19382 \n",
       "BE       13532 \n",
       "Name: pays, dtype: int64"
      ]
     },
     "execution_count": 392,
     "metadata": {},
     "output_type": "execute_result"
    }
   ],
   "source": [
    "df2.pays.value_counts()"
   ]
  },
  {
   "cell_type": "markdown",
   "metadata": {},
   "source": [
    "Feature region:"
   ]
  },
  {
   "cell_type": "code",
   "execution_count": 323,
   "metadata": {},
   "outputs": [
    {
     "data": {
      "text/plain": [
       "0          396\n",
       "29200      259\n",
       "33000      181\n",
       "29800      164\n",
       "29260      128\n",
       "          ... \n",
       "26629      1  \n",
       "TR183TS    1  \n",
       "46399      1  \n",
       "4007VE     1  \n",
       "15528      1  \n",
       "Name: region, Length: 18119, dtype: int64"
      ]
     },
     "execution_count": 323,
     "metadata": {},
     "output_type": "execute_result"
    }
   ],
   "source": [
    "df2.region.value_counts()"
   ]
  },
  {
   "cell_type": "markdown",
   "metadata": {},
   "source": [
    "Feature **fidelisation**:"
   ]
  },
  {
   "cell_type": "code",
   "execution_count": 324,
   "metadata": {},
   "outputs": [
    {
     "data": {
      "text/plain": [
       "N    186869\n",
       "Y    118366\n",
       "Name: fidelisation, dtype: int64"
      ]
     },
     "execution_count": 324,
     "metadata": {},
     "output_type": "execute_result"
    }
   ],
   "source": [
    "df2.fidelisation.value_counts()"
   ]
  },
  {
   "cell_type": "markdown",
   "metadata": {},
   "source": [
    "Feature segment:"
   ]
  },
  {
   "cell_type": "code",
   "execution_count": 393,
   "metadata": {},
   "outputs": [
    {
     "data": {
      "text/plain": [
       "Internet    170309\n",
       "DIRECT      121432\n",
       "TO          9765  \n",
       "INTERNET    3602  \n",
       "CE          105   \n",
       "RESID       22    \n",
       "Name: segment, dtype: int64"
      ]
     },
     "execution_count": 393,
     "metadata": {},
     "output_type": "execute_result"
    }
   ],
   "source": [
    "df.segment.value_counts()"
   ]
  },
  {
   "cell_type": "code",
   "execution_count": 401,
   "metadata": {},
   "outputs": [],
   "source": [
    "def cumsum_valuecounts(df, col):\n",
    "    return df[col].value_counts().loc[df[col]].value_counts(ascending=False, normalize=True).cumsum()"
   ]
  },
  {
   "cell_type": "code",
   "execution_count": 404,
   "metadata": {},
   "outputs": [
    {
     "data": {
      "text/plain": [
       "170309    0.557960\n",
       "121432    0.955791\n",
       "9765      0.987783\n",
       "3602      0.999584\n",
       "105       0.999928\n",
       "22        1.000000\n",
       "Name: segment, dtype: float64"
      ]
     },
     "execution_count": 404,
     "metadata": {},
     "output_type": "execute_result"
    }
   ],
   "source": [
    "cumsum_valuecounts(df2, 'segment')"
   ]
  },
  {
   "cell_type": "markdown",
   "metadata": {},
   "source": [
    "Replacing rare elements by \"Other\""
   ]
  },
  {
   "cell_type": "code",
   "execution_count": 406,
   "metadata": {},
   "outputs": [],
   "source": [
    "replace_outliers(df2, 'segment', 0.98, \"Other\")"
   ]
  },
  {
   "cell_type": "code",
   "execution_count": 408,
   "metadata": {},
   "outputs": [
    {
     "data": {
      "text/plain": [
       "Internet    170309\n",
       "DIRECT      121432\n",
       "Other       13494 \n",
       "Name: segment, dtype: int64"
      ]
     },
     "execution_count": 408,
     "metadata": {},
     "output_type": "execute_result"
    }
   ],
   "source": [
    "df2['segment'].value_counts()"
   ]
  },
  {
   "cell_type": "code",
   "execution_count": null,
   "metadata": {},
   "outputs": [],
   "source": []
  },
  {
   "cell_type": "markdown",
   "metadata": {},
   "source": [
    "5. extract_date: consider to delete"
   ]
  },
  {
   "cell_type": "code",
   "execution_count": 98,
   "metadata": {},
   "outputs": [
    {
     "data": {
      "text/plain": [
       "419"
      ]
     },
     "execution_count": 98,
     "metadata": {},
     "output_type": "execute_result"
    }
   ],
   "source": [
    "df['extract_date'].nunique()"
   ]
  },
  {
   "cell_type": "markdown",
   "metadata": {},
   "source": [
    "6. feature resdate"
   ]
  },
  {
   "cell_type": "code",
   "execution_count": 102,
   "metadata": {},
   "outputs": [
    {
     "data": {
      "text/plain": [
       "42675.0"
      ]
     },
     "execution_count": 102,
     "metadata": {},
     "output_type": "execute_result"
    }
   ],
   "source": [
    "df['resdate'].min()"
   ]
  },
  {
   "cell_type": "markdown",
   "metadata": {},
   "source": [
    "#### TODO: add summary statistics for categorical (Nir solution exam EDA)"
   ]
  },
  {
   "cell_type": "markdown",
   "metadata": {},
   "source": [
    "### Missing values"
   ]
  },
  {
   "cell_type": "code",
   "execution_count": 41,
   "metadata": {},
   "outputs": [
    {
     "data": {
      "image/png": "[encoded data removed]",
      "text/plain": [
       "<Figure size 432x288 with 1 Axes>"
      ]
     },
     "metadata": {
      "needs_background": "light"
     },
     "output_type": "display_data"
    }
   ],
   "source": [
    "df.isnull().sum().plot.bar()\n",
    "plt.title('Missing values per feature');"
   ]
  },
  {
   "cell_type": "code",
   "execution_count": 22,
   "metadata": {},
   "outputs": [],
   "source": [
    "df = df.drop(['client_name'], axis=1)"
   ]
  },
  {
   "cell_type": "code",
   "execution_count": 23,
   "metadata": {},
   "outputs": [
    {
     "data": {
      "text/plain": [
       "(312552, 40)"
      ]
     },
     "execution_count": 23,
     "metadata": {},
     "output_type": "execute_result"
    }
   ],
   "source": [
    "df.shape"
   ]
  },
  {
   "cell_type": "code",
   "execution_count": 36,
   "metadata": {},
   "outputs": [
    {
     "data": {
      "text/plain": [
       "0.7235276050065269"
      ]
     },
     "execution_count": 36,
     "metadata": {},
     "output_type": "execute_result"
    }
   ],
   "source": [
    "sum(df['region'].isnull())/len(df)"
   ]
  },
  {
   "cell_type": "code",
   "execution_count": 37,
   "metadata": {},
   "outputs": [],
   "source": [
    "df = df.drop(['region'], axis=1)"
   ]
  },
  {
   "cell_type": "code",
   "execution_count": 42,
   "metadata": {},
   "outputs": [
    {
     "data": {
      "text/plain": [
       "792-10453    1\n",
       "776-576      1\n",
       "756-859      1\n",
       "738-3216     1\n",
       "745-4648     1\n",
       "            ..\n",
       "760-3144     1\n",
       "760-19028    1\n",
       "720-28       1\n",
       "745-1408     1\n",
       "773-6356     1\n",
       "Name: idstay, Length: 305235, dtype: int64"
      ]
     },
     "execution_count": 42,
     "metadata": {},
     "output_type": "execute_result"
    }
   ],
   "source": [
    "df['idstay'].value_counts()"
   ]
  }
 ],
 "metadata": {
  "kernelspec": {
   "display_name": "Python 3",
   "language": "python",
   "name": "python3"
  },
  "language_info": {
   "codemirror_mode": {
    "name": "ipython",
    "version": 3
   },
   "file_extension": ".py",
   "mimetype": "text/x-python",
   "name": "python",
   "nbconvert_exporter": "python",
   "pygments_lexer": "ipython3",
   "version": "3.6.10"
  }
 },
 "nbformat": 4,
 "nbformat_minor": 4
}
