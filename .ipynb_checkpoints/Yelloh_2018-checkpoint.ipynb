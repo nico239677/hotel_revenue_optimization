{
 "cells": [
  {
   "cell_type": "code",
<<<<<<< HEAD
   "execution_count": 1,
=======
   "execution_count": 39,
>>>>>>> d6402fc614fc1717f7368e469cd1ffa69e5a482a
   "metadata": {},
   "outputs": [],
   "source": [
    "import pandas as pd\n",
    "import numpy as np\n",
    "import matplotlib.pyplot as plt\n",
<<<<<<< HEAD
    "import seaborn as sns\n",
=======
>>>>>>> d6402fc614fc1717f7368e469cd1ffa69e5a482a
    "from sklearn.model_selection import TimeSeriesSplit"
   ]
  },
  {
<<<<<<< HEAD
   "cell_type": "code",
   "execution_count": 46,
   "metadata": {},
   "outputs": [
    {
     "name": "stdout",
     "output_type": "stream",
     "text": [
      "Collecting NBprocessing\n",
      "  Downloading NBprocessing-0.0.195-py3-none-any.whl (24 kB)\n",
      "Requirement already satisfied: numpy in /opt/anaconda3/lib/python3.6/site-packages (from NBprocessing) (1.18.1)\n",
      "Requirement already satisfied: pandas in /opt/anaconda3/lib/python3.6/site-packages (from NBprocessing) (1.0.1)\n",
      "Requirement already satisfied: matplotlib in /opt/anaconda3/lib/python3.6/site-packages (from NBprocessing) (3.1.3)\n",
      "Requirement already satisfied: seaborn in /opt/anaconda3/lib/python3.6/site-packages (from NBprocessing) (0.10.0)\n",
      "Requirement already satisfied: plotly in /opt/anaconda3/lib/python3.6/site-packages (from NBprocessing) (4.9.0)\n",
      "Requirement already satisfied: pytz>=2017.2 in /opt/anaconda3/lib/python3.6/site-packages (from pandas->NBprocessing) (2019.3)\n",
      "Requirement already satisfied: python-dateutil>=2.6.1 in /opt/anaconda3/lib/python3.6/site-packages (from pandas->NBprocessing) (2.8.1)\n",
      "Requirement already satisfied: pyparsing!=2.0.4,!=2.1.2,!=2.1.6,>=2.0.1 in /opt/anaconda3/lib/python3.6/site-packages (from matplotlib->NBprocessing) (2.4.6)\n",
      "Requirement already satisfied: cycler>=0.10 in /opt/anaconda3/lib/python3.6/site-packages (from matplotlib->NBprocessing) (0.10.0)\n",
      "Requirement already satisfied: kiwisolver>=1.0.1 in /opt/anaconda3/lib/python3.6/site-packages (from matplotlib->NBprocessing) (1.1.0)\n",
      "Requirement already satisfied: scipy>=1.0.1 in /opt/anaconda3/lib/python3.6/site-packages (from seaborn->NBprocessing) (1.4.1)\n",
      "Requirement already satisfied: six in /opt/anaconda3/lib/python3.6/site-packages (from plotly->NBprocessing) (1.14.0)\n",
      "Requirement already satisfied: retrying>=1.3.3 in /opt/anaconda3/lib/python3.6/site-packages (from plotly->NBprocessing) (1.3.3)\n",
      "Requirement already satisfied: setuptools in /opt/anaconda3/lib/python3.6/site-packages (from kiwisolver>=1.0.1->matplotlib->NBprocessing) (46.0.0.post20200309)\n",
      "Installing collected packages: NBprocessing\n",
      "Successfully installed NBprocessing-0.0.195\n"
     ]
    }
   ],
   "source": [
    "!pip install NBprocessing"
   ]
  },
  {
   "cell_type": "code",
   "execution_count": 2,
   "metadata": {},
   "outputs": [],
   "source": [
    "from NBprocessing import NBcategorical\n",
    "from NBprocessing import NBcontinuous\n",
    "from NBprocessing import NBplot\n",
    "from NBprocessing import NBgeneral"
   ]
  },
  {
   "cell_type": "code",
   "execution_count": 3,
   "metadata": {},
   "outputs": [],
   "source": [
    "data_dict = pd.read_excel('20-08-14_EPA_Data_Dictionnary_Campstat.xlsx')\n",
    "data_dict.rename(columns={data_dict.columns[0]: 'feature', data_dict.columns[1]:'definition'}, inplace=True)\n",
    "data_dict = data_dict.iloc[1:, :]"
   ]
  },
  {
   "cell_type": "markdown",
   "metadata": {},
   "source": [
    "# Loading data dictionary"
   ]
  },
  {
   "cell_type": "code",
   "execution_count": 4,
   "metadata": {},
   "outputs": [
    {
     "data": {
      "text/html": [
       "<div>\n",
       "<style scoped>\n",
       "    .dataframe tbody tr th:only-of-type {\n",
       "        vertical-align: middle;\n",
       "    }\n",
       "\n",
       "    .dataframe tbody tr th {\n",
       "        vertical-align: top;\n",
       "    }\n",
       "\n",
       "    .dataframe thead th {\n",
       "        text-align: right;\n",
       "    }\n",
       "</style>\n",
       "<table border=\"1\" class=\"dataframe\">\n",
       "  <thead>\n",
       "    <tr style=\"text-align: right;\">\n",
       "      <th></th>\n",
       "      <th>feature</th>\n",
       "      <th>definition</th>\n",
       "    </tr>\n",
       "  </thead>\n",
       "  <tbody>\n",
       "    <tr>\n",
       "      <th>1</th>\n",
       "      <td>idstay</td>\n",
       "      <td>Internal ID for each booking</td>\n",
       "    </tr>\n",
       "    <tr>\n",
       "      <th>2</th>\n",
       "      <td>idstay_to</td>\n",
       "      <td>External ID for a booking coming from a distributor</td>\n",
       "    </tr>\n",
       "    <tr>\n",
       "      <th>3</th>\n",
       "      <td>type_stay_lbl</td>\n",
       "      <td>INDIV RESID : stock from a Unit belowing to a owner - INDIV ALLOT : stock from a distributor allotment - INDIV DIRECT : stock directly managed by the campsite</td>\n",
       "    </tr>\n",
       "    <tr>\n",
       "      <th>4</th>\n",
       "      <td>resinternet</td>\n",
       "      <td>Internal ID for each booking. Beginning with U means a booking made by phone or on site by the campsite. Beginning with O means a Internet Booking</td>\n",
       "    </tr>\n",
       "    <tr>\n",
       "      <th>5</th>\n",
       "      <td>type_guest</td>\n",
       "      <td>Not very use : A = Allotment - N = Individual customer</td>\n",
       "    </tr>\n",
       "    <tr>\n",
       "      <th>6</th>\n",
       "      <td>extract_date</td>\n",
       "      <td>Date of the last export (ie creation/modification) of the booking from the PMS. System Date</td>\n",
       "    </tr>\n",
       "    <tr>\n",
       "      <th>7</th>\n",
       "      <td>resdate</td>\n",
       "      <td>Date of the booking</td>\n",
       "    </tr>\n",
       "    <tr>\n",
       "      <th>8</th>\n",
       "      <td>camping_code</td>\n",
       "      <td>Internal ID for each campsite</td>\n",
       "    </tr>\n",
       "    <tr>\n",
       "      <th>9</th>\n",
       "      <td>camping_label</td>\n",
       "      <td>Name of the campsite</td>\n",
       "    </tr>\n",
       "    <tr>\n",
       "      <th>10</th>\n",
       "      <td>Région</td>\n",
       "      <td>Region of the Campsite</td>\n",
       "    </tr>\n",
       "    <tr>\n",
       "      <th>11</th>\n",
       "      <td>type_hebergement</td>\n",
       "      <td>LOCA = Mobile Home ; EMPL = Pitch</td>\n",
       "    </tr>\n",
       "    <tr>\n",
       "      <th>12</th>\n",
       "      <td>hebergement</td>\n",
       "      <td>Internal ID for the category at the groupe Level</td>\n",
       "    </tr>\n",
       "    <tr>\n",
       "      <th>13</th>\n",
       "      <td>hebergement_label</td>\n",
       "      <td>Category Label (uniformized at Yelloh level)</td>\n",
       "    </tr>\n",
       "    <tr>\n",
       "      <th>14</th>\n",
       "      <td>datein</td>\n",
       "      <td>Arrival date</td>\n",
       "    </tr>\n",
       "    <tr>\n",
       "      <th>15</th>\n",
       "      <td>dateout</td>\n",
       "      <td>Departure date</td>\n",
       "    </tr>\n",
       "    <tr>\n",
       "      <th>16</th>\n",
       "      <td>los</td>\n",
       "      <td>Lengh of stay</td>\n",
       "    </tr>\n",
       "    <tr>\n",
       "      <th>17</th>\n",
       "      <td>nbroom</td>\n",
       "      <td>Nb Room. Always 1 - Required for some distributors such as Trip Advisor</td>\n",
       "    </tr>\n",
       "    <tr>\n",
       "      <th>18</th>\n",
       "      <td>nbguest</td>\n",
       "      <td>Number of person within the booking</td>\n",
       "    </tr>\n",
       "    <tr>\n",
       "      <th>19</th>\n",
       "      <td>nb_nuit_fid</td>\n",
       "      <td>Number of free nights including in the booking due the Loyalty Program</td>\n",
       "    </tr>\n",
       "    <tr>\n",
       "      <th>20</th>\n",
       "      <td>Séjour Gratuit</td>\n",
       "      <td>1 = the customer has used his points to have all the nights of the booking free. Not possible anymore in 2020. One night should be paid.</td>\n",
       "    </tr>\n",
       "    <tr>\n",
       "      <th>21</th>\n",
       "      <td>Nb Nuits Payantes</td>\n",
       "      <td>Number of paying nights = los - nb_nuit_fid</td>\n",
       "    </tr>\n",
       "    <tr>\n",
       "      <th>22</th>\n",
       "      <td>vrai_date_resa</td>\n",
       "      <td>The real date of the booking by the customer</td>\n",
       "    </tr>\n",
       "    <tr>\n",
       "      <th>23</th>\n",
       "      <td>client _id_grp</td>\n",
       "      <td>Internal ID Customer at the Group level. Unique at Yelloh Level</td>\n",
       "    </tr>\n",
       "    <tr>\n",
       "      <th>24</th>\n",
       "      <td>client_name</td>\n",
       "      <td>Client name</td>\n",
       "    </tr>\n",
       "    <tr>\n",
       "      <th>25</th>\n",
       "      <td>rev1</td>\n",
       "      <td>Revenue for the accomodation only</td>\n",
       "    </tr>\n",
       "    <tr>\n",
       "      <th>26</th>\n",
       "      <td>rev2</td>\n",
       "      <td>Revenue for the insurance cancellation</td>\n",
       "    </tr>\n",
       "    <tr>\n",
       "      <th>27</th>\n",
       "      <td>rev3</td>\n",
       "      <td>Revenue for the supplements (animals, additionnal persons, ….)</td>\n",
       "    </tr>\n",
       "    <tr>\n",
       "      <th>28</th>\n",
       "      <td>rev4</td>\n",
       "      <td>Others revenues (taxes, prestations,….)</td>\n",
       "    </tr>\n",
       "    <tr>\n",
       "      <th>29</th>\n",
       "      <td>rev5</td>\n",
       "      <td>Revenue for a specific prestation (number of accomodation choice)</td>\n",
       "    </tr>\n",
       "    <tr>\n",
       "      <th>30</th>\n",
       "      <td>rev</td>\n",
       "      <td>Total revenue of the booking</td>\n",
       "    </tr>\n",
       "    <tr>\n",
       "      <th>31</th>\n",
       "      <td>fid_id</td>\n",
       "      <td>Loyalty Program Number for the customer</td>\n",
       "    </tr>\n",
       "    <tr>\n",
       "      <th>32</th>\n",
       "      <td>pays</td>\n",
       "      <td>Customer country of residence</td>\n",
       "    </tr>\n",
       "    <tr>\n",
       "      <th>33</th>\n",
       "      <td>region</td>\n",
       "      <td>Language spoken by the customer</td>\n",
       "    </tr>\n",
       "    <tr>\n",
       "      <th>34</th>\n",
       "      <td>fidelisation</td>\n",
       "      <td>1 = no subscription to the loyalty program by the customer ; 2 = subscription of the loyalty program by the customer</td>\n",
       "    </tr>\n",
       "    <tr>\n",
       "      <th>35</th>\n",
       "      <td>date_fid</td>\n",
       "      <td>Date of the subscription of the loyalty program by the customer</td>\n",
       "    </tr>\n",
       "    <tr>\n",
       "      <th>36</th>\n",
       "      <td>creation_date</td>\n",
       "      <td>Date of the creation of the customer</td>\n",
       "    </tr>\n",
       "    <tr>\n",
       "      <th>37</th>\n",
       "      <td>segment</td>\n",
       "      <td>see datasheet Mapping - Classification of the booking</td>\n",
       "    </tr>\n",
       "    <tr>\n",
       "      <th>38</th>\n",
       "      <td>scode1</td>\n",
       "      <td>see datasheet Mapping - Classification of the booking</td>\n",
       "    </tr>\n",
       "    <tr>\n",
       "      <th>39</th>\n",
       "      <td>scode2</td>\n",
       "      <td>see datasheet Mapping - Classification of the booking</td>\n",
       "    </tr>\n",
       "    <tr>\n",
       "      <th>40</th>\n",
       "      <td>hébergement entreprise id</td>\n",
       "      <td>Internal ID for the category within the PMS of the Campsite. As PMS are not linked, we could have the same ID for different categories in different campsites</td>\n",
       "    </tr>\n",
       "    <tr>\n",
       "      <th>41</th>\n",
       "      <td>hébergement entreprise lbl</td>\n",
       "      <td>Name of the Category within the PMS of the Campsite</td>\n",
       "    </tr>\n",
       "  </tbody>\n",
       "</table>\n",
       "</div>"
      ],
      "text/plain": [
       "                       feature  \\\n",
       "1   idstay                       \n",
       "2   idstay_to                    \n",
       "3   type_stay_lbl                \n",
       "4   resinternet                  \n",
       "5   type_guest                   \n",
       "6   extract_date                 \n",
       "7   resdate                      \n",
       "8   camping_code                 \n",
       "9   camping_label                \n",
       "10  Région                       \n",
       "11  type_hebergement             \n",
       "12  hebergement                  \n",
       "13  hebergement_label            \n",
       "14  datein                       \n",
       "15  dateout                      \n",
       "16  los                          \n",
       "17  nbroom                       \n",
       "18  nbguest                      \n",
       "19  nb_nuit_fid                  \n",
       "20  Séjour Gratuit               \n",
       "21  Nb Nuits Payantes            \n",
       "22  vrai_date_resa               \n",
       "23  client _id_grp               \n",
       "24  client_name                  \n",
       "25  rev1                         \n",
       "26  rev2                         \n",
       "27  rev3                         \n",
       "28  rev4                         \n",
       "29  rev5                         \n",
       "30  rev                          \n",
       "31  fid_id                       \n",
       "32  pays                         \n",
       "33  region                       \n",
       "34  fidelisation                 \n",
       "35  date_fid                     \n",
       "36  creation_date                \n",
       "37  segment                      \n",
       "38  scode1                       \n",
       "39  scode2                       \n",
       "40  hébergement entreprise id    \n",
       "41  hébergement entreprise lbl   \n",
       "\n",
       "                                                                                                                                                        definition  \n",
       "1   Internal ID for each booking                                                                                                                                    \n",
       "2   External ID for a booking coming from a distributor                                                                                                             \n",
       "3   INDIV RESID : stock from a Unit belowing to a owner - INDIV ALLOT : stock from a distributor allotment - INDIV DIRECT : stock directly managed by the campsite  \n",
       "4   Internal ID for each booking. Beginning with U means a booking made by phone or on site by the campsite. Beginning with O means a Internet Booking              \n",
       "5   Not very use : A = Allotment - N = Individual customer                                                                                                          \n",
       "6   Date of the last export (ie creation/modification) of the booking from the PMS. System Date                                                                     \n",
       "7   Date of the booking                                                                                                                                             \n",
       "8   Internal ID for each campsite                                                                                                                                   \n",
       "9   Name of the campsite                                                                                                                                            \n",
       "10  Region of the Campsite                                                                                                                                          \n",
       "11  LOCA = Mobile Home ; EMPL = Pitch                                                                                                                               \n",
       "12  Internal ID for the category at the groupe Level                                                                                                                \n",
       "13  Category Label (uniformized at Yelloh level)                                                                                                                    \n",
       "14  Arrival date                                                                                                                                                    \n",
       "15  Departure date                                                                                                                                                  \n",
       "16  Lengh of stay                                                                                                                                                   \n",
       "17  Nb Room. Always 1 - Required for some distributors such as Trip Advisor                                                                                         \n",
       "18  Number of person within the booking                                                                                                                             \n",
       "19  Number of free nights including in the booking due the Loyalty Program                                                                                          \n",
       "20  1 = the customer has used his points to have all the nights of the booking free. Not possible anymore in 2020. One night should be paid.                        \n",
       "21  Number of paying nights = los - nb_nuit_fid                                                                                                                     \n",
       "22  The real date of the booking by the customer                                                                                                                    \n",
       "23  Internal ID Customer at the Group level. Unique at Yelloh Level                                                                                                 \n",
       "24  Client name                                                                                                                                                     \n",
       "25  Revenue for the accomodation only                                                                                                                               \n",
       "26  Revenue for the insurance cancellation                                                                                                                          \n",
       "27  Revenue for the supplements (animals, additionnal persons, ….)                                                                                                  \n",
       "28  Others revenues (taxes, prestations,….)                                                                                                                         \n",
       "29  Revenue for a specific prestation (number of accomodation choice)                                                                                               \n",
       "30  Total revenue of the booking                                                                                                                                    \n",
       "31  Loyalty Program Number for the customer                                                                                                                         \n",
       "32  Customer country of residence                                                                                                                                   \n",
       "33  Language spoken by the customer                                                                                                                                 \n",
       "34  1 = no subscription to the loyalty program by the customer ; 2 = subscription of the loyalty program by the customer                                            \n",
       "35  Date of the subscription of the loyalty program by the customer                                                                                                 \n",
       "36  Date of the creation of the customer                                                                                                                            \n",
       "37  see datasheet Mapping - Classification of the booking                                                                                                           \n",
       "38  see datasheet Mapping - Classification of the booking                                                                                                           \n",
       "39  see datasheet Mapping - Classification of the booking                                                                                                           \n",
       "40  Internal ID for the category within the PMS of the Campsite. As PMS are not linked, we could have the same ID for different categories in different campsites   \n",
       "41  Name of the Category within the PMS of the Campsite                                                                                                             "
      ]
     },
     "execution_count": 4,
     "metadata": {},
     "output_type": "execute_result"
    }
   ],
   "source": [
    "pd.set_option('display.max_colwidth', 0)\n",
    "\n",
    "data_dict"
   ]
  },
  {
=======
>>>>>>> d6402fc614fc1717f7368e469cd1ffa69e5a482a
   "cell_type": "markdown",
   "metadata": {},
   "source": [
    "### Summary statistics"
   ]
  },
  {
   "cell_type": "code",
<<<<<<< HEAD
   "execution_count": 5,
   "metadata": {},
   "outputs": [],
   "source": [
    "data = pd.read_excel('19-01-04_Séjours_2018.xlsb', engine='pyxlsb')"
   ]
  },
  {
   "cell_type": "code",
   "execution_count": 6,
   "metadata": {},
   "outputs": [],
   "source": [
    "df = data.copy()"
   ]
  },
  {
   "cell_type": "code",
   "execution_count": 7,
   "metadata": {},
   "outputs": [],
   "source": [
    "pd.set_option('display.max_columns', None)"
=======
   "execution_count": 2,
   "metadata": {},
   "outputs": [],
   "source": [
    "df = pd.read_excel('19-01-04_Séjours_2018.xlsb', engine='pyxlsb')"
>>>>>>> d6402fc614fc1717f7368e469cd1ffa69e5a482a
   ]
  },
  {
   "cell_type": "code",
<<<<<<< HEAD
   "execution_count": 8,
=======
   "execution_count": 3,
>>>>>>> d6402fc614fc1717f7368e469cd1ffa69e5a482a
   "metadata": {},
   "outputs": [
    {
     "data": {
      "text/html": [
       "<div>\n",
       "<style scoped>\n",
       "    .dataframe tbody tr th:only-of-type {\n",
       "        vertical-align: middle;\n",
       "    }\n",
       "\n",
       "    .dataframe tbody tr th {\n",
       "        vertical-align: top;\n",
       "    }\n",
       "\n",
       "    .dataframe thead th {\n",
       "        text-align: right;\n",
       "    }\n",
       "</style>\n",
       "<table border=\"1\" class=\"dataframe\">\n",
       "  <thead>\n",
       "    <tr style=\"text-align: right;\">\n",
       "      <th></th>\n",
       "      <th>idstay</th>\n",
       "      <th>idstay_to</th>\n",
       "      <th>type_stay_lbl</th>\n",
       "      <th>resinternet</th>\n",
       "      <th>type_guest</th>\n",
       "      <th>extract_date</th>\n",
       "      <th>resdate</th>\n",
       "      <th>camping_code</th>\n",
       "      <th>camping_label</th>\n",
       "      <th>Région</th>\n",
       "      <th>type_hebergement</th>\n",
       "      <th>hebergement</th>\n",
       "      <th>hebergement_label</th>\n",
       "      <th>datein</th>\n",
       "      <th>dateout</th>\n",
       "      <th>los</th>\n",
       "      <th>nbroom</th>\n",
       "      <th>nbguest</th>\n",
       "      <th>nb_nuit_fid</th>\n",
       "      <th>Séjour Gratuit</th>\n",
       "      <th>Nb Nuits Payantes</th>\n",
       "      <th>vrai_date_resa</th>\n",
       "      <th>client_id_grp</th>\n",
       "      <th>client_name</th>\n",
       "      <th>rev1</th>\n",
       "      <th>rev2</th>\n",
       "      <th>rev3</th>\n",
       "      <th>rev4</th>\n",
       "      <th>rev5</th>\n",
       "      <th>rev</th>\n",
       "      <th>fid_id</th>\n",
       "      <th>pays</th>\n",
       "      <th>region</th>\n",
       "      <th>fidelisation</th>\n",
       "      <th>date_fid</th>\n",
       "      <th>camping_fid</th>\n",
       "      <th>creation_date</th>\n",
       "      <th>segment</th>\n",
       "      <th>scode1</th>\n",
       "      <th>scode2</th>\n",
       "      <th>hebergement_camping_id</th>\n",
       "      <th>hebergement_camping_lbl</th>\n",
       "    </tr>\n",
       "  </thead>\n",
       "  <tbody>\n",
       "    <tr>\n",
       "      <th>0</th>\n",
       "      <td>320-14150</td>\n",
       "      <td>NaN</td>\n",
       "      <td>INDIV DIRECT</td>\n",
       "      <td>U20130628DEBUR932214355</td>\n",
       "      <td>N</td>\n",
       "      <td>43220.0</td>\n",
       "      <td>43040.0</td>\n",
       "      <td>59.0</td>\n",
       "      <td>TURISCAMPO</td>\n",
       "      <td>Portugal</td>\n",
       "      <td>LOCA</td>\n",
       "      <td>8.0</td>\n",
       "      <td>Locatif 3 ch. 4 *</td>\n",
       "      <td>43191.0</td>\n",
       "      <td>43220.0</td>\n",
       "      <td>29.0</td>\n",
       "      <td>1.0</td>\n",
       "      <td>1.0</td>\n",
       "      <td>0.0</td>\n",
       "      <td>0.0</td>\n",
       "      <td>29.0</td>\n",
       "      <td>41453.0</td>\n",
       "      <td>1939194.0</td>\n",
       "      <td>XXXXX</td>\n",
       "      <td>670.00</td>\n",
       "      <td>0.0</td>\n",
       "      <td>70.0</td>\n",
       "      <td>0.0</td>\n",
       "      <td>0.0</td>\n",
       "      <td>740.00</td>\n",
       "      <td>1.001500e+11</td>\n",
       "      <td>BE</td>\n",
       "      <td>7322</td>\n",
       "      <td>Y</td>\n",
       "      <td>42005.0</td>\n",
       "      <td>100.0</td>\n",
       "      <td>41212.0</td>\n",
       "      <td>DIRECT</td>\n",
       "      <td>Village</td>\n",
       "      <td>Village</td>\n",
       "      <td>999999.0</td>\n",
       "      <td>LOCA - Not Defined</td>\n",
       "    </tr>\n",
       "    <tr>\n",
       "      <th>1</th>\n",
       "      <td>320-19097</td>\n",
       "      <td>NaN</td>\n",
       "      <td>INDIV DIRECT</td>\n",
       "      <td>U20131119GRIME393582153</td>\n",
       "      <td>N</td>\n",
       "      <td>43136.0</td>\n",
       "      <td>42675.0</td>\n",
       "      <td>59.0</td>\n",
       "      <td>TURISCAMPO</td>\n",
       "      <td>Portugal</td>\n",
       "      <td>EMPL</td>\n",
       "      <td>2.0</td>\n",
       "      <td>Emplacement nu de 0 à 3 *</td>\n",
       "      <td>43072.0</td>\n",
       "      <td>43136.0</td>\n",
       "      <td>64.0</td>\n",
       "      <td>1.0</td>\n",
       "      <td>2.0</td>\n",
       "      <td>0.0</td>\n",
       "      <td>0.0</td>\n",
       "      <td>64.0</td>\n",
       "      <td>41597.0</td>\n",
       "      <td>1675500.0</td>\n",
       "      <td>XXXXX</td>\n",
       "      <td>915.64</td>\n",
       "      <td>0.0</td>\n",
       "      <td>0.0</td>\n",
       "      <td>0.0</td>\n",
       "      <td>0.0</td>\n",
       "      <td>915.64</td>\n",
       "      <td>5.912000e+10</td>\n",
       "      <td>GB</td>\n",
       "      <td>PO381NX</td>\n",
       "      <td>Y</td>\n",
       "      <td>41275.0</td>\n",
       "      <td>59.0</td>\n",
       "      <td>40835.0</td>\n",
       "      <td>DIRECT</td>\n",
       "      <td>Village</td>\n",
       "      <td>Village</td>\n",
       "      <td>999998.0</td>\n",
       "      <td>EMPL - Not Defined</td>\n",
       "    </tr>\n",
       "    <tr>\n",
       "      <th>2</th>\n",
       "      <td>320-20471</td>\n",
       "      <td>NaN</td>\n",
       "      <td>INDIV DIRECT</td>\n",
       "      <td>U20140228HINDL599191284</td>\n",
       "      <td>N</td>\n",
       "      <td>43327.0</td>\n",
       "      <td>43040.0</td>\n",
       "      <td>59.0</td>\n",
       "      <td>TURISCAMPO</td>\n",
       "      <td>Portugal</td>\n",
       "      <td>EMPL</td>\n",
       "      <td>2.0</td>\n",
       "      <td>Emplacement nu de 0 à 3 *</td>\n",
       "      <td>43101.0</td>\n",
       "      <td>43165.0</td>\n",
       "      <td>64.0</td>\n",
       "      <td>1.0</td>\n",
       "      <td>2.0</td>\n",
       "      <td>0.0</td>\n",
       "      <td>0.0</td>\n",
       "      <td>64.0</td>\n",
       "      <td>41698.0</td>\n",
       "      <td>1664127.0</td>\n",
       "      <td>XXXXX</td>\n",
       "      <td>1074.66</td>\n",
       "      <td>0.0</td>\n",
       "      <td>64.0</td>\n",
       "      <td>0.0</td>\n",
       "      <td>0.0</td>\n",
       "      <td>1138.66</td>\n",
       "      <td>5.917000e+10</td>\n",
       "      <td>GB</td>\n",
       "      <td>NaN</td>\n",
       "      <td>Y</td>\n",
       "      <td>42736.0</td>\n",
       "      <td>59.0</td>\n",
       "      <td>40835.0</td>\n",
       "      <td>DIRECT</td>\n",
       "      <td>Village</td>\n",
       "      <td>Village</td>\n",
       "      <td>22.0</td>\n",
       "      <td>Empla. Super Deluxe *** Luz</td>\n",
       "    </tr>\n",
       "    <tr>\n",
       "      <th>3</th>\n",
       "      <td>320-22588</td>\n",
       "      <td>NaN</td>\n",
       "      <td>INDIV DIRECT</td>\n",
       "      <td>U20140528ENGEL311651611</td>\n",
       "      <td>N</td>\n",
       "      <td>43261.0</td>\n",
       "      <td>43040.0</td>\n",
       "      <td>59.0</td>\n",
       "      <td>TURISCAMPO</td>\n",
       "      <td>Portugal</td>\n",
       "      <td>EMPL</td>\n",
       "      <td>2.0</td>\n",
       "      <td>Emplacement nu de 0 à 3 *</td>\n",
       "      <td>43191.0</td>\n",
       "      <td>43252.0</td>\n",
       "      <td>61.0</td>\n",
       "      <td>1.0</td>\n",
       "      <td>2.0</td>\n",
       "      <td>0.0</td>\n",
       "      <td>0.0</td>\n",
       "      <td>61.0</td>\n",
       "      <td>41787.0</td>\n",
       "      <td>1686399.0</td>\n",
       "      <td>XXXXX</td>\n",
       "      <td>901.00</td>\n",
       "      <td>0.0</td>\n",
       "      <td>0.0</td>\n",
       "      <td>0.0</td>\n",
       "      <td>0.0</td>\n",
       "      <td>901.00</td>\n",
       "      <td>1.001700e+11</td>\n",
       "      <td>DE</td>\n",
       "      <td>49740</td>\n",
       "      <td>Y</td>\n",
       "      <td>43101.0</td>\n",
       "      <td>100.0</td>\n",
       "      <td>40835.0</td>\n",
       "      <td>DIRECT</td>\n",
       "      <td>Village</td>\n",
       "      <td>Village</td>\n",
       "      <td>999998.0</td>\n",
       "      <td>EMPL - Not Defined</td>\n",
       "    </tr>\n",
       "    <tr>\n",
       "      <th>4</th>\n",
       "      <td>320-22610</td>\n",
       "      <td>NaN</td>\n",
       "      <td>INDIV DIRECT</td>\n",
       "      <td>U20140529SRCOL428189086</td>\n",
       "      <td>N</td>\n",
       "      <td>43078.0</td>\n",
       "      <td>42675.0</td>\n",
       "      <td>59.0</td>\n",
       "      <td>TURISCAMPO</td>\n",
       "      <td>Portugal</td>\n",
       "      <td>LOCA</td>\n",
       "      <td>10.0</td>\n",
       "      <td>Locatif 2 ch. PREMIUM</td>\n",
       "      <td>43074.0</td>\n",
       "      <td>43078.0</td>\n",
       "      <td>4.0</td>\n",
       "      <td>1.0</td>\n",
       "      <td>2.0</td>\n",
       "      <td>0.0</td>\n",
       "      <td>0.0</td>\n",
       "      <td>4.0</td>\n",
       "      <td>41788.0</td>\n",
       "      <td>-1.0</td>\n",
       "      <td>XXXXX</td>\n",
       "      <td>0.00</td>\n",
       "      <td>0.0</td>\n",
       "      <td>0.0</td>\n",
       "      <td>0.0</td>\n",
       "      <td>0.0</td>\n",
       "      <td>0.00</td>\n",
       "      <td>0.000000e+00</td>\n",
       "      <td>PT</td>\n",
       "      <td>NaN</td>\n",
       "      <td>N</td>\n",
       "      <td>NaN</td>\n",
       "      <td>0.0</td>\n",
       "      <td>39721.0</td>\n",
       "      <td>DIRECT</td>\n",
       "      <td>Village</td>\n",
       "      <td>Village</td>\n",
       "      <td>999999.0</td>\n",
       "      <td>LOCA - Not Defined</td>\n",
       "    </tr>\n",
       "  </tbody>\n",
       "</table>\n",
       "</div>"
      ],
      "text/plain": [
       "      idstay idstay_to type_stay_lbl              resinternet type_guest  \\\n",
<<<<<<< HEAD
       "0  320-14150  NaN       INDIV DIRECT  U20130628DEBUR932214355  N           \n",
       "1  320-19097  NaN       INDIV DIRECT  U20131119GRIME393582153  N           \n",
       "2  320-20471  NaN       INDIV DIRECT  U20140228HINDL599191284  N           \n",
       "3  320-22588  NaN       INDIV DIRECT  U20140528ENGEL311651611  N           \n",
       "4  320-22610  NaN       INDIV DIRECT  U20140529SRCOL428189086  N           \n",
       "\n",
       "   extract_date  resdate  camping_code camping_label    Région  \\\n",
       "0  43220.0       43040.0  59.0          TURISCAMPO    Portugal   \n",
       "1  43136.0       42675.0  59.0          TURISCAMPO    Portugal   \n",
       "2  43327.0       43040.0  59.0          TURISCAMPO    Portugal   \n",
       "3  43261.0       43040.0  59.0          TURISCAMPO    Portugal   \n",
       "4  43078.0       42675.0  59.0          TURISCAMPO    Portugal   \n",
       "\n",
       "  type_hebergement  hebergement          hebergement_label   datein  dateout  \\\n",
       "0  LOCA             8.0          Locatif 3 ch. 4 *          43191.0  43220.0   \n",
       "1  EMPL             2.0          Emplacement nu de 0 à 3 *  43072.0  43136.0   \n",
       "2  EMPL             2.0          Emplacement nu de 0 à 3 *  43101.0  43165.0   \n",
       "3  EMPL             2.0          Emplacement nu de 0 à 3 *  43191.0  43252.0   \n",
       "4  LOCA             10.0         Locatif 2 ch. PREMIUM      43074.0  43078.0   \n",
       "\n",
       "    los  nbroom  nbguest  nb_nuit_fid  Séjour Gratuit  Nb Nuits Payantes  \\\n",
       "0  29.0  1.0     1.0      0.0          0.0             29.0                \n",
       "1  64.0  1.0     2.0      0.0          0.0             64.0                \n",
       "2  64.0  1.0     2.0      0.0          0.0             64.0                \n",
       "3  61.0  1.0     2.0      0.0          0.0             61.0                \n",
       "4  4.0   1.0     2.0      0.0          0.0             4.0                 \n",
       "\n",
       "   vrai_date_resa  client_id_grp client_name     rev1  rev2  rev3  rev4  rev5  \\\n",
       "0  41453.0         1939194.0      XXXXX       670.00   0.0   70.0  0.0   0.0    \n",
       "1  41597.0         1675500.0      XXXXX       915.64   0.0   0.0   0.0   0.0    \n",
       "2  41698.0         1664127.0      XXXXX       1074.66  0.0   64.0  0.0   0.0    \n",
       "3  41787.0         1686399.0      XXXXX       901.00   0.0   0.0   0.0   0.0    \n",
       "4  41788.0        -1.0            XXXXX       0.00     0.0   0.0   0.0   0.0    \n",
       "\n",
       "       rev        fid_id pays   region fidelisation  date_fid  camping_fid  \\\n",
       "0  740.00   1.001500e+11  BE   7322     Y            42005.0   100.0         \n",
       "1  915.64   5.912000e+10  GB   PO381NX  Y            41275.0   59.0          \n",
       "2  1138.66  5.917000e+10  GB   NaN      Y            42736.0   59.0          \n",
       "3  901.00   1.001700e+11  DE   49740    Y            43101.0   100.0         \n",
       "4  0.00     0.000000e+00  PT   NaN      N           NaN        0.0           \n",
       "\n",
       "   creation_date segment   scode1   scode2  hebergement_camping_id  \\\n",
       "0  41212.0        DIRECT  Village  Village  999999.0                 \n",
       "1  40835.0        DIRECT  Village  Village  999998.0                 \n",
       "2  40835.0        DIRECT  Village  Village  22.0                     \n",
       "3  40835.0        DIRECT  Village  Village  999998.0                 \n",
       "4  39721.0        DIRECT  Village  Village  999999.0                 \n",
       "\n",
       "       hebergement_camping_lbl  \n",
       "0  LOCA - Not Defined           \n",
       "1  EMPL - Not Defined           \n",
       "2  Empla. Super Deluxe *** Luz  \n",
       "3  EMPL - Not Defined           \n",
       "4  LOCA - Not Defined           "
      ]
     },
     "execution_count": 8,
=======
       "0  320-14150       NaN  INDIV DIRECT  U20130628DEBUR932214355          N   \n",
       "1  320-19097       NaN  INDIV DIRECT  U20131119GRIME393582153          N   \n",
       "2  320-20471       NaN  INDIV DIRECT  U20140228HINDL599191284          N   \n",
       "3  320-22588       NaN  INDIV DIRECT  U20140528ENGEL311651611          N   \n",
       "4  320-22610       NaN  INDIV DIRECT  U20140529SRCOL428189086          N   \n",
       "\n",
       "   extract_date  resdate  camping_code camping_label    Région  \\\n",
       "0       43220.0  43040.0          59.0    TURISCAMPO  Portugal   \n",
       "1       43136.0  42675.0          59.0    TURISCAMPO  Portugal   \n",
       "2       43327.0  43040.0          59.0    TURISCAMPO  Portugal   \n",
       "3       43261.0  43040.0          59.0    TURISCAMPO  Portugal   \n",
       "4       43078.0  42675.0          59.0    TURISCAMPO  Portugal   \n",
       "\n",
       "  type_hebergement  hebergement          hebergement_label   datein  dateout  \\\n",
       "0             LOCA          8.0          Locatif 3 ch. 4 *  43191.0  43220.0   \n",
       "1             EMPL          2.0  Emplacement nu de 0 à 3 *  43072.0  43136.0   \n",
       "2             EMPL          2.0  Emplacement nu de 0 à 3 *  43101.0  43165.0   \n",
       "3             EMPL          2.0  Emplacement nu de 0 à 3 *  43191.0  43252.0   \n",
       "4             LOCA         10.0      Locatif 2 ch. PREMIUM  43074.0  43078.0   \n",
       "\n",
       "    los  nbroom  nbguest  nb_nuit_fid  Séjour Gratuit  Nb Nuits Payantes  \\\n",
       "0  29.0     1.0      1.0          0.0             0.0               29.0   \n",
       "1  64.0     1.0      2.0          0.0             0.0               64.0   \n",
       "2  64.0     1.0      2.0          0.0             0.0               64.0   \n",
       "3  61.0     1.0      2.0          0.0             0.0               61.0   \n",
       "4   4.0     1.0      2.0          0.0             0.0                4.0   \n",
       "\n",
       "   vrai_date_resa  client_id_grp client_name     rev1  rev2  rev3  rev4  rev5  \\\n",
       "0         41453.0      1939194.0       XXXXX   670.00   0.0  70.0   0.0   0.0   \n",
       "1         41597.0      1675500.0       XXXXX   915.64   0.0   0.0   0.0   0.0   \n",
       "2         41698.0      1664127.0       XXXXX  1074.66   0.0  64.0   0.0   0.0   \n",
       "3         41787.0      1686399.0       XXXXX   901.00   0.0   0.0   0.0   0.0   \n",
       "4         41788.0           -1.0       XXXXX     0.00   0.0   0.0   0.0   0.0   \n",
       "\n",
       "       rev        fid_id pays   region fidelisation  date_fid  camping_fid  \\\n",
       "0   740.00  1.001500e+11   BE     7322            Y   42005.0        100.0   \n",
       "1   915.64  5.912000e+10   GB  PO381NX            Y   41275.0         59.0   \n",
       "2  1138.66  5.917000e+10   GB      NaN            Y   42736.0         59.0   \n",
       "3   901.00  1.001700e+11   DE    49740            Y   43101.0        100.0   \n",
       "4     0.00  0.000000e+00   PT      NaN            N       NaN          0.0   \n",
       "\n",
       "   creation_date segment   scode1   scode2  hebergement_camping_id  \\\n",
       "0        41212.0  DIRECT  Village  Village                999999.0   \n",
       "1        40835.0  DIRECT  Village  Village                999998.0   \n",
       "2        40835.0  DIRECT  Village  Village                    22.0   \n",
       "3        40835.0  DIRECT  Village  Village                999998.0   \n",
       "4        39721.0  DIRECT  Village  Village                999999.0   \n",
       "\n",
       "       hebergement_camping_lbl  \n",
       "0           LOCA - Not Defined  \n",
       "1           EMPL - Not Defined  \n",
       "2  Empla. Super Deluxe *** Luz  \n",
       "3           EMPL - Not Defined  \n",
       "4           LOCA - Not Defined  "
      ]
     },
     "execution_count": 3,
>>>>>>> d6402fc614fc1717f7368e469cd1ffa69e5a482a
     "metadata": {},
     "output_type": "execute_result"
    }
   ],
   "source": [
<<<<<<< HEAD
=======
    "pd.set_option('display.max_columns', None)\n",
>>>>>>> d6402fc614fc1717f7368e469cd1ffa69e5a482a
    "df.head()"
   ]
  },
  {
   "cell_type": "code",
<<<<<<< HEAD
   "execution_count": 9,
=======
   "execution_count": 4,
>>>>>>> d6402fc614fc1717f7368e469cd1ffa69e5a482a
   "metadata": {},
   "outputs": [
    {
     "data": {
      "text/plain": [
       "(312552, 42)"
      ]
     },
<<<<<<< HEAD
     "execution_count": 9,
=======
     "execution_count": 4,
>>>>>>> d6402fc614fc1717f7368e469cd1ffa69e5a482a
     "metadata": {},
     "output_type": "execute_result"
    }
   ],
   "source": [
    "df.shape"
   ]
  },
  {
   "cell_type": "code",
<<<<<<< HEAD
   "execution_count": 10,
   "metadata": {},
   "outputs": [],
   "source": [
    " df_camping = df[df['camping_label'] == 'GAVINA']"
=======
   "execution_count": 5,
   "metadata": {},
   "outputs": [
    {
     "name": "stdout",
     "output_type": "stream",
     "text": [
      "<class 'pandas.core.frame.DataFrame'>\n",
      "RangeIndex: 312552 entries, 0 to 312551\n",
      "Data columns (total 42 columns):\n",
      " #   Column                   Non-Null Count   Dtype  \n",
      "---  ------                   --------------   -----  \n",
      " 0   idstay                   305235 non-null  object \n",
      " 1   idstay_to                3116 non-null    object \n",
      " 2   type_stay_lbl            305235 non-null  object \n",
      " 3   resinternet              304637 non-null  object \n",
      " 4   type_guest               305235 non-null  object \n",
      " 5   extract_date             305235 non-null  float64\n",
      " 6   resdate                  305235 non-null  float64\n",
      " 7   camping_code             305235 non-null  float64\n",
      " 8   camping_label            305235 non-null  object \n",
      " 9   Région                   305235 non-null  object \n",
      " 10  type_hebergement         305235 non-null  object \n",
      " 11  hebergement              305235 non-null  float64\n",
      " 12  hebergement_label        305235 non-null  object \n",
      " 13  datein                   305235 non-null  float64\n",
      " 14  dateout                  305235 non-null  float64\n",
      " 15  los                      305235 non-null  float64\n",
      " 16  nbroom                   305235 non-null  float64\n",
      " 17  nbguest                  305235 non-null  float64\n",
      " 18  nb_nuit_fid              305235 non-null  float64\n",
      " 19  Séjour Gratuit           305235 non-null  float64\n",
      " 20  Nb Nuits Payantes        305235 non-null  float64\n",
      " 21  vrai_date_resa           305235 non-null  float64\n",
      " 22  client_id_grp            305235 non-null  float64\n",
      " 23  client_name              305235 non-null  object \n",
      " 24  rev1                     305235 non-null  float64\n",
      " 25  rev2                     305235 non-null  float64\n",
      " 26  rev3                     305235 non-null  float64\n",
      " 27  rev4                     305235 non-null  float64\n",
      " 28  rev5                     305235 non-null  float64\n",
      " 29  rev                      305235 non-null  float64\n",
      " 30  fid_id                   305235 non-null  float64\n",
      " 31  pays                     305235 non-null  object \n",
      " 32  region                   86412 non-null   object \n",
      " 33  fidelisation             305235 non-null  object \n",
      " 34  date_fid                 118366 non-null  float64\n",
      " 35  camping_fid              305235 non-null  float64\n",
      " 36  creation_date            305235 non-null  float64\n",
      " 37  segment                  305235 non-null  object \n",
      " 38  scode1                   305235 non-null  object \n",
      " 39  scode2                   305023 non-null  object \n",
      " 40  hebergement_camping_id   305235 non-null  float64\n",
      " 41  hebergement_camping_lbl  305235 non-null  object \n",
      "dtypes: float64(25), object(17)\n",
      "memory usage: 100.2+ MB\n"
     ]
    }
   ],
   "source": [
    "df.info()"
>>>>>>> d6402fc614fc1717f7368e469cd1ffa69e5a482a
   ]
  },
  {
   "cell_type": "code",
<<<<<<< HEAD
   "execution_count": 11,
=======
   "execution_count": 40,
>>>>>>> d6402fc614fc1717f7368e469cd1ffa69e5a482a
   "metadata": {},
   "outputs": [
    {
     "data": {
      "text/html": [
       "<div>\n",
       "<style scoped>\n",
       "    .dataframe tbody tr th:only-of-type {\n",
       "        vertical-align: middle;\n",
       "    }\n",
       "\n",
       "    .dataframe tbody tr th {\n",
       "        vertical-align: top;\n",
       "    }\n",
       "\n",
       "    .dataframe thead th {\n",
       "        text-align: right;\n",
       "    }\n",
       "</style>\n",
       "<table border=\"1\" class=\"dataframe\">\n",
       "  <thead>\n",
       "    <tr style=\"text-align: right;\">\n",
       "      <th></th>\n",
<<<<<<< HEAD
       "      <th>idstay</th>\n",
       "      <th>idstay_to</th>\n",
       "      <th>type_stay_lbl</th>\n",
       "      <th>resinternet</th>\n",
       "      <th>type_guest</th>\n",
       "      <th>extract_date</th>\n",
       "      <th>resdate</th>\n",
       "      <th>camping_code</th>\n",
       "      <th>camping_label</th>\n",
       "      <th>Région</th>\n",
       "      <th>type_hebergement</th>\n",
       "      <th>hebergement</th>\n",
       "      <th>hebergement_label</th>\n",
=======
       "      <th>extract_date</th>\n",
       "      <th>resdate</th>\n",
       "      <th>camping_code</th>\n",
       "      <th>hebergement</th>\n",
>>>>>>> d6402fc614fc1717f7368e469cd1ffa69e5a482a
       "      <th>datein</th>\n",
       "      <th>dateout</th>\n",
       "      <th>los</th>\n",
       "      <th>nbroom</th>\n",
       "      <th>nbguest</th>\n",
       "      <th>nb_nuit_fid</th>\n",
       "      <th>Séjour Gratuit</th>\n",
       "      <th>Nb Nuits Payantes</th>\n",
       "      <th>vrai_date_resa</th>\n",
       "      <th>client_id_grp</th>\n",
<<<<<<< HEAD
       "      <th>client_name</th>\n",
=======
>>>>>>> d6402fc614fc1717f7368e469cd1ffa69e5a482a
       "      <th>rev1</th>\n",
       "      <th>rev2</th>\n",
       "      <th>rev3</th>\n",
       "      <th>rev4</th>\n",
       "      <th>rev5</th>\n",
       "      <th>rev</th>\n",
       "      <th>fid_id</th>\n",
<<<<<<< HEAD
       "      <th>pays</th>\n",
       "      <th>region</th>\n",
       "      <th>fidelisation</th>\n",
       "      <th>date_fid</th>\n",
       "      <th>camping_fid</th>\n",
       "      <th>creation_date</th>\n",
       "      <th>segment</th>\n",
       "      <th>scode1</th>\n",
       "      <th>scode2</th>\n",
       "      <th>hebergement_camping_id</th>\n",
       "      <th>hebergement_camping_lbl</th>\n",
=======
       "      <th>date_fid</th>\n",
       "      <th>camping_fid</th>\n",
       "      <th>creation_date</th>\n",
       "      <th>hebergement_camping_id</th>\n",
>>>>>>> d6402fc614fc1717f7368e469cd1ffa69e5a482a
       "    </tr>\n",
       "  </thead>\n",
       "  <tbody>\n",
       "    <tr>\n",
<<<<<<< HEAD
       "      <th>138949</th>\n",
       "      <td>757-100</td>\n",
       "      <td>NaN</td>\n",
       "      <td>INDIV DIRECT</td>\n",
       "      <td>U20171027GOMAR509625244</td>\n",
       "      <td>N</td>\n",
       "      <td>43400.0</td>\n",
       "      <td>43040.0</td>\n",
       "      <td>109.0</td>\n",
       "      <td>GAVINA</td>\n",
       "      <td>Espagne</td>\n",
       "      <td>EMPL</td>\n",
       "      <td>2.0</td>\n",
       "      <td>Emplacement nu de 0 à 3 *</td>\n",
       "      <td>43182.0</td>\n",
       "      <td>43401.0</td>\n",
       "      <td>219.0</td>\n",
       "      <td>1.0</td>\n",
       "      <td>2.0</td>\n",
       "      <td>0.0</td>\n",
       "      <td>0.0</td>\n",
       "      <td>219.0</td>\n",
       "      <td>43035.0</td>\n",
       "      <td>3287372.0</td>\n",
       "      <td>XXXXX</td>\n",
       "      <td>3040.0</td>\n",
       "      <td>0.0</td>\n",
       "      <td>380.0</td>\n",
       "      <td>7.0</td>\n",
       "      <td>0.0</td>\n",
       "      <td>3427.0</td>\n",
       "      <td>1.091700e+11</td>\n",
       "      <td>ES</td>\n",
       "      <td>NaN</td>\n",
       "      <td>Y</td>\n",
       "      <td>43101.0</td>\n",
       "      <td>109.0</td>\n",
       "      <td>43035.0</td>\n",
       "      <td>DIRECT</td>\n",
       "      <td>Village</td>\n",
       "      <td>Village</td>\n",
       "      <td>1.0</td>\n",
       "      <td>Parcela 2p * 3Âª LÃ­nea</td>\n",
       "    </tr>\n",
       "    <tr>\n",
       "      <th>138950</th>\n",
       "      <td>757-1000</td>\n",
       "      <td>NaN</td>\n",
       "      <td>INDIV DIRECT</td>\n",
       "      <td>O20180205SCHUL562786563</td>\n",
       "      <td>N</td>\n",
       "      <td>43330.0</td>\n",
       "      <td>43137.0</td>\n",
       "      <td>109.0</td>\n",
       "      <td>GAVINA</td>\n",
       "      <td>Espagne</td>\n",
       "      <td>EMPL</td>\n",
       "      <td>2.0</td>\n",
       "      <td>Emplacement nu de 0 à 3 *</td>\n",
       "      <td>43197.0</td>\n",
       "      <td>43210.0</td>\n",
       "      <td>13.0</td>\n",
       "      <td>1.0</td>\n",
       "      <td>5.0</td>\n",
       "      <td>0.0</td>\n",
       "      <td>0.0</td>\n",
       "      <td>13.0</td>\n",
       "      <td>43137.0</td>\n",
       "      <td>3331204.0</td>\n",
       "      <td>XXXXX</td>\n",
       "      <td>327.6</td>\n",
       "      <td>15.0</td>\n",
       "      <td>0.0</td>\n",
       "      <td>7.0</td>\n",
       "      <td>0.0</td>\n",
       "      <td>349.6</td>\n",
       "      <td>1.091700e+11</td>\n",
       "      <td>FR</td>\n",
       "      <td>NaN</td>\n",
       "      <td>Y</td>\n",
       "      <td>43101.0</td>\n",
       "      <td>109.0</td>\n",
       "      <td>43137.0</td>\n",
       "      <td>INTERNET</td>\n",
       "      <td>Village</td>\n",
       "      <td>Wvillage</td>\n",
       "      <td>2.0</td>\n",
       "      <td>Parcela 2p * Frente de mar 1Âª LÃ­nea</td>\n",
       "    </tr>\n",
       "    <tr>\n",
       "      <th>138951</th>\n",
       "      <td>757-1001</td>\n",
       "      <td>NaN</td>\n",
       "      <td>INDIV DIRECT</td>\n",
       "      <td>O20180205STEVE31630440</td>\n",
       "      <td>N</td>\n",
       "      <td>43379.0</td>\n",
       "      <td>43137.0</td>\n",
       "      <td>109.0</td>\n",
       "      <td>GAVINA</td>\n",
       "      <td>Espagne</td>\n",
       "      <td>EMPL</td>\n",
       "      <td>2.0</td>\n",
       "      <td>Emplacement nu de 0 à 3 *</td>\n",
       "      <td>43276.0</td>\n",
       "      <td>43283.0</td>\n",
       "      <td>7.0</td>\n",
       "      <td>1.0</td>\n",
       "      <td>2.0</td>\n",
       "      <td>0.0</td>\n",
       "      <td>0.0</td>\n",
       "      <td>7.0</td>\n",
       "      <td>43137.0</td>\n",
       "      <td>3202963.0</td>\n",
       "      <td>XXXXX</td>\n",
       "      <td>265.0</td>\n",
       "      <td>15.0</td>\n",
       "      <td>0.0</td>\n",
       "      <td>7.0</td>\n",
       "      <td>0.0</td>\n",
       "      <td>287.0</td>\n",
       "      <td>1.091700e+11</td>\n",
       "      <td>BE</td>\n",
       "      <td>NaN</td>\n",
       "      <td>Y</td>\n",
       "      <td>43101.0</td>\n",
       "      <td>109.0</td>\n",
       "      <td>42962.0</td>\n",
       "      <td>Internet</td>\n",
       "      <td>Yelloh</td>\n",
       "      <td>Wyelloh</td>\n",
       "      <td>1.0</td>\n",
       "      <td>Parcela 2p * 3Âª LÃ­nea</td>\n",
       "    </tr>\n",
       "    <tr>\n",
       "      <th>138952</th>\n",
       "      <td>757-1002</td>\n",
       "      <td>NaN</td>\n",
       "      <td>INDIV DIRECT</td>\n",
       "      <td>O20180205FELLN1755348280</td>\n",
       "      <td>N</td>\n",
       "      <td>43295.0</td>\n",
       "      <td>43137.0</td>\n",
       "      <td>109.0</td>\n",
       "      <td>GAVINA</td>\n",
       "      <td>Espagne</td>\n",
       "      <td>LOCA</td>\n",
       "      <td>5.0</td>\n",
       "      <td>Locatif 2 ch. de 0 à 3 *</td>\n",
       "      <td>43281.0</td>\n",
       "      <td>43295.0</td>\n",
       "      <td>14.0</td>\n",
       "      <td>1.0</td>\n",
       "      <td>5.0</td>\n",
       "      <td>0.0</td>\n",
       "      <td>0.0</td>\n",
       "      <td>14.0</td>\n",
       "      <td>43137.0</td>\n",
       "      <td>3331219.0</td>\n",
       "      <td>XXXXX</td>\n",
       "      <td>2240.0</td>\n",
       "      <td>0.0</td>\n",
       "      <td>0.0</td>\n",
       "      <td>7.0</td>\n",
       "      <td>0.0</td>\n",
       "      <td>2247.0</td>\n",
       "      <td>1.091700e+11</td>\n",
       "      <td>DE</td>\n",
       "      <td>NaN</td>\n",
       "      <td>Y</td>\n",
       "      <td>43101.0</td>\n",
       "      <td>109.0</td>\n",
       "      <td>43137.0</td>\n",
       "      <td>INTERNET</td>\n",
       "      <td>Village</td>\n",
       "      <td>Wvillage</td>\n",
       "      <td>11.0</td>\n",
       "      <td>Chalet Beach 4/5p 2Hab ***</td>\n",
       "    </tr>\n",
       "    <tr>\n",
       "      <th>138953</th>\n",
       "      <td>757-1003</td>\n",
       "      <td>NaN</td>\n",
       "      <td>INDIV DIRECT</td>\n",
       "      <td>O20180206DOLEZ1523865485</td>\n",
       "      <td>N</td>\n",
       "      <td>43287.0</td>\n",
       "      <td>43138.0</td>\n",
       "      <td>109.0</td>\n",
       "      <td>GAVINA</td>\n",
       "      <td>Espagne</td>\n",
       "      <td>LOCA</td>\n",
       "      <td>5.0</td>\n",
       "      <td>Locatif 2 ch. de 0 à 3 *</td>\n",
       "      <td>43281.0</td>\n",
       "      <td>43287.0</td>\n",
       "      <td>6.0</td>\n",
       "      <td>1.0</td>\n",
       "      <td>2.0</td>\n",
       "      <td>0.0</td>\n",
       "      <td>0.0</td>\n",
       "      <td>6.0</td>\n",
       "      <td>43138.0</td>\n",
       "      <td>3331661.0</td>\n",
       "      <td>XXXXX</td>\n",
       "      <td>930.0</td>\n",
       "      <td>0.0</td>\n",
       "      <td>0.0</td>\n",
       "      <td>6.0</td>\n",
       "      <td>0.0</td>\n",
       "      <td>936.0</td>\n",
       "      <td>1.091700e+11</td>\n",
       "      <td>CZ</td>\n",
       "      <td>NaN</td>\n",
       "      <td>Y</td>\n",
       "      <td>43101.0</td>\n",
       "      <td>109.0</td>\n",
       "      <td>43138.0</td>\n",
       "      <td>Internet</td>\n",
       "      <td>Yelloh</td>\n",
       "      <td>Wyelloh</td>\n",
       "      <td>9.0</td>\n",
       "      <td>Tienda Lodge Safari 6p2Hab+entresuelo***</td>\n",
       "    </tr>\n",
       "    <tr>\n",
       "      <th>...</th>\n",
       "      <td>...</td>\n",
       "      <td>...</td>\n",
       "      <td>...</td>\n",
       "      <td>...</td>\n",
       "      <td>...</td>\n",
       "      <td>...</td>\n",
       "      <td>...</td>\n",
       "      <td>...</td>\n",
       "      <td>...</td>\n",
       "      <td>...</td>\n",
       "      <td>...</td>\n",
       "      <td>...</td>\n",
       "      <td>...</td>\n",
       "      <td>...</td>\n",
       "      <td>...</td>\n",
       "      <td>...</td>\n",
       "      <td>...</td>\n",
       "      <td>...</td>\n",
       "      <td>...</td>\n",
       "      <td>...</td>\n",
       "      <td>...</td>\n",
       "      <td>...</td>\n",
       "      <td>...</td>\n",
       "      <td>...</td>\n",
       "      <td>...</td>\n",
       "      <td>...</td>\n",
       "      <td>...</td>\n",
       "      <td>...</td>\n",
       "      <td>...</td>\n",
       "      <td>...</td>\n",
       "      <td>...</td>\n",
       "      <td>...</td>\n",
       "      <td>...</td>\n",
       "      <td>...</td>\n",
       "      <td>...</td>\n",
       "      <td>...</td>\n",
       "      <td>...</td>\n",
       "      <td>...</td>\n",
       "      <td>...</td>\n",
       "      <td>...</td>\n",
       "      <td>...</td>\n",
       "      <td>...</td>\n",
       "    </tr>\n",
       "    <tr>\n",
       "      <th>141906</th>\n",
       "      <td>757-995</td>\n",
       "      <td>NaN</td>\n",
       "      <td>INDIV DIRECT</td>\n",
       "      <td>O20180204MOREN1931420751</td>\n",
       "      <td>N</td>\n",
       "      <td>43330.0</td>\n",
       "      <td>43136.0</td>\n",
       "      <td>109.0</td>\n",
       "      <td>GAVINA</td>\n",
       "      <td>Espagne</td>\n",
       "      <td>LOCA</td>\n",
       "      <td>5.0</td>\n",
       "      <td>Locatif 2 ch. de 0 à 3 *</td>\n",
       "      <td>43217.0</td>\n",
       "      <td>43219.0</td>\n",
       "      <td>2.0</td>\n",
       "      <td>1.0</td>\n",
       "      <td>3.0</td>\n",
       "      <td>0.0</td>\n",
       "      <td>0.0</td>\n",
       "      <td>2.0</td>\n",
       "      <td>43136.0</td>\n",
       "      <td>3330454.0</td>\n",
       "      <td>XXXXX</td>\n",
       "      <td>150.0</td>\n",
       "      <td>0.0</td>\n",
       "      <td>0.0</td>\n",
       "      <td>2.0</td>\n",
       "      <td>0.0</td>\n",
       "      <td>152.0</td>\n",
       "      <td>1.091700e+11</td>\n",
       "      <td>ES</td>\n",
       "      <td>NaN</td>\n",
       "      <td>Y</td>\n",
       "      <td>43101.0</td>\n",
       "      <td>109.0</td>\n",
       "      <td>43136.0</td>\n",
       "      <td>INTERNET</td>\n",
       "      <td>Village</td>\n",
       "      <td>Wvillage</td>\n",
       "      <td>10.0</td>\n",
       "      <td>Chalet Costa 4p 2Hab ***</td>\n",
       "    </tr>\n",
       "    <tr>\n",
       "      <th>141907</th>\n",
       "      <td>757-996</td>\n",
       "      <td>NaN</td>\n",
       "      <td>INDIV DIRECT</td>\n",
       "      <td>O20180205HUISM628580937</td>\n",
       "      <td>N</td>\n",
       "      <td>43379.0</td>\n",
       "      <td>43136.0</td>\n",
       "      <td>109.0</td>\n",
       "      <td>GAVINA</td>\n",
       "      <td>Espagne</td>\n",
       "      <td>LOCA</td>\n",
       "      <td>5.0</td>\n",
       "      <td>Locatif 2 ch. de 0 à 3 *</td>\n",
       "      <td>43297.0</td>\n",
       "      <td>43311.0</td>\n",
       "      <td>14.0</td>\n",
       "      <td>1.0</td>\n",
       "      <td>4.0</td>\n",
       "      <td>0.0</td>\n",
       "      <td>0.0</td>\n",
       "      <td>14.0</td>\n",
       "      <td>43136.0</td>\n",
       "      <td>3330652.0</td>\n",
       "      <td>XXXXX</td>\n",
       "      <td>1490.0</td>\n",
       "      <td>0.0</td>\n",
       "      <td>108.0</td>\n",
       "      <td>14.0</td>\n",
       "      <td>0.0</td>\n",
       "      <td>1612.0</td>\n",
       "      <td>1.091700e+11</td>\n",
       "      <td>NL</td>\n",
       "      <td>NaN</td>\n",
       "      <td>Y</td>\n",
       "      <td>43101.0</td>\n",
       "      <td>109.0</td>\n",
       "      <td>43136.0</td>\n",
       "      <td>INTERNET</td>\n",
       "      <td>Village</td>\n",
       "      <td>Wvillage</td>\n",
       "      <td>5.0</td>\n",
       "      <td>Tienda amueblada Junior 5p 2Hab **</td>\n",
       "    </tr>\n",
       "    <tr>\n",
       "      <th>141908</th>\n",
       "      <td>757-997</td>\n",
       "      <td>NaN</td>\n",
       "      <td>INDIV DIRECT</td>\n",
       "      <td>U20180205CESAR693289184</td>\n",
       "      <td>N</td>\n",
       "      <td>43400.0</td>\n",
       "      <td>43136.0</td>\n",
       "      <td>109.0</td>\n",
       "      <td>GAVINA</td>\n",
       "      <td>Espagne</td>\n",
       "      <td>EMPL</td>\n",
       "      <td>2.0</td>\n",
       "      <td>Emplacement nu de 0 à 3 *</td>\n",
       "      <td>43182.0</td>\n",
       "      <td>43401.0</td>\n",
       "      <td>219.0</td>\n",
       "      <td>1.0</td>\n",
       "      <td>3.0</td>\n",
       "      <td>0.0</td>\n",
       "      <td>0.0</td>\n",
       "      <td>219.0</td>\n",
       "      <td>43136.0</td>\n",
       "      <td>3330711.0</td>\n",
       "      <td>XXXXX</td>\n",
       "      <td>3800.0</td>\n",
       "      <td>0.0</td>\n",
       "      <td>165.0</td>\n",
       "      <td>7.0</td>\n",
       "      <td>0.0</td>\n",
       "      <td>3972.0</td>\n",
       "      <td>0.000000e+00</td>\n",
       "      <td>ES</td>\n",
       "      <td>NaN</td>\n",
       "      <td>N</td>\n",
       "      <td>NaN</td>\n",
       "      <td>0.0</td>\n",
       "      <td>43136.0</td>\n",
       "      <td>DIRECT</td>\n",
       "      <td>Village</td>\n",
       "      <td>Village</td>\n",
       "      <td>1.0</td>\n",
       "      <td>Parcela 2p * 3Âª LÃ­nea</td>\n",
       "    </tr>\n",
       "    <tr>\n",
       "      <th>141909</th>\n",
       "      <td>757-998</td>\n",
       "      <td>NaN</td>\n",
       "      <td>INDIV DIRECT</td>\n",
       "      <td>O20180206IBORR925639546</td>\n",
       "      <td>N</td>\n",
       "      <td>43192.0</td>\n",
       "      <td>43137.0</td>\n",
       "      <td>109.0</td>\n",
       "      <td>GAVINA</td>\n",
       "      <td>Espagne</td>\n",
       "      <td>EMPL</td>\n",
       "      <td>2.0</td>\n",
       "      <td>Emplacement nu de 0 à 3 *</td>\n",
       "      <td>43189.0</td>\n",
       "      <td>43192.0</td>\n",
       "      <td>3.0</td>\n",
       "      <td>1.0</td>\n",
       "      <td>2.0</td>\n",
       "      <td>0.0</td>\n",
       "      <td>0.0</td>\n",
       "      <td>3.0</td>\n",
       "      <td>43137.0</td>\n",
       "      <td>3035723.0</td>\n",
       "      <td>XXXXX</td>\n",
       "      <td>66.0</td>\n",
       "      <td>0.0</td>\n",
       "      <td>0.0</td>\n",
       "      <td>3.0</td>\n",
       "      <td>0.0</td>\n",
       "      <td>69.0</td>\n",
       "      <td>1.091700e+11</td>\n",
       "      <td>ES</td>\n",
       "      <td>8005</td>\n",
       "      <td>Y</td>\n",
       "      <td>43101.0</td>\n",
       "      <td>109.0</td>\n",
       "      <td>42662.0</td>\n",
       "      <td>INTERNET</td>\n",
       "      <td>Village</td>\n",
       "      <td>Wvillage</td>\n",
       "      <td>999998.0</td>\n",
       "      <td>EMPL - Not Defined</td>\n",
       "    </tr>\n",
       "    <tr>\n",
       "      <th>141910</th>\n",
       "      <td>757-999</td>\n",
       "      <td>NaN</td>\n",
       "      <td>INDIV DIRECT</td>\n",
       "      <td>O20180205ROBIN1784447996</td>\n",
       "      <td>N</td>\n",
       "      <td>43379.0</td>\n",
       "      <td>43137.0</td>\n",
       "      <td>109.0</td>\n",
       "      <td>GAVINA</td>\n",
       "      <td>Espagne</td>\n",
       "      <td>EMPL</td>\n",
       "      <td>2.0</td>\n",
       "      <td>Emplacement nu de 0 à 3 *</td>\n",
       "      <td>43288.0</td>\n",
       "      <td>43301.0</td>\n",
       "      <td>13.0</td>\n",
       "      <td>1.0</td>\n",
       "      <td>2.0</td>\n",
       "      <td>0.0</td>\n",
       "      <td>0.0</td>\n",
       "      <td>13.0</td>\n",
       "      <td>43137.0</td>\n",
       "      <td>3293245.0</td>\n",
       "      <td>XXXXX</td>\n",
       "      <td>647.0</td>\n",
       "      <td>0.0</td>\n",
       "      <td>0.0</td>\n",
       "      <td>7.0</td>\n",
       "      <td>0.0</td>\n",
       "      <td>654.0</td>\n",
       "      <td>1.091700e+11</td>\n",
       "      <td>FR</td>\n",
       "      <td>NaN</td>\n",
       "      <td>Y</td>\n",
       "      <td>43101.0</td>\n",
       "      <td>109.0</td>\n",
       "      <td>43035.0</td>\n",
       "      <td>INTERNET</td>\n",
       "      <td>Village</td>\n",
       "      <td>Wvillage</td>\n",
       "      <td>1.0</td>\n",
       "      <td>Parcela 2p * 3Âª LÃ­nea</td>\n",
       "    </tr>\n",
       "  </tbody>\n",
       "</table>\n",
       "<p>2962 rows × 42 columns</p>\n",
       "</div>"
      ],
      "text/plain": [
       "          idstay idstay_to type_stay_lbl               resinternet type_guest  \\\n",
       "138949  757-100   NaN       INDIV DIRECT  U20171027GOMAR509625244   N           \n",
       "138950  757-1000  NaN       INDIV DIRECT  O20180205SCHUL562786563   N           \n",
       "138951  757-1001  NaN       INDIV DIRECT  O20180205STEVE31630440    N           \n",
       "138952  757-1002  NaN       INDIV DIRECT  O20180205FELLN1755348280  N           \n",
       "138953  757-1003  NaN       INDIV DIRECT  O20180206DOLEZ1523865485  N           \n",
       "...          ...  ...                ...                       ... ..           \n",
       "141906  757-995   NaN       INDIV DIRECT  O20180204MOREN1931420751  N           \n",
       "141907  757-996   NaN       INDIV DIRECT  O20180205HUISM628580937   N           \n",
       "141908  757-997   NaN       INDIV DIRECT  U20180205CESAR693289184   N           \n",
       "141909  757-998   NaN       INDIV DIRECT  O20180206IBORR925639546   N           \n",
       "141910  757-999   NaN       INDIV DIRECT  O20180205ROBIN1784447996  N           \n",
       "\n",
       "        extract_date  resdate  camping_code camping_label   Région  \\\n",
       "138949  43400.0       43040.0  109.0         GAVINA        Espagne   \n",
       "138950  43330.0       43137.0  109.0         GAVINA        Espagne   \n",
       "138951  43379.0       43137.0  109.0         GAVINA        Espagne   \n",
       "138952  43295.0       43137.0  109.0         GAVINA        Espagne   \n",
       "138953  43287.0       43138.0  109.0         GAVINA        Espagne   \n",
       "...         ...           ...    ...            ...            ...   \n",
       "141906  43330.0       43136.0  109.0         GAVINA        Espagne   \n",
       "141907  43379.0       43136.0  109.0         GAVINA        Espagne   \n",
       "141908  43400.0       43136.0  109.0         GAVINA        Espagne   \n",
       "141909  43192.0       43137.0  109.0         GAVINA        Espagne   \n",
       "141910  43379.0       43137.0  109.0         GAVINA        Espagne   \n",
       "\n",
       "       type_hebergement  hebergement          hebergement_label   datein  \\\n",
       "138949  EMPL             2.0          Emplacement nu de 0 à 3 *  43182.0   \n",
       "138950  EMPL             2.0          Emplacement nu de 0 à 3 *  43197.0   \n",
       "138951  EMPL             2.0          Emplacement nu de 0 à 3 *  43276.0   \n",
       "138952  LOCA             5.0          Locatif 2 ch. de 0 à 3 *   43281.0   \n",
       "138953  LOCA             5.0          Locatif 2 ch. de 0 à 3 *   43281.0   \n",
       "...      ...             ...                               ...       ...   \n",
       "141906  LOCA             5.0          Locatif 2 ch. de 0 à 3 *   43217.0   \n",
       "141907  LOCA             5.0          Locatif 2 ch. de 0 à 3 *   43297.0   \n",
       "141908  EMPL             2.0          Emplacement nu de 0 à 3 *  43182.0   \n",
       "141909  EMPL             2.0          Emplacement nu de 0 à 3 *  43189.0   \n",
       "141910  EMPL             2.0          Emplacement nu de 0 à 3 *  43288.0   \n",
       "\n",
       "        dateout    los  nbroom  nbguest  nb_nuit_fid  Séjour Gratuit  \\\n",
       "138949  43401.0  219.0  1.0     2.0      0.0          0.0              \n",
       "138950  43210.0  13.0   1.0     5.0      0.0          0.0              \n",
       "138951  43283.0  7.0    1.0     2.0      0.0          0.0              \n",
       "138952  43295.0  14.0   1.0     5.0      0.0          0.0              \n",
       "138953  43287.0  6.0    1.0     2.0      0.0          0.0              \n",
       "...         ...  ...    ...     ...      ...          ...              \n",
       "141906  43219.0  2.0    1.0     3.0      0.0          0.0              \n",
       "141907  43311.0  14.0   1.0     4.0      0.0          0.0              \n",
       "141908  43401.0  219.0  1.0     3.0      0.0          0.0              \n",
       "141909  43192.0  3.0    1.0     2.0      0.0          0.0              \n",
       "141910  43301.0  13.0   1.0     2.0      0.0          0.0              \n",
       "\n",
       "        Nb Nuits Payantes  vrai_date_resa  client_id_grp client_name    rev1  \\\n",
       "138949  219.0              43035.0         3287372.0      XXXXX       3040.0   \n",
       "138950  13.0               43137.0         3331204.0      XXXXX       327.6    \n",
       "138951  7.0                43137.0         3202963.0      XXXXX       265.0    \n",
       "138952  14.0               43137.0         3331219.0      XXXXX       2240.0   \n",
       "138953  6.0                43138.0         3331661.0      XXXXX       930.0    \n",
       "...     ...                    ...               ...        ...         ...    \n",
       "141906  2.0                43136.0         3330454.0      XXXXX       150.0    \n",
       "141907  14.0               43136.0         3330652.0      XXXXX       1490.0   \n",
       "141908  219.0              43136.0         3330711.0      XXXXX       3800.0   \n",
       "141909  3.0                43137.0         3035723.0      XXXXX       66.0     \n",
       "141910  13.0               43137.0         3293245.0      XXXXX       647.0    \n",
       "\n",
       "        rev2   rev3  rev4  rev5     rev        fid_id pays region  \\\n",
       "138949  0.0   380.0  7.0   0.0   3427.0  1.091700e+11  ES   NaN     \n",
       "138950  15.0  0.0    7.0   0.0   349.6   1.091700e+11  FR   NaN     \n",
       "138951  15.0  0.0    7.0   0.0   287.0   1.091700e+11  BE   NaN     \n",
       "138952  0.0   0.0    7.0   0.0   2247.0  1.091700e+11  DE   NaN     \n",
       "138953  0.0   0.0    6.0   0.0   936.0   1.091700e+11  CZ   NaN     \n",
       "...     ...   ...    ...   ...     ...            ...  ..   ...     \n",
       "141906  0.0   0.0    2.0   0.0   152.0   1.091700e+11  ES   NaN     \n",
       "141907  0.0   108.0  14.0  0.0   1612.0  1.091700e+11  NL   NaN     \n",
       "141908  0.0   165.0  7.0   0.0   3972.0  0.000000e+00  ES   NaN     \n",
       "141909  0.0   0.0    3.0   0.0   69.0    1.091700e+11  ES   8005    \n",
       "141910  0.0   0.0    7.0   0.0   654.0   1.091700e+11  FR   NaN     \n",
       "\n",
       "       fidelisation  date_fid  camping_fid  creation_date   segment   scode1  \\\n",
       "138949  Y            43101.0   109.0        43035.0        DIRECT    Village   \n",
       "138950  Y            43101.0   109.0        43137.0        INTERNET  Village   \n",
       "138951  Y            43101.0   109.0        42962.0        Internet  Yelloh    \n",
       "138952  Y            43101.0   109.0        43137.0        INTERNET  Village   \n",
       "138953  Y            43101.0   109.0        43138.0        Internet  Yelloh    \n",
       "...    ..                ...     ...            ...             ...     ...    \n",
       "141906  Y            43101.0   109.0        43136.0        INTERNET  Village   \n",
       "141907  Y            43101.0   109.0        43136.0        INTERNET  Village   \n",
       "141908  N           NaN        0.0          43136.0        DIRECT    Village   \n",
       "141909  Y            43101.0   109.0        42662.0        INTERNET  Village   \n",
       "141910  Y            43101.0   109.0        43035.0        INTERNET  Village   \n",
       "\n",
       "          scode2  hebergement_camping_id  \\\n",
       "138949  Village   1.0                      \n",
       "138950  Wvillage  2.0                      \n",
       "138951  Wyelloh   1.0                      \n",
       "138952  Wvillage  11.0                     \n",
       "138953  Wyelloh   9.0                      \n",
       "...         ...   ...                      \n",
       "141906  Wvillage  10.0                     \n",
       "141907  Wvillage  5.0                      \n",
       "141908  Village   1.0                      \n",
       "141909  Wvillage  999998.0                 \n",
       "141910  Wvillage  1.0                      \n",
       "\n",
       "                         hebergement_camping_lbl  \n",
       "138949  Parcela 2p * 3Âª LÃ­nea                   \n",
       "138950  Parcela 2p * Frente de mar 1Âª LÃ­nea     \n",
       "138951  Parcela 2p * 3Âª LÃ­nea                   \n",
       "138952  Chalet Beach 4/5p 2Hab ***                \n",
       "138953  Tienda Lodge Safari 6p2Hab+entresuelo***  \n",
       "...                                          ...  \n",
       "141906  Chalet Costa 4p 2Hab ***                  \n",
       "141907  Tienda amueblada Junior 5p 2Hab **        \n",
       "141908  Parcela 2p * 3Âª LÃ­nea                   \n",
       "141909  EMPL - Not Defined                        \n",
       "141910  Parcela 2p * 3Âª LÃ­nea                   \n",
       "\n",
       "[2962 rows x 42 columns]"
      ]
     },
     "execution_count": 11,
=======
       "      <th>count</th>\n",
       "      <td>305235.000000</td>\n",
       "      <td>305235.000000</td>\n",
       "      <td>305235.000000</td>\n",
       "      <td>305235.000000</td>\n",
       "      <td>305235.000000</td>\n",
       "      <td>305235.000000</td>\n",
       "      <td>305235.00000</td>\n",
       "      <td>305235.0</td>\n",
       "      <td>305235.000000</td>\n",
       "      <td>305235.000000</td>\n",
       "      <td>305235.000000</td>\n",
       "      <td>305235.000000</td>\n",
       "      <td>305235.000000</td>\n",
       "      <td>3.052350e+05</td>\n",
       "      <td>305235.000000</td>\n",
       "      <td>305235.000000</td>\n",
       "      <td>305235.00000</td>\n",
       "      <td>305235.000000</td>\n",
       "      <td>305235.000000</td>\n",
       "      <td>305235.000000</td>\n",
       "      <td>3.052350e+05</td>\n",
       "      <td>118366.000000</td>\n",
       "      <td>305235.000000</td>\n",
       "      <td>305235.000000</td>\n",
       "      <td>305235.000000</td>\n",
       "    </tr>\n",
       "    <tr>\n",
       "      <th>mean</th>\n",
       "      <td>43299.119341</td>\n",
       "      <td>43212.494268</td>\n",
       "      <td>45.445725</td>\n",
       "      <td>4.789746</td>\n",
       "      <td>43289.007031</td>\n",
       "      <td>43295.507881</td>\n",
       "      <td>6.50085</td>\n",
       "      <td>1.0</td>\n",
       "      <td>3.460612</td>\n",
       "      <td>0.072908</td>\n",
       "      <td>0.005452</td>\n",
       "      <td>6.427942</td>\n",
       "      <td>43210.936000</td>\n",
       "      <td>2.643037e+06</td>\n",
       "      <td>583.742852</td>\n",
       "      <td>3.932891</td>\n",
       "      <td>38.68114</td>\n",
       "      <td>8.233819</td>\n",
       "      <td>0.000885</td>\n",
       "      <td>634.591586</td>\n",
       "      <td>2.966033e+10</td>\n",
       "      <td>42208.776591</td>\n",
       "      <td>31.281232</td>\n",
       "      <td>42286.529530</td>\n",
       "      <td>286923.124783</td>\n",
       "    </tr>\n",
       "    <tr>\n",
       "      <th>std</th>\n",
       "      <td>51.286247</td>\n",
       "      <td>91.420644</td>\n",
       "      <td>31.288675</td>\n",
       "      <td>3.000703</td>\n",
       "      <td>49.553522</td>\n",
       "      <td>50.072155</td>\n",
       "      <td>7.00520</td>\n",
       "      <td>0.0</td>\n",
       "      <td>1.336851</td>\n",
       "      <td>0.464705</td>\n",
       "      <td>0.073633</td>\n",
       "      <td>7.002484</td>\n",
       "      <td>95.699663</td>\n",
       "      <td>1.032134e+06</td>\n",
       "      <td>739.653708</td>\n",
       "      <td>9.569056</td>\n",
       "      <td>85.01661</td>\n",
       "      <td>9.042442</td>\n",
       "      <td>0.162899</td>\n",
       "      <td>765.081456</td>\n",
       "      <td>4.334142e+10</td>\n",
       "      <td>992.933777</td>\n",
       "      <td>44.115905</td>\n",
       "      <td>1250.907792</td>\n",
       "      <td>452318.103607</td>\n",
       "    </tr>\n",
       "    <tr>\n",
       "      <th>min</th>\n",
       "      <td>43041.000000</td>\n",
       "      <td>42675.000000</td>\n",
       "      <td>1.000000</td>\n",
       "      <td>2.000000</td>\n",
       "      <td>43040.000000</td>\n",
       "      <td>43041.000000</td>\n",
       "      <td>1.00000</td>\n",
       "      <td>1.0</td>\n",
       "      <td>1.000000</td>\n",
       "      <td>0.000000</td>\n",
       "      <td>0.000000</td>\n",
       "      <td>-4.000000</td>\n",
       "      <td>41031.000000</td>\n",
       "      <td>-1.000000e+00</td>\n",
       "      <td>0.000000</td>\n",
       "      <td>0.000000</td>\n",
       "      <td>0.00000</td>\n",
       "      <td>0.000000</td>\n",
       "      <td>0.000000</td>\n",
       "      <td>0.000000</td>\n",
       "      <td>0.000000e+00</td>\n",
       "      <td>39814.000000</td>\n",
       "      <td>0.000000</td>\n",
       "      <td>36555.000000</td>\n",
       "      <td>1.000000</td>\n",
       "    </tr>\n",
       "    <tr>\n",
       "      <th>25%</th>\n",
       "      <td>43261.000000</td>\n",
       "      <td>43139.000000</td>\n",
       "      <td>18.000000</td>\n",
       "      <td>2.000000</td>\n",
       "      <td>43253.000000</td>\n",
       "      <td>43259.000000</td>\n",
       "      <td>2.00000</td>\n",
       "      <td>1.0</td>\n",
       "      <td>2.000000</td>\n",
       "      <td>0.000000</td>\n",
       "      <td>0.000000</td>\n",
       "      <td>2.000000</td>\n",
       "      <td>43139.000000</td>\n",
       "      <td>2.135159e+06</td>\n",
       "      <td>102.000000</td>\n",
       "      <td>0.000000</td>\n",
       "      <td>0.00000</td>\n",
       "      <td>2.400000</td>\n",
       "      <td>0.000000</td>\n",
       "      <td>121.600000</td>\n",
       "      <td>0.000000e+00</td>\n",
       "      <td>41640.000000</td>\n",
       "      <td>0.000000</td>\n",
       "      <td>41655.000000</td>\n",
       "      <td>4.000000</td>\n",
       "    </tr>\n",
       "    <tr>\n",
       "      <th>50%</th>\n",
       "      <td>43308.000000</td>\n",
       "      <td>43220.000000</td>\n",
       "      <td>39.000000</td>\n",
       "      <td>5.000000</td>\n",
       "      <td>43295.000000</td>\n",
       "      <td>43303.000000</td>\n",
       "      <td>5.00000</td>\n",
       "      <td>1.0</td>\n",
       "      <td>4.000000</td>\n",
       "      <td>0.000000</td>\n",
       "      <td>0.000000</td>\n",
       "      <td>5.000000</td>\n",
       "      <td>43220.000000</td>\n",
       "      <td>3.199374e+06</td>\n",
       "      <td>288.000000</td>\n",
       "      <td>0.000000</td>\n",
       "      <td>0.00000</td>\n",
       "      <td>6.000000</td>\n",
       "      <td>0.000000</td>\n",
       "      <td>329.040000</td>\n",
       "      <td>0.000000e+00</td>\n",
       "      <td>42736.000000</td>\n",
       "      <td>0.000000</td>\n",
       "      <td>42956.000000</td>\n",
       "      <td>12.000000</td>\n",
       "    </tr>\n",
       "    <tr>\n",
       "      <th>75%</th>\n",
       "      <td>43338.000000</td>\n",
       "      <td>43284.000000</td>\n",
       "      <td>67.000000</td>\n",
       "      <td>6.000000</td>\n",
       "      <td>43327.000000</td>\n",
       "      <td>43335.000000</td>\n",
       "      <td>8.00000</td>\n",
       "      <td>1.0</td>\n",
       "      <td>4.000000</td>\n",
       "      <td>0.000000</td>\n",
       "      <td>0.000000</td>\n",
       "      <td>8.000000</td>\n",
       "      <td>43284.000000</td>\n",
       "      <td>3.381626e+06</td>\n",
       "      <td>777.000000</td>\n",
       "      <td>0.000000</td>\n",
       "      <td>38.00000</td>\n",
       "      <td>11.000000</td>\n",
       "      <td>0.000000</td>\n",
       "      <td>885.600000</td>\n",
       "      <td>9.817000e+10</td>\n",
       "      <td>43101.000000</td>\n",
       "      <td>100.000000</td>\n",
       "      <td>43229.000000</td>\n",
       "      <td>999998.000000</td>\n",
       "    </tr>\n",
       "    <tr>\n",
       "      <th>max</th>\n",
       "      <td>43467.000000</td>\n",
       "      <td>43404.000000</td>\n",
       "      <td>111.000000</td>\n",
       "      <td>15.000000</td>\n",
       "      <td>43404.000000</td>\n",
       "      <td>43658.000000</td>\n",
       "      <td>364.00000</td>\n",
       "      <td>1.0</td>\n",
       "      <td>54.000000</td>\n",
       "      <td>10.000000</td>\n",
       "      <td>1.000000</td>\n",
       "      <td>364.000000</td>\n",
       "      <td>43448.000000</td>\n",
       "      <td>3.539606e+06</td>\n",
       "      <td>12753.000000</td>\n",
       "      <td>138.000000</td>\n",
       "      <td>4699.53000</td>\n",
       "      <td>274.560000</td>\n",
       "      <td>30.000000</td>\n",
       "      <td>12810.720000</td>\n",
       "      <td>1.140900e+11</td>\n",
       "      <td>43466.000000</td>\n",
       "      <td>114.000000</td>\n",
       "      <td>43433.000000</td>\n",
       "      <td>999999.000000</td>\n",
       "    </tr>\n",
       "  </tbody>\n",
       "</table>\n",
       "</div>"
      ],
      "text/plain": [
       "        extract_date        resdate   camping_code    hebergement  \\\n",
       "count  305235.000000  305235.000000  305235.000000  305235.000000   \n",
       "mean    43299.119341   43212.494268      45.445725       4.789746   \n",
       "std        51.286247      91.420644      31.288675       3.000703   \n",
       "min     43041.000000   42675.000000       1.000000       2.000000   \n",
       "25%     43261.000000   43139.000000      18.000000       2.000000   \n",
       "50%     43308.000000   43220.000000      39.000000       5.000000   \n",
       "75%     43338.000000   43284.000000      67.000000       6.000000   \n",
       "max     43467.000000   43404.000000     111.000000      15.000000   \n",
       "\n",
       "              datein        dateout           los    nbroom        nbguest  \\\n",
       "count  305235.000000  305235.000000  305235.00000  305235.0  305235.000000   \n",
       "mean    43289.007031   43295.507881       6.50085       1.0       3.460612   \n",
       "std        49.553522      50.072155       7.00520       0.0       1.336851   \n",
       "min     43040.000000   43041.000000       1.00000       1.0       1.000000   \n",
       "25%     43253.000000   43259.000000       2.00000       1.0       2.000000   \n",
       "50%     43295.000000   43303.000000       5.00000       1.0       4.000000   \n",
       "75%     43327.000000   43335.000000       8.00000       1.0       4.000000   \n",
       "max     43404.000000   43658.000000     364.00000       1.0      54.000000   \n",
       "\n",
       "         nb_nuit_fid  Séjour Gratuit  Nb Nuits Payantes  vrai_date_resa  \\\n",
       "count  305235.000000   305235.000000      305235.000000   305235.000000   \n",
       "mean        0.072908        0.005452           6.427942    43210.936000   \n",
       "std         0.464705        0.073633           7.002484       95.699663   \n",
       "min         0.000000        0.000000          -4.000000    41031.000000   \n",
       "25%         0.000000        0.000000           2.000000    43139.000000   \n",
       "50%         0.000000        0.000000           5.000000    43220.000000   \n",
       "75%         0.000000        0.000000           8.000000    43284.000000   \n",
       "max        10.000000        1.000000         364.000000    43448.000000   \n",
       "\n",
       "       client_id_grp           rev1           rev2          rev3  \\\n",
       "count   3.052350e+05  305235.000000  305235.000000  305235.00000   \n",
       "mean    2.643037e+06     583.742852       3.932891      38.68114   \n",
       "std     1.032134e+06     739.653708       9.569056      85.01661   \n",
       "min    -1.000000e+00       0.000000       0.000000       0.00000   \n",
       "25%     2.135159e+06     102.000000       0.000000       0.00000   \n",
       "50%     3.199374e+06     288.000000       0.000000       0.00000   \n",
       "75%     3.381626e+06     777.000000       0.000000      38.00000   \n",
       "max     3.539606e+06   12753.000000     138.000000    4699.53000   \n",
       "\n",
       "                rev4           rev5            rev        fid_id  \\\n",
       "count  305235.000000  305235.000000  305235.000000  3.052350e+05   \n",
       "mean        8.233819       0.000885     634.591586  2.966033e+10   \n",
       "std         9.042442       0.162899     765.081456  4.334142e+10   \n",
       "min         0.000000       0.000000       0.000000  0.000000e+00   \n",
       "25%         2.400000       0.000000     121.600000  0.000000e+00   \n",
       "50%         6.000000       0.000000     329.040000  0.000000e+00   \n",
       "75%        11.000000       0.000000     885.600000  9.817000e+10   \n",
       "max       274.560000      30.000000   12810.720000  1.140900e+11   \n",
       "\n",
       "            date_fid    camping_fid  creation_date  hebergement_camping_id  \n",
       "count  118366.000000  305235.000000  305235.000000           305235.000000  \n",
       "mean    42208.776591      31.281232   42286.529530           286923.124783  \n",
       "std       992.933777      44.115905    1250.907792           452318.103607  \n",
       "min     39814.000000       0.000000   36555.000000                1.000000  \n",
       "25%     41640.000000       0.000000   41655.000000                4.000000  \n",
       "50%     42736.000000       0.000000   42956.000000               12.000000  \n",
       "75%     43101.000000     100.000000   43229.000000           999998.000000  \n",
       "max     43466.000000     114.000000   43433.000000           999999.000000  "
      ]
     },
     "execution_count": 40,
>>>>>>> d6402fc614fc1717f7368e469cd1ffa69e5a482a
     "metadata": {},
     "output_type": "execute_result"
    }
   ],
   "source": [
<<<<<<< HEAD
    "df_camping"
   ]
  },
  {
   "cell_type": "code",
   "execution_count": 12,
   "metadata": {},
   "outputs": [
    {
     "name": "stdout",
     "output_type": "stream",
     "text": [
      "<class 'pandas.core.frame.DataFrame'>\n",
      "RangeIndex: 312552 entries, 0 to 312551\n",
      "Data columns (total 42 columns):\n",
      " #   Column                   Non-Null Count   Dtype  \n",
      "---  ------                   --------------   -----  \n",
      " 0   idstay                   305235 non-null  object \n",
      " 1   idstay_to                3116 non-null    object \n",
      " 2   type_stay_lbl            305235 non-null  object \n",
      " 3   resinternet              304637 non-null  object \n",
      " 4   type_guest               305235 non-null  object \n",
      " 5   extract_date             305235 non-null  float64\n",
      " 6   resdate                  305235 non-null  float64\n",
      " 7   camping_code             305235 non-null  float64\n",
      " 8   camping_label            305235 non-null  object \n",
      " 9   Région                   305235 non-null  object \n",
      " 10  type_hebergement         305235 non-null  object \n",
      " 11  hebergement              305235 non-null  float64\n",
      " 12  hebergement_label        305235 non-null  object \n",
      " 13  datein                   305235 non-null  float64\n",
      " 14  dateout                  305235 non-null  float64\n",
      " 15  los                      305235 non-null  float64\n",
      " 16  nbroom                   305235 non-null  float64\n",
      " 17  nbguest                  305235 non-null  float64\n",
      " 18  nb_nuit_fid              305235 non-null  float64\n",
      " 19  Séjour Gratuit           305235 non-null  float64\n",
      " 20  Nb Nuits Payantes        305235 non-null  float64\n",
      " 21  vrai_date_resa           305235 non-null  float64\n",
      " 22  client_id_grp            305235 non-null  float64\n",
      " 23  client_name              305235 non-null  object \n",
      " 24  rev1                     305235 non-null  float64\n",
      " 25  rev2                     305235 non-null  float64\n",
      " 26  rev3                     305235 non-null  float64\n",
      " 27  rev4                     305235 non-null  float64\n",
      " 28  rev5                     305235 non-null  float64\n",
      " 29  rev                      305235 non-null  float64\n",
      " 30  fid_id                   305235 non-null  float64\n",
      " 31  pays                     305235 non-null  object \n",
      " 32  region                   86412 non-null   object \n",
      " 33  fidelisation             305235 non-null  object \n",
      " 34  date_fid                 118366 non-null  float64\n",
      " 35  camping_fid              305235 non-null  float64\n",
      " 36  creation_date            305235 non-null  float64\n",
      " 37  segment                  305235 non-null  object \n",
      " 38  scode1                   305235 non-null  object \n",
      " 39  scode2                   305023 non-null  object \n",
      " 40  hebergement_camping_id   305235 non-null  float64\n",
      " 41  hebergement_camping_lbl  305235 non-null  object \n",
      "dtypes: float64(25), object(17)\n",
      "memory usage: 100.2+ MB\n"
     ]
    }
   ],
   "source": [
    "df.info()"
   ]
  },
  {
   "cell_type": "code",
   "execution_count": 13,
   "metadata": {
    "scrolled": true
   },
   "outputs": [
    {
     "data": {
      "text/html": [
       "<div>\n",
       "<style scoped>\n",
       "    .dataframe tbody tr th:only-of-type {\n",
       "        vertical-align: middle;\n",
       "    }\n",
       "\n",
       "    .dataframe tbody tr th {\n",
       "        vertical-align: top;\n",
       "    }\n",
       "\n",
       "    .dataframe thead th {\n",
       "        text-align: right;\n",
       "    }\n",
       "</style>\n",
       "<table border=\"1\" class=\"dataframe\">\n",
       "  <thead>\n",
       "    <tr style=\"text-align: right;\">\n",
       "      <th></th>\n",
       "      <th>extract_date</th>\n",
       "      <th>resdate</th>\n",
       "      <th>camping_code</th>\n",
       "      <th>hebergement</th>\n",
       "      <th>datein</th>\n",
       "      <th>dateout</th>\n",
       "      <th>los</th>\n",
       "      <th>nbroom</th>\n",
       "      <th>nbguest</th>\n",
       "      <th>nb_nuit_fid</th>\n",
       "      <th>Séjour Gratuit</th>\n",
       "      <th>Nb Nuits Payantes</th>\n",
       "      <th>vrai_date_resa</th>\n",
       "      <th>client_id_grp</th>\n",
       "      <th>rev1</th>\n",
       "      <th>rev2</th>\n",
       "      <th>rev3</th>\n",
       "      <th>rev4</th>\n",
       "      <th>rev5</th>\n",
       "      <th>rev</th>\n",
       "      <th>fid_id</th>\n",
       "      <th>date_fid</th>\n",
       "      <th>camping_fid</th>\n",
       "      <th>creation_date</th>\n",
       "      <th>hebergement_camping_id</th>\n",
       "    </tr>\n",
       "  </thead>\n",
       "  <tbody>\n",
       "    <tr>\n",
       "      <th>count</th>\n",
       "      <td>305235.000000</td>\n",
       "      <td>305235.000000</td>\n",
       "      <td>305235.000000</td>\n",
       "      <td>305235.000000</td>\n",
       "      <td>305235.000000</td>\n",
       "      <td>305235.000000</td>\n",
       "      <td>305235.00000</td>\n",
       "      <td>305235.0</td>\n",
       "      <td>305235.000000</td>\n",
       "      <td>305235.000000</td>\n",
       "      <td>305235.000000</td>\n",
       "      <td>305235.000000</td>\n",
       "      <td>305235.000000</td>\n",
       "      <td>3.052350e+05</td>\n",
       "      <td>305235.000000</td>\n",
       "      <td>305235.000000</td>\n",
       "      <td>305235.00000</td>\n",
       "      <td>305235.000000</td>\n",
       "      <td>305235.000000</td>\n",
       "      <td>305235.000000</td>\n",
       "      <td>3.052350e+05</td>\n",
       "      <td>118366.000000</td>\n",
       "      <td>305235.000000</td>\n",
       "      <td>305235.000000</td>\n",
       "      <td>305235.000000</td>\n",
       "    </tr>\n",
       "    <tr>\n",
       "      <th>mean</th>\n",
       "      <td>43299.119341</td>\n",
       "      <td>43212.494268</td>\n",
       "      <td>45.445725</td>\n",
       "      <td>4.789746</td>\n",
       "      <td>43289.007031</td>\n",
       "      <td>43295.507881</td>\n",
       "      <td>6.50085</td>\n",
       "      <td>1.0</td>\n",
       "      <td>3.460612</td>\n",
       "      <td>0.072908</td>\n",
       "      <td>0.005452</td>\n",
       "      <td>6.427942</td>\n",
       "      <td>43210.936000</td>\n",
       "      <td>2.643037e+06</td>\n",
       "      <td>583.742852</td>\n",
       "      <td>3.932891</td>\n",
       "      <td>38.68114</td>\n",
       "      <td>8.233819</td>\n",
       "      <td>0.000885</td>\n",
       "      <td>634.591586</td>\n",
       "      <td>2.966033e+10</td>\n",
       "      <td>42208.776591</td>\n",
       "      <td>31.281232</td>\n",
       "      <td>42286.529530</td>\n",
       "      <td>286923.124783</td>\n",
       "    </tr>\n",
       "    <tr>\n",
       "      <th>std</th>\n",
       "      <td>51.286247</td>\n",
       "      <td>91.420644</td>\n",
       "      <td>31.288675</td>\n",
       "      <td>3.000703</td>\n",
       "      <td>49.553522</td>\n",
       "      <td>50.072155</td>\n",
       "      <td>7.00520</td>\n",
       "      <td>0.0</td>\n",
       "      <td>1.336851</td>\n",
       "      <td>0.464705</td>\n",
       "      <td>0.073633</td>\n",
       "      <td>7.002484</td>\n",
       "      <td>95.699663</td>\n",
       "      <td>1.032134e+06</td>\n",
       "      <td>739.653708</td>\n",
       "      <td>9.569056</td>\n",
       "      <td>85.01661</td>\n",
       "      <td>9.042442</td>\n",
       "      <td>0.162899</td>\n",
       "      <td>765.081456</td>\n",
       "      <td>4.334142e+10</td>\n",
       "      <td>992.933777</td>\n",
       "      <td>44.115905</td>\n",
       "      <td>1250.907792</td>\n",
       "      <td>452318.103607</td>\n",
       "    </tr>\n",
       "    <tr>\n",
       "      <th>min</th>\n",
       "      <td>43041.000000</td>\n",
       "      <td>42675.000000</td>\n",
       "      <td>1.000000</td>\n",
       "      <td>2.000000</td>\n",
       "      <td>43040.000000</td>\n",
       "      <td>43041.000000</td>\n",
       "      <td>1.00000</td>\n",
       "      <td>1.0</td>\n",
       "      <td>1.000000</td>\n",
       "      <td>0.000000</td>\n",
       "      <td>0.000000</td>\n",
       "      <td>-4.000000</td>\n",
       "      <td>41031.000000</td>\n",
       "      <td>-1.000000e+00</td>\n",
       "      <td>0.000000</td>\n",
       "      <td>0.000000</td>\n",
       "      <td>0.00000</td>\n",
       "      <td>0.000000</td>\n",
       "      <td>0.000000</td>\n",
       "      <td>0.000000</td>\n",
       "      <td>0.000000e+00</td>\n",
       "      <td>39814.000000</td>\n",
       "      <td>0.000000</td>\n",
       "      <td>36555.000000</td>\n",
       "      <td>1.000000</td>\n",
       "    </tr>\n",
       "    <tr>\n",
       "      <th>25%</th>\n",
       "      <td>43261.000000</td>\n",
       "      <td>43139.000000</td>\n",
       "      <td>18.000000</td>\n",
       "      <td>2.000000</td>\n",
       "      <td>43253.000000</td>\n",
       "      <td>43259.000000</td>\n",
       "      <td>2.00000</td>\n",
       "      <td>1.0</td>\n",
       "      <td>2.000000</td>\n",
       "      <td>0.000000</td>\n",
       "      <td>0.000000</td>\n",
       "      <td>2.000000</td>\n",
       "      <td>43139.000000</td>\n",
       "      <td>2.135159e+06</td>\n",
       "      <td>102.000000</td>\n",
       "      <td>0.000000</td>\n",
       "      <td>0.00000</td>\n",
       "      <td>2.400000</td>\n",
       "      <td>0.000000</td>\n",
       "      <td>121.600000</td>\n",
       "      <td>0.000000e+00</td>\n",
       "      <td>41640.000000</td>\n",
       "      <td>0.000000</td>\n",
       "      <td>41655.000000</td>\n",
       "      <td>4.000000</td>\n",
       "    </tr>\n",
       "    <tr>\n",
       "      <th>50%</th>\n",
       "      <td>43308.000000</td>\n",
       "      <td>43220.000000</td>\n",
       "      <td>39.000000</td>\n",
       "      <td>5.000000</td>\n",
       "      <td>43295.000000</td>\n",
       "      <td>43303.000000</td>\n",
       "      <td>5.00000</td>\n",
       "      <td>1.0</td>\n",
       "      <td>4.000000</td>\n",
       "      <td>0.000000</td>\n",
       "      <td>0.000000</td>\n",
       "      <td>5.000000</td>\n",
       "      <td>43220.000000</td>\n",
       "      <td>3.199374e+06</td>\n",
       "      <td>288.000000</td>\n",
       "      <td>0.000000</td>\n",
       "      <td>0.00000</td>\n",
       "      <td>6.000000</td>\n",
       "      <td>0.000000</td>\n",
       "      <td>329.040000</td>\n",
       "      <td>0.000000e+00</td>\n",
       "      <td>42736.000000</td>\n",
       "      <td>0.000000</td>\n",
       "      <td>42956.000000</td>\n",
       "      <td>12.000000</td>\n",
       "    </tr>\n",
       "    <tr>\n",
       "      <th>75%</th>\n",
       "      <td>43338.000000</td>\n",
       "      <td>43284.000000</td>\n",
       "      <td>67.000000</td>\n",
       "      <td>6.000000</td>\n",
       "      <td>43327.000000</td>\n",
       "      <td>43335.000000</td>\n",
       "      <td>8.00000</td>\n",
       "      <td>1.0</td>\n",
       "      <td>4.000000</td>\n",
       "      <td>0.000000</td>\n",
       "      <td>0.000000</td>\n",
       "      <td>8.000000</td>\n",
       "      <td>43284.000000</td>\n",
       "      <td>3.381626e+06</td>\n",
       "      <td>777.000000</td>\n",
       "      <td>0.000000</td>\n",
       "      <td>38.00000</td>\n",
       "      <td>11.000000</td>\n",
       "      <td>0.000000</td>\n",
       "      <td>885.600000</td>\n",
       "      <td>9.817000e+10</td>\n",
       "      <td>43101.000000</td>\n",
       "      <td>100.000000</td>\n",
       "      <td>43229.000000</td>\n",
       "      <td>999998.000000</td>\n",
       "    </tr>\n",
       "    <tr>\n",
       "      <th>max</th>\n",
       "      <td>43467.000000</td>\n",
       "      <td>43404.000000</td>\n",
       "      <td>111.000000</td>\n",
       "      <td>15.000000</td>\n",
       "      <td>43404.000000</td>\n",
       "      <td>43658.000000</td>\n",
       "      <td>364.00000</td>\n",
       "      <td>1.0</td>\n",
       "      <td>54.000000</td>\n",
       "      <td>10.000000</td>\n",
       "      <td>1.000000</td>\n",
       "      <td>364.000000</td>\n",
       "      <td>43448.000000</td>\n",
       "      <td>3.539606e+06</td>\n",
       "      <td>12753.000000</td>\n",
       "      <td>138.000000</td>\n",
       "      <td>4699.53000</td>\n",
       "      <td>274.560000</td>\n",
       "      <td>30.000000</td>\n",
       "      <td>12810.720000</td>\n",
       "      <td>1.140900e+11</td>\n",
       "      <td>43466.000000</td>\n",
       "      <td>114.000000</td>\n",
       "      <td>43433.000000</td>\n",
       "      <td>999999.000000</td>\n",
       "    </tr>\n",
       "  </tbody>\n",
       "</table>\n",
       "</div>"
      ],
      "text/plain": [
       "        extract_date        resdate   camping_code    hebergement  \\\n",
       "count  305235.000000  305235.000000  305235.000000  305235.000000   \n",
       "mean   43299.119341   43212.494268   45.445725      4.789746        \n",
       "std    51.286247      91.420644      31.288675      3.000703        \n",
       "min    43041.000000   42675.000000   1.000000       2.000000        \n",
       "25%    43261.000000   43139.000000   18.000000      2.000000        \n",
       "50%    43308.000000   43220.000000   39.000000      5.000000        \n",
       "75%    43338.000000   43284.000000   67.000000      6.000000        \n",
       "max    43467.000000   43404.000000   111.000000     15.000000       \n",
       "\n",
       "              datein        dateout           los    nbroom        nbguest  \\\n",
       "count  305235.000000  305235.000000  305235.00000  305235.0  305235.000000   \n",
       "mean   43289.007031   43295.507881   6.50085       1.0       3.460612        \n",
       "std    49.553522      50.072155      7.00520       0.0       1.336851        \n",
       "min    43040.000000   43041.000000   1.00000       1.0       1.000000        \n",
       "25%    43253.000000   43259.000000   2.00000       1.0       2.000000        \n",
       "50%    43295.000000   43303.000000   5.00000       1.0       4.000000        \n",
       "75%    43327.000000   43335.000000   8.00000       1.0       4.000000        \n",
       "max    43404.000000   43658.000000   364.00000     1.0       54.000000       \n",
       "\n",
       "         nb_nuit_fid  Séjour Gratuit  Nb Nuits Payantes  vrai_date_resa  \\\n",
       "count  305235.000000  305235.000000   305235.000000      305235.000000    \n",
       "mean   0.072908       0.005452        6.427942           43210.936000     \n",
       "std    0.464705       0.073633        7.002484           95.699663        \n",
       "min    0.000000       0.000000       -4.000000           41031.000000     \n",
       "25%    0.000000       0.000000        2.000000           43139.000000     \n",
       "50%    0.000000       0.000000        5.000000           43220.000000     \n",
       "75%    0.000000       0.000000        8.000000           43284.000000     \n",
       "max    10.000000      1.000000        364.000000         43448.000000     \n",
       "\n",
       "       client_id_grp           rev1           rev2          rev3  \\\n",
       "count  3.052350e+05   305235.000000  305235.000000  305235.00000   \n",
       "mean   2.643037e+06   583.742852     3.932891       38.68114       \n",
       "std    1.032134e+06   739.653708     9.569056       85.01661       \n",
       "min   -1.000000e+00   0.000000       0.000000       0.00000        \n",
       "25%    2.135159e+06   102.000000     0.000000       0.00000        \n",
       "50%    3.199374e+06   288.000000     0.000000       0.00000        \n",
       "75%    3.381626e+06   777.000000     0.000000       38.00000       \n",
       "max    3.539606e+06   12753.000000   138.000000     4699.53000     \n",
       "\n",
       "                rev4           rev5            rev        fid_id  \\\n",
       "count  305235.000000  305235.000000  305235.000000  3.052350e+05   \n",
       "mean   8.233819       0.000885       634.591586     2.966033e+10   \n",
       "std    9.042442       0.162899       765.081456     4.334142e+10   \n",
       "min    0.000000       0.000000       0.000000       0.000000e+00   \n",
       "25%    2.400000       0.000000       121.600000     0.000000e+00   \n",
       "50%    6.000000       0.000000       329.040000     0.000000e+00   \n",
       "75%    11.000000      0.000000       885.600000     9.817000e+10   \n",
       "max    274.560000     30.000000      12810.720000   1.140900e+11   \n",
       "\n",
       "            date_fid    camping_fid  creation_date  hebergement_camping_id  \n",
       "count  118366.000000  305235.000000  305235.000000  305235.000000           \n",
       "mean   42208.776591   31.281232      42286.529530   286923.124783           \n",
       "std    992.933777     44.115905      1250.907792    452318.103607           \n",
       "min    39814.000000   0.000000       36555.000000   1.000000                \n",
       "25%    41640.000000   0.000000       41655.000000   4.000000                \n",
       "50%    42736.000000   0.000000       42956.000000   12.000000               \n",
       "75%    43101.000000   100.000000     43229.000000   999998.000000           \n",
       "max    43466.000000   114.000000     43433.000000   999999.000000           "
      ]
     },
     "execution_count": 13,
     "metadata": {},
     "output_type": "execute_result"
    }
   ],
   "source": [
    "df.describe()"
   ]
  },
  {
   "cell_type": "markdown",
   "metadata": {},
   "source": [
    "# EDA"
   ]
  },
  {
   "cell_type": "markdown",
   "metadata": {},
   "source": [
    "Removing rows that have NaN for idstay:"
   ]
  },
  {
   "cell_type": "code",
   "execution_count": 14,
   "metadata": {},
   "outputs": [],
   "source": [
    "df = df[df['idstay'].notna()]"
   ]
  },
  {
   "cell_type": "code",
   "execution_count": 15,
   "metadata": {},
   "outputs": [
    {
     "data": {
      "text/plain": [
       "(305235, 42)"
      ]
     },
     "execution_count": 15,
     "metadata": {},
     "output_type": "execute_result"
    }
   ],
   "source": [
    "df.shape"
   ]
  },
  {
   "cell_type": "markdown",
   "metadata": {},
   "source": [
    "Removing **idstay** column"
   ]
  },
  {
   "cell_type": "code",
   "execution_count": 16,
   "metadata": {},
   "outputs": [],
   "source": [
    "df.drop(columns=['idstay'], inplace=True)"
   ]
  },
  {
   "cell_type": "markdown",
   "metadata": {},
   "source": [
    "# Managing categorical features"
   ]
  },
  {
   "cell_type": "code",
   "execution_count": 17,
   "metadata": {},
   "outputs": [
    {
     "name": "stdout",
     "output_type": "stream",
     "text": [
      "<class 'pandas.core.frame.DataFrame'>\n",
      "Int64Index: 305235 entries, 0 to 305234\n",
      "Data columns (total 16 columns):\n",
      " #   Column                   Non-Null Count   Dtype \n",
      "---  ------                   --------------   ----- \n",
      " 0   idstay_to                3116 non-null    object\n",
      " 1   type_stay_lbl            305235 non-null  object\n",
      " 2   resinternet              304637 non-null  object\n",
      " 3   type_guest               305235 non-null  object\n",
      " 4   camping_label            305235 non-null  object\n",
      " 5   Région                   305235 non-null  object\n",
      " 6   type_hebergement         305235 non-null  object\n",
      " 7   hebergement_label        305235 non-null  object\n",
      " 8   client_name              305235 non-null  object\n",
      " 9   pays                     305235 non-null  object\n",
      " 10  region                   86412 non-null   object\n",
      " 11  fidelisation             305235 non-null  object\n",
      " 12  segment                  305235 non-null  object\n",
      " 13  scode1                   305235 non-null  object\n",
      " 14  scode2                   305023 non-null  object\n",
      " 15  hebergement_camping_lbl  305235 non-null  object\n",
      "dtypes: object(16)\n",
      "memory usage: 39.6+ MB\n"
     ]
    }
   ],
   "source": [
    "df.select_dtypes(include=['object']).info()"
   ]
  },
  {
   "cell_type": "code",
   "execution_count": 18,
   "metadata": {},
   "outputs": [
    {
     "data": {
      "text/plain": [
       "LOCA - Not Defined                  58855\n",
       "EMPL - Not Defined                  28722\n",
       "Emplacement **                      10636\n",
       "Emplacement ***                     7702 \n",
       "Emplacement ** + Eau                3718 \n",
       "                                    ...  \n",
       "Chalet 5p 2ch **** climatisé Z2     1    \n",
       "Cottage**** 4p 2Ch Climatisé        1    \n",
       "Cottage Rivière 2 p. 1 ch. ****     1    \n",
       "Cottage 4/6p 2ch *** Climatisé      1    \n",
       "Chalet Veyou 4p 2ch ** Climatisé    1    \n",
       "Name: hebergement_camping_lbl, Length: 1256, dtype: int64"
      ]
     },
     "execution_count": 18,
     "metadata": {},
     "output_type": "execute_result"
    }
   ],
   "source": [
    "data.hebergement_camping_lbl.value_counts()"
   ]
  },
  {
   "cell_type": "markdown",
   "metadata": {},
   "source": [
    "1. Feature **idstay_to**: External ID for a booking coming from a distributor"
   ]
  },
  {
   "cell_type": "markdown",
   "metadata": {},
   "source": [
    "1 if booking comes from a distributor, 0 otherwise"
   ]
  },
  {
   "cell_type": "code",
   "execution_count": 19,
   "metadata": {},
   "outputs": [
    {
     "name": "stderr",
     "output_type": "stream",
     "text": [
      "/opt/anaconda3/lib/python3.6/site-packages/pandas/core/indexing.py:670: SettingWithCopyWarning:\n",
      "\n",
      "\n",
      "A value is trying to be set on a copy of a slice from a DataFrame\n",
      "\n",
      "See the caveats in the documentation: https://pandas.pydata.org/pandas-docs/stable/user_guide/indexing.html#returning-a-view-versus-a-copy\n",
      "\n"
     ]
    }
   ],
   "source": [
    "df['idstay_to'].loc[~df['idstay_to'].isnull()] = 1\n",
    "df['idstay_to'].loc[df['idstay_to'].isnull()] = 0"
   ]
  },
  {
   "cell_type": "markdown",
   "metadata": {},
   "source": [
    "2. Removing **type_stay_lbl** and **client_name** because it has a single value"
   ]
  },
  {
   "cell_type": "code",
   "execution_count": 20,
   "metadata": {},
   "outputs": [],
   "source": [
    "df.drop(columns=['type_stay_lbl', 'client_name'], inplace=True)"
   ]
  },
  {
   "cell_type": "markdown",
   "metadata": {},
   "source": [
    "3. Feature **resinternet**: Internal ID for each booking. Beginning with U means a booking made by phone or on site by the campsite. Beginning with O means a Internet Booking"
   ]
  },
  {
   "cell_type": "code",
   "execution_count": 21,
   "metadata": {},
   "outputs": [],
   "source": [
    "df['resinternet'] = df['resinternet'].astype(str).str[0]"
   ]
  },
  {
   "cell_type": "code",
   "execution_count": 22,
   "metadata": {},
   "outputs": [
    {
     "data": {
      "text/plain": [
       "O    175426\n",
       "U    129211\n",
       "n    598   \n",
       "Name: resinternet, dtype: int64"
      ]
     },
     "execution_count": 22,
     "metadata": {},
     "output_type": "execute_result"
    }
   ],
   "source": [
    "df['resinternet'].value_counts()"
   ]
  },
  {
   "cell_type": "markdown",
   "metadata": {},
   "source": [
    "4. Feature **type_guest**"
   ]
  },
  {
   "cell_type": "code",
   "execution_count": 23,
   "metadata": {},
   "outputs": [
    {
     "data": {
      "text/plain": [
       "N    295615\n",
       "A    9620  \n",
       "Name: type_guest, dtype: int64"
      ]
     },
     "execution_count": 23,
     "metadata": {},
     "output_type": "execute_result"
    }
   ],
   "source": [
    "df['type_guest'].value_counts()"
   ]
  },
  {
   "cell_type": "markdown",
   "metadata": {},
   "source": [
    "5. Feature **camping_label**: nothing to change, it gives the name of the camping"
   ]
  },
  {
   "cell_type": "code",
   "execution_count": 24,
   "metadata": {},
   "outputs": [
    {
     "data": {
      "text/plain": [
       "TOURNELS                14216\n",
       "TURISCAMPO              13142\n",
       "SERIGNAN PLAGE          12022\n",
       "PETITS CAMARGUAIS       11666\n",
       "SYLVAMAR                11387\n",
       "                        ...  \n",
       "LAVEDAN                 1098 \n",
       "GORGES DU CHAMBON       1085 \n",
       "CHATEAU DE BOISSON      944  \n",
       "GRANGE DE MONTEILLAC    936  \n",
       "TALOUCH                 905  \n",
       "Name: camping_label, Length: 79, dtype: int64"
      ]
     },
     "execution_count": 24,
     "metadata": {},
     "output_type": "execute_result"
    }
   ],
   "source": [
    "df.camping_label.value_counts()"
   ]
  },
  {
   "cell_type": "markdown",
   "metadata": {},
   "source": [
    "6. Feature **Région**: nothing to change as well"
   ]
  },
  {
   "cell_type": "code",
   "execution_count": 25,
   "metadata": {},
   "outputs": [
    {
     "data": {
      "text/plain": [
       "LR                  63605\n",
       "Atlantique Sud      50167\n",
       "Bretagne            45199\n",
       "PACA                29342\n",
       "Atlantique Loire    17129\n",
       "Sud Ouest           16750\n",
       "Rhones Alpes        14693\n",
       "Espagne             13278\n",
       "Portugal            13142\n",
       "Centre              12615\n",
       "Jura-Vosges         11241\n",
       "Centre Sud          8772 \n",
       "Normandie           4077 \n",
       "Picardie            2824 \n",
       "Corse               2401 \n",
       "Name: Région, dtype: int64"
      ]
     },
     "execution_count": 25,
     "metadata": {},
     "output_type": "execute_result"
    }
   ],
   "source": [
    "df.Région.value_counts()"
   ]
  },
  {
   "cell_type": "markdown",
   "metadata": {},
   "source": [
    "7. Feature **type_hebergement**: nothing to change"
   ]
  },
  {
   "cell_type": "code",
   "execution_count": 26,
   "metadata": {},
   "outputs": [
    {
     "data": {
      "text/plain": [
       "LOCA    178089\n",
       "EMPL    127146\n",
       "Name: type_hebergement, dtype: int64"
      ]
     },
     "execution_count": 26,
     "metadata": {},
     "output_type": "execute_result"
    }
   ],
   "source": [
    "df.type_hebergement.value_counts()"
   ]
  },
  {
   "cell_type": "markdown",
   "metadata": {},
   "source": [
    "8.Feature **hebergement_label**: consider to keep it as it is, or remove it, with instead 2 columns:\n",
    "\n",
    "- column **type_hebergement** that already makes the difference between LOCA and EMPL\n",
    "\n",
    "- new column **nb_stars** (see below), that gives the quality of the room (< 3 stars vs. > 4 stars)"
   ]
  },
  {
   "cell_type": "code",
   "execution_count": 27,
   "metadata": {},
   "outputs": [
    {
     "data": {
      "text/plain": [
       "Emplacement nu de 0 à 3 *         121564\n",
       "Locatif 2 ch. de 0 à 3 *          76080 \n",
       "Locatif 2 ch. 4 *                 29515 \n",
       "Locatif 3 ch. de 0 à 3 *          19717 \n",
       "Locatif 3 ch. 4 *                 16582 \n",
       "Locatif 2 ch. PREMIUM             13912 \n",
       "Locatif 3 ch. PREMIUM             11022 \n",
       "Locatif 1 ch. de 0 à 3 *          9297  \n",
       "Emplacement nu 4 * et PREMIUM     5582  \n",
       "Locatif 1 ch. 4 *                 553   \n",
       "Tente et locatif 1 ch. PREMIUM    508   \n",
       "Locatif 4 ch. PREMIUM             376   \n",
       "Locatif 4 ch. 4 *                 350   \n",
       "Locatif 4 ch. de 0 à 3 *          177   \n",
       "Name: hebergement_label, dtype: int64"
      ]
     },
     "execution_count": 27,
     "metadata": {},
     "output_type": "execute_result"
    }
   ],
   "source": [
    "df.hebergement_label.value_counts()"
   ]
  },
  {
   "cell_type": "markdown",
   "metadata": {},
   "source": [
    "Creating new column nb_stars that gives **3_stars** or **4_stars_or_premium**:"
   ]
  },
  {
   "cell_type": "code",
   "execution_count": 28,
   "metadata": {},
   "outputs": [],
   "source": [
    "df['nb_stars'] = np.where(df['hebergement_label'].\n",
    "                          str.contains('0 à 3'),\n",
    "                          '3_stars_or_less',\n",
    "                          '4_stars_or_premium')"
   ]
  },
  {
   "cell_type": "code",
   "execution_count": 29,
   "metadata": {},
   "outputs": [
    {
     "data": {
      "text/plain": [
       "3_stars_or_less       226835\n",
       "4_stars_or_premium    78400 \n",
       "Name: nb_stars, dtype: int64"
      ]
     },
     "execution_count": 29,
     "metadata": {},
     "output_type": "execute_result"
    }
   ],
   "source": [
    "df['nb_stars'].value_counts()"
   ]
  },
  {
   "cell_type": "code",
   "execution_count": 30,
   "metadata": {},
   "outputs": [
    {
     "data": {
      "text/plain": [
       "LOCA - Not Defined                  58855\n",
       "EMPL - Not Defined                  28722\n",
       "Emplacement **                      10636\n",
       "Emplacement ***                     7702 \n",
       "Emplacement ** + Eau                3718 \n",
       "                                    ...  \n",
       "Chalet 5p 2ch **** climatisé Z2     1    \n",
       "Cottage**** 4p 2Ch Climatisé        1    \n",
       "Cottage Rivière 2 p. 1 ch. ****     1    \n",
       "Cottage 4/6p 2ch *** Climatisé      1    \n",
       "Chalet Veyou 4p 2ch ** Climatisé    1    \n",
       "Name: hebergement_camping_lbl, Length: 1256, dtype: int64"
      ]
     },
     "execution_count": 30,
     "metadata": {},
     "output_type": "execute_result"
    }
   ],
   "source": [
    "df.hebergement_camping_lbl.value_counts()"
   ]
  },
  {
   "cell_type": "code",
   "execution_count": 31,
   "metadata": {},
   "outputs": [],
   "source": [
    "df = df.drop(['hebergement_camping_lbl'], axis=1)"
   ]
  },
  {
   "cell_type": "markdown",
   "metadata": {},
   "source": [
    "Rempving hebergement_camping_lbl for the moment, since it gives info already in other features (loca vs. empl, number of stars...)"
   ]
  },
  {
   "cell_type": "code",
   "execution_count": 32,
   "metadata": {},
   "outputs": [],
   "source": [
    "df2 = df.copy()"
   ]
  },
  {
   "cell_type": "markdown",
   "metadata": {},
   "source": [
    "9. Feature **pays**: replacing outliers with \"Other\""
   ]
  },
  {
   "cell_type": "code",
   "execution_count": 33,
   "metadata": {},
   "outputs": [
    {
     "data": {
      "text/plain": [
       "86"
      ]
     },
     "execution_count": 33,
     "metadata": {},
     "output_type": "execute_result"
    }
   ],
   "source": [
    "df2.pays.nunique()"
   ]
  },
  {
   "cell_type": "code",
   "execution_count": 34,
   "metadata": {},
   "outputs": [],
   "source": [
    "def replace_outliers(df, col, rate_cumsum, value_replace):\n",
    "    low_elements_prob = list(df[col].value_counts().loc[df[col].value_counts(ascending=False, normalize=True).cumsum() > rate_cumsum].index)\n",
    "    df[col].loc[df2[col].isin(low_elements_prob)] = value_replace"
   ]
  },
  {
   "cell_type": "code",
   "execution_count": 35,
   "metadata": {},
   "outputs": [],
   "source": [
    "replace_outliers(df2, 'pays', 0.97, 'Other')"
   ]
  },
  {
   "cell_type": "code",
   "execution_count": 36,
   "metadata": {},
   "outputs": [
    {
     "data": {
      "text/plain": [
       "FR       167197\n",
       "DE       35856 \n",
       "NL       27127 \n",
       "ES       22371 \n",
       "GB       19382 \n",
       "BE       13532 \n",
       "Other    10684 \n",
       "CH       9086  \n",
       "Name: pays, dtype: int64"
      ]
     },
     "execution_count": 36,
     "metadata": {},
     "output_type": "execute_result"
    }
   ],
   "source": [
    "df2.pays.value_counts()"
   ]
  },
  {
   "cell_type": "markdown",
   "metadata": {},
   "source": [
    "Feature **region**: we delete it"
   ]
  },
  {
   "cell_type": "code",
   "execution_count": 37,
   "metadata": {},
   "outputs": [
    {
     "data": {
      "text/plain": [
       "0          396\n",
       "29200      259\n",
       "33000      181\n",
       "29800      164\n",
       "29260      128\n",
       "          ... \n",
       "ME15.0     1  \n",
       "8043 WE    1  \n",
       "GU9 9JU    1  \n",
       "50027      1  \n",
       "5988 ER    1  \n",
       "Name: region, Length: 18119, dtype: int64"
      ]
     },
     "execution_count": 37,
     "metadata": {},
     "output_type": "execute_result"
    }
   ],
   "source": [
    "df2.region.value_counts()"
   ]
  },
  {
   "cell_type": "code",
   "execution_count": 38,
   "metadata": {},
   "outputs": [],
   "source": [
    "df2 = df2.drop(['region'], axis=1)"
   ]
  },
  {
   "cell_type": "markdown",
   "metadata": {},
   "source": [
    "11. Feature **fidelisation**: nothing to change"
   ]
  },
  {
   "cell_type": "code",
   "execution_count": 39,
   "metadata": {},
   "outputs": [
    {
     "data": {
      "text/plain": [
       "N    186869\n",
       "Y    118366\n",
       "Name: fidelisation, dtype: int64"
      ]
     },
     "execution_count": 39,
     "metadata": {},
     "output_type": "execute_result"
    }
   ],
   "source": [
    "df2.fidelisation.value_counts()"
   ]
  },
  {
   "cell_type": "markdown",
   "metadata": {},
   "source": [
    "Feature segment:"
   ]
  },
  {
   "cell_type": "code",
   "execution_count": 40,
   "metadata": {
    "scrolled": true
   },
   "outputs": [
    {
     "data": {
      "text/plain": [
       "Internet    170309\n",
       "DIRECT      121432\n",
       "TO          9765  \n",
       "INTERNET    3602  \n",
       "CE          105   \n",
       "RESID       22    \n",
       "Name: segment, dtype: int64"
      ]
     },
     "execution_count": 40,
     "metadata": {},
     "output_type": "execute_result"
    }
   ],
   "source": [
    "df2.segment.value_counts()"
   ]
  },
  {
   "cell_type": "code",
   "execution_count": 41,
   "metadata": {},
   "outputs": [],
   "source": [
    "df2['segment'].replace('INTERNET', 'Internet', inplace=True)"
   ]
  },
  {
   "cell_type": "code",
   "execution_count": 42,
   "metadata": {},
   "outputs": [
    {
     "data": {
      "text/plain": [
       "Index(['Internet', 'DIRECT', 'TO', 'CE', 'RESID'], dtype='object')"
      ]
     },
     "execution_count": 42,
     "metadata": {},
     "output_type": "execute_result"
    }
   ],
   "source": [
    "df2.segment.value_counts().index"
   ]
  },
  {
   "cell_type": "code",
   "execution_count": 43,
   "metadata": {},
   "outputs": [],
   "source": [
    "def cumsum_valuecounts(df, col):\n",
    "    return df[col].value_counts().loc[df[col]].value_counts(ascending=False, normalize=True).cumsum()"
   ]
  },
  {
   "cell_type": "code",
   "execution_count": 44,
   "metadata": {},
   "outputs": [],
   "source": [
    "def cumsum_valuecounts_v2(df, col):\n",
    "    indices = pd.Series(df[col].value_counts().index)\n",
    "    values = pd.Series(df[col].value_counts().loc[df[col]].value_counts(ascending=False, normalize=True).cumsum().values)\n",
    "    return pd.concat([indices, values], axis=1)"
   ]
  },
  {
   "cell_type": "code",
   "execution_count": 45,
   "metadata": {},
   "outputs": [
    {
     "data": {
      "text/html": [
       "<div>\n",
       "<style scoped>\n",
       "    .dataframe tbody tr th:only-of-type {\n",
       "        vertical-align: middle;\n",
       "    }\n",
       "\n",
       "    .dataframe tbody tr th {\n",
       "        vertical-align: top;\n",
       "    }\n",
       "\n",
       "    .dataframe thead th {\n",
       "        text-align: right;\n",
       "    }\n",
       "</style>\n",
       "<table border=\"1\" class=\"dataframe\">\n",
       "  <thead>\n",
       "    <tr style=\"text-align: right;\">\n",
       "      <th></th>\n",
       "      <th>0</th>\n",
       "      <th>1</th>\n",
       "    </tr>\n",
       "  </thead>\n",
       "  <tbody>\n",
       "    <tr>\n",
       "      <th>0</th>\n",
       "      <td>Internet</td>\n",
       "      <td>0.569761</td>\n",
       "    </tr>\n",
       "    <tr>\n",
       "      <th>1</th>\n",
       "      <td>DIRECT</td>\n",
       "      <td>0.967592</td>\n",
       "    </tr>\n",
       "    <tr>\n",
       "      <th>2</th>\n",
       "      <td>TO</td>\n",
       "      <td>0.999584</td>\n",
       "    </tr>\n",
       "    <tr>\n",
       "      <th>3</th>\n",
       "      <td>CE</td>\n",
       "      <td>0.999928</td>\n",
       "    </tr>\n",
       "    <tr>\n",
       "      <th>4</th>\n",
       "      <td>RESID</td>\n",
       "      <td>1.000000</td>\n",
       "    </tr>\n",
       "  </tbody>\n",
       "</table>\n",
       "</div>"
      ],
      "text/plain": [
       "          0         1\n",
       "0  Internet  0.569761\n",
       "1  DIRECT    0.967592\n",
       "2  TO        0.999584\n",
       "3  CE        0.999928\n",
       "4  RESID     1.000000"
      ]
     },
     "execution_count": 45,
     "metadata": {},
     "output_type": "execute_result"
    }
   ],
   "source": [
    "cumsum_valuecounts_v2(df2, 'segment')"
   ]
  },
  {
   "cell_type": "markdown",
   "metadata": {},
   "source": [
    "Replacing rare elements by \"Other\""
   ]
  },
  {
   "cell_type": "code",
   "execution_count": 46,
   "metadata": {},
   "outputs": [
    {
     "name": "stderr",
     "output_type": "stream",
     "text": [
      "/opt/anaconda3/lib/python3.6/site-packages/pandas/core/indexing.py:670: SettingWithCopyWarning:\n",
      "\n",
      "\n",
      "A value is trying to be set on a copy of a slice from a DataFrame\n",
      "\n",
      "See the caveats in the documentation: https://pandas.pydata.org/pandas-docs/stable/user_guide/indexing.html#returning-a-view-versus-a-copy\n",
      "\n"
     ]
    }
   ],
   "source": [
    "replace_outliers(df2, 'segment', 0.98, \"Other\")"
   ]
  },
  {
   "cell_type": "code",
   "execution_count": 47,
   "metadata": {},
   "outputs": [
    {
     "data": {
      "text/plain": [
       "Internet    173911\n",
       "DIRECT      121432\n",
       "Other       9892  \n",
       "Name: segment, dtype: int64"
      ]
     },
     "execution_count": 47,
     "metadata": {},
     "output_type": "execute_result"
    }
   ],
   "source": [
    "df2['segment'].value_counts()"
   ]
  },
  {
   "cell_type": "markdown",
   "metadata": {},
   "source": [
    "# 12. Feature scode1 & scode2: TBD"
   ]
  },
  {
   "cell_type": "code",
   "execution_count": 48,
   "metadata": {},
   "outputs": [
    {
     "data": {
      "text/plain": [
       "Village       151133\n",
       "Yelloh        144202\n",
       "TO            9607  \n",
       "CTV           147   \n",
       "CE            105   \n",
       "RESID         22    \n",
       "Odesia        8     \n",
       "Opensystem    6     \n",
       "CDT           5     \n",
       "Name: scode1, dtype: int64"
      ]
     },
     "execution_count": 48,
     "metadata": {},
     "output_type": "execute_result"
    }
   ],
   "source": [
    "df.scode1.value_counts()"
   ]
  },
  {
   "cell_type": "markdown",
   "metadata": {},
   "source": [
    "Deleting meanwhile:"
   ]
  },
  {
   "cell_type": "code",
   "execution_count": 49,
   "metadata": {},
   "outputs": [],
   "source": [
    "df2 = df2.drop(['scode1'], axis=1)"
   ]
  },
  {
   "cell_type": "code",
   "execution_count": 50,
   "metadata": {},
   "outputs": [],
   "source": [
    "df2 = df2.drop(['scode2'], axis=1)"
   ]
  },
  {
   "cell_type": "code",
   "execution_count": 51,
   "metadata": {},
   "outputs": [
    {
     "name": "stdout",
     "output_type": "stream",
     "text": [
      "<class 'pandas.core.frame.DataFrame'>\n",
      "Int64Index: 305235 entries, 0 to 305234\n",
      "Data columns (total 11 columns):\n",
      " #   Column             Non-Null Count   Dtype \n",
      "---  ------             --------------   ----- \n",
      " 0   idstay_to          305235 non-null  object\n",
      " 1   resinternet        305235 non-null  object\n",
      " 2   type_guest         305235 non-null  object\n",
      " 3   camping_label      305235 non-null  object\n",
      " 4   Région             305235 non-null  object\n",
      " 5   type_hebergement   305235 non-null  object\n",
      " 6   hebergement_label  305235 non-null  object\n",
      " 7   pays               305235 non-null  object\n",
      " 8   fidelisation       305235 non-null  object\n",
      " 9   segment            305235 non-null  object\n",
      " 10  nb_stars           305235 non-null  object\n",
      "dtypes: object(11)\n",
      "memory usage: 27.9+ MB\n"
     ]
    }
   ],
   "source": [
    "df2.select_dtypes(include=['object']).info()"
   ]
  },
  {
   "cell_type": "markdown",
   "metadata": {},
   "source": [
    "# Managing numerical features"
   ]
  },
  {
   "cell_type": "code",
   "execution_count": 52,
   "metadata": {
    "scrolled": false
   },
   "outputs": [
    {
     "name": "stdout",
     "output_type": "stream",
     "text": [
      "<class 'pandas.core.frame.DataFrame'>\n",
      "Int64Index: 305235 entries, 0 to 305234\n",
      "Data columns (total 25 columns):\n",
      " #   Column                  Non-Null Count   Dtype  \n",
      "---  ------                  --------------   -----  \n",
      " 0   extract_date            305235 non-null  float64\n",
      " 1   resdate                 305235 non-null  float64\n",
      " 2   camping_code            305235 non-null  float64\n",
      " 3   hebergement             305235 non-null  float64\n",
      " 4   datein                  305235 non-null  float64\n",
      " 5   dateout                 305235 non-null  float64\n",
      " 6   los                     305235 non-null  float64\n",
      " 7   nbroom                  305235 non-null  float64\n",
      " 8   nbguest                 305235 non-null  float64\n",
      " 9   nb_nuit_fid             305235 non-null  float64\n",
      " 10  Séjour Gratuit          305235 non-null  float64\n",
      " 11  Nb Nuits Payantes       305235 non-null  float64\n",
      " 12  vrai_date_resa          305235 non-null  float64\n",
      " 13  client_id_grp           305235 non-null  float64\n",
      " 14  rev1                    305235 non-null  float64\n",
      " 15  rev2                    305235 non-null  float64\n",
      " 16  rev3                    305235 non-null  float64\n",
      " 17  rev4                    305235 non-null  float64\n",
      " 18  rev5                    305235 non-null  float64\n",
      " 19  rev                     305235 non-null  float64\n",
      " 20  fid_id                  305235 non-null  float64\n",
      " 21  date_fid                118366 non-null  float64\n",
      " 22  camping_fid             305235 non-null  float64\n",
      " 23  creation_date           305235 non-null  float64\n",
      " 24  hebergement_camping_id  305235 non-null  float64\n",
      "dtypes: float64(25)\n",
      "memory usage: 60.5 MB\n"
     ]
    }
   ],
   "source": [
    "df2.select_dtypes(include=['float64']).info()"
   ]
  },
  {
   "cell_type": "markdown",
   "metadata": {},
   "source": [
    "Deleting extract_date:"
   ]
  },
  {
   "cell_type": "code",
   "execution_count": 53,
   "metadata": {},
   "outputs": [],
   "source": [
    "df2 = df2.drop(['extract_date'], axis=1)"
   ]
  },
  {
   "cell_type": "markdown",
   "metadata": {},
   "source": [
    "Feature res_date: we will create a new feature that gives the number of days between reservation and vacation \n",
    "start"
   ]
  },
  {
   "cell_type": "code",
   "execution_count": 54,
   "metadata": {},
   "outputs": [],
   "source": [
    "df2['nb_days_between_resa_start'] = df['datein'] - df['resdate']"
   ]
  },
  {
   "cell_type": "code",
   "execution_count": 55,
   "metadata": {},
   "outputs": [
    {
     "data": {
      "text/plain": [
       "375"
      ]
     },
     "execution_count": 55,
     "metadata": {},
     "output_type": "execute_result"
    }
   ],
   "source": [
    "df2['nb_days_between_resa_start'].nunique()"
   ]
  },
  {
   "cell_type": "markdown",
   "metadata": {},
   "source": [
    "Then we can drop the resdate feature:"
   ]
  },
  {
   "cell_type": "code",
   "execution_count": 58,
   "metadata": {},
   "outputs": [],
   "source": [
    "df2 = df2.drop(['resdate'], axis=1)"
   ]
  },
  {
   "cell_type": "markdown",
   "metadata": {},
   "source": [
    "Deleting feature camping_code:"
   ]
  },
  {
   "cell_type": "code",
   "execution_count": 59,
   "metadata": {},
   "outputs": [],
   "source": [
    "df2 = df2.drop(['camping_code'], axis=1)"
   ]
  },
  {
   "cell_type": "markdown",
   "metadata": {},
   "source": [
    "Feature hebergement: ask for what it means (delete meanwhile)"
   ]
  },
  {
   "cell_type": "code",
   "execution_count": 60,
   "metadata": {},
   "outputs": [],
   "source": [
    "df2 = df2.drop(['hebergement'], axis=1)"
   ]
  },
  {
   "cell_type": "markdown",
   "metadata": {},
   "source": [
    "Feature datein: checking that it is indeed one year"
   ]
  },
  {
   "cell_type": "code",
   "execution_count": 61,
   "metadata": {},
   "outputs": [],
   "source": [
    "import datetime\n",
    "from dateutil import parser"
   ]
  },
  {
   "cell_type": "code",
   "execution_count": 62,
   "metadata": {},
   "outputs": [],
   "source": [
    "def serial_date_to_string(srl_no):\n",
    "    new_date = datetime.datetime(1900,1,1,0,0) + datetime.timedelta(srl_no - 1)\n",
    "    date_parsed = parser.parse(new_date.strftime(\"%Y-%m-%d\"))\n",
    "    return pd.Series(date_parsed).dt.dayofyear[0]"
   ]
  },
  {
   "cell_type": "code",
   "execution_count": 63,
   "metadata": {},
   "outputs": [],
   "source": [
    "def epoch_day_to_time(srl_no):\n",
    "    new_date = datetime.datetime(1900,1,1,0,0) + datetime.timedelta(srl_no - 1)\n",
    "    return new_date.strftime(\"%Y-%m-%d\")"
   ]
  },
  {
   "cell_type": "code",
   "execution_count": 64,
   "metadata": {},
   "outputs": [
    {
     "data": {
      "text/plain": [
       "305"
      ]
     },
     "execution_count": 64,
     "metadata": {},
     "output_type": "execute_result"
    }
   ],
   "source": [
    "serial_date_to_string(43404)"
   ]
  },
  {
   "cell_type": "code",
   "execution_count": 65,
   "metadata": {},
   "outputs": [
    {
     "data": {
      "text/plain": [
       "'2018-11-01'"
      ]
     },
     "execution_count": 65,
     "metadata": {},
     "output_type": "execute_result"
    }
   ],
   "source": [
    "epoch_day_to_time(43404)"
   ]
  },
  {
   "cell_type": "markdown",
   "metadata": {},
   "source": [
    "Deleting dayin and dayout for the revenue:"
   ]
  },
  {
   "cell_type": "code",
   "execution_count": 66,
   "metadata": {},
   "outputs": [],
   "source": [
    "df2 = df2.drop(['datein'], axis=1)"
   ]
  },
  {
   "cell_type": "code",
   "execution_count": 67,
   "metadata": {},
   "outputs": [],
   "source": [
    "df2 = df2.drop(['dateout'], axis=1)"
   ]
  },
  {
   "cell_type": "markdown",
   "metadata": {},
   "source": [
    "Feature los: all outliers over 20 days are put to 20\n"
   ]
  },
  {
   "cell_type": "code",
   "execution_count": 68,
   "metadata": {},
   "outputs": [
    {
     "data": {
      "text/plain": [
       "1.0"
      ]
     },
     "execution_count": 68,
     "metadata": {},
     "output_type": "execute_result"
    }
   ],
   "source": [
    "df2.los.min()"
   ]
  },
  {
   "cell_type": "code",
   "execution_count": 69,
   "metadata": {},
   "outputs": [],
   "source": [
    "df2.loc[df2['los'] >= 20, 'los'] = 20"
   ]
  },
  {
   "cell_type": "code",
   "execution_count": 70,
   "metadata": {},
   "outputs": [
    {
     "data": {
      "image/png": "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\n",
      "text/plain": [
       "<Figure size 648x432 with 1 Axes>"
      ]
     },
     "metadata": {},
     "output_type": "display_data"
    }
   ],
   "source": [
    "NBplot.distribution_plot(df2,['los'])"
   ]
  },
  {
   "cell_type": "code",
   "execution_count": 71,
   "metadata": {},
   "outputs": [
    {
     "data": {
      "text/plain": [
       "7.0     54556\n",
       "2.0     49922\n",
       "1.0     34181\n",
       "3.0     34176\n",
       "4.0     23497\n",
       "14.0    23484\n",
       "5.0     13963\n",
       "10.0    13096\n",
       "6.0     11000\n",
       "8.0     8021 \n",
       "11.0    7839 \n",
       "9.0     6674 \n",
       "20.0    6352 \n",
       "13.0    5152 \n",
       "12.0    5136 \n",
       "15.0    2474 \n",
       "16.0    1770 \n",
       "17.0    1681 \n",
       "18.0    1290 \n",
       "19.0    971  \n",
       "Name: los, dtype: int64"
      ]
     },
     "execution_count": 71,
     "metadata": {},
     "output_type": "execute_result"
    }
   ],
   "source": [
    "df2.los.value_counts()"
   ]
  },
  {
   "cell_type": "markdown",
   "metadata": {},
   "source": [
    "Feature nbrooms:"
   ]
  },
  {
   "cell_type": "code",
   "execution_count": 72,
   "metadata": {},
   "outputs": [],
   "source": [
    "df2 = df2.drop(['nbroom'], axis=1)"
   ]
  },
  {
   "cell_type": "markdown",
   "metadata": {},
   "source": [
    "Feature nbguest: removing outliers when it's over 8 guests"
   ]
  },
  {
   "cell_type": "code",
   "execution_count": 73,
   "metadata": {},
   "outputs": [],
   "source": [
    "df3 = df2[~(df2['nbguest'] >= 8)] "
   ]
  },
  {
   "cell_type": "code",
   "execution_count": 74,
   "metadata": {},
   "outputs": [
    {
     "data": {
      "text/plain": [
       "4.0    107130\n",
       "2.0    82381 \n",
       "3.0    50789 \n",
       "5.0    36067 \n",
       "6.0    15708 \n",
       "1.0    9793  \n",
       "7.0    1875  \n",
       "Name: nbguest, dtype: int64"
      ]
     },
     "execution_count": 74,
     "metadata": {},
     "output_type": "execute_result"
    }
   ],
   "source": [
    "df3.nbguest.value_counts()"
   ]
  },
  {
   "cell_type": "markdown",
   "metadata": {},
   "source": [
    "Removing nbx_nuit_fid, Séjour Gratuit and Nb Nuits Payantes, because there will be no more free nights"
   ]
  },
  {
   "cell_type": "code",
   "execution_count": 75,
   "metadata": {},
   "outputs": [],
   "source": [
    "df3 = df3.drop(['nb_nuit_fid', 'Séjour Gratuit', 'Nb Nuits Payantes'], axis=1)"
   ]
  },
  {
   "cell_type": "markdown",
   "metadata": {},
   "source": [
    "For calculating revenue, I also remove vrai_date_resa"
   ]
  },
  {
   "cell_type": "code",
   "execution_count": 76,
   "metadata": {},
   "outputs": [],
   "source": [
    "df3 = df3.drop(['vrai_date_resa'], axis=1)"
   ]
  },
  {
   "cell_type": "markdown",
   "metadata": {},
   "source": [
    "Removing client_id_grp:"
   ]
  },
  {
   "cell_type": "code",
   "execution_count": 77,
   "metadata": {},
   "outputs": [],
   "source": [
    "df3 = df3.drop(['client_id_grp'], axis=1)"
   ]
  },
  {
   "cell_type": "markdown",
   "metadata": {},
   "source": [
    "Removing all columns revX:"
   ]
  },
  {
   "cell_type": "code",
   "execution_count": 78,
   "metadata": {},
   "outputs": [],
   "source": [
    "df3 = df3.drop(['rev1', 'rev2', 'rev3', 'rev4', 'rev5'], axis=1)"
   ]
  },
  {
   "cell_type": "markdown",
   "metadata": {},
   "source": [
    "Removing id columns:"
   ]
  },
  {
   "cell_type": "code",
   "execution_count": 79,
   "metadata": {},
   "outputs": [],
   "source": [
    "df3 = df3.drop(['fid_id', 'date_fid'], axis=1)"
   ]
  },
  {
   "cell_type": "code",
   "execution_count": 80,
   "metadata": {},
   "outputs": [
    {
     "data": {
      "text/plain": [
       "100"
      ]
     },
     "execution_count": 80,
     "metadata": {},
     "output_type": "execute_result"
    }
   ],
   "source": [
    "df3.camping_fid.nunique()"
   ]
  },
  {
   "cell_type": "code",
   "execution_count": 81,
   "metadata": {},
   "outputs": [],
   "source": [
    "df3 = df3.drop(['camping_fid'], axis=1)"
   ]
  },
  {
   "cell_type": "code",
   "execution_count": 82,
   "metadata": {},
   "outputs": [],
   "source": [
    "df3 = df3.drop(['hebergement_camping_id'], axis=1)"
   ]
  },
  {
   "cell_type": "code",
   "execution_count": 83,
   "metadata": {},
   "outputs": [],
   "source": [
    "df3 = df3.drop(['creation_date'], axis=1)"
   ]
  },
  {
   "cell_type": "code",
   "execution_count": 84,
   "metadata": {},
   "outputs": [
    {
     "name": "stdout",
     "output_type": "stream",
     "text": [
      "<class 'pandas.core.frame.DataFrame'>\n",
      "Int64Index: 303743 entries, 0 to 305234\n",
      "Data columns (total 4 columns):\n",
      " #   Column                      Non-Null Count   Dtype  \n",
      "---  ------                      --------------   -----  \n",
      " 0   los                         303743 non-null  float64\n",
      " 1   nbguest                     303743 non-null  float64\n",
      " 2   rev                         303743 non-null  float64\n",
      " 3   nb_days_between_resa_start  303743 non-null  float64\n",
      "dtypes: float64(4)\n",
      "memory usage: 11.6 MB\n"
     ]
    }
   ],
   "source": [
    "df3.select_dtypes(include=['float64']).info()"
   ]
  },
  {
   "cell_type": "code",
   "execution_count": 85,
   "metadata": {},
   "outputs": [
    {
     "name": "stdout",
     "output_type": "stream",
     "text": [
      "<class 'pandas.core.frame.DataFrame'>\n",
      "Int64Index: 303743 entries, 0 to 305234\n",
      "Data columns (total 15 columns):\n",
      " #   Column                      Non-Null Count   Dtype  \n",
      "---  ------                      --------------   -----  \n",
      " 0   idstay_to                   303743 non-null  object \n",
      " 1   resinternet                 303743 non-null  object \n",
      " 2   type_guest                  303743 non-null  object \n",
      " 3   camping_label               303743 non-null  object \n",
      " 4   Région                      303743 non-null  object \n",
      " 5   type_hebergement            303743 non-null  object \n",
      " 6   hebergement_label           303743 non-null  object \n",
      " 7   los                         303743 non-null  float64\n",
      " 8   nbguest                     303743 non-null  float64\n",
      " 9   rev                         303743 non-null  float64\n",
      " 10  pays                        303743 non-null  object \n",
      " 11  fidelisation                303743 non-null  object \n",
      " 12  segment                     303743 non-null  object \n",
      " 13  nb_stars                    303743 non-null  object \n",
      " 14  nb_days_between_resa_start  303743 non-null  float64\n",
      "dtypes: float64(4), object(11)\n",
      "memory usage: 37.1+ MB\n"
     ]
    }
   ],
   "source": [
    "df3.info()"
   ]
  },
  {
   "cell_type": "markdown",
   "metadata": {},
   "source": [
    "**We don't have any NA values**"
   ]
  },
  {
   "cell_type": "code",
   "execution_count": 86,
   "metadata": {},
   "outputs": [
    {
     "name": "stdout",
     "output_type": "stream",
     "text": [
      "in feature idstay_to the num of unique values is: 2\n",
      "in feature resinternet the num of unique values is: 3\n",
      "in feature type_guest the num of unique values is: 2\n",
      "in feature camping_label the num of unique values is: 79\n",
      "in feature Région the num of unique values is: 15\n",
      "in feature type_hebergement the num of unique values is: 2\n",
      "in feature hebergement_label the num of unique values is: 14\n",
      "in feature los the num of unique values is: 20\n",
      "in feature nbguest the num of unique values is: 7\n",
      "in feature rev the num of unique values is: 70742\n",
      "in feature pays the num of unique values is: 8\n",
      "in feature fidelisation the num of unique values is: 2\n",
      "in feature segment the num of unique values is: 3\n",
      "in feature nb_stars the num of unique values is: 2\n",
      "in feature nb_days_between_resa_start the num of unique values is: 375\n"
     ]
    }
   ],
   "source": [
    "for feat in df3:\n",
    "    print(f\"in feature {feat} the num of unique values is: {df3[feat].nunique()}\")"
   ]
  },
  {
   "cell_type": "markdown",
   "metadata": {},
   "source": [
    "# Dataviz:"
   ]
  },
  {
   "cell_type": "code",
   "execution_count": 87,
   "metadata": {
    "scrolled": true
   },
   "outputs": [
    {
     "data": {
      "text/html": [
       "<style  type=\"text/css\" >\n",
       "    #T_0b7b2c3a_ead2_11ea_afe1_4c3275959fabrow0_col0 {\n",
       "            color:  green;\n",
       "        }    #T_0b7b2c3a_ead2_11ea_afe1_4c3275959fabrow0_col1 {\n",
       "            color:  black;\n",
       "        }    #T_0b7b2c3a_ead2_11ea_afe1_4c3275959fabrow0_col2 {\n",
       "            color:  green;\n",
       "        }    #T_0b7b2c3a_ead2_11ea_afe1_4c3275959fabrow0_col3 {\n",
       "            color:  green;\n",
       "        }    #T_0b7b2c3a_ead2_11ea_afe1_4c3275959fabrow1_col0 {\n",
       "            color:  black;\n",
       "        }    #T_0b7b2c3a_ead2_11ea_afe1_4c3275959fabrow1_col1 {\n",
       "            color:  green;\n",
       "        }    #T_0b7b2c3a_ead2_11ea_afe1_4c3275959fabrow1_col2 {\n",
       "            color:  black;\n",
       "        }    #T_0b7b2c3a_ead2_11ea_afe1_4c3275959fabrow1_col3 {\n",
       "            color:  black;\n",
       "        }    #T_0b7b2c3a_ead2_11ea_afe1_4c3275959fabrow2_col0 {\n",
       "            color:  green;\n",
       "        }    #T_0b7b2c3a_ead2_11ea_afe1_4c3275959fabrow2_col1 {\n",
       "            color:  black;\n",
       "        }    #T_0b7b2c3a_ead2_11ea_afe1_4c3275959fabrow2_col2 {\n",
       "            color:  green;\n",
       "        }    #T_0b7b2c3a_ead2_11ea_afe1_4c3275959fabrow2_col3 {\n",
       "            color:  green;\n",
       "        }    #T_0b7b2c3a_ead2_11ea_afe1_4c3275959fabrow3_col0 {\n",
       "            color:  green;\n",
       "        }    #T_0b7b2c3a_ead2_11ea_afe1_4c3275959fabrow3_col1 {\n",
       "            color:  black;\n",
       "        }    #T_0b7b2c3a_ead2_11ea_afe1_4c3275959fabrow3_col2 {\n",
       "            color:  green;\n",
       "        }    #T_0b7b2c3a_ead2_11ea_afe1_4c3275959fabrow3_col3 {\n",
       "            color:  green;\n",
       "        }</style><table id=\"T_0b7b2c3a_ead2_11ea_afe1_4c3275959fab\" ><thead>    <tr>        <th class=\"blank level0\" ></th>        <th class=\"col_heading level0 col0\" >los</th>        <th class=\"col_heading level0 col1\" >nbguest</th>        <th class=\"col_heading level0 col2\" >rev</th>        <th class=\"col_heading level0 col3\" >nb_days_between_resa_start</th>    </tr></thead><tbody>\n",
       "                <tr>\n",
       "                        <th id=\"T_0b7b2c3a_ead2_11ea_afe1_4c3275959fablevel0_row0\" class=\"row_heading level0 row0\" >los</th>\n",
       "                        <td id=\"T_0b7b2c3a_ead2_11ea_afe1_4c3275959fabrow0_col0\" class=\"data row0 col0\" >1.000000</td>\n",
       "                        <td id=\"T_0b7b2c3a_ead2_11ea_afe1_4c3275959fabrow0_col1\" class=\"data row0 col1\" >0.103047</td>\n",
       "                        <td id=\"T_0b7b2c3a_ead2_11ea_afe1_4c3275959fabrow0_col2\" class=\"data row0 col2\" >0.697214</td>\n",
       "                        <td id=\"T_0b7b2c3a_ead2_11ea_afe1_4c3275959fabrow0_col3\" class=\"data row0 col3\" >0.609132</td>\n",
       "            </tr>\n",
       "            <tr>\n",
       "                        <th id=\"T_0b7b2c3a_ead2_11ea_afe1_4c3275959fablevel0_row1\" class=\"row_heading level0 row1\" >nbguest</th>\n",
       "                        <td id=\"T_0b7b2c3a_ead2_11ea_afe1_4c3275959fabrow1_col0\" class=\"data row1 col0\" >0.103047</td>\n",
       "                        <td id=\"T_0b7b2c3a_ead2_11ea_afe1_4c3275959fabrow1_col1\" class=\"data row1 col1\" >1.000000</td>\n",
       "                        <td id=\"T_0b7b2c3a_ead2_11ea_afe1_4c3275959fabrow1_col2\" class=\"data row1 col2\" >0.291820</td>\n",
       "                        <td id=\"T_0b7b2c3a_ead2_11ea_afe1_4c3275959fabrow1_col3\" class=\"data row1 col3\" >0.235659</td>\n",
       "            </tr>\n",
       "            <tr>\n",
       "                        <th id=\"T_0b7b2c3a_ead2_11ea_afe1_4c3275959fablevel0_row2\" class=\"row_heading level0 row2\" >rev</th>\n",
       "                        <td id=\"T_0b7b2c3a_ead2_11ea_afe1_4c3275959fabrow2_col0\" class=\"data row2 col0\" >0.697214</td>\n",
       "                        <td id=\"T_0b7b2c3a_ead2_11ea_afe1_4c3275959fabrow2_col1\" class=\"data row2 col1\" >0.291820</td>\n",
       "                        <td id=\"T_0b7b2c3a_ead2_11ea_afe1_4c3275959fabrow2_col2\" class=\"data row2 col2\" >1.000000</td>\n",
       "                        <td id=\"T_0b7b2c3a_ead2_11ea_afe1_4c3275959fabrow2_col3\" class=\"data row2 col3\" >0.600130</td>\n",
       "            </tr>\n",
       "            <tr>\n",
       "                        <th id=\"T_0b7b2c3a_ead2_11ea_afe1_4c3275959fablevel0_row3\" class=\"row_heading level0 row3\" >nb_days_between_resa_start</th>\n",
       "                        <td id=\"T_0b7b2c3a_ead2_11ea_afe1_4c3275959fabrow3_col0\" class=\"data row3 col0\" >0.609132</td>\n",
       "                        <td id=\"T_0b7b2c3a_ead2_11ea_afe1_4c3275959fabrow3_col1\" class=\"data row3 col1\" >0.235659</td>\n",
       "                        <td id=\"T_0b7b2c3a_ead2_11ea_afe1_4c3275959fabrow3_col2\" class=\"data row3 col2\" >0.600130</td>\n",
       "                        <td id=\"T_0b7b2c3a_ead2_11ea_afe1_4c3275959fabrow3_col3\" class=\"data row3 col3\" >1.000000</td>\n",
       "            </tr>\n",
       "    </tbody></table>"
      ],
      "text/plain": [
       "<pandas.io.formats.style.Styler at 0x132c9dfd0>"
      ]
     },
     "execution_count": 87,
     "metadata": {},
     "output_type": "execute_result"
    }
   ],
   "source": [
    "def color_map(val):\n",
    "    color = 'red' if float(val) < -0.4 else 'green' if float(val) > 0.4  else 'black'\n",
    "    return 'color: %s' % color\n",
    "\n",
    "corr = df3.corr()\n",
    "df_styled = corr.style.applymap(color_map)\n",
    "df_styled"
   ]
  },
  {
   "cell_type": "code",
   "execution_count": 88,
   "metadata": {
    "scrolled": true
   },
   "outputs": [
    {
     "data": {
      "image/png": "iVBORw0KGgoAAAANSUhEUgAAAfUAAAHACAYAAAC7//EPAAAABHNCSVQICAgIfAhkiAAAAAlwSFlzAAALEgAACxIB0t1+/AAAADh0RVh0U29mdHdhcmUAbWF0cGxvdGxpYiB2ZXJzaW9uMy4xLjMsIGh0dHA6Ly9tYXRwbG90bGliLm9yZy+AADFEAAAgAElEQVR4nOzdd1hUR9sG8HspC1IVC2CvgKIiggXsNSax4muNiTVqjBohNhJ77IqoqEFUjEbFGpFYPg0mGiuIsSUQY0ekiah0Fnbn+wPYZF3AVcGV9f7lOtclszNznlkNz86cOWclQggBIiIiKvP0tB0AERERlQwmdSIiIh3BpE5ERKQjmNSJiIh0BJM6ERGRjmBSJyIi0hFM6kRERG/Rxo0bMWTIkGLrZGdnY/78+XBzc4OzszMmT56MpKSkl/bNpE5ERPSW7Ny5E76+vi+tN3fuXJw7dw5+fn7Ytm0bYmJiMGnSpJe2MyiJIImIiKhoCQkJmDt3LsLCwlCnTp1i68bHx+PQoUPw9/eHq6srAMDX1xfdu3dHRESEsqwwnKkTERGVsr/++gumpqYICQmBk5NTsXX/+OMPKBQKtGzZUllWq1Yt2NjY4NKlS8W25UydiIjoFaWkpCAlJUWt3MLCAhYWFmrlnTt3RufOnTXqOyEhAeXLl0e5cuVUyqtUqYK4uLhi2zKpE9FrM5BW03YIpebJEAdth1Aqnl7T3QXa2ld/eeM+cpLualRvW9ARrFu3Tq184sSJGl37Lk5mZiYMDQ3VyqVSKWQyWbFtmdSJiIhe0fDhw9GvXz+18sJm6a/K2NgYOTk5auUymQwmJibFtmVSJyIiKiBXT6aFKWqZvSTY2Njg+fPnyM7OhpGRkbI8MTERNjY2xbbV3XUYIiKiV6VQaHaUIhcXFwBAeHi4suzBgweIj49HixYtim3LpE5ERJRPCIVGR0l7/Pgx0tPTAQDW1tb4+OOPMXfuXFy8eBE3btyAl5cXWrZsCWdn52L7YVInIiIqoKWZetu2bREYGKj8+bvvvoO7uzsmTZqEkSNHombNmlizZs1L+5EIIUSJR0dE7wXufi97uPu9eLKH1zSqJ61R/L3m2sKNckRERAUUcm1H8EaY1ImIiArIc7UdwRthUiciIspXGpvg3iYmdSIiogKlfLtaaWNSJyIiKsCZOhERkY7gRjkiIiIdwY1yREREOoLL70RERDqCG+WIiIh0gxC8pk5ERKQbuPxORESkI7j8TkREpCPkOdqO4I0wqRPRW9elczssmD8djRs7IDn5GbZt34PvFvpCLn/59cyqVW1w7cpJDB4yHid/PaPyWuXKFbF82Rz0+KATjI2NcOr0eXw9dR7u3n1QWkNRo9+oOYz7j4R+jToQaamQnTmO7EPbC50B6js4wcx7VZF9ZR3chuzg7QAAvSq2MB78BQwcmgIAcq5eRFaQP0Tqs9IZyAuMWzmjwpcjYdigNhTPU5F26ASeBfwIyIue2Ro1aYjyk0fBqLE9REYWMs9HINk3AIrkQmLW14NN4CpkhV/Fs/U/lN5AXobL70REmmvVsjlCDm3DkaOhWLxkDZycHDF7lifMzc3x9dS5xbatXr0qjh7ZiQoVyqu9pqenhyOHd6JypYqYOn0+cnNzMXuWF0JP7IOTc2ekpqaV1pCU9Os1hKnXIuRevYiMkJ3Qr1UPRn0+g6ScCbJ2bVCrL39wG2kLv1IrN+43HPp17ZET9lteQTlTmM70gchIR8bWVZAYm8D4f6NhOnUJ0uZ9WeqJyKhJQ1j7LUTG72F4tmknpPb1UH7cp9AzM0Hyiu8LbSNt2ADWm1Yg+48beDxtIfQrWaHCxJGwrr0AcZ9OVqkrkRqi0sIZMHZyRFb41VIdy0tx+Z2o7LG3t8fChQsxYMAAbYfy3pkz2wtRf9/GwEFjAQBHjoYiIyMTS5d8i5U+GxAXl6DWRiKRYNiw/2H50tnQ0yv8+8D/97+eaO7cBC1afoArV/8EAJw5E4abUWcxbuynWOlTePIpSUZ9P4MiNhoZ6+YDAHKvXYTIzobxoLHIProH4tkT1QaZ6ZDf+lOlyMDZDQaOzZGxfgEUcQ/z+u3cCxLzCkhbMEnZh/zhHZjP94dhi3bICT9dquMqP/5T5Nx7iMdTF+SFfSYMIisbFaZ8juc/7IX88RO1NhWmfI6cOw+QMOlb5WxekZIGq+lfwKBmNeRGP8obWzNHVPSeBH3ryqU6Bo2V8Zl64f93EBGVAqlUio4d3REcfFSlfO++EBgYGOCD7h0Lbde0aSN8v34pduzYjxEjJxda54PunXD37gNlQgeA2Nh4nDt3CR9/1LXExlAkA0MYNGyGnMtnVYpzwk9Boq8PgyYtXt6HoRTlhk1CztWLKonaoEkLyG//pfKhQHH/FuTxMTBo1rrEhlB4TIYwbuGE9JOq40o/cQoSA32Uc3dVa6JnaQ5j16ZI3Ruisjyf8etZxPT4RJnQAaDK2u+QG5+I2MHjS28Mr0Kh0Ox4R3GmTkRvTd26NWFkZISb/9xVKY+NjUdGRiYaOjQotF109CPYN2yLR4/i0KG9W6F1GjrUxz//3FErv33nPvp7fPzmwb+EXmVbSAylytl1AfE0CSI7C/pVa+JlW7CMPvgfJBUqIWvZVNW+q9ZCzuUzavUVibHQs635pqEXy7C6LSRSKXLuq45LnvgEiswsGNZVP7+0QV1I9PUhf/IUlRbOgEknd0AiQcZv55C8dD0U/7kUEj/KCzm375fqGF7JO5ywNcGZOhGA06dPY9CgQXB2doabmxtmzZqF58+fK1+/du0ahg4dCmdnZ7i6uuLLL7/Eo0ePiumRCmNpYQEASHmeovZaamoazC3MC2339OkzPHoUV2zfFpYWeJ6SWki/qbCwMHuNaF+NxMQUACAy09VeE1mZQDnT4jswMIS0Wz/khP0GRWKsat/lTCEyCuk3Mx2Sl/X7hvTM8seVVsj5MzKhZ2qi3sbKEgBQcY4XRG4uEj3nIdlnI8q1bQnr9YsBiURZ951K6ACEPEej413FpE7vvV9++QXjxo2Dm5sbDhw4gJUrVyIiIgKjRo2CQqGAXC7HuHHj0KJFC4SEhGDbtm2Ij4/HzJkztR16mVNwPVwIUejrRZVr2ndp9KuxgkRV1LleEoNhyw7QK2+F7KN71F/UkwB4vX7fmJ6k+NMUUi4xMAQAyG7expN5PsgKv4K0A0fwZNFaGDVtiHJtNLgUoS1CodnxjuLyO733AgIC0LFjR0yZMgUAULduXaxcuRL9+/fHmTNn0KxZMzx79gyVK1dGtWrVUKNGDaxevRpJSUlajrzseZa/+lHYjNzc3AwpKeozeE09f/YcFuaF9WuO58/VZ/AlTTmTLqc+c5UYlwMKmcH/l2GL9pA/ug/Fw7tqr4mMNEiM1WfkknKmha4MlKSCpXI9s0LGZVIOikJm8IqMDAB5G+r+K+tCBABA6lAfmWfDSzrUksHld6Ky7ebNm2jRQnXm0LhxY5iYmODmzZuwtLTEmDFjsHDhQri5ueGrr75CeHg4GjVqpKWIy647dx4gJycHDerXUSmvVs0WJiblEBV1+7X7vvnPXdRvUEetvEH9Ovj771uv3a+mFImxELm50LeurlIuqVAJEiNjyGOji25sYAiDxq5F7mJXxMVAz6aaWrmedTUoiuu3BOQ8jIPIyYVhTdXz61epBL1yxsi5p37+go1wEqmh6gsGefNIkZVdOsGWhDI+U2dSJyqCEAJSqRQAMHXqVPz666+YMmUKhBBYtGgRBg0ahKysLC1HWbbIZDKcPn0Bfft+CMl/rqsOHNAbOTk5+PW3s8W0Lt7xE7/BrkFdODk5KsuqVrWBu7srjp849SZhayY3B7l/X4OBa1uVa8aGrTpB5OYiN/KPIpvq16wLidQIuf/8WejruTfCYdCgMSSWFZRlerUbQN+6GnJvXCq5MRQmJwdZl6/BpLPquEw/6AiRk4vMsCvqTe5GI+dRHEw/6KhSbtI+b6d+1pUbpRryGynju9+Z1Om9Z29vj0uXVH8xXr9+HZmZmahfvz7u3LmDOXPmoGLFihgyZAjWrl2LLVu2ICoqCpGRkVqKuuz6buEqNHNyxMGftqJnz27wnjkZixd5Y8P32xATEwupVIo27i1Qo0bVV+p3376fcePPKPx8aDuGfzYQAwf2xonje5CY+AT+G7eX0mhUZQdvh37N+jD56jsYOLvBqNdQGA8YA9nJQxDJjwEDQ+g3aAyJVRWVdnrV6wIAFI/uF97vyRCIzHSYzvSBYatOMGz3AUw9F0F+/59Sv0cdAJ75/wipfT1UWT0f5Tq4wXLMUFSYPBqpe0MgT3gMGBrCqJkj9G3+vdf8qe8mSB3tUXnVXJRr0wIWn/SD1YwvkfHbOcj++qfUY35t8lzNjncUkzq998aOHYvffvsNq1evxt27d3H+/HlMnz4djRs3RuvWrVGhQgUcOXIEc+bMwZ07d3Dv3j0cOHAAFhYWqF+/vrbDL3POnb8Ej/6jUK2aLfYEbcTnY4Zh6TI/TJue98AWW9sqOH0qGCNHDH6lfnNzc/HRx5/g3PlLWOUzHxvWLcU//9xBtw8GIqWQXfGlQX7rT2SsmQ09q0ow+XIOpJ16IvvwLmQF+QMAJOWtYDZrDaTte6i007PIm4GLjCLizEhD+tKvoUhKQLnRX8N40Djk/vUH0ld6v5Wl4OyrfyHRcw70rSujyopZMO//MZ4HBiHZZyMAwKCyFWx/WA3zvv+OKyP0DBK/mgODKpVQZdU8WIwYhNQDR/B4xqJSj/eNlPGZukS8lW2hRO+WF58od/z4cfj7++PWrVsoX748unbtCi8vL1jk34J15coVrFq1CpGRkZDL5WjatCmmTZuGJk2aaHMYWmcgVb/OqyueDHHQdgil4uk13Z3L1b76yxv3kXm46Gfx/1e5nl5vfK7SwKRORK+NSb3sYVIvXmbISo3qles99eWVtIC3tBERERV4h3e2a4JJnYiIqMA7fL1cE0zqREREBd7hne2aYFInIiIqwJk6ERGRjijje8eZ1ImIiApwpk5ERKQjmNSJiIh0BG9pIyIi0hFyubYjeCNM6kRERAXK+PK77j4vkIiI6FWV0he6KBQKrF27Fu3atYOTkxNGjRqFBw8eFFk/MTERnp6eaNWqFVq1aoWvvvoK8fHxLz0PkzoREVEBodDseEXr169HUFAQFi5ciD179kBfXx+jR49GdnZ2ofUnT56MuLg4BAYGYuvWrYiPj8cXX3zx0vMwqRMREeUTCqHR8SpkMhkCAwMxceJEdOjQAQ4ODvD19UVSUhKOHTumVj85ORlXrlzB2LFj4ejoiEaNGmHs2LGIjIzEkydPij0XkzoREVEBea5mxyuIiopCRkYGWrdurSwzMzNDo0aNEBERoVbfxMQEJiYmCA4ORlpaGtLT03H48GHUrl0b5cuXL/Zc3ChHRERUQMNZeEpKClJSUtTKLSwsYGFhoVKWkJAAALC2tlYpr1KlCuLi4tT6MDY2xpIlSzBv3jy4urpCIpGgUqVK2LFjB/T19YuNi0mdiIiogIab4LZt24Z169aplU+cOBGTJk1SKcvMzAQASKVSlXKpVAqZTKbWhxACkZGRcHJywtixYyGXy7F69WpMmDABu3fvhrm5eZFxMakTEREV0DCpDx85HP369VMrf3GWDuTNvIG8a+v/TewymQwmJiZq9Y8ePYqdO3fi1KlTygT+/fffo1OnTti7dy9Gjx5dZFxM6kRERAU0/EKXwpbZi2Jrawsg7zY1MzMzZXliYiLq16+vVv/y5cuoVauWyozc0tISderUKfY2OIAb5YiIiP5VCvepOzg4wMzMDOHh4cqytLQ0REZGomXLlmr1bWxsEB0drVy2B4CMjAzExMSgdu3axZ6LSZ2IiKiAXK7Z8QqkUimGDRsGX19fhIaG4u+//4anpyesra3RvXt3yOVyPH78GFlZWQCAvn37Ql9fH56envj777/x999/w8vLC4aGhujfv3+x5+LyOxFRIUb8pn6tUxfE5aZqO4RSc7EkOnnFe9A1NXnyZMjlcsyZMweZmZlwcXHB5s2bIZVKERMTgy5dumDJkiXw8PBAlSpVsGvXLqxYsQIjRowAALi4uCAoKAiWlpbFnkciRBn/RngiolLQr2YvbYdQKnQ6qceeeuM+0pcM16ieqfe2Nz5XaeBMnYiIqEApzdTfFiZ1IiKiAvw+dSIiIh2Ry+9TJyIi0g1cficiItIRXH4nIiLSEZypExER6Qbxik+Le9cwqRMRERXgTJ2IiEhHvOIjYN81TOpEREQFOFMnIiLSDYJJnYiISEcwqRMREekI7n4nIiLSEZypExER6QYh50ydiIhIN3CmTkREpCOY1ImIiHQDb2kjIiLSFUzqRERUoGlbJwydOgy1HGoj7Vkqft17EnvWBEFRxAYsPT09fDj8Y3Qf+gGq1LDGs8dPEX4iDEGrdiErPVNZr0mbphji9Qlq2tdCZnomzh85h6CVO5CVkfVWxtWinQvGTR+Neg3rIOVZKg7vOYbAVdshL+Kxqnp6evjfyL7o80kvVK1pgyeJyThz/Bw2rdyKjP+M6786fdwBSzbNx4T+U/DHhaulOZwiiVwmdSIiAmDnbI9ZW+ci4uQl7Pfbi9qN6mDQlCEoZ14OgfM3F9pm6LRh6P15XxzaeBB/hf2J6vWrY+CUIbBv7gBvj+kQQqD1h+6YsdEbf4X9iXVT10DfUB//mzgQDi4L4e0xvcgPDCXFsXkj+GxfgnOhF7B1zY+wc6yP0V7DYWpmitVz1xXaZtyM0Rg6biB2fr8bVy5eR636NTHaazgauzhibJ+JEEI1eVpVtsKMZV6lOg6NcKZOVDL8/Pywb98+/P7779oOpVhCCAQHB6N9+/aoWLGitsOhd8ggzyGIuf0Qy8cvAQBEnLwEWWY2PvtmJA76/4SnCckq9aXGRuj9eV/8vOUQdq74EQBw9fcreJb0HF+vm4bGbk1w4/x1DJoyGDG3YzBv6Gzk5uQCAP688Ce+PxOALgO74pegE6U6rjFfj8D929Hw/nwuAOBc6AVkZWbhy1njsWNDEJISnqjUNypnhKHjBmL3pn3wX7YFABB2+hKePnmK7zbMQXP3Zrh87opKm299piErMwuAZamO5aXK9h1t0NN2AERlzcWLFzFz5kxkZha+hEjvJwOpAZq4NcXF/7ugUn725zPQN9BH8w7N1dqYWZri130nce7wWZXyh/9EAwCsrK0AANXqVcfV3/9QJnQAeJ70DDG3Y+DSuUVJD0WFodQQLu7NcOqo6oft0JDfYGCgj9adWqq1sbA0x+E9xxAackql/N7N+wCAytaVVMr7DuuFhs0csH7RxhKN/XUIhdDoeFdxpk70il5cNiQCAJuaNjA0MsSjuzEq5ckJycjOzEb1+jXU2iQnJMPfe71aecvurQAAD/6+DwBIfZqCKtWrqNTRN9BHJdtKMJSW7q/xajVtITWSIvrOQ5Xyx/FJyMrMQu0GtdTaPI5PwrIZq9TK233QBgBw+++7//Zfqyomz52ABZMXIz0to4Sjfw2cqRNpxt7eHnv37sXIkSPRtGlTdOvWDevXq/9C8/f3R+vWrdG8eXN4e3sjLS1N+VpycjI8PT3h6uqKVq1aYeXKlfjss8/g5+cHIG8Jv3379ir97du3D/b29sqfFQoFAgIC0KVLFzRt2hS9evXCvn37VNps2bIFXbt2RePGjdG5c2esW7cOCoUCYWFhGDlyJACgS5cuyvMSmZibAgAyUtQTU2ZaBsqZm2jUj52zPfp/OQDhJy7iftR9AMDJPaFo2b01+n85ABZWFqhUtTK+XD4JphamMDYxLrExFMbUwgwAkJaSrvZaRloGTM00G5dj80YYPukT/H78LG5H3gGQt5lu7lpv/P5/Z3Hq2JmSC/oNlPWZOpM6vVXLly9H3759cejQIfTo0QNr165FeHi48vWEhAScO3cOgYGB2LhxI/744w9MmTIFQF4yHjduHO7du4dNmzYhMDAQ165dU2mvCR8fHwQFBeHbb7/FkSNHMGbMGKxYsQL+/v4AgNDQUGzcuBHz58/HiRMnMHXqVPj7+yM4OBjOzs5YvXo1gLwPC6NGjSqhd4bKOomeBEAxKzkarPA4tm6MOdvnISE6Hn5fr1GW7/bdhZ827McgzyHYdnUnvj8TAFl2DsJ/CUN2ZnaJxF8UvZeMS5OFq+ZuzbB653I8ehCHhZ7LlOWffjkENtVt4DNrTTGt3y6Rq9nxruLyO71Vffv2RZ8+fQAAXl5e2LlzJ65cuYKWLfOuyxkaGsLX1xeVKuVdc5szZw5GjRqFO3fu4PHjx7h+/ToOHz6MBg0aAABWr16NTp06aXz+9PR0bN++HStWrEDnzp0BADVq1MDjx48REBCAsWPHIiYmBlKpFLa2tqhatSqqVq2KKlWqwNbWFlKpFJaWeRt5rKysYGpqWmLvDZVt6fkzWZNCZuTlzEyQnqo+0/2vTv/rgi+WfInofx7gu8/mIe35vytUCrkCPy7dht2+u2Bd0wZPE5OR/jwdC/cuQdqztGJ6fXOp+XGYFjIuEzMTpKcWf/6PB/bAjGVeuHvzHjw/mYGUZ6kAgAb5O+i9P5+LjLRM6OvrKz8Y6enrQU9PDwptfGNaGV9+Z1Knt6pOnTrKP0skEpiZmSEnJ0dZVrNmTWVCBwAnJycAwK1btxAbGwtTU1NlQgeAihUrqvT5Mnfu3IFMJsOMGTPg7e2tLJfL5cjOzkZSUhJ69+6NAwcO4MMPP0T9+vXh7u6OHj16oFq1aq81Zno/xD+IQ25OLmxrV1Upr2hTEUbljBBzK6aIlsBgr6EYNGUI/vjtMlZ8sVTt3nPHVo0hNZbiyuk/EHMr79q2nr4eajWsjV/3nSz5wfzHowexyM3JRY061VXKK9tWhnE5Y9y/FV1k2zFTR2CM1whc+DUM34ydh8yMfzeXdujRFlIjKXy2L1Frt27vKsQ9jEe/VoNLbiAaEkzqRJqTSqVqZf9d1tPX11d5reDBFlKpFPr6+i/dpCaRSNTK/vuhoaC9j4+PyoeDAlZWVjAwMMChQ4dw5coVnDt3DufOncOPP/4IT09PjBs3rtjz0/srV5aLPy/eQOsP3fDThv3Kf2tterVDbk4urp+7Vmi7fl/0x6ApQ/BL0An4e68vdHbq9pE73D5yxzj3Mcod8F0GdYOZpRnCj18svUEByJHl4I8LV9Hxo/bYvm6XclzdendCbk4uLp29XGi7T78cgjFeIxCy6wiWTvdRG1fwjp9x9hfVOwUcnR0wbYknlk73wY2IP0tnQC/DpE5UcqKjo5GWlgYzs7zNOZcvX4ZEIkGDBg1gamqKjIwM3L59G/Xr1wcAPHv2DA8ePFC2NzQ0RHp6OoQQygQfHf3vTKJu3bowNDREbGwsunbtqizft28fIiIisGTJEhw8eBDp6ekYNmwYXFxcMHnyZMyZMwc//fQTxo0bV+gHByIA2Lt6N77bsxjeW2bhl6DjqGVfG4M8h+DY9iN4EpcEA6kBGjjZ4fGjx0iKfQzb2rYYOnUYYm49xG8HTsLexUGlv9h7sXie9AzHd/4fug35AJ5rv8YvQSdQy6E2Ppn+Kc6E/I6/wko/+W1ZtQ3r96/Gih8W4dDOw6jnUBdjvh6B/T8EIzH2MQylhmjUzAHxjxKQ8CgRNepUw7jpo3H/1gMc2ft/aOLqqNLfw7sxSEp4onZ/u7ll3v/30Xce4s7f90p9XIXhTJ2oBMlkMnz11Vf4+uuv8ezZMyxcuBA9e/ZEjRo1UKNGDTRr1gwzZszA7NmzYWxsjJUrVyIzM1OZaJ2dnZGWloaNGzeiZ8+e+OOPPxAcHKzs39zcHIMHD8batWthYWEBFxcXXLlyBYsWLcKQIUOgp6cHmUyG5cuXw8zMDK6uroiPj0dYWBicnZ0BQHkdPSoqCpaWljA3N3/7bxS9k6IuRWLJmIUYOnUYpm2YiWdJz3Bg/T7sXb0bAFChihUWH1iG3b67sMc3CK16uMHA0ADVG9TA4v3L1PpbP90PobtP4OE/0Vg4cj4+nTkCMwK+Ufa732/vWxnXtfAbmD7yW4ybMRqLNs5DctJT/OC3A4GrtgMAKlWpiI3Bftjs8wM2+/yADh+2g4GhAWo3qIWNwep3iCyeugIhu468ldhfVVlP6hLBm27pLbG3t8fChQsxYMAAZVn79u0xYMAATJo0CX5+fvjtt9/Qrl077NqVt8z30UcfYebMmTAxydukk5CQgAULFuDcuXMwMjLC0KFDERwcjMGDByuXxv39/bFjxw6kpKSgRYsW+Pjjj+Ht7Y2bN28CyFvSDwgIwP79+5GQkABra2t4eHjgiy++gJ5e3g0hmzdvxt69exEXFwdLS0t069YNU6dOhampqfKDx5kzZzB48GDMmjXrLb+T9Db0q9lL2yGUirjcVG2HUGouxp564z4SOnbUqJ71qTc/V2lgUqcyIzk5GVeuXEG7du2U1+ZlMhlatWqFuXPnom/fvlqOkHQJk3rZUxJJPb59R43q2fz+5ucqDVx+pzLDwMAAX3/9NQYNGoShQ4ciJycHW7ZsgVQqVXvgDBHR6xCKsr1nhg+foTLDwsIC/v7+uHbtGvr27YuBAwciKSkJ27dvh5WVlbbDIyIdIBSaHe8qztSpTGndujV2796t7TCISEcJwZk6ERGRTlDkSjQ6XrlfhQJr165Fu3bt4OTkhFGjRqncjvuinJwc+Pj4oF27dmjWrBmGDRuGqKiol56HSZ2IiCifEJodr2r9+vUICgrCwoULsWfPHujr62P06NHIzi782f3z5s3Dvn378N133+HAgQOwsrLCmDFjkJKSUux5mNSJiIjyCYVEo+NVyGQyBAYGYuLEiejQoQMcHBzg6+uLpKQkHDt2TK3+w4cPsX//fixcuBAdO3ZEvXr1sGjRIhgZGeH69evFnotJnYiIKF9pJPWoqChkZGSgdevWyjIzMzM0atQIERERavXPnj0LU1NTlS+rMjc3x6+//oq2bdsWey5ulCMiIsqn6dJ6SkpKoUvhFhYWsLCwUClLSEgAAFhbW6uUV6lSBXFxcWp93L9/H9WrV8epU6fw/fffIy4uDo0aNcLMmTNRr169YuNiUiciIsqn6ZTdx8oAACAASURBVCx827ZtWLdunVr5xIkTMWnSJJWyzMy8b6d78QutpFIpZDKZWh9paWl49OgRVq9ejWnTpqF8+fLw9/fH0KFDceTIEZVvsnwRkzoREVE+hVyzpD58+HD069dPrfzFWToAGBsbA8i7tv7fxC6TyZSPwP4vQ0NDpKWlYeXKlbC3twcArFq1Ch06dMCBAweK/bZIJnUiIqJ8Cg3vUy9smb0otra2AIDExETlN1AW/FzwjZP/ZWNjo/x2ygLGxsaoUaMGYmJiij0XN8oRERHlE0Ki0fEqHBwcYGZmhvDwcGVZWloaIiMj0bJlS7X6rq6uEELgzz///VrdrKwsPHz4EDVr1iz2XJypExER5SuNZ79LpVIMGzYMvr6+qFSpEqpXrw4fHx9YW1uje/fukMvlSE5Ohrm5OYyNjeHq6gp3d3fMmDEDCxYsQIUKFbB27VpIJBJ4eHgUey7O1ImIiPKV1sNnJk+ejAEDBmDOnDkYMmQIhBDYvHkzpFIp4uLi0LZtWxw9elRZf926dWjdujUmTZqE/v37IyUlBdu3b0fFihWLPQ+/epWIqBD86tWypyS+ejWy3sca1Wt058gbn6s0cPmdiIgon1xRthewmdSJiIjylfW1ayZ1IiKifJre0vauYlInIiLKV9a/T51JnYjoPbLTykjbIbzTuPxORKSDDkb/rO0QSsWdxh9oO4R3GjfKERER6QheUyciItIRZXz1nUmdiIioAGfqREREOoK734mIiHSEQtsBvCEmdSIionxyztSJiIh0gwJM6kRERDpBMKkTERHpBl5TJyIi0hGcqRMREemIXG0H8IaY1ImIiPJxpk5ERKQjFGU7pzOpExERFeAtbURERDqCX+hCRESkI3hLGxERkY6QS7j8TkREpBM4UyciItIR3P1OREQ6r1xrZ1hNGg5pgzpQpKQi5eAJPPXfAciLntsaNXVAxSmjYNTYHorMTGSeu4wnPpsgf/JMWceghi0qTR0LY9cmAICM38PwZEUA5MnPS31MhSnru9/1tB0AERG924yaOsB2wwLkJj5BwrTFeL73CCqMGYSKU8cW2UbaqD6qBi6HyMlBwtcLkbxmK8q5N4eN33xlHT0zE1QNXA6DGjZ4PH8NnqwMQDm35rD9fhGgp530JDQ83lWcqRMRUbGsJnwK2d2HSPD8DgCQcToMIisbFb3G4FngXsgfJ6u1qeg1BrI7DxA3YbZyNq9ISUOlmV/AsGZV5ETHwmJQT+hblcejoV8p+8i+eRc19q6Habe2SD/++9sbZL6yvvzOmToRERXN0BDlWjZFeug5leK0/zsNiYE+TNq6qjXRszRHuRZNkRL0s8ryfHroOTzoOgw50bEAAJO2rsi+GqnyoUAWeRuyB49g2qFVKQ2oeHINj3cVZ+pERFQkwxo2kEilkN2PUSmXJz6BIjML0ro11dpI7epCoq8P+ZOnqLJkGkw7uwMSCdJ/PY+kxRugSEnL67tuTbUPCwCQGx0Lw7o1SmdAL8GZOlEZYm9vjzVr1qBz585wd3fHzZs3oVAoEBAQgC5duqBp06bo1asX9u3bp2zTvXt3LF26VKWf0NBQODo6Iikp6W0Pgeit0jMzBQAoUtPVXlNkZEJiaqJWrm9lCQCoPN8TIleO+Mnz8WRFAEzatYTt9wuB/HvB9cxMC+83PQN6hfT7Nig0PN5VnKnTe2fnzp3YtGkThBCws7PDypUrcfToUcyePRsNGjTAH3/8gUWLFuHJkycYP348+vXrh507d2L69OnQy9+8ExISgnbt2qFSpUpaHg1RKSvYsCY03x4mMcxLLdl/38bj2asAAJlhVyFPTYfNym9g0tYVGWcuQaInQZHbzrS0G+1dTtia4Eyd3ju9evWCk5MTmjVrhoyMDGzfvh0zZsxA586dUaNGDfTp0wdjx45FYGAgFAoF+vXrhydPnuDChQsAgNTUVJw6dQoeHh5aHglR6StYKtczU58565mUK2KmnQkAyDgdrlKeeS4CACBtWD+/7/RCZ+R6piZQpKn3+zYIiWbHu4ozdXrv1KpVS/nnO3fuQCaTYcaMGfD29laWy+VyZGdnIykpCTY2NnB3d8fPP/+MNm3a4P/+7/9gYmKCjh07aiF6orcr52EcRE4uDGtVUynXt64EvXLGyLkbrd7mwSMAgERqqPqCQV7KEVnZAADZ/Ri1fgHAsFY1ZP7xZ0mE/8pytXLWksOZOr13ypUrp/yzyF9S9PHxQXBwsPL4+eefceLECVhZWQEAPDw8cOLECWRlZSEkJAQ9e/aEVCrVSvxEb1VODjIjrsO0axvltXAAMOvRASInFxlhV9Wb3I1GTkw8zD7sqFJu2jFvR3tWfsLOOBcBY2dH6FesoKwjbVQfhjWrKmf1b1tZv0+dSZ3ea3Xr1oWhoSFiY2NRq1Yt5REeHo4NGzYor6F37doVBgYGOHDgAC5duoT+/ftrOXKit+fphh0wsq8HG795MOnYGuXHDkHFKaPwfPfPkMc/BgwNYezsCAObyso2T3w2waixHazXzIFJW1dYDuuHSt4TkH7yPLL//AcAkLL7ZyjS0lF163KYfdgB5n27w3b9AmT/dQtpx89oZawKiWbHu4pJnd5r5ubmGDx4MNauXYvg4GA8fPgQISEhWLRoEaysrJRJ3cjICB999BF8fHxgb2+Phg0bajlyorcn68pfiJ88DwbWlWCz6ltYDPgITzfvxpMVAQAAg8pWqPbjKph7fKBsk/7LWcRPmgeDKpVgvWYuyo8egJR9R5EwbbGyjiIlDbGjZiD3UQIqz/dCxa/HIPPiFcR98S2g0M6WNe5+JyrjvL29UbFiRfj5+SEhIQHW1tb4/PPP8cUXX6jU8/DwQFBQEPr166elSIm0J+P3cGT8Hl7oa7mxCbjT+AO18ozTYcg4HVZsvzn3HiLui1klEmNJKK2ErVAosG7dOuzbtw8pKSlwcXHB3LlzVfb4FOXnn3/G1KlTceLEiZfWlwjxCvcpEBFRmVZY8tUV9f48/sZ9rKw5TKN6U6N3vFK/fn5+2LVrF5YuXQpra2v4+Pjg3r17OHLkCIyMjIps9+jRI/Tp0wepqakaJXUuvxMREeXLlWh2vAqZTIbAwEBMnDgRHTp0gIODA3x9fZGUlIRjx44V2U6hUGDatGlwdHTU+FxM6kRERPlKY/d7VFQUMjIy0Lp1a2WZmZkZGjVqhIiIonf5+/v7IycnB+PGjdP4XLymTkRElE+hYcpOSUlBSkqKWrmFhQUsLCxUyhISEgAA1tbWKuVVqlRBXFxcof1fv34dgYGB2L9/v7K9JpjUiYiI8mm6UW7btm1Yt26dWvnEiRMxadIklbLMzLwn7L34bAupVAqZTKbWR0ZGBqZOnYqpU6eidu3aTOpERESvQ9Ol9eHDhxd6J8yLs3QAMDY2BpB3bf2/iV0mk8HERP0xuQsXLkTt2rUxePBgDaP5F5M6ERFRPk1n6oUtsxfF1tYWAJCYmAgzMzNleWJiIurXr69W/8CBA5BKpXB2dgaQ99hqAOjTpw969+6NBQsWFHkuJnUiIqJ8uZKSv8vbwcEBZmZmCA8PR926dQEAaWlpiIyMxNChQ9XqnzhxQuXna9euYdq0afj+++9hZ2dX7LmY1ImIiPKVxoNbpFIphg0bBl9fX1SqVAnVq1eHj48PrK2t0b17d8jlciQnJ8Pc3BzGxsZq96LHx8cDAKpWrYqKFSsWey7e0kZERJSvtB4TO3nyZAwYMABz5szBkCFDIITA5s2bIZVKERcXh7Zt2+Lo0aNvHD+fKEdE9B7hE+WKN6P2EI3qLbsf9MbnKg1cficiIspX1me5TOpERET5cst4WmdSJyIiyle2UzqTOhERkdK7/F3pmmBSJyIiyifK+FydSZ2IiCgfZ+pEREQ6QtNvaXtXMakTERHlkzOpExER6QYuvxMREekIbpQjIiLSEZypExFRmVESz0fXZZypExER6QjO1ImIiHSEvIx/cSmTOhERUT7ep05ERKQjeE2diIhIR/CaOhERkY7g8jsREZGO4GNiiYiIdITg7nciIiLdwOV3IiIiHcGNckRERDqCt7QRERHpCC6/ExER6Qg+JpaIiEhHcPmdiIhIR3D5nYiISEfwPnUiIiIdwZk6ERGRjpCLsn2nOpM6ERFRvrI9T2dSJyIiUuLyOxERkY4o60ld70078PPzQ/v27UsiFhW+vr7o3Llziff7ukpqnL/++itu375dAhHRqxJC4ODBg3jy5Mkb9ZOTk4OtW7eWUFRE9C4RQmh0vKveOKmT5qKjo/HFF1+8cVKh13Px4kXMnDkTmZmZb9RPcHAwli5dWkJREdG7RAGh0fGu4vL7W/Quf7p7H/D9J6KXUZTx3e8vnanb29tj7969GDlyJJo2bYpu3bph/fr1avX8/f3RunVrNG/eHN7e3khLS3ulQPbs2YNu3bqhadOmmDBhAlJTU1Ve/+effzBu3Di0aNECjRs3RufOnbFp0yYAQHJyMho3boz9+/ertNmwYQO6du0KIQTu3buHMWPGwNXVFc7Ozhg5ciT+/vvvV4rxZeOUyWRYvnw52rVrh2bNmqF///4IDQ0FAMTExKB79+4AgM8++wzTp0+Hm5sbAgMDle337dsHe3t7nD9/Xlk2b948jBkz5qX9F7h16xY+//xzODs7w93dHV999RViY2OVr3/66adYtmwZvvnmG7i6uqJNmzaYNm3aK/19ffrpp/j2228xaNAguLi4YN++fQCAkydPwsPDA02aNEGXLl2wbNkylVnx6dOn4eHhAScnJ7Ru3RozZszAs2fPlK+HhoZiwIABaNasGZo0aYJ+/frh9OnTGscFAFu2bEHXrl2V/0bWrVsHhUKBsLAwjBw5EgDQpUsX+Pn5aXTOwsY6a9YsAHn/b/z000+vFB8RvdtKa6auUCiwdu1atGvXDk5OThg1ahQePHhQZP3o6GhMmjQJbm5uaNmyJcaMGYNbt269/ETiJezs7ISLi4sIDg4Wd+/eFStXrhR2dnYiLCxMCCHE2rVrhZ2dnRg2bJj466+/RHh4uOjevbsYPXr0y7pWOnz4sGjYsKH48ccfxd27d4W/v7+wt7cXnTp1EkIIkZGRIdq0aSO+/vprcfv2bXHv3j2xYsUKYWdnJ65fvy6EEGLSpEnik08+Uem3e/fuYt26dUIIIfr06SO8vb3FvXv3xK1bt8SYMWNEp06dhEKh0ChGTcb51VdfiV69eonz58+L+/fvix9//FE0btxYHDp0SOTm5oorV64IOzs7cfz4cZGSkiJmzJghRo4cqWw/efJkYW9vL1atWqUs69ixowgKCnpp/0IIER8fL1q2bCnmzZsnbt++Lf766y8xadIk0aZNG5GcnCyEEGLYsGHC0dFR+Pj4iLt374pDhw4JR0dH4efnp/Hf17Bhw4S9vb04cOCAuHXrlkhKShKnTp0SjRs3Fjt37hQPHjwQ58+fFz179lSO78mTJ8LR0VHs2LFDxMTEiIiICNG5c2cxY8YMIYQQN27cEA4ODmLLli0iOjpaREZGijFjxoiWLVuK7OxsjeL65ZdfRIsWLcTZs2fFo0ePxJEjR4Sjo6M4cOCAyM7OFkePHhV2dnbi2rVrIi0tTaNzvjjWmJgYERgYKOzs7ERiYqLIzMzU+H0jondfM2t3jY5XtXbtWtG6dWtx6tQpERUVJcaMGSO6dOkisrKy1OqmpqaKTp06iTFjxojIyEhx8+ZNMXnyZNG6dWuRlJRU7Hk0Surfffed8meFQiGcnZ2Fv7+/MlBHR0fx+PFjZZ2zZ88KOzs7cfv2bY0GO3DgQOHp6alSNnbsWGVSf/Lkidi4caNITU1Vvp6dnS3s7OzE/v37hRBCnDp1Stjb24vo6GghhBARERHCwcFBxMbGCiGEcHFxEcuXL1f+sk5MTBQXL14Uubm5GsX4snHev39f5UNGgXnz5onevXsLIYSyzsWLF4UQQhw/flw0adJEZGZmCrlcLlq2bCkmTpwoBg0aJIQQIioqStjb24uEhASN+l+1apXo2bOnyuvZ2dnC1dVVbN26VQiRl6RerDNu3DgxatQojd6HovoYPHiwmD9/vkrZtWvXhJ2dnYiMjBSRkZHCzs5OhIaGKl//559/RFRUlBBCiMjISLFjxw6V9gXvb8Hf6cts3bpVtGnTRty5c0dZdunSJRETEyOEEOLcuXPCzs5OPHz4UONzFjbWvXv3Cjs7O41iIqKypam1m0bHq8jOzhbNmjVT+X2TmpoqnJycxMGDB9XqHz58WDRq1EikpKSo9OHk5CT27NlT7Lk0uqZep04d5Z8lEgnMzMyQk5OjLKtZsyYqVaqk/NnJyQlA3lJwvXr1Xtr/P//8gx49eqiUOTs7K5carKysMHToUBw5cgSRkZGIjo5WLp0rFHnXP9q1awdra2scOnQIEydOxMGDB+Hm5gZbW1sAgKenJxYvXoygoCC0bNkS7dq1Q69evaCvr6/JW/DScYr867WfffaZSpv/vk8vatu2LQAgPDwc5cuXR25uLkaMGIHPPvsM6enpOHXqFJycnFClShUcO3bspf1HRUXhzp07cHZ2VqmTlZWFu3fvKn/+798nAJiZmSEhIaH4wb+gVq1aKj9HRUXhxo0bOHjwoFrdO3fuoGfPnujZsycmTJiAypUrw93dHR07dlT+vTds2BAWFhYICAjA3bt38eDBA7W/45fp3bs3Dhw4gA8//BD169eHu7s7evTogWrVqhVaX9NzvjhWItJdpfEtbVFRUcjIyEDr1q2VZWZmZmjUqBEiIiLQt29flfrNmzdHQEAAzM3NVWMTQuWSZWE0SupSqVStTPxn09GLiVEulxfZrijihU1MBgb/hvb48WMMHDgQVlZW6NKlC9q1a4cmTZqo3GKmp6eHfv36ISQkBGPHjsWxY8ewYMEC5euffPIJevTogdOnT+PChQvw8/PDli1bsHv3blSpUkWjGIsbZ1ZWFgBg+/btsLCw0Kg/ExMTtGrVCmfPnkWFChXQsmVLNGvWDOXKlUNERAROnTqFLl26qLw/xfWvUCjg6uqK7777Tu01MzMz5Z9f5e+lKMbGxmrnHjlyJP73v/+p1a1YsSIAwMfHB19++SV+//13XLhwATNmzMBPP/2ETZs2ITw8HKNHj0bHjh3h6uqK3r17IyMjA19++aXGMVlZWeHQoUO4cuUKzp07h3PnzuHHH3+Ep6cnxo0bp1Y/LCxMo3O+OFYi0l0KDTfUpqSkICUlRa3cwsJC7Xd0waTJ2tpapbxKlSqIi4tT68PW1lY5IS2wbds2ZGdno0OHDsXGVSK3tEVHR6tstLp8+TIkEgkaNGigUfuGDRviypUrKmU3btxQ/vnw4cN4+vQpgoKCMGHCBHTt2lX5aeW/Hwb69++P6Oho/PDDD9DT00PXrl0BAImJiZg/fz5ycnLg4eGBFStWICQkBI8ePUJYWFiJjNPOzk55rlq1aimPY8eOISgoCEDeKseLOnfujLNnzyIsLAxubm7Q19dHixYtcPToUVy7dk05Bk36t7Ozw71792BjY6N8vXLlyli6dKnK+1kaCs7939hSUlKwdOlSPH36FJcvX8aiRYtQt25djBgxAhs3bsSSJUtw5swZJCYmYuvWrWjRogXWrVuHESNGwN3dXfmP/cUPfEU5ePAgdu3aBRcXF0yePBl79uzBwIEDlZvZXnz/S+KcRKRb5EKh0bFt2zZ06dJF7di2bZtanwUbhl+cUEmlUshkspfGdOzYMaxevRojRoyAvb19sXVLJKnLZDJ89dVXiIyMxPnz57Fw4UL07NkTNWrU0Kj92LFjERoais2bN+P+/fvYtm0bTp48qXzdxsYGWVlZOHr0KB49eoSzZ8/Cy8tLee4CNWrUQKtWrbB+/Xr07NkTRkZGAPJmcKdOncKsWbMQFRWFhw8fIigoCIaGhmjcuHGJjLN+/fro3Lkz5s+fj9DQUDx8+BDbt2/H2rVrUb16dQCAqakpAODmzZt4+vQpgLykfvfuXURERMDNzQ0A4ObmhpCQENSuXRt169YFAI36Hzp0KDIyMuDl5YWoqCjcvHkTXl5euHz58kv/IbypcePGITQ0FGvXrsW9e/cQHh6OqVOn4vHjx6hevTosLCwQFBSEFStW4P79+7h16xYOHz6MGjVqoFKlSrC1tcWtW7cQERGBmJgYHDhwAGvWrFG+75oouDsgODgYMTExiIiIQFhYmPJyRMH7HxUVhdTU1Nc+Z0E/169fR3p6+mu/Z0T07hEa/jd8+HCcPHlS7Rg+fLhanwWrfS/+XpHJZDAxMSk2nu3bt8PLywu9e/fG9OnTXxp/idyn3rBhQzRu3BjDhw+HEAIfffQRZs6cqXH7jh07wsfHB35+flizZg2cnZ0xYsQIHD16FADQo0cP/PXXX1ixYgXS0tJQrVo1DBgwACdPnsS1a9cwbNgwZV8eHh64ePEi+vfv/+8gDQywefNmLFu2DCNGjEBGRgYcHBzg7++vdn35Tcbp6+uL1atXY/78+Xj27BmqV6+OWbNmYejQoQDylqEHDRqEFStW4Pz58/D394e1tTUcHR0RHx+vXNlwd3eHQqFQztI17b969erYuXMnVq5ciaFDh0JfXx9OTk7Ytm2b2lJOSevWrRvWrFmDjRs3IiAgABYWFujQoQOmTZumXM3w8/PD+vXrsWvXLujp6aFly5bYsmUL9PX1MXnyZCQlJWH8+PEA8j7ELF68GNOmTcO1a9eUKxXFGTRoEFJTU7FhwwbExcXB0tIS3bp1w9SpUwEADg4O6Ny5Mzw9PTF48ODXPmfbtm3RvHlzDB06FJ6enhg9enQJvYtEpG2aLr8XtsxelILfv4mJiSqXQhMTE1G/fv3C41AosGjRIuzYsQNjx46Fl5dXoau9L5IIHVtnDAgIwNGjRxEcHKztUIiIqIxpUNlFo3q3Hl/WuE+ZTAY3NzdMmzYNgwcPBgCkpaWhbdu2yhXfF82ZM0f5XIxPPvlE43PpzBPlLl++jPv372PLli3w9vbWdjhERFQGaTpTfxVSqRTDhg2Dr68vKlWqhOrVq8PHxwfW1tbo3r075HI5kpOTYW5uDmNjY5w4cQJ79uzB+PHj0b17dzx+/FjZl4mJifISYGFKNalfuXIFo0aNKrZOq1at4O/v/8bnOnXqFLZv344+ffqgT58+Grd7mzG+6zZt2oQNGzYUW2fChAn4/PPP31JE/3J1dVXebVAYfX19REREvMWIiEgXKUTRv2fexOTJkyGXyzFnzhxkZmbCxcUFmzdvhlQqRUxMDLp06YIlS5bAw8MDISEhAPKeYPpi7hk/fjw8PT2LPE+pLr9nZ2cjPj6+2DrGxsZq2/zfprIQ49vy/Pnzl94DWb58eVhaWr6liP4VHR1d7I50iUSCmjVrvsWIiEgX1arYVKN6D55cL+VIXo/OXVMnIiJ6XTWtmmhULzq5dG8Tfl06c02diIjoTb3LX6uqCSZ1IiKifGV98ZpJnYiIKF9p7H5/m5jUiYiI8imEZl8g9a5iUiciIsrHa+pEREQ6gtfUiYiIdASvqRMREekIztSJiIh0BK+pExER6Qi5grvfiYiIdILgTJ2IiEg3cKMcERGRjuBGOSIiIh3B5XciIiIdoeBGOSIiIt1QtufpgESU9QsIREREBADQ03YAREREVDKY1ImIiHQEkzoREZGOYFInIiLSEUzqREREOoJJnYiISEcwqRMREekIJnUiIiIdwaRORESkI5jUiYiIdASTOhG9s9atW4fMzEy18rS0NCxatEgLEZWM5ORkbYdQaoKDgyGTydTKMzIysHXrVi1E9H5hUifSQTKZDFevXkVaWpq2Q3llycnJiI2NRWxsLNavX4+7d+8qfy44Ll68iD179mg71NfWvn17TJgwAaGhocjNzdV2OCXK29u70H93d+7cwapVq7QQ0fuFX+hCpANiY2Mxc+ZMfP3112jYsCEGDx6MyMhIWFpaIjAwEI6OjtoOUWPBwcGYOXMmJBJJsfU6deqEDRs2vKWoSlZoaCh+/vlnnDp1CqampujZsyc8PDzg4OCg7dBeyw8//IBly5YBAIQQRf7dOTs7Y9euXW8ztPcOkzqRDpg4cSISEhLg6+uL8PBwLF68GJs3b8b+/fsRExODH374QdshvpILFy5ACIFRo0Zh9erVsLS0VHnd1NQUDRs2hKGhoZYiLBlpaWk4duwYQkJCcPnyZdjb28PDwwOffvqptkN7Jbm5uQgODoYQArNnz8bMmTNhamqqfF0ikcDU1BRt27aFubm5FiPVfUzqRDqgRYsW2L59Oxo2bIgpU6YAAFavXo179+7Bw8MDV65c0XKEryc8PBzNmzeHgYGBtkMpVdnZ2Thw4AB8fHyQkZGBqKgobYf02vbt24e2bdvC1tZW26G8l3hNnUgH5ObmwtLSEkIIXLhwAW5ubgAAhUJRphNiixYtcPjwYcTFxQEAAgIC0KNHD3zzzTeFbqAray5cuABvb2+0adMGa9asQe/evbF3715th/VGli9fjoyMDG2H8d4qu/+3E5FSo0aNsH//flSsWBEpKSno0KEDZDIZNm/ejIYNG2o7vNe2fv16BAQE4IcffkBcXBx8fX0xYMAAhIWFwcfHB7NmzdJ2iK9l2bJlOHLkCJKSkuDm5oYFCxaga9eukEql2g7tjdWrVw83btxAvXr1tB3Ke4nL70Q64Nq1axg/fjyePXuGzz//HF5eXpgzZw6OHj2KLVu2wMnJSdshvpbOnTtj2rRp+PDDD7F48WJcv34du3fvRkREBDw9PXHmzBlth/haPvjgA/Tr1w/9+vWDtbW1tsMpUbNmzcJPP/2E+vXro3bt2jA2NlZ5ffny5VqK7P3AmTqRDnBycsK5c+eQlpYGCwsLAMDw4cPh6emJChUqaDm61/f48WM4OzsDAM6fP48ePXoAAGxtbZGSkqLN0N7I8ePHlX9OSkqClZUVcyBqQgAAGpdJREFU9PR042rogwcP4OLiAgB4+vSplqN5/zCpE+kIPT09XL16FTdv3oRUKkWDBg1Qp04dbYf1RmxsbHDv3j1kZmbi9u3baNOmDQDg0qVLsLGx0XJ0byYgIABbtmxBamoqjh8/jvXr16NixYqYNm2atkN7Iz/++KO2Q3ivMakT6YCUlBSMHj0aN27cgImJCYQQyMzMRNOmTREYGAgzMzNth/haBg8ejClTpkAqlcLe3h7Ozs7YuXMnVqxYgcmTJ2s7vNe2b98+bNmyBWPHjoWfnx8AwMXFBYsXL4a5uTnGjx+v5QjfTE5ODhITE6FQKADk3bsuk8lw7do19O/fX8vR6TZeUyfSAbNnz0ZERARWrlypfNDM9evXMWPGDLi7u2P27NlajvD1hYaG4tGjR+jduzcqVKigfAzpwIEDtR3aa+vduzc+//xz9OrVC87OzggJCUGNGjUQEhICPz8//PLLL9oO8bWdPn0aM2fOxLNnz9ReMzY2LrO3V5YVunERh+g9d/LkScyZM0flyXFNmzbF7NmzceLECS1G9ua6du2K4cOHQy6XQ6FQoG/fvmU6oQN5150L9gr8l7OzMxISErQQUclZs2YNmjRpgs2bN8PY2Bjr1q3DN998AzMzM6xYsULb4ek8JnUiHZCZmVnowz5sbW3x/PlzLURUcgICAtCqVSu0b98ejx49wsyZ/9/evQZlWSZ+HP89oI94Flo1D+tZQWcIFfKsFKGVoVOKbpvrRLFLGY0p7RKpOUqKUa5jeFgw3UyT1pFUPJRbOUgsGgLaYqYh5qo5ihp5RAHl+b9wYpbF+rfrLRfcz/fzjuvmxe/d77nu63DH1ftyaN26tY4ePVpjPD8/v97vhi8qKlJMTIyGDh2q3r17q0mTJpo8ebLi4uK0atUq0/Fsj1IHbMDX11dbt26tMb5lyxb16NHDQCJr/Pva849nuAMDA5Wamqrk5GTD6f53EydO1Ny5c6veohw5ckTvv/++EhISFB4ebjjdnfH09Ky6CrZz584qLCyUJA0aNOi2P2RgLTbKATYwZcoUPf/88zp8+LCCgoIk3dohnpGRoaSkJMPp/ndr167VrFmzNGbMGC1dulSSNGHCBDVq1EhLliyptxvK/vCHP+jixYv64x//qPLycr3wwgtq0KCBfvvb3yoqKsp0vDvSs2dPffrpp4qIiFDXrl2Vn5+vp59+uupWQNxdlDpgA8HBwUpKStI777yjxYsXS7o1e1+yZIlCQ0MNp/vf2XXtuaioSH/6058UHR2to0ePyuVyqVu3bvX2lMK/i4qK0tSpU+V0OhUWFqYlS5YoMjJShYWFGjRokOl4tkepAzYxcuRIjRw50nQMS/249tyxY8dq4/V97fmZZ57R8uXLdd9998nf3990HEuFhoZqw4YN8vT0VPv27bVy5UqtXr1aI0eO1EsvvWQ6nu1R6kA9lZaW9ov/t76u0/649hwXFyfp1tpzZmamkpKSFBkZaTjd/87pdP6/34uvr5YuXarIyEg1btxYkjRw4EANHDhQV65c0dtvv62ZM2caTmhvnFMH6ik/P79f9H8Oh6PefsrT5XJp4cKFWrt2rcrLyyWpau15xowZ9bYYk5KStG7dOo0dO1adO3eucT96ffsRVlJSouvXr0uSHnroIaWlpdW4nvjrr79WTEyMCgoKTER0G5Q6gDqvtLTUVmvPP/eDrD7+CNu8ebPi4uJ+9keWy+VSSEiIli9fXovJ3A+lDgC4Y3v27JHL5dKzzz6rxYsXq2XLltWeN23aVL1791bDhg0NJXQPlDqAOsvPz+9nZ3/1bUbrDvbu3av+/furQQO2bJlAqQOoszZs2FDt7xs3buj48eNKT0/XK6+8oscff9xQMvwUl8ul9PR0DRw4UO3atdOKFSu0ceNG9e/fX6+99lrVBjrcHZQ6gHpny5Yt2rp1q9555x3TUfAfli5dqhUrVmj16tWSpEmTJmnChAnKycnR8OHDNWvWLLMBbY5rYgHUO4GBgcrNzTUdA7exceNGJSYmqn///tqxY4cCAgIUHx+v+fPn6+9//7vpeLZHqQOod7Zt26YWLVqYjoHbOHfuXNUtgLt379awYcMk3fq40KVLl0xGcwvsZABQZwUHB9fYKHf16lVduXJF06dPN5QKP+fee+/VsWPHdO3aNRUVFWno0KGSbn2L4N577zWczv4odQB1Vnh4eI1Sdzqd6tevn+6//35DqfBznnzySU2bNk1Op1O+vr7q16+f1q1bp7feektTp041Hc/22CgHALDUZ599plOnTmns2LHy9vbW5s2bVV5erokTJ5qOZnuUOoA668fPrf4nh8Ohhg0b6t5779WIESPUqlWrWk6GOzVgwAB9+OGH+vWvf206iq3w+h1AnZWbm6vc3Fw1bNhQXbt2lXTrc6zXr19Xu3btdOHCBTVq1Ehr1qxRz549DafFf6OiosJ0BFti9zuAOuu+++5TYGCgMjIytHnzZm3evFkZGRkaNmyYnnjiCeXk5OiBBx7QwoULTUcF6gRKHUCdlZaWphkzZsjHx6dqrFWrVnr55ZeVmpqqhg0bKjIyUvn5+QZTAnUHpQ6gzrpx48ZtX9OWlZVVferT6XSKrUHALZQ6gDpr2LBhmjNnjo4ePVo1dvToUc2bN0/Dhg3TjRs3lJqaKl9fX4MpgbqDjXIA6qzXXntNzz33nMLCwtS0aVO5XC6VlpYqICBAs2fP1ueff67169crJSXFdFSgTuBIG4A6zeVyKScnR4cOHZKnp6f8/Pw0YMAASdIPP/ygBg0aqHnz5oZT4r/Vv39/paenc6TNYszUAdRpDodDbdq00aVLl+R0OtW+ffuqZ97e3gaT4U54enqajmBLzNQB1FlXrlxRTEyMsrKyqjbDeXh4aMyYMZo7d668vLwMJ8TtVFRU6OzZs6qsrJR0621LeXm5/vnPf2r8+PGG09kbpQ6gznr11Ve1f/9+zZ49W/fdd58qKyuVl5enefPmacSIEZozZ47piPgPmZmZiouL04ULF2o88/Ly0v79+w2kch/sfgdQZ33yySeaN2+ehgwZombNmqlFixYKCQnRvHnz9NFHH5mOh9t4++235e/vr5UrV8rLy0tLly7VjBkz1KxZM7311lum49kea+oA6iyn06lmzZrVGGctve4qKipSQkKC/Pz81Lt3bzVp0kSTJ09WkyZNtGrVKoWGhpqOaGvM1AHUWREREUpISFBJSUnVWGlpqRYtWqRJkyYZTIaf4unpWXUaoXPnziosLJQkDRo0qNp9A7g7mKkDqFOCg4OrfUP9zJkzeuCBB9SpUyd5eHjo5MmTKisr0w8//KCXXnrJYFLcTs+ePfXpp58qIiJCXbt2VX5+vp5++mmdPn3adDS3QKkDqFPCw8OrlTrql6ioKE2dOlVOp1NhYWFasmSJIiMjVVhYqEGDBpmOZ3vsfgcAWOrgwYNVFwXl5ORo9erVateunaZOnapWrVqZjmdrlDqAOi0vL0/79u1TRUVFtQ+3OBwORUdHG0yGX+rcuXP61a9+xRuYWkCpA6izli9frqSkJDVt2rTGLniHw6Fdu3aZCYafdPHiRb3xxhuKiIhQr1699NxzzykrK0udOnXSypUruRb2LqPUAdRZo0aN0iOPPKKYmBjTUfALxcXFKT8/X8nJySosLNQrr7yiBQsWaNu2bfLw8NCyZctMR7Q1NsoBqLOKi4u5VrSeyczM1PLly9W9e3etWLFCQ4YM0WOPPaZevXrpqaeeMh3P9jinDqDOCgwM1IEDB0zHwH/h2rVrateunSRp9+7dGjJkiKRbFwndvHnTZDS3wEwdQJ316KOPKj4+XgUFBerSpYucTme15+Hh4YaS4ad0795du3btUtu2bXXu3DmNGDFCkrRhwwb16NHDcDr7Y00dQJ3l5+f3k88cDocOHTpUi2nwS2RmZurFF1/UjRs39Nhjj2nhwoVKSEhQamqqli1bpuDgYNMRbY1SBwBYqqSkRGfPnq36UbZv3z61aNGCmXotYE0dAGApHx8fSdJHH32k0tJStW3blkKvJaypAwAsc/36dUVHRys7O1sOh0OffPKJFixYoO+//14pKSncKHeXMVMHAFgmKSlJ586d04YNG+Tl5SVJmjJlii5evKiFCxcaTmd/lDoAwDKffPKJZsyYIX9//6oxf39/xcfHcwNgLaDUAQCWOXv2rDp27FhjvE2bNrp06ZKBRO6FUgcAWKZHjx7Kzs6uMb5161b17NnTQCL3wkY5AIBloqOjNX36dB05ckQ3b95UWlqajh07ps8++0xvv/226Xi2xzl1AIClMjMzlZKSokOHDqmysrLqa22hoaGmo9kepQ4AsExaWppCQkKqzqqjdrGmDgCwTGJion744QfTMdwWpQ4AsEz37t35sp5BvH4HAFhm1qxZ2rhxo3r06KEuXbpUXUDzozfffNNQMvfA7ncAgGWOHz+uwMBASeI1vAHM1AEAtW7VqlWaOHGimjdvbjqKrbCmDgCodcuWLdOFCxdMx7AdSh0AUOt4SXx3UOoAANgEpQ4AgE1Q6gAA2ASlDgCATVDqAADYBKUOAIBNUOoAgFoXHR2tVq1amY5hO9woBwCwTGlpqd59913t379fFRUVNc6jr1mzxlAy98Dd7wAAy8yZM0cff/yxhg4dKm9vb9Nx3A6lDgCwzO7du7VgwQKFhYWZjuKWWFMHAFimrKxM/v7+pmO4LUodAGCZUaNGadOmTaZjuC1evwMALNOiRQv99a9/VUZGhrp27Sqn01nt+ZtvvmkomXug1AEAlvnqq68UEBAgSfr+++8Np3E/HGkDAMAmWFMHAFjq4sWLWrNmjebMmaOSkhJlZmaquLjYdCy3wOt3AIBlTp8+rQkTJqi8vFxXr15VZGSk1q9fr/z8fL333nvy8/MzHdHWmKkDACyTmJiowMBA/eMf/6jaJPfnP/9Z/fr108KFCw2nsz9KHQBgmdzcXE2ZMqXarvfGjRtr+vTpKigoMJjMPVDqAADLlJaWqlGjRjXGXS6Xbty4YSCRe6HUAQCWuf/++7Vu3bpqY+Xl5Vq2bJmCgoIMpXIfHGkDAFjmyJEj+t3vfqe2bdvq22+/VVBQkI4dO6bS0lK9//778vX1NR3R1ih1AICliouLlZqaqsOHD6uyslK9evXSU089pQ4dOpiOZnuUOgAANsGaOgDAUtu2bdMTTzyhgIAAnTx5UomJiUpNTTUdyy1Q6gAAy+zcuVMzZ85Uv3799OOL4JYtWyohIUHr1683nM7+KHUAgGWSk5MVGxur2bNny9PTU5L0/PPPKzY2VmvWrDGczv4odQCAZYqKijRixIga4w8++KC+++47A4ncC6UOALBM8+bNdfr06RrjhYWFatWqlYFE7oVSBwBYJiwsTAkJCTp48KAcDocuX76sjIwMvf766xo9erTpeLbHkTYAgGXKy8sVGxurHTt2SJIcDodcLpdCQkK0ePHianfCw3qUOgDAcsePH9ehQ4dUWVkpX19fde/e3XQkt0CpAwAsExUVpZEjRyokJET33HOP6ThuhzV1AIBl2rdvr7/85S8aPny4nnzySa1cuVL/+te/TMdyG8zUAQCWO3z4sHbt2qXMzEwVFBSoS5cuCg0N1fTp001HszVKHQBwV1y7dk25ubn66KOPtGXLFrlcLh06dMh0LFuj1AEAltmzZ49ycnKUk5OjAwcOqEmTJgoKCtLgwYM1ZMgQNszdZZQ6AMAyfn5+8vDwUGhoqJ555hkFBATIw4PtW7WFUgcAWGbDhg3Kzs7Wnj17VFlZqQEDBmjw4MEaPHgws/RaQKkDACzncrl04MAB7d69Wzk5OcrPz1fLli2VlZVlOpqt8U4EAGC5iooKXbp0SRcuXNDZs2dVUVGhtm3bmo5le8zUAQCWWb16tbKyspSfny+Xy6WBAwcqJCREISEhatOmjel4tkepAwAsM2TIEAUHByskJETDhg1T48aNTUdyK7x+BwBYZvjw4Zo5c6ZGjhxZrdAvXLigF154wWAy99DAdAAAQP129OhRlZSUSJK2bNmikSNHqmXLltX+55tvvlF2draJeG6FUgcA3JETJ05oypQpcjgckqQXX3zxtv83ceLE2ozlllhTBwDcsZMnT6qyslIPP/yw1q9fL29v76pnDodDTZs2lY+Pj8GE7oFSBwBY5tSpU2rfvn3VrB21i41yAADLdOjQQdu3b9fjjz+ugIAAnTx5UomJiUpNTTUdzS1Q6gAAy+zcuVMzZ85U//799eOL4JYtWyohIUHr1683nM7+KHUAgGWSk5MVGxur2bNny9PTU5L0/PPPKzY2VmvWrDGczv4odQCAZYqKijRixIga4w8++KC+++47A4ncC6UOALBM8+bNdfr06RrjhYWFatWqlYFE7oVSBwBYJiwsTAkJCTp48KAcDocuX76sjIwMvf766xo9erTpeLbHkTYAgGXKy8sVGxurHTt2SLp1Rt3lcikkJESLFy+W0+k0nNDeKHUAgOVOnDihr7/+WpWVlfL19VX37t1NR3ILXBMLALDcjRs35OHhIS8vLzVq1Mh0HLdBqQMALHPlyhXFxMQoKyur6py6h4eHxowZo7lz58rLy8twQntjoxwAwDLz58/XiRMntGrVKuXl5Wnv3r1aunSpcnNz9cYbb5iOZ3usqQMALBMYGKiUlBQFBQVVG9+9e7emTZumvXv3GkrmHpipAwAs43Q61axZsxrj//7VNtw9lDoAwDIRERFKSEhQSUlJ1VhpaakWLVqkSZMmGUzmHnj9DgC4I8HBwdU+tXrmzBk5nU516tRJHh4eOnnypMrKytSnTx+lpaUZTGp/7H4HANyR8PBwvp9eRzBTBwDUuilTpig+Pl6tW7c2HcVWWFMHANS6L774QtevXzcdw3YodQAAbIJSBwDAJih1AABsglIHAMAmKHUAAGyCUgcA1DrOtd8dlDoAoNZxRcrdQakDACz3Y2mfP39e27dv1/Hjx6s9f/fdd9W2bVsT0WyNUgcAWObw4cMKDQ1VXl6eLl++rN/85jd6+eWXFRYWpj179lT9X9++feV0Og0mtSdKHQBgmTfffFPdunVTt27dtGXLFl27dk1ZWVn6/e9/r8WLF5uOZ3uUOgDAMl9++aVeeeUV3XPPPcrKytLw4cPVunVrjRs3TocPHzYdz/YodQCAZTw9PeV0OlVRUaHc3FwNHjxYknT16lU1btzYcDr749OrAADL9O3bVykpKfL29lZZWZlGjBih4uJiLVq0SH379jUdz/aYqQMALDNz5kx99dVX+tvf/qYZM2bIx8dHKSkpKioqUmxsrOl4tsf31AEAd9W5c+fk4+MjT09P01Fsj5k6AMAyo0aNUnJysoqLi6vGWrduTaHXEkodAGCZxx9/XJs2bVJISIgiIyP18ccfq7y83HQst8HrdwCA5fLz87Vp0ybt2LFDnp6eGjNmjMaPH6/evXubjmZrlDoA4K4pLy/X6tWrtXz5cpWVlal3796KiIjQ2LFjTUezJY60AQAsd+rUKaWnpys9PV0nTpzQwIEDNW7cOJ05c0bz58/Xvn37NGfOHNMxbYeZOgDAMhs3btSmTZuUn5+vNm3a6IknntD48ePVsWPHqv/58MMPNW/ePO3fv99gUntipg4AsMzs2bMVEhKi5ORkDR8+/LbfTe/atasmT55sIJ39MVMHAFimpKREPj4+pmO4LUodAGCpgwcPqrCwUDdv3pR069vq5eXlKigoUGJiouF09sbrdwCAZVauXKmFCxdKkhwOh36cNzocDgUFBZmM5ha4fAYAYJkPPvhAUVFRKigokLe3tz7//HOlp6ere/fueuihh0zHsz1KHQBgmeLiYoWHh8vpdMrPz08HDhyQr6+v4uLilJaWZjqe7VHqAADLNGnSpGotvVOnTjpy5IgkqVu3bjp16pTJaG6BUgcAWKZ///5KTk7W1atX1adPH+3cuVM3b95Ubm6umjZtajqe7VHqAADLxMTEKDs7Wx988IFGjx6t8+fPKygoSK+++qrGjRtnOp7tcaQNAGCp69evq7S0VD4+Pjp//ry2bt2qdu3a6ZFHHjEdzfYodQAAbIJz6gCAOxISEnLb62BvZ+fOnXc5jXuj1AEAd2TMmDFVpX758mWlpqYqODhY/fr1U4MGDVRQUKCdO3fq2WefNZzU/nj9DgCwTHR0tAICAhQVFVVt/L333lNGRoZWr15tJpibYPc7AMAy2dnZevjhh2uMP/DAA3xqtRZQ6gAAy7Rp00bZ2dk1xj/77DN16NDBQCL3wpo6AMAykZGRio+PV35+vvz9/SVJ+/bt086dO6s+9IK7hzV1AICltm/frrVr1+qbb76Rw+FQ7969FRUVpeDgYNPRbI9SBwDUuilTpig+Pl6tW7c2HcVWWFMHANS6L774QtevXzcdw3YodQAAbIJSBwDAJih1AABsglIHAMAmKHUAAGyCUgcA1Lpf+lU3/HcodQBAreOKlLuDy2cAAJb79ttvVVRUJKfTqR49eqhjx47Vnn/55Zfq06ePnE6noYT2RKkDACxz5coVxcTEKCsrq2o27uHhoTFjxmju3Lny8vIynNDeeP0OALDM/PnzdeLECa1atUp5eXnau3evli5dqtzcXL3xxhum49keM3UAgGUCAwOVkpKioKCgauO7d+/WtGnTtHfvXkPJ3AMzdQCAZZxOp5o1a1Zj3Nvb20Aa90OpAwAsExERoYSEBJWUlFSNlZaWatGiRZo0aZLBZO6B1+8AgDsSHBxc7dz5mTNn5HQ61alTJ3l4eOjkyZMqKytTnz59lJaWZjCp/TUwHQAAUL+Fh4dzmUwdwUwdAACbYKYOALBUXl6e9u3bp4qKimo3xzkcDkVHRxtMZn/M1AEAllm+fLmSkpLUtGnTGrvgHQ6Hdu3aZSaYm6DUAQCWGTVqlB555BHFxMSYjuKWONIGALBMcXGxxo8fbzqG26LUAQCWCQwM1IEDB0zHcFtslAMAWObRRx9VfHy8CgoK1KVLlxpfYQsPDzeUzD2wpg4AsIyfn99PPnM4HDp06FAtpnE/lDoAADbBmjoAADZBqQMAYBOUOgAANkGpAwBgE5Q6AAA28X9krWDlgV/InQAAAABJRU5ErkJggg==\n",
      "text/plain": [
       "<Figure size 432x288 with 2 Axes>"
      ]
     },
     "metadata": {},
     "output_type": "display_data"
    }
   ],
   "source": [
    "mask = np.tril(np.ones_like(corr, dtype=np.bool))\n",
    "ax = sns.heatmap(df3.corr(), annot=True, fmt=\".2f\", mask = mask, square = True)"
   ]
  },
  {
   "cell_type": "markdown",
   "metadata": {},
   "source": [
    "***To be checked:* correlation between nb_days_between_resa_start and nb_stars**"
   ]
  },
  {
   "cell_type": "markdown",
   "metadata": {},
   "source": [
    "# Splitting the data"
   ]
  },
  {
   "cell_type": "code",
   "execution_count": 89,
   "metadata": {},
   "outputs": [],
   "source": [
    "from sklearn.model_selection import train_test_split\n",
    "\n",
    "X = df3.loc[:, df3.columns != 'rev']\n",
    "y = df3['rev']"
   ]
  },
  {
   "cell_type": "code",
   "execution_count": 90,
   "metadata": {},
   "outputs": [],
   "source": [
    "X_train, X_test, y_train, y_test = train_test_split(X, y, test_size=0.25, random_state=1)"
   ]
  },
  {
   "cell_type": "code",
   "execution_count": 91,
   "metadata": {},
   "outputs": [],
   "source": [
    "df_train = pd.concat([X_train, y_train], axis=1)\n",
    "df_test = pd.concat([X_test, y_test], axis=1)"
   ]
  },
  {
   "cell_type": "code",
   "execution_count": 92,
   "metadata": {},
   "outputs": [],
   "source": [
    "datasets = [df_train, df_test]"
   ]
  },
  {
   "cell_type": "code",
   "execution_count": 93,
   "metadata": {},
   "outputs": [
    {
     "data": {
      "text/plain": [
       "((227807, 14), (227807,), (75936, 14), (75936,))"
      ]
     },
     "execution_count": 93,
     "metadata": {},
     "output_type": "execute_result"
    }
   ],
   "source": [
    "X_train.shape, y_train.shape, X_test.shape, y_test.shape"
   ]
  },
  {
   "cell_type": "code",
   "execution_count": 94,
   "metadata": {},
   "outputs": [
    {
     "data": {
      "text/plain": [
       "set()"
      ]
     },
     "execution_count": 94,
     "metadata": {},
     "output_type": "execute_result"
    }
   ],
   "source": [
    "set(X_train.index) & set(X_test.index)"
   ]
  },
  {
   "cell_type": "markdown",
   "metadata": {},
   "source": [
    "# Numerical features:"
   ]
  },
  {
   "cell_type": "code",
   "execution_count": 95,
   "metadata": {},
   "outputs": [
    {
     "name": "stdout",
     "output_type": "stream",
     "text": [
      "StandardScaler()\n"
     ]
    },
    {
     "name": "stderr",
     "output_type": "stream",
     "text": [
      "/opt/anaconda3/lib/python3.6/site-packages/pandas/core/indexing.py:965: SettingWithCopyWarning:\n",
      "\n",
      "\n",
      "A value is trying to be set on a copy of a slice from a DataFrame.\n",
      "Try using .loc[row_indexer,col_indexer] = value instead\n",
      "\n",
      "See the caveats in the documentation: https://pandas.pydata.org/pandas-docs/stable/user_guide/indexing.html#returning-a-view-versus-a-copy\n",
      "\n"
     ]
    }
   ],
   "source": [
    "from sklearn.preprocessing import StandardScaler\n",
    "\n",
    "scaler = StandardScaler()\n",
    "print(scaler.fit(X_train.loc[:, ['los', 'nbguest', 'nb_days_between_resa_start']]))\n",
    "X_train.loc[:, ['los', 'nbguest', 'nb_days_between_resa_start']] = scaler.transform(X_train.loc[:, ['los', 'nbguest', 'nb_days_between_resa_start']])"
=======
    "df.describe()"
   ]
  },
  {
   "cell_type": "code",
   "execution_count": 7,
   "metadata": {},
   "outputs": [
    {
     "data": {
      "text/plain": [
       "79"
      ]
     },
     "execution_count": 7,
     "metadata": {},
     "output_type": "execute_result"
    }
   ],
   "source": [
    "# Total number of campings\n",
    "\n",
    "len(df['camping_label'].value_counts())"
>>>>>>> d6402fc614fc1717f7368e469cd1ffa69e5a482a
   ]
  },
  {
   "cell_type": "markdown",
   "metadata": {},
   "source": [
<<<<<<< HEAD
    "Transforming on the test set with the scaler fitted on train set:"
   ]
  },
  {
   "cell_type": "code",
   "execution_count": 96,
   "metadata": {},
   "outputs": [
    {
     "name": "stderr",
     "output_type": "stream",
     "text": [
      "/opt/anaconda3/lib/python3.6/site-packages/pandas/core/indexing.py:965: SettingWithCopyWarning:\n",
      "\n",
      "\n",
      "A value is trying to be set on a copy of a slice from a DataFrame.\n",
      "Try using .loc[row_indexer,col_indexer] = value instead\n",
      "\n",
      "See the caveats in the documentation: https://pandas.pydata.org/pandas-docs/stable/user_guide/indexing.html#returning-a-view-versus-a-copy\n",
      "\n"
     ]
    }
   ],
   "source": [
    "X_test.loc[:, ['los', 'nbguest', 'nb_days_between_resa_start']] = scaler.transform(X_test.loc[:, ['los', 'nbguest', 'nb_days_between_resa_start']])"
=======
    "#### TODO: add summary statistics for categorical (Nir solution exam EDA)"
   ]
  },
  {
   "cell_type": "markdown",
   "metadata": {},
   "source": [
    "### Missing values"
>>>>>>> d6402fc614fc1717f7368e469cd1ffa69e5a482a
   ]
  },
  {
   "cell_type": "code",
<<<<<<< HEAD
   "execution_count": 97,
=======
   "execution_count": 41,
>>>>>>> d6402fc614fc1717f7368e469cd1ffa69e5a482a
   "metadata": {},
   "outputs": [
    {
     "data": {
<<<<<<< HEAD
      "text/plain": [
       "((227807, 14), (227807,), (75936, 14), (75936,))"
      ]
     },
     "execution_count": 97,
     "metadata": {},
     "output_type": "execute_result"
    }
   ],
   "source": [
    "X_train.shape, y_train.shape, X_test.shape, y_test.shape"
   ]
  },
  {
   "cell_type": "markdown",
   "metadata": {},
   "source": [
    "# Encoding categorical features:"
=======
      "image/png": "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\n",
      "text/plain": [
       "<Figure size 432x288 with 1 Axes>"
      ]
     },
     "metadata": {
      "needs_background": "light"
     },
     "output_type": "display_data"
    }
   ],
   "source": [
    "df.isnull().sum().plot.bar()\n",
    "plt.title('Missing values per feature');"
>>>>>>> d6402fc614fc1717f7368e469cd1ffa69e5a482a
   ]
  },
  {
   "cell_type": "code",
<<<<<<< HEAD
   "execution_count": 98,
   "metadata": {},
   "outputs": [
    {
     "name": "stdout",
     "output_type": "stream",
     "text": [
      "in feature idstay_to the num of unique values is: 2\n",
      "in feature resinternet the num of unique values is: 3\n",
      "in feature type_guest the num of unique values is: 2\n",
      "in feature camping_label the num of unique values is: 79\n",
      "in feature Région the num of unique values is: 15\n",
      "in feature type_hebergement the num of unique values is: 2\n",
      "in feature hebergement_label the num of unique values is: 14\n",
      "in feature pays the num of unique values is: 8\n",
      "in feature fidelisation the num of unique values is: 2\n",
      "in feature segment the num of unique values is: 3\n",
      "in feature nb_stars the num of unique values is: 2\n"
=======
   "execution_count": 19,
   "metadata": {},
   "outputs": [
    {
     "ename": "KeyError",
     "evalue": "\"['idstay_to'] not found in axis\"",
     "output_type": "error",
     "traceback": [
      "\u001b[0;31m---------------------------------------------------------------------------\u001b[0m",
      "\u001b[0;31mKeyError\u001b[0m                                  Traceback (most recent call last)",
      "\u001b[0;32m<ipython-input-19-b45b772b2b13>\u001b[0m in \u001b[0;36m<module>\u001b[0;34m\u001b[0m\n\u001b[0;32m----> 1\u001b[0;31m \u001b[0mdf\u001b[0m \u001b[0;34m=\u001b[0m \u001b[0mdf\u001b[0m\u001b[0;34m.\u001b[0m\u001b[0mdrop\u001b[0m\u001b[0;34m(\u001b[0m\u001b[0;34m[\u001b[0m\u001b[0;34m'idstay_to'\u001b[0m\u001b[0;34m]\u001b[0m\u001b[0;34m,\u001b[0m \u001b[0maxis\u001b[0m\u001b[0;34m=\u001b[0m\u001b[0;36m1\u001b[0m\u001b[0;34m)\u001b[0m\u001b[0;34m\u001b[0m\u001b[0;34m\u001b[0m\u001b[0m\n\u001b[0m\u001b[1;32m      2\u001b[0m \u001b[0;34m\u001b[0m\u001b[0m\n\u001b[1;32m      3\u001b[0m \u001b[0;31m# We drop idstay_to. Since we have the historical data from 2018 we won't drop region and date fid yet\u001b[0m\u001b[0;34m\u001b[0m\u001b[0;34m\u001b[0m\u001b[0;34m\u001b[0m\u001b[0m\n",
      "\u001b[0;32m~/opt/anaconda3/lib/python3.7/site-packages/pandas/core/frame.py\u001b[0m in \u001b[0;36mdrop\u001b[0;34m(self, labels, axis, index, columns, level, inplace, errors)\u001b[0m\n\u001b[1;32m   3995\u001b[0m             \u001b[0mlevel\u001b[0m\u001b[0;34m=\u001b[0m\u001b[0mlevel\u001b[0m\u001b[0;34m,\u001b[0m\u001b[0;34m\u001b[0m\u001b[0;34m\u001b[0m\u001b[0m\n\u001b[1;32m   3996\u001b[0m             \u001b[0minplace\u001b[0m\u001b[0;34m=\u001b[0m\u001b[0minplace\u001b[0m\u001b[0;34m,\u001b[0m\u001b[0;34m\u001b[0m\u001b[0;34m\u001b[0m\u001b[0m\n\u001b[0;32m-> 3997\u001b[0;31m             \u001b[0merrors\u001b[0m\u001b[0;34m=\u001b[0m\u001b[0merrors\u001b[0m\u001b[0;34m,\u001b[0m\u001b[0;34m\u001b[0m\u001b[0;34m\u001b[0m\u001b[0m\n\u001b[0m\u001b[1;32m   3998\u001b[0m         )\n\u001b[1;32m   3999\u001b[0m \u001b[0;34m\u001b[0m\u001b[0m\n",
      "\u001b[0;32m~/opt/anaconda3/lib/python3.7/site-packages/pandas/core/generic.py\u001b[0m in \u001b[0;36mdrop\u001b[0;34m(self, labels, axis, index, columns, level, inplace, errors)\u001b[0m\n\u001b[1;32m   3934\u001b[0m         \u001b[0;32mfor\u001b[0m \u001b[0maxis\u001b[0m\u001b[0;34m,\u001b[0m \u001b[0mlabels\u001b[0m \u001b[0;32min\u001b[0m \u001b[0maxes\u001b[0m\u001b[0;34m.\u001b[0m\u001b[0mitems\u001b[0m\u001b[0;34m(\u001b[0m\u001b[0;34m)\u001b[0m\u001b[0;34m:\u001b[0m\u001b[0;34m\u001b[0m\u001b[0;34m\u001b[0m\u001b[0m\n\u001b[1;32m   3935\u001b[0m             \u001b[0;32mif\u001b[0m \u001b[0mlabels\u001b[0m \u001b[0;32mis\u001b[0m \u001b[0;32mnot\u001b[0m \u001b[0;32mNone\u001b[0m\u001b[0;34m:\u001b[0m\u001b[0;34m\u001b[0m\u001b[0;34m\u001b[0m\u001b[0m\n\u001b[0;32m-> 3936\u001b[0;31m                 \u001b[0mobj\u001b[0m \u001b[0;34m=\u001b[0m \u001b[0mobj\u001b[0m\u001b[0;34m.\u001b[0m\u001b[0m_drop_axis\u001b[0m\u001b[0;34m(\u001b[0m\u001b[0mlabels\u001b[0m\u001b[0;34m,\u001b[0m \u001b[0maxis\u001b[0m\u001b[0;34m,\u001b[0m \u001b[0mlevel\u001b[0m\u001b[0;34m=\u001b[0m\u001b[0mlevel\u001b[0m\u001b[0;34m,\u001b[0m \u001b[0merrors\u001b[0m\u001b[0;34m=\u001b[0m\u001b[0merrors\u001b[0m\u001b[0;34m)\u001b[0m\u001b[0;34m\u001b[0m\u001b[0;34m\u001b[0m\u001b[0m\n\u001b[0m\u001b[1;32m   3937\u001b[0m \u001b[0;34m\u001b[0m\u001b[0m\n\u001b[1;32m   3938\u001b[0m         \u001b[0;32mif\u001b[0m \u001b[0minplace\u001b[0m\u001b[0;34m:\u001b[0m\u001b[0;34m\u001b[0m\u001b[0;34m\u001b[0m\u001b[0m\n",
      "\u001b[0;32m~/opt/anaconda3/lib/python3.7/site-packages/pandas/core/generic.py\u001b[0m in \u001b[0;36m_drop_axis\u001b[0;34m(self, labels, axis, level, errors)\u001b[0m\n\u001b[1;32m   3968\u001b[0m                 \u001b[0mnew_axis\u001b[0m \u001b[0;34m=\u001b[0m \u001b[0maxis\u001b[0m\u001b[0;34m.\u001b[0m\u001b[0mdrop\u001b[0m\u001b[0;34m(\u001b[0m\u001b[0mlabels\u001b[0m\u001b[0;34m,\u001b[0m \u001b[0mlevel\u001b[0m\u001b[0;34m=\u001b[0m\u001b[0mlevel\u001b[0m\u001b[0;34m,\u001b[0m \u001b[0merrors\u001b[0m\u001b[0;34m=\u001b[0m\u001b[0merrors\u001b[0m\u001b[0;34m)\u001b[0m\u001b[0;34m\u001b[0m\u001b[0;34m\u001b[0m\u001b[0m\n\u001b[1;32m   3969\u001b[0m             \u001b[0;32melse\u001b[0m\u001b[0;34m:\u001b[0m\u001b[0;34m\u001b[0m\u001b[0;34m\u001b[0m\u001b[0m\n\u001b[0;32m-> 3970\u001b[0;31m                 \u001b[0mnew_axis\u001b[0m \u001b[0;34m=\u001b[0m \u001b[0maxis\u001b[0m\u001b[0;34m.\u001b[0m\u001b[0mdrop\u001b[0m\u001b[0;34m(\u001b[0m\u001b[0mlabels\u001b[0m\u001b[0;34m,\u001b[0m \u001b[0merrors\u001b[0m\u001b[0;34m=\u001b[0m\u001b[0merrors\u001b[0m\u001b[0;34m)\u001b[0m\u001b[0;34m\u001b[0m\u001b[0;34m\u001b[0m\u001b[0m\n\u001b[0m\u001b[1;32m   3971\u001b[0m             \u001b[0mresult\u001b[0m \u001b[0;34m=\u001b[0m \u001b[0mself\u001b[0m\u001b[0;34m.\u001b[0m\u001b[0mreindex\u001b[0m\u001b[0;34m(\u001b[0m\u001b[0;34m**\u001b[0m\u001b[0;34m{\u001b[0m\u001b[0maxis_name\u001b[0m\u001b[0;34m:\u001b[0m \u001b[0mnew_axis\u001b[0m\u001b[0;34m}\u001b[0m\u001b[0;34m)\u001b[0m\u001b[0;34m\u001b[0m\u001b[0;34m\u001b[0m\u001b[0m\n\u001b[1;32m   3972\u001b[0m \u001b[0;34m\u001b[0m\u001b[0m\n",
      "\u001b[0;32m~/opt/anaconda3/lib/python3.7/site-packages/pandas/core/indexes/base.py\u001b[0m in \u001b[0;36mdrop\u001b[0;34m(self, labels, errors)\u001b[0m\n\u001b[1;32m   5016\u001b[0m         \u001b[0;32mif\u001b[0m \u001b[0mmask\u001b[0m\u001b[0;34m.\u001b[0m\u001b[0many\u001b[0m\u001b[0;34m(\u001b[0m\u001b[0;34m)\u001b[0m\u001b[0;34m:\u001b[0m\u001b[0;34m\u001b[0m\u001b[0;34m\u001b[0m\u001b[0m\n\u001b[1;32m   5017\u001b[0m             \u001b[0;32mif\u001b[0m \u001b[0merrors\u001b[0m \u001b[0;34m!=\u001b[0m \u001b[0;34m\"ignore\"\u001b[0m\u001b[0;34m:\u001b[0m\u001b[0;34m\u001b[0m\u001b[0;34m\u001b[0m\u001b[0m\n\u001b[0;32m-> 5018\u001b[0;31m                 \u001b[0;32mraise\u001b[0m \u001b[0mKeyError\u001b[0m\u001b[0;34m(\u001b[0m\u001b[0;34mf\"{labels[mask]} not found in axis\"\u001b[0m\u001b[0;34m)\u001b[0m\u001b[0;34m\u001b[0m\u001b[0;34m\u001b[0m\u001b[0m\n\u001b[0m\u001b[1;32m   5019\u001b[0m             \u001b[0mindexer\u001b[0m \u001b[0;34m=\u001b[0m \u001b[0mindexer\u001b[0m\u001b[0;34m[\u001b[0m\u001b[0;34m~\u001b[0m\u001b[0mmask\u001b[0m\u001b[0;34m]\u001b[0m\u001b[0;34m\u001b[0m\u001b[0;34m\u001b[0m\u001b[0m\n\u001b[1;32m   5020\u001b[0m         \u001b[0;32mreturn\u001b[0m \u001b[0mself\u001b[0m\u001b[0;34m.\u001b[0m\u001b[0mdelete\u001b[0m\u001b[0;34m(\u001b[0m\u001b[0mindexer\u001b[0m\u001b[0;34m)\u001b[0m\u001b[0;34m\u001b[0m\u001b[0;34m\u001b[0m\u001b[0m\n",
      "\u001b[0;31mKeyError\u001b[0m: \"['idstay_to'] not found in axis\""
>>>>>>> d6402fc614fc1717f7368e469cd1ffa69e5a482a
     ]
    }
   ],
   "source": [
<<<<<<< HEAD
    "for feat in X_train.select_dtypes('object').columns:\n",
    "    print(f\"in feature {feat} the num of unique values is: {df3[feat].nunique()}\")"
=======
    "df = df.drop(['idstay_to'], axis=1)\n",
    "\n",
    "# We drop idstay_to. Since we have the historical data from 2018 we won't drop region and date fid yet\n"
>>>>>>> d6402fc614fc1717f7368e469cd1ffa69e5a482a
   ]
  },
  {
   "cell_type": "code",
<<<<<<< HEAD
   "execution_count": 99,
=======
   "execution_count": 21,
>>>>>>> d6402fc614fc1717f7368e469cd1ffa69e5a482a
   "metadata": {},
   "outputs": [
    {
     "data": {
      "text/plain": [
<<<<<<< HEAD
       "Index(['idstay_to', 'resinternet', 'type_guest', 'camping_label', 'Région',\n",
       "       'type_hebergement', 'hebergement_label', 'pays', 'fidelisation',\n",
       "       'segment', 'nb_stars'],\n",
       "      dtype='object')"
      ]
     },
     "execution_count": 99,
=======
       "XXXXX    305235\n",
       "Name: client_name, dtype: int64"
      ]
     },
     "execution_count": 21,
>>>>>>> d6402fc614fc1717f7368e469cd1ffa69e5a482a
     "metadata": {},
     "output_type": "execute_result"
    }
   ],
   "source": [
<<<<<<< HEAD
    "cat_columns = X_train.select_dtypes('object').columns\n",
    "cat_columns"
=======
    "df['client_name'].value_counts()"
>>>>>>> d6402fc614fc1717f7368e469cd1ffa69e5a482a
   ]
  },
  {
   "cell_type": "code",
<<<<<<< HEAD
   "execution_count": 100,
   "metadata": {},
   "outputs": [],
   "source": [
    "X_train2 = pd.get_dummies(X_train, columns=cat_columns)"
=======
   "execution_count": 22,
   "metadata": {},
   "outputs": [],
   "source": [
    "df = df.drop(['client_name'], axis=1)"
>>>>>>> d6402fc614fc1717f7368e469cd1ffa69e5a482a
   ]
  },
  {
   "cell_type": "code",
<<<<<<< HEAD
   "execution_count": 101,
   "metadata": {},
   "outputs": [
    {
     "name": "stdout",
     "output_type": "stream",
     "text": [
      "<class 'pandas.core.frame.DataFrame'>\n",
      "Int64Index: 227807 entries, 220714 to 128536\n",
      "Columns: 135 entries, los to nb_stars_4_stars_or_premium\n",
      "dtypes: float64(3), uint8(132)\n",
      "memory usage: 35.6 MB\n"
     ]
    }
   ],
   "source": [
    "X_train2.info()"
   ]
  },
  {
   "cell_type": "code",
   "execution_count": 102,
   "metadata": {},
   "outputs": [],
   "source": [
    "X_test2 = pd.get_dummies(X_test, columns=cat_columns)"
=======
   "execution_count": 23,
   "metadata": {},
   "outputs": [
    {
     "data": {
      "text/plain": [
       "(312552, 40)"
      ]
     },
     "execution_count": 23,
     "metadata": {},
     "output_type": "execute_result"
    }
   ],
   "source": [
    "df.shape"
>>>>>>> d6402fc614fc1717f7368e469cd1ffa69e5a482a
   ]
  },
  {
   "cell_type": "code",
<<<<<<< HEAD
   "execution_count": 103,
=======
   "execution_count": 36,
>>>>>>> d6402fc614fc1717f7368e469cd1ffa69e5a482a
   "metadata": {},
   "outputs": [
    {
     "data": {
      "text/plain": [
<<<<<<< HEAD
       "((227807, 135), (227807,), (75936, 135), (75936,))"
      ]
     },
     "execution_count": 103,
=======
       "0.7235276050065269"
      ]
     },
     "execution_count": 36,
>>>>>>> d6402fc614fc1717f7368e469cd1ffa69e5a482a
     "metadata": {},
     "output_type": "execute_result"
    }
   ],
   "source": [
<<<<<<< HEAD
    "X_train2.shape, y_train.shape, X_test2.shape, y_test.shape"
   ]
  },
  {
   "cell_type": "markdown",
   "metadata": {},
   "source": [
    "# Testing models:"
   ]
  },
  {
   "cell_type": "markdown",
   "metadata": {},
   "source": [
    "**With LinearRegression:**"
=======
    "sum(df['region'].isnull())/len(df)"
>>>>>>> d6402fc614fc1717f7368e469cd1ffa69e5a482a
   ]
  },
  {
   "cell_type": "code",
<<<<<<< HEAD
   "execution_count": 104,
   "metadata": {},
   "outputs": [],
   "source": [
    "from sklearn.linear_model import LinearRegression\n",
    "from sklearn.metrics import mean_squared_error\n",
    "\n",
    "reg = LinearRegression()\n",
    "reg.fit(X_train2, y_train)\n",
    "\n",
    "y_pred_lr = reg.predict(X_test2)"
=======
   "execution_count": 37,
   "metadata": {},
   "outputs": [],
   "source": [
    "df = df.drop(['region'], axis=1)"
>>>>>>> d6402fc614fc1717f7368e469cd1ffa69e5a482a
   ]
  },
  {
   "cell_type": "code",
<<<<<<< HEAD
   "execution_count": 105,
=======
   "execution_count": 42,
>>>>>>> d6402fc614fc1717f7368e469cd1ffa69e5a482a
   "metadata": {},
   "outputs": [
    {
     "data": {
      "text/plain": [
<<<<<<< HEAD
       "0.6643690333732752"
      ]
     },
     "execution_count": 105,
=======
       "792-10453    1\n",
       "776-576      1\n",
       "756-859      1\n",
       "738-3216     1\n",
       "745-4648     1\n",
       "            ..\n",
       "760-3144     1\n",
       "760-19028    1\n",
       "720-28       1\n",
       "745-1408     1\n",
       "773-6356     1\n",
       "Name: idstay, Length: 305235, dtype: int64"
      ]
     },
     "execution_count": 42,
>>>>>>> d6402fc614fc1717f7368e469cd1ffa69e5a482a
     "metadata": {},
     "output_type": "execute_result"
    }
   ],
   "source": [
<<<<<<< HEAD
    "reg.score(X_test2, y_test)"
=======
    "df['idstay'].value_counts()"
>>>>>>> d6402fc614fc1717f7368e469cd1ffa69e5a482a
   ]
  },
  {
   "cell_type": "code",
<<<<<<< HEAD
   "execution_count": 106,
=======
   "execution_count": 43,
   "metadata": {},
   "outputs": [],
   "source": [
    "# No duplicates for bookings."
   ]
  },
  {
   "cell_type": "markdown",
   "metadata": {},
   "source": [
    "Since idstay is not a feature and even less numerical continuous we will drop the column."
   ]
  },
  {
   "cell_type": "code",
   "execution_count": 44,
>>>>>>> d6402fc614fc1717f7368e469cd1ffa69e5a482a
   "metadata": {},
   "outputs": [
    {
     "data": {
<<<<<<< HEAD
      "text/plain": [
       "439.41701727425954"
      ]
     },
     "execution_count": 106,
=======
      "text/html": [
       "<div>\n",
       "<style scoped>\n",
       "    .dataframe tbody tr th:only-of-type {\n",
       "        vertical-align: middle;\n",
       "    }\n",
       "\n",
       "    .dataframe tbody tr th {\n",
       "        vertical-align: top;\n",
       "    }\n",
       "\n",
       "    .dataframe thead th {\n",
       "        text-align: right;\n",
       "    }\n",
       "</style>\n",
       "<table border=\"1\" class=\"dataframe\">\n",
       "  <thead>\n",
       "    <tr style=\"text-align: right;\">\n",
       "      <th></th>\n",
       "      <th>idstay</th>\n",
       "      <th>type_stay_lbl</th>\n",
       "      <th>resinternet</th>\n",
       "      <th>type_guest</th>\n",
       "      <th>extract_date</th>\n",
       "      <th>resdate</th>\n",
       "      <th>camping_code</th>\n",
       "      <th>camping_label</th>\n",
       "      <th>Région</th>\n",
       "      <th>type_hebergement</th>\n",
       "      <th>hebergement</th>\n",
       "      <th>hebergement_label</th>\n",
       "      <th>datein</th>\n",
       "      <th>dateout</th>\n",
       "      <th>los</th>\n",
       "      <th>nbroom</th>\n",
       "      <th>nbguest</th>\n",
       "      <th>nb_nuit_fid</th>\n",
       "      <th>Séjour Gratuit</th>\n",
       "      <th>Nb Nuits Payantes</th>\n",
       "      <th>vrai_date_resa</th>\n",
       "      <th>client_id_grp</th>\n",
       "      <th>rev1</th>\n",
       "      <th>rev2</th>\n",
       "      <th>rev3</th>\n",
       "      <th>rev4</th>\n",
       "      <th>rev5</th>\n",
       "      <th>rev</th>\n",
       "      <th>fid_id</th>\n",
       "      <th>pays</th>\n",
       "      <th>fidelisation</th>\n",
       "      <th>date_fid</th>\n",
       "      <th>camping_fid</th>\n",
       "      <th>creation_date</th>\n",
       "      <th>segment</th>\n",
       "      <th>scode1</th>\n",
       "      <th>scode2</th>\n",
       "      <th>hebergement_camping_id</th>\n",
       "      <th>hebergement_camping_lbl</th>\n",
       "    </tr>\n",
       "  </thead>\n",
       "  <tbody>\n",
       "    <tr>\n",
       "      <th>0</th>\n",
       "      <td>320-14150</td>\n",
       "      <td>INDIV DIRECT</td>\n",
       "      <td>U20130628DEBUR932214355</td>\n",
       "      <td>N</td>\n",
       "      <td>43220.0</td>\n",
       "      <td>43040.0</td>\n",
       "      <td>59.0</td>\n",
       "      <td>TURISCAMPO</td>\n",
       "      <td>Portugal</td>\n",
       "      <td>LOCA</td>\n",
       "      <td>8.0</td>\n",
       "      <td>Locatif 3 ch. 4 *</td>\n",
       "      <td>43191.0</td>\n",
       "      <td>43220.0</td>\n",
       "      <td>29.0</td>\n",
       "      <td>1.0</td>\n",
       "      <td>1.0</td>\n",
       "      <td>0.0</td>\n",
       "      <td>0.0</td>\n",
       "      <td>29.0</td>\n",
       "      <td>41453.0</td>\n",
       "      <td>1939194.0</td>\n",
       "      <td>670.00</td>\n",
       "      <td>0.0</td>\n",
       "      <td>70.0</td>\n",
       "      <td>0.0</td>\n",
       "      <td>0.0</td>\n",
       "      <td>740.00</td>\n",
       "      <td>1.001500e+11</td>\n",
       "      <td>BE</td>\n",
       "      <td>Y</td>\n",
       "      <td>42005.0</td>\n",
       "      <td>100.0</td>\n",
       "      <td>41212.0</td>\n",
       "      <td>DIRECT</td>\n",
       "      <td>Village</td>\n",
       "      <td>Village</td>\n",
       "      <td>999999.0</td>\n",
       "      <td>LOCA - Not Defined</td>\n",
       "    </tr>\n",
       "    <tr>\n",
       "      <th>1</th>\n",
       "      <td>320-19097</td>\n",
       "      <td>INDIV DIRECT</td>\n",
       "      <td>U20131119GRIME393582153</td>\n",
       "      <td>N</td>\n",
       "      <td>43136.0</td>\n",
       "      <td>42675.0</td>\n",
       "      <td>59.0</td>\n",
       "      <td>TURISCAMPO</td>\n",
       "      <td>Portugal</td>\n",
       "      <td>EMPL</td>\n",
       "      <td>2.0</td>\n",
       "      <td>Emplacement nu de 0 à 3 *</td>\n",
       "      <td>43072.0</td>\n",
       "      <td>43136.0</td>\n",
       "      <td>64.0</td>\n",
       "      <td>1.0</td>\n",
       "      <td>2.0</td>\n",
       "      <td>0.0</td>\n",
       "      <td>0.0</td>\n",
       "      <td>64.0</td>\n",
       "      <td>41597.0</td>\n",
       "      <td>1675500.0</td>\n",
       "      <td>915.64</td>\n",
       "      <td>0.0</td>\n",
       "      <td>0.0</td>\n",
       "      <td>0.0</td>\n",
       "      <td>0.0</td>\n",
       "      <td>915.64</td>\n",
       "      <td>5.912000e+10</td>\n",
       "      <td>GB</td>\n",
       "      <td>Y</td>\n",
       "      <td>41275.0</td>\n",
       "      <td>59.0</td>\n",
       "      <td>40835.0</td>\n",
       "      <td>DIRECT</td>\n",
       "      <td>Village</td>\n",
       "      <td>Village</td>\n",
       "      <td>999998.0</td>\n",
       "      <td>EMPL - Not Defined</td>\n",
       "    </tr>\n",
       "    <tr>\n",
       "      <th>2</th>\n",
       "      <td>320-20471</td>\n",
       "      <td>INDIV DIRECT</td>\n",
       "      <td>U20140228HINDL599191284</td>\n",
       "      <td>N</td>\n",
       "      <td>43327.0</td>\n",
       "      <td>43040.0</td>\n",
       "      <td>59.0</td>\n",
       "      <td>TURISCAMPO</td>\n",
       "      <td>Portugal</td>\n",
       "      <td>EMPL</td>\n",
       "      <td>2.0</td>\n",
       "      <td>Emplacement nu de 0 à 3 *</td>\n",
       "      <td>43101.0</td>\n",
       "      <td>43165.0</td>\n",
       "      <td>64.0</td>\n",
       "      <td>1.0</td>\n",
       "      <td>2.0</td>\n",
       "      <td>0.0</td>\n",
       "      <td>0.0</td>\n",
       "      <td>64.0</td>\n",
       "      <td>41698.0</td>\n",
       "      <td>1664127.0</td>\n",
       "      <td>1074.66</td>\n",
       "      <td>0.0</td>\n",
       "      <td>64.0</td>\n",
       "      <td>0.0</td>\n",
       "      <td>0.0</td>\n",
       "      <td>1138.66</td>\n",
       "      <td>5.917000e+10</td>\n",
       "      <td>GB</td>\n",
       "      <td>Y</td>\n",
       "      <td>42736.0</td>\n",
       "      <td>59.0</td>\n",
       "      <td>40835.0</td>\n",
       "      <td>DIRECT</td>\n",
       "      <td>Village</td>\n",
       "      <td>Village</td>\n",
       "      <td>22.0</td>\n",
       "      <td>Empla. Super Deluxe *** Luz</td>\n",
       "    </tr>\n",
       "    <tr>\n",
       "      <th>3</th>\n",
       "      <td>320-22588</td>\n",
       "      <td>INDIV DIRECT</td>\n",
       "      <td>U20140528ENGEL311651611</td>\n",
       "      <td>N</td>\n",
       "      <td>43261.0</td>\n",
       "      <td>43040.0</td>\n",
       "      <td>59.0</td>\n",
       "      <td>TURISCAMPO</td>\n",
       "      <td>Portugal</td>\n",
       "      <td>EMPL</td>\n",
       "      <td>2.0</td>\n",
       "      <td>Emplacement nu de 0 à 3 *</td>\n",
       "      <td>43191.0</td>\n",
       "      <td>43252.0</td>\n",
       "      <td>61.0</td>\n",
       "      <td>1.0</td>\n",
       "      <td>2.0</td>\n",
       "      <td>0.0</td>\n",
       "      <td>0.0</td>\n",
       "      <td>61.0</td>\n",
       "      <td>41787.0</td>\n",
       "      <td>1686399.0</td>\n",
       "      <td>901.00</td>\n",
       "      <td>0.0</td>\n",
       "      <td>0.0</td>\n",
       "      <td>0.0</td>\n",
       "      <td>0.0</td>\n",
       "      <td>901.00</td>\n",
       "      <td>1.001700e+11</td>\n",
       "      <td>DE</td>\n",
       "      <td>Y</td>\n",
       "      <td>43101.0</td>\n",
       "      <td>100.0</td>\n",
       "      <td>40835.0</td>\n",
       "      <td>DIRECT</td>\n",
       "      <td>Village</td>\n",
       "      <td>Village</td>\n",
       "      <td>999998.0</td>\n",
       "      <td>EMPL - Not Defined</td>\n",
       "    </tr>\n",
       "    <tr>\n",
       "      <th>4</th>\n",
       "      <td>320-22610</td>\n",
       "      <td>INDIV DIRECT</td>\n",
       "      <td>U20140529SRCOL428189086</td>\n",
       "      <td>N</td>\n",
       "      <td>43078.0</td>\n",
       "      <td>42675.0</td>\n",
       "      <td>59.0</td>\n",
       "      <td>TURISCAMPO</td>\n",
       "      <td>Portugal</td>\n",
       "      <td>LOCA</td>\n",
       "      <td>10.0</td>\n",
       "      <td>Locatif 2 ch. PREMIUM</td>\n",
       "      <td>43074.0</td>\n",
       "      <td>43078.0</td>\n",
       "      <td>4.0</td>\n",
       "      <td>1.0</td>\n",
       "      <td>2.0</td>\n",
       "      <td>0.0</td>\n",
       "      <td>0.0</td>\n",
       "      <td>4.0</td>\n",
       "      <td>41788.0</td>\n",
       "      <td>-1.0</td>\n",
       "      <td>0.00</td>\n",
       "      <td>0.0</td>\n",
       "      <td>0.0</td>\n",
       "      <td>0.0</td>\n",
       "      <td>0.0</td>\n",
       "      <td>0.00</td>\n",
       "      <td>0.000000e+00</td>\n",
       "      <td>PT</td>\n",
       "      <td>N</td>\n",
       "      <td>NaN</td>\n",
       "      <td>0.0</td>\n",
       "      <td>39721.0</td>\n",
       "      <td>DIRECT</td>\n",
       "      <td>Village</td>\n",
       "      <td>Village</td>\n",
       "      <td>999999.0</td>\n",
       "      <td>LOCA - Not Defined</td>\n",
       "    </tr>\n",
       "  </tbody>\n",
       "</table>\n",
       "</div>"
      ],
      "text/plain": [
       "      idstay type_stay_lbl              resinternet type_guest  extract_date  \\\n",
       "0  320-14150  INDIV DIRECT  U20130628DEBUR932214355          N       43220.0   \n",
       "1  320-19097  INDIV DIRECT  U20131119GRIME393582153          N       43136.0   \n",
       "2  320-20471  INDIV DIRECT  U20140228HINDL599191284          N       43327.0   \n",
       "3  320-22588  INDIV DIRECT  U20140528ENGEL311651611          N       43261.0   \n",
       "4  320-22610  INDIV DIRECT  U20140529SRCOL428189086          N       43078.0   \n",
       "\n",
       "   resdate  camping_code camping_label    Région type_hebergement  \\\n",
       "0  43040.0          59.0    TURISCAMPO  Portugal             LOCA   \n",
       "1  42675.0          59.0    TURISCAMPO  Portugal             EMPL   \n",
       "2  43040.0          59.0    TURISCAMPO  Portugal             EMPL   \n",
       "3  43040.0          59.0    TURISCAMPO  Portugal             EMPL   \n",
       "4  42675.0          59.0    TURISCAMPO  Portugal             LOCA   \n",
       "\n",
       "   hebergement          hebergement_label   datein  dateout   los  nbroom  \\\n",
       "0          8.0          Locatif 3 ch. 4 *  43191.0  43220.0  29.0     1.0   \n",
       "1          2.0  Emplacement nu de 0 à 3 *  43072.0  43136.0  64.0     1.0   \n",
       "2          2.0  Emplacement nu de 0 à 3 *  43101.0  43165.0  64.0     1.0   \n",
       "3          2.0  Emplacement nu de 0 à 3 *  43191.0  43252.0  61.0     1.0   \n",
       "4         10.0      Locatif 2 ch. PREMIUM  43074.0  43078.0   4.0     1.0   \n",
       "\n",
       "   nbguest  nb_nuit_fid  Séjour Gratuit  Nb Nuits Payantes  vrai_date_resa  \\\n",
       "0      1.0          0.0             0.0               29.0         41453.0   \n",
       "1      2.0          0.0             0.0               64.0         41597.0   \n",
       "2      2.0          0.0             0.0               64.0         41698.0   \n",
       "3      2.0          0.0             0.0               61.0         41787.0   \n",
       "4      2.0          0.0             0.0                4.0         41788.0   \n",
       "\n",
       "   client_id_grp     rev1  rev2  rev3  rev4  rev5      rev        fid_id pays  \\\n",
       "0      1939194.0   670.00   0.0  70.0   0.0   0.0   740.00  1.001500e+11   BE   \n",
       "1      1675500.0   915.64   0.0   0.0   0.0   0.0   915.64  5.912000e+10   GB   \n",
       "2      1664127.0  1074.66   0.0  64.0   0.0   0.0  1138.66  5.917000e+10   GB   \n",
       "3      1686399.0   901.00   0.0   0.0   0.0   0.0   901.00  1.001700e+11   DE   \n",
       "4           -1.0     0.00   0.0   0.0   0.0   0.0     0.00  0.000000e+00   PT   \n",
       "\n",
       "  fidelisation  date_fid  camping_fid  creation_date segment   scode1  \\\n",
       "0            Y   42005.0        100.0        41212.0  DIRECT  Village   \n",
       "1            Y   41275.0         59.0        40835.0  DIRECT  Village   \n",
       "2            Y   42736.0         59.0        40835.0  DIRECT  Village   \n",
       "3            Y   43101.0        100.0        40835.0  DIRECT  Village   \n",
       "4            N       NaN          0.0        39721.0  DIRECT  Village   \n",
       "\n",
       "    scode2  hebergement_camping_id      hebergement_camping_lbl  \n",
       "0  Village                999999.0           LOCA - Not Defined  \n",
       "1  Village                999998.0           EMPL - Not Defined  \n",
       "2  Village                    22.0  Empla. Super Deluxe *** Luz  \n",
       "3  Village                999998.0           EMPL - Not Defined  \n",
       "4  Village                999999.0           LOCA - Not Defined  "
      ]
     },
     "execution_count": 44,
>>>>>>> d6402fc614fc1717f7368e469cd1ffa69e5a482a
     "metadata": {},
     "output_type": "execute_result"
    }
   ],
   "source": [
<<<<<<< HEAD
    "mean_squared_error(y_test, y_pred_lr, squared=False)"
   ]
  },
  {
   "cell_type": "code",
   "execution_count": 107,
   "metadata": {},
   "outputs": [],
   "source": [
    "coef = reg.coef_"
=======
    "df.head()"
>>>>>>> d6402fc614fc1717f7368e469cd1ffa69e5a482a
   ]
  },
  {
   "cell_type": "code",
<<<<<<< HEAD
   "execution_count": 108,
   "metadata": {},
   "outputs": [],
   "source": [
    "lr_top5features = abs(coef).argsort()[:5][::-1]"
   ]
  },
  {
   "cell_type": "code",
   "execution_count": 109,
   "metadata": {},
   "outputs": [
    {
     "data": {
      "text/plain": [
       "array([68, 28,  0,  2,  1])"
      ]
     },
     "execution_count": 109,
     "metadata": {},
     "output_type": "execute_result"
    }
   ],
   "source": [
    "lr_top5features"
   ]
  },
  {
   "cell_type": "code",
   "execution_count": 110,
   "metadata": {},
   "outputs": [
    {
     "data": {
      "text/plain": [
       "Index(['camping_label_POMME DE PIN', 'camping_label_DOMAINE DE LA FORET',\n",
       "       'los', 'nb_days_between_resa_start', 'nbguest'],\n",
       "      dtype='object')"
      ]
     },
     "execution_count": 110,
     "metadata": {},
     "output_type": "execute_result"
    }
   ],
   "source": [
    "X_train2.columns[lr_top5features]"
   ]
  },
  {
   "cell_type": "markdown",
   "metadata": {},
   "source": [
    "**With RandomForestRegressor:**"
   ]
  },
  {
   "cell_type": "code",
   "execution_count": 111,
   "metadata": {},
   "outputs": [
    {
     "name": "stdout",
     "output_type": "stream",
     "text": [
      "model trained\n"
     ]
    }
   ],
   "source": [
    "from sklearn.ensemble import RandomForestRegressor\n",
    "\n",
    "rfr = RandomForestRegressor(criterion='mse', max_depth=100, max_features='log2')\n",
    "rfr.fit(X_train2, y_train)\n",
    "print('model trained')\n",
    "\n",
    "y_pred_rfr = rfr.predict(X_test2)"
=======
   "execution_count": 45,
   "metadata": {},
   "outputs": [],
   "source": [
    "df = df.drop(['idstay'], axis = 1)"
>>>>>>> d6402fc614fc1717f7368e469cd1ffa69e5a482a
   ]
  },
  {
   "cell_type": "code",
<<<<<<< HEAD
   "execution_count": 112,
=======
   "execution_count": 46,
>>>>>>> d6402fc614fc1717f7368e469cd1ffa69e5a482a
   "metadata": {},
   "outputs": [
    {
     "data": {
      "text/plain": [
<<<<<<< HEAD
       "0.8380661264960713"
      ]
     },
     "execution_count": 112,
=======
       "(312552, 38)"
      ]
     },
     "execution_count": 46,
>>>>>>> d6402fc614fc1717f7368e469cd1ffa69e5a482a
     "metadata": {},
     "output_type": "execute_result"
    }
   ],
   "source": [
<<<<<<< HEAD
    "rfr.score(X_test2, y_test)"
=======
    "df.shape"
>>>>>>> d6402fc614fc1717f7368e469cd1ffa69e5a482a
   ]
  },
  {
   "cell_type": "code",
<<<<<<< HEAD
   "execution_count": 113,
=======
   "execution_count": 47,
>>>>>>> d6402fc614fc1717f7368e469cd1ffa69e5a482a
   "metadata": {},
   "outputs": [
    {
     "data": {
      "text/plain": [
<<<<<<< HEAD
       "305.22121173114664"
      ]
     },
     "execution_count": 113,
=======
       "U20180829CHAUL748275756     2\n",
       "U20180107CELAI165643310     2\n",
       "U20180615AVANT793621826     2\n",
       "O20180601VERBA943428973     2\n",
       "U20180130CRIEL806695556     1\n",
       "                           ..\n",
       "O20180226GONZA1542481352    1\n",
       "U20180624SANSE443157958     1\n",
       "O20180311JAMME529437600     1\n",
       "U20180410TRUST973715209     1\n",
       "O20180309FASSI2116402442    1\n",
       "Name: resinternet, Length: 304633, dtype: int64"
      ]
     },
     "execution_count": 47,
>>>>>>> d6402fc614fc1717f7368e469cd1ffa69e5a482a
     "metadata": {},
     "output_type": "execute_result"
    }
   ],
   "source": [
<<<<<<< HEAD
    "mean_squared_error(y_test, y_pred_rfr, squared=False)"
=======
    "df['resinternet'].value_counts()"
>>>>>>> d6402fc614fc1717f7368e469cd1ffa69e5a482a
   ]
  },
  {
   "cell_type": "markdown",
   "metadata": {},
   "source": [
<<<<<<< HEAD
    "**Since it's a regression problem, we are trying with Lasso:**"
   ]
  },
  {
   "cell_type": "code",
   "execution_count": 114,
   "metadata": {},
   "outputs": [
    {
     "name": "stderr",
     "output_type": "stream",
     "text": [
      " 25%|██▌       | 1/4 [00:54<02:44, 54.72s/it]"
     ]
    },
    {
     "name": "stdout",
     "output_type": "stream",
     "text": [
      "trained for alpha =  0.1\n"
     ]
    },
    {
     "name": "stderr",
     "output_type": "stream",
     "text": [
      "\r",
      " 50%|█████     | 2/4 [01:13<01:28, 44.07s/it]"
     ]
    },
    {
     "name": "stdout",
     "output_type": "stream",
     "text": [
      "trained for alpha =  1\n"
     ]
    },
    {
     "name": "stderr",
     "output_type": "stream",
     "text": [
      "\r",
      " 75%|███████▌  | 3/4 [01:15<00:31, 31.44s/it]"
     ]
    },
    {
     "name": "stdout",
     "output_type": "stream",
     "text": [
      "trained for alpha =  10\n"
     ]
    },
    {
     "name": "stderr",
     "output_type": "stream",
     "text": [
      "100%|██████████| 4/4 [01:17<00:00, 19.31s/it]"
     ]
    },
    {
     "name": "stdout",
     "output_type": "stream",
     "text": [
      "trained for alpha =  100\n"
     ]
    },
    {
     "name": "stderr",
     "output_type": "stream",
     "text": [
      "\n"
     ]
    }
   ],
   "source": [
    "from sklearn.linear_model import Lasso\n",
    "from tqdm import tqdm\n",
    "\n",
    "alpha_list = [0.1, 1, 10, 100]\n",
    "\n",
    "result_score = []\n",
    "\n",
    "for alpha_choice in tqdm(alpha_list):\n",
    "    clf = Lasso(alpha=alpha_choice)\n",
    "    clf.fit(X_train2, y_train)\n",
    "    print('trained for alpha = ', alpha_choice)\n",
    "    y_lasso_pred = clf.predict(X_test2)\n",
    "    result_score.append(clf.score(X_test2, y_test))"
   ]
  },
  {
   "cell_type": "code",
   "execution_count": 115,
   "metadata": {},
   "outputs": [
    {
     "data": {
      "text/plain": [
       "[0.6641721418173896,\n",
       " 0.6583387107426572,\n",
       " 0.6303231970519365,\n",
       " 0.5368112038711853]"
      ]
     },
     "execution_count": 115,
     "metadata": {},
     "output_type": "execute_result"
    }
   ],
   "source": [
    "result_score"
=======
    "We have four duplicate values for interned reservation id. We will drop these rows."
>>>>>>> d6402fc614fc1717f7368e469cd1ffa69e5a482a
   ]
  },
  {
   "cell_type": "code",
   "execution_count": null,
   "metadata": {},
   "outputs": [],
   "source": []
  }
 ],
 "metadata": {
  "kernelspec": {
   "display_name": "Python 3",
   "language": "python",
   "name": "python3"
  },
  "language_info": {
   "codemirror_mode": {
    "name": "ipython",
    "version": 3
   },
   "file_extension": ".py",
   "mimetype": "text/x-python",
   "name": "python",
   "nbconvert_exporter": "python",
   "pygments_lexer": "ipython3",
<<<<<<< HEAD
   "version": "3.6.10"
=======
   "version": "3.7.6"
>>>>>>> d6402fc614fc1717f7368e469cd1ffa69e5a482a
  }
 },
 "nbformat": 4,
 "nbformat_minor": 4
}
