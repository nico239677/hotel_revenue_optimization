{
 "cells": [
  {
   "cell_type": "code",
   "execution_count": null,
   "metadata": {},
   "outputs": [],
   "source": [
    "import pandas as pd\n",
    "import numpy as np\n",
    "import matplotlib.pyplot as plt\n",
    "import seaborn as sns\n",
    "from sklearn.model_selection import TimeSeriesSplit"
   ]
  },
  {
   "cell_type": "code",
   "execution_count": null,
   "metadata": {},
   "outputs": [],
   "source": []
  },
  {
   "cell_type": "code",
   "execution_count": null,
   "metadata": {},
   "outputs": [],
   "source": []
  },
  {
   "cell_type": "code",
   "execution_count": null,
   "metadata": {},
   "outputs": [],
   "source": []
  },
  {
   "cell_type": "code",
   "execution_count": null,
   "metadata": {},
   "outputs": [],
   "source": [
    "df_gavina = df[df[‘camping_label’] == ‘GAVINA’]\n",
    "season = pd.date_range(start=min(df_gavina[‘datein’]),end=max(df_gavina[‘datein’]))\n",
    "dict_dates = defaultdict(int)\n",
    "for date in season:\n",
    "    dict_dates[date] = 0\n",
    "for index in df_gavina.index:\n",
    "    for j in range(int(df_gavina[‘los’][index])):\n",
    "        dict_dates[pd.Timestamp(df_gavina[‘datein’][index]) + pd.DateOffset(days=j)] += 1\n",
    "date = list(dict_dates.keys())\n",
    "n_cust = list(dict_dates.values())\n",
    "df_occ = pd.DataFrame(date)\n",
    "df_occ[‘n_cust’] = n_cust\n",
    "df_occ = df_occ.set_index(0)\n",
    "display(df_occ)\n",
    "plt.plot(df_occ[‘n_cust’])\n",
    "plt.xticks(rotation=90)"
   ]
  }
 ],
 "metadata": {
  "kernelspec": {
   "display_name": "Python 3",
   "language": "python",
   "name": "python3"
  },
  "language_info": {
   "codemirror_mode": {
    "name": "ipython",
    "version": 3
   },
   "file_extension": ".py",
   "mimetype": "text/x-python",
   "name": "python",
   "nbconvert_exporter": "python",
   "pygments_lexer": "ipython3",
   "version": "3.6.10"
  }
 },
 "nbformat": 4,
 "nbformat_minor": 4
}
