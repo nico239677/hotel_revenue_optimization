{
 "cells": [
  {
   "cell_type": "code",
   "execution_count": 1,
   "metadata": {},
   "outputs": [],
   "source": [
    "import pandas as pd\n",
    "import numpy as np\n",
    "import matplotlib.pyplot as plt\n",
    "import seaborn as sns\n",
    "from sklearn.model_selection import TimeSeriesSplit"
   ]
  },
  {
   "cell_type": "code",
   "execution_count": 46,
   "metadata": {},
   "outputs": [
    {
     "name": "stdout",
     "output_type": "stream",
     "text": [
      "Collecting NBprocessing\n",
      "  Downloading NBprocessing-0.0.195-py3-none-any.whl (24 kB)\n",
      "Requirement already satisfied: numpy in /opt/anaconda3/lib/python3.6/site-packages (from NBprocessing) (1.18.1)\n",
      "Requirement already satisfied: pandas in /opt/anaconda3/lib/python3.6/site-packages (from NBprocessing) (1.0.1)\n",
      "Requirement already satisfied: matplotlib in /opt/anaconda3/lib/python3.6/site-packages (from NBprocessing) (3.1.3)\n",
      "Requirement already satisfied: seaborn in /opt/anaconda3/lib/python3.6/site-packages (from NBprocessing) (0.10.0)\n",
      "Requirement already satisfied: plotly in /opt/anaconda3/lib/python3.6/site-packages (from NBprocessing) (4.9.0)\n",
      "Requirement already satisfied: pytz>=2017.2 in /opt/anaconda3/lib/python3.6/site-packages (from pandas->NBprocessing) (2019.3)\n",
      "Requirement already satisfied: python-dateutil>=2.6.1 in /opt/anaconda3/lib/python3.6/site-packages (from pandas->NBprocessing) (2.8.1)\n",
      "Requirement already satisfied: pyparsing!=2.0.4,!=2.1.2,!=2.1.6,>=2.0.1 in /opt/anaconda3/lib/python3.6/site-packages (from matplotlib->NBprocessing) (2.4.6)\n",
      "Requirement already satisfied: cycler>=0.10 in /opt/anaconda3/lib/python3.6/site-packages (from matplotlib->NBprocessing) (0.10.0)\n",
      "Requirement already satisfied: kiwisolver>=1.0.1 in /opt/anaconda3/lib/python3.6/site-packages (from matplotlib->NBprocessing) (1.1.0)\n",
      "Requirement already satisfied: scipy>=1.0.1 in /opt/anaconda3/lib/python3.6/site-packages (from seaborn->NBprocessing) (1.4.1)\n",
      "Requirement already satisfied: six in /opt/anaconda3/lib/python3.6/site-packages (from plotly->NBprocessing) (1.14.0)\n",
      "Requirement already satisfied: retrying>=1.3.3 in /opt/anaconda3/lib/python3.6/site-packages (from plotly->NBprocessing) (1.3.3)\n",
      "Requirement already satisfied: setuptools in /opt/anaconda3/lib/python3.6/site-packages (from kiwisolver>=1.0.1->matplotlib->NBprocessing) (46.0.0.post20200309)\n",
      "Installing collected packages: NBprocessing\n",
      "Successfully installed NBprocessing-0.0.195\n"
     ]
    }
   ],
   "source": [
    "!pip install NBprocessing"
   ]
  },
  {
   "cell_type": "code",
   "execution_count": 2,
   "metadata": {},
   "outputs": [],
   "source": [
    "from NBprocessing import NBcategorical\n",
    "from NBprocessing import NBcontinuous\n",
    "from NBprocessing import NBplot\n",
    "from NBprocessing import NBgeneral"
   ]
  },
  {
   "cell_type": "code",
   "execution_count": 3,
   "metadata": {},
   "outputs": [],
   "source": [
    "data_dict = pd.read_excel('20-08-14_EPA_Data_Dictionnary_Campstat.xlsx')\n",
    "data_dict.rename(columns={data_dict.columns[0]: 'feature', data_dict.columns[1]:'definition'}, inplace=True)\n",
    "data_dict = data_dict.iloc[1:, :]"
   ]
  },
  {
   "cell_type": "markdown",
   "metadata": {},
   "source": [
    "# Loading data dictionary"
   ]
  },
  {
   "cell_type": "code",
   "execution_count": 4,
   "metadata": {},
   "outputs": [
    {
     "data": {
      "text/html": [
       "<div>\n",
       "<style scoped>\n",
       "    .dataframe tbody tr th:only-of-type {\n",
       "        vertical-align: middle;\n",
       "    }\n",
       "\n",
       "    .dataframe tbody tr th {\n",
       "        vertical-align: top;\n",
       "    }\n",
       "\n",
       "    .dataframe thead th {\n",
       "        text-align: right;\n",
       "    }\n",
       "</style>\n",
       "<table border=\"1\" class=\"dataframe\">\n",
       "  <thead>\n",
       "    <tr style=\"text-align: right;\">\n",
       "      <th></th>\n",
       "      <th>feature</th>\n",
       "      <th>definition</th>\n",
       "    </tr>\n",
       "  </thead>\n",
       "  <tbody>\n",
       "    <tr>\n",
       "      <th>1</th>\n",
       "      <td>idstay</td>\n",
       "      <td>Internal ID for each booking</td>\n",
       "    </tr>\n",
       "    <tr>\n",
       "      <th>2</th>\n",
       "      <td>idstay_to</td>\n",
       "      <td>External ID for a booking coming from a distributor</td>\n",
       "    </tr>\n",
       "    <tr>\n",
       "      <th>3</th>\n",
       "      <td>type_stay_lbl</td>\n",
       "      <td>INDIV RESID : stock from a Unit belowing to a owner - INDIV ALLOT : stock from a distributor allotment - INDIV DIRECT : stock directly managed by the campsite</td>\n",
       "    </tr>\n",
       "    <tr>\n",
       "      <th>4</th>\n",
       "      <td>resinternet</td>\n",
       "      <td>Internal ID for each booking. Beginning with U means a booking made by phone or on site by the campsite. Beginning with O means a Internet Booking</td>\n",
       "    </tr>\n",
       "    <tr>\n",
       "      <th>5</th>\n",
       "      <td>type_guest</td>\n",
       "      <td>Not very use : A = Allotment - N = Individual customer</td>\n",
       "    </tr>\n",
       "    <tr>\n",
       "      <th>6</th>\n",
       "      <td>extract_date</td>\n",
       "      <td>Date of the last export (ie creation/modification) of the booking from the PMS. System Date</td>\n",
       "    </tr>\n",
       "    <tr>\n",
       "      <th>7</th>\n",
       "      <td>resdate</td>\n",
       "      <td>Date of the booking</td>\n",
       "    </tr>\n",
       "    <tr>\n",
       "      <th>8</th>\n",
       "      <td>camping_code</td>\n",
       "      <td>Internal ID for each campsite</td>\n",
       "    </tr>\n",
       "    <tr>\n",
       "      <th>9</th>\n",
       "      <td>camping_label</td>\n",
       "      <td>Name of the campsite</td>\n",
       "    </tr>\n",
       "    <tr>\n",
       "      <th>10</th>\n",
       "      <td>Région</td>\n",
       "      <td>Region of the Campsite</td>\n",
       "    </tr>\n",
       "    <tr>\n",
       "      <th>11</th>\n",
       "      <td>type_hebergement</td>\n",
       "      <td>LOCA = Mobile Home ; EMPL = Pitch</td>\n",
       "    </tr>\n",
       "    <tr>\n",
       "      <th>12</th>\n",
       "      <td>hebergement</td>\n",
       "      <td>Internal ID for the category at the groupe Level</td>\n",
       "    </tr>\n",
       "    <tr>\n",
       "      <th>13</th>\n",
       "      <td>hebergement_label</td>\n",
       "      <td>Category Label (uniformized at Yelloh level)</td>\n",
       "    </tr>\n",
       "    <tr>\n",
       "      <th>14</th>\n",
       "      <td>datein</td>\n",
       "      <td>Arrival date</td>\n",
       "    </tr>\n",
       "    <tr>\n",
       "      <th>15</th>\n",
       "      <td>dateout</td>\n",
       "      <td>Departure date</td>\n",
       "    </tr>\n",
       "    <tr>\n",
       "      <th>16</th>\n",
       "      <td>los</td>\n",
       "      <td>Lengh of stay</td>\n",
       "    </tr>\n",
       "    <tr>\n",
       "      <th>17</th>\n",
       "      <td>nbroom</td>\n",
       "      <td>Nb Room. Always 1 - Required for some distributors such as Trip Advisor</td>\n",
       "    </tr>\n",
       "    <tr>\n",
       "      <th>18</th>\n",
       "      <td>nbguest</td>\n",
       "      <td>Number of person within the booking</td>\n",
       "    </tr>\n",
       "    <tr>\n",
       "      <th>19</th>\n",
       "      <td>nb_nuit_fid</td>\n",
       "      <td>Number of free nights including in the booking due the Loyalty Program</td>\n",
       "    </tr>\n",
       "    <tr>\n",
       "      <th>20</th>\n",
       "      <td>Séjour Gratuit</td>\n",
       "      <td>1 = the customer has used his points to have all the nights of the booking free. Not possible anymore in 2020. One night should be paid.</td>\n",
       "    </tr>\n",
       "    <tr>\n",
       "      <th>21</th>\n",
       "      <td>Nb Nuits Payantes</td>\n",
       "      <td>Number of paying nights = los - nb_nuit_fid</td>\n",
       "    </tr>\n",
       "    <tr>\n",
       "      <th>22</th>\n",
       "      <td>vrai_date_resa</td>\n",
       "      <td>The real date of the booking by the customer</td>\n",
       "    </tr>\n",
       "    <tr>\n",
       "      <th>23</th>\n",
       "      <td>client _id_grp</td>\n",
       "      <td>Internal ID Customer at the Group level. Unique at Yelloh Level</td>\n",
       "    </tr>\n",
       "    <tr>\n",
       "      <th>24</th>\n",
       "      <td>client_name</td>\n",
       "      <td>Client name</td>\n",
       "    </tr>\n",
       "    <tr>\n",
       "      <th>25</th>\n",
       "      <td>rev1</td>\n",
       "      <td>Revenue for the accomodation only</td>\n",
       "    </tr>\n",
       "    <tr>\n",
       "      <th>26</th>\n",
       "      <td>rev2</td>\n",
       "      <td>Revenue for the insurance cancellation</td>\n",
       "    </tr>\n",
       "    <tr>\n",
       "      <th>27</th>\n",
       "      <td>rev3</td>\n",
       "      <td>Revenue for the supplements (animals, additionnal persons, ….)</td>\n",
       "    </tr>\n",
       "    <tr>\n",
       "      <th>28</th>\n",
       "      <td>rev4</td>\n",
       "      <td>Others revenues (taxes, prestations,….)</td>\n",
       "    </tr>\n",
       "    <tr>\n",
       "      <th>29</th>\n",
       "      <td>rev5</td>\n",
       "      <td>Revenue for a specific prestation (number of accomodation choice)</td>\n",
       "    </tr>\n",
       "    <tr>\n",
       "      <th>30</th>\n",
       "      <td>rev</td>\n",
       "      <td>Total revenue of the booking</td>\n",
       "    </tr>\n",
       "    <tr>\n",
       "      <th>31</th>\n",
       "      <td>fid_id</td>\n",
       "      <td>Loyalty Program Number for the customer</td>\n",
       "    </tr>\n",
       "    <tr>\n",
       "      <th>32</th>\n",
       "      <td>pays</td>\n",
       "      <td>Customer country of residence</td>\n",
       "    </tr>\n",
       "    <tr>\n",
       "      <th>33</th>\n",
       "      <td>region</td>\n",
       "      <td>Language spoken by the customer</td>\n",
       "    </tr>\n",
       "    <tr>\n",
       "      <th>34</th>\n",
       "      <td>fidelisation</td>\n",
       "      <td>1 = no subscription to the loyalty program by the customer ; 2 = subscription of the loyalty program by the customer</td>\n",
       "    </tr>\n",
       "    <tr>\n",
       "      <th>35</th>\n",
       "      <td>date_fid</td>\n",
       "      <td>Date of the subscription of the loyalty program by the customer</td>\n",
       "    </tr>\n",
       "    <tr>\n",
       "      <th>36</th>\n",
       "      <td>creation_date</td>\n",
       "      <td>Date of the creation of the customer</td>\n",
       "    </tr>\n",
       "    <tr>\n",
       "      <th>37</th>\n",
       "      <td>segment</td>\n",
       "      <td>see datasheet Mapping - Classification of the booking</td>\n",
       "    </tr>\n",
       "    <tr>\n",
       "      <th>38</th>\n",
       "      <td>scode1</td>\n",
       "      <td>see datasheet Mapping - Classification of the booking</td>\n",
       "    </tr>\n",
       "    <tr>\n",
       "      <th>39</th>\n",
       "      <td>scode2</td>\n",
       "      <td>see datasheet Mapping - Classification of the booking</td>\n",
       "    </tr>\n",
       "    <tr>\n",
       "      <th>40</th>\n",
       "      <td>hébergement entreprise id</td>\n",
       "      <td>Internal ID for the category within the PMS of the Campsite. As PMS are not linked, we could have the same ID for different categories in different campsites</td>\n",
       "    </tr>\n",
       "    <tr>\n",
       "      <th>41</th>\n",
       "      <td>hébergement entreprise lbl</td>\n",
       "      <td>Name of the Category within the PMS of the Campsite</td>\n",
       "    </tr>\n",
       "  </tbody>\n",
       "</table>\n",
       "</div>"
      ],
      "text/plain": [
       "                       feature  \\\n",
       "1   idstay                       \n",
       "2   idstay_to                    \n",
       "3   type_stay_lbl                \n",
       "4   resinternet                  \n",
       "5   type_guest                   \n",
       "6   extract_date                 \n",
       "7   resdate                      \n",
       "8   camping_code                 \n",
       "9   camping_label                \n",
       "10  Région                       \n",
       "11  type_hebergement             \n",
       "12  hebergement                  \n",
       "13  hebergement_label            \n",
       "14  datein                       \n",
       "15  dateout                      \n",
       "16  los                          \n",
       "17  nbroom                       \n",
       "18  nbguest                      \n",
       "19  nb_nuit_fid                  \n",
       "20  Séjour Gratuit               \n",
       "21  Nb Nuits Payantes            \n",
       "22  vrai_date_resa               \n",
       "23  client _id_grp               \n",
       "24  client_name                  \n",
       "25  rev1                         \n",
       "26  rev2                         \n",
       "27  rev3                         \n",
       "28  rev4                         \n",
       "29  rev5                         \n",
       "30  rev                          \n",
       "31  fid_id                       \n",
       "32  pays                         \n",
       "33  region                       \n",
       "34  fidelisation                 \n",
       "35  date_fid                     \n",
       "36  creation_date                \n",
       "37  segment                      \n",
       "38  scode1                       \n",
       "39  scode2                       \n",
       "40  hébergement entreprise id    \n",
       "41  hébergement entreprise lbl   \n",
       "\n",
       "                                                                                                                                                        definition  \n",
       "1   Internal ID for each booking                                                                                                                                    \n",
       "2   External ID for a booking coming from a distributor                                                                                                             \n",
       "3   INDIV RESID : stock from a Unit belowing to a owner - INDIV ALLOT : stock from a distributor allotment - INDIV DIRECT : stock directly managed by the campsite  \n",
       "4   Internal ID for each booking. Beginning with U means a booking made by phone or on site by the campsite. Beginning with O means a Internet Booking              \n",
       "5   Not very use : A = Allotment - N = Individual customer                                                                                                          \n",
       "6   Date of the last export (ie creation/modification) of the booking from the PMS. System Date                                                                     \n",
       "7   Date of the booking                                                                                                                                             \n",
       "8   Internal ID for each campsite                                                                                                                                   \n",
       "9   Name of the campsite                                                                                                                                            \n",
       "10  Region of the Campsite                                                                                                                                          \n",
       "11  LOCA = Mobile Home ; EMPL = Pitch                                                                                                                               \n",
       "12  Internal ID for the category at the groupe Level                                                                                                                \n",
       "13  Category Label (uniformized at Yelloh level)                                                                                                                    \n",
       "14  Arrival date                                                                                                                                                    \n",
       "15  Departure date                                                                                                                                                  \n",
       "16  Lengh of stay                                                                                                                                                   \n",
       "17  Nb Room. Always 1 - Required for some distributors such as Trip Advisor                                                                                         \n",
       "18  Number of person within the booking                                                                                                                             \n",
       "19  Number of free nights including in the booking due the Loyalty Program                                                                                          \n",
       "20  1 = the customer has used his points to have all the nights of the booking free. Not possible anymore in 2020. One night should be paid.                        \n",
       "21  Number of paying nights = los - nb_nuit_fid                                                                                                                     \n",
       "22  The real date of the booking by the customer                                                                                                                    \n",
       "23  Internal ID Customer at the Group level. Unique at Yelloh Level                                                                                                 \n",
       "24  Client name                                                                                                                                                     \n",
       "25  Revenue for the accomodation only                                                                                                                               \n",
       "26  Revenue for the insurance cancellation                                                                                                                          \n",
       "27  Revenue for the supplements (animals, additionnal persons, ….)                                                                                                  \n",
       "28  Others revenues (taxes, prestations,….)                                                                                                                         \n",
       "29  Revenue for a specific prestation (number of accomodation choice)                                                                                               \n",
       "30  Total revenue of the booking                                                                                                                                    \n",
       "31  Loyalty Program Number for the customer                                                                                                                         \n",
       "32  Customer country of residence                                                                                                                                   \n",
       "33  Language spoken by the customer                                                                                                                                 \n",
       "34  1 = no subscription to the loyalty program by the customer ; 2 = subscription of the loyalty program by the customer                                            \n",
       "35  Date of the subscription of the loyalty program by the customer                                                                                                 \n",
       "36  Date of the creation of the customer                                                                                                                            \n",
       "37  see datasheet Mapping - Classification of the booking                                                                                                           \n",
       "38  see datasheet Mapping - Classification of the booking                                                                                                           \n",
       "39  see datasheet Mapping - Classification of the booking                                                                                                           \n",
       "40  Internal ID for the category within the PMS of the Campsite. As PMS are not linked, we could have the same ID for different categories in different campsites   \n",
       "41  Name of the Category within the PMS of the Campsite                                                                                                             "
      ]
     },
     "execution_count": 4,
     "metadata": {},
     "output_type": "execute_result"
    }
   ],
   "source": [
    "pd.set_option('display.max_colwidth', 0)\n",
    "\n",
    "data_dict"
   ]
  },
  {
   "cell_type": "markdown",
   "metadata": {},
   "source": [
    "### Summary statistics"
   ]
  },
  {
   "cell_type": "code",
   "execution_count": 5,
   "metadata": {},
   "outputs": [],
   "source": [
    "data = pd.read_excel('19-01-04_Séjours_2018.xlsb', engine='pyxlsb')"
   ]
  },
  {
   "cell_type": "code",
   "execution_count": 6,
   "metadata": {},
   "outputs": [],
   "source": [
    "df = data.copy()"
   ]
  },
  {
   "cell_type": "code",
   "execution_count": 7,
   "metadata": {},
   "outputs": [],
   "source": [
    "pd.set_option('display.max_columns', None)"
   ]
  },
  {
   "cell_type": "code",
   "execution_count": 8,
   "metadata": {},
   "outputs": [
    {
     "data": {
      "text/html": [
       "<div>\n",
       "<style scoped>\n",
       "    .dataframe tbody tr th:only-of-type {\n",
       "        vertical-align: middle;\n",
       "    }\n",
       "\n",
       "    .dataframe tbody tr th {\n",
       "        vertical-align: top;\n",
       "    }\n",
       "\n",
       "    .dataframe thead th {\n",
       "        text-align: right;\n",
       "    }\n",
       "</style>\n",
       "<table border=\"1\" class=\"dataframe\">\n",
       "  <thead>\n",
       "    <tr style=\"text-align: right;\">\n",
       "      <th></th>\n",
       "      <th>idstay</th>\n",
       "      <th>idstay_to</th>\n",
       "      <th>type_stay_lbl</th>\n",
       "      <th>resinternet</th>\n",
       "      <th>type_guest</th>\n",
       "      <th>extract_date</th>\n",
       "      <th>resdate</th>\n",
       "      <th>camping_code</th>\n",
       "      <th>camping_label</th>\n",
       "      <th>Région</th>\n",
       "      <th>type_hebergement</th>\n",
       "      <th>hebergement</th>\n",
       "      <th>hebergement_label</th>\n",
       "      <th>datein</th>\n",
       "      <th>dateout</th>\n",
       "      <th>los</th>\n",
       "      <th>nbroom</th>\n",
       "      <th>nbguest</th>\n",
       "      <th>nb_nuit_fid</th>\n",
       "      <th>Séjour Gratuit</th>\n",
       "      <th>Nb Nuits Payantes</th>\n",
       "      <th>vrai_date_resa</th>\n",
       "      <th>client_id_grp</th>\n",
       "      <th>client_name</th>\n",
       "      <th>rev1</th>\n",
       "      <th>rev2</th>\n",
       "      <th>rev3</th>\n",
       "      <th>rev4</th>\n",
       "      <th>rev5</th>\n",
       "      <th>rev</th>\n",
       "      <th>fid_id</th>\n",
       "      <th>pays</th>\n",
       "      <th>region</th>\n",
       "      <th>fidelisation</th>\n",
       "      <th>date_fid</th>\n",
       "      <th>camping_fid</th>\n",
       "      <th>creation_date</th>\n",
       "      <th>segment</th>\n",
       "      <th>scode1</th>\n",
       "      <th>scode2</th>\n",
       "      <th>hebergement_camping_id</th>\n",
       "      <th>hebergement_camping_lbl</th>\n",
       "    </tr>\n",
       "  </thead>\n",
       "  <tbody>\n",
       "    <tr>\n",
       "      <th>0</th>\n",
       "      <td>320-14150</td>\n",
       "      <td>NaN</td>\n",
       "      <td>INDIV DIRECT</td>\n",
       "      <td>U20130628DEBUR932214355</td>\n",
       "      <td>N</td>\n",
       "      <td>43220.0</td>\n",
       "      <td>43040.0</td>\n",
       "      <td>59.0</td>\n",
       "      <td>TURISCAMPO</td>\n",
       "      <td>Portugal</td>\n",
       "      <td>LOCA</td>\n",
       "      <td>8.0</td>\n",
       "      <td>Locatif 3 ch. 4 *</td>\n",
       "      <td>43191.0</td>\n",
       "      <td>43220.0</td>\n",
       "      <td>29.0</td>\n",
       "      <td>1.0</td>\n",
       "      <td>1.0</td>\n",
       "      <td>0.0</td>\n",
       "      <td>0.0</td>\n",
       "      <td>29.0</td>\n",
       "      <td>41453.0</td>\n",
       "      <td>1939194.0</td>\n",
       "      <td>XXXXX</td>\n",
       "      <td>670.00</td>\n",
       "      <td>0.0</td>\n",
       "      <td>70.0</td>\n",
       "      <td>0.0</td>\n",
       "      <td>0.0</td>\n",
       "      <td>740.00</td>\n",
       "      <td>1.001500e+11</td>\n",
       "      <td>BE</td>\n",
       "      <td>7322</td>\n",
       "      <td>Y</td>\n",
       "      <td>42005.0</td>\n",
       "      <td>100.0</td>\n",
       "      <td>41212.0</td>\n",
       "      <td>DIRECT</td>\n",
       "      <td>Village</td>\n",
       "      <td>Village</td>\n",
       "      <td>999999.0</td>\n",
       "      <td>LOCA - Not Defined</td>\n",
       "    </tr>\n",
       "    <tr>\n",
       "      <th>1</th>\n",
       "      <td>320-19097</td>\n",
       "      <td>NaN</td>\n",
       "      <td>INDIV DIRECT</td>\n",
       "      <td>U20131119GRIME393582153</td>\n",
       "      <td>N</td>\n",
       "      <td>43136.0</td>\n",
       "      <td>42675.0</td>\n",
       "      <td>59.0</td>\n",
       "      <td>TURISCAMPO</td>\n",
       "      <td>Portugal</td>\n",
       "      <td>EMPL</td>\n",
       "      <td>2.0</td>\n",
       "      <td>Emplacement nu de 0 à 3 *</td>\n",
       "      <td>43072.0</td>\n",
       "      <td>43136.0</td>\n",
       "      <td>64.0</td>\n",
       "      <td>1.0</td>\n",
       "      <td>2.0</td>\n",
       "      <td>0.0</td>\n",
       "      <td>0.0</td>\n",
       "      <td>64.0</td>\n",
       "      <td>41597.0</td>\n",
       "      <td>1675500.0</td>\n",
       "      <td>XXXXX</td>\n",
       "      <td>915.64</td>\n",
       "      <td>0.0</td>\n",
       "      <td>0.0</td>\n",
       "      <td>0.0</td>\n",
       "      <td>0.0</td>\n",
       "      <td>915.64</td>\n",
       "      <td>5.912000e+10</td>\n",
       "      <td>GB</td>\n",
       "      <td>PO381NX</td>\n",
       "      <td>Y</td>\n",
       "      <td>41275.0</td>\n",
       "      <td>59.0</td>\n",
       "      <td>40835.0</td>\n",
       "      <td>DIRECT</td>\n",
       "      <td>Village</td>\n",
       "      <td>Village</td>\n",
       "      <td>999998.0</td>\n",
       "      <td>EMPL - Not Defined</td>\n",
       "    </tr>\n",
       "    <tr>\n",
       "      <th>2</th>\n",
       "      <td>320-20471</td>\n",
       "      <td>NaN</td>\n",
       "      <td>INDIV DIRECT</td>\n",
       "      <td>U20140228HINDL599191284</td>\n",
       "      <td>N</td>\n",
       "      <td>43327.0</td>\n",
       "      <td>43040.0</td>\n",
       "      <td>59.0</td>\n",
       "      <td>TURISCAMPO</td>\n",
       "      <td>Portugal</td>\n",
       "      <td>EMPL</td>\n",
       "      <td>2.0</td>\n",
       "      <td>Emplacement nu de 0 à 3 *</td>\n",
       "      <td>43101.0</td>\n",
       "      <td>43165.0</td>\n",
       "      <td>64.0</td>\n",
       "      <td>1.0</td>\n",
       "      <td>2.0</td>\n",
       "      <td>0.0</td>\n",
       "      <td>0.0</td>\n",
       "      <td>64.0</td>\n",
       "      <td>41698.0</td>\n",
       "      <td>1664127.0</td>\n",
       "      <td>XXXXX</td>\n",
       "      <td>1074.66</td>\n",
       "      <td>0.0</td>\n",
       "      <td>64.0</td>\n",
       "      <td>0.0</td>\n",
       "      <td>0.0</td>\n",
       "      <td>1138.66</td>\n",
       "      <td>5.917000e+10</td>\n",
       "      <td>GB</td>\n",
       "      <td>NaN</td>\n",
       "      <td>Y</td>\n",
       "      <td>42736.0</td>\n",
       "      <td>59.0</td>\n",
       "      <td>40835.0</td>\n",
       "      <td>DIRECT</td>\n",
       "      <td>Village</td>\n",
       "      <td>Village</td>\n",
       "      <td>22.0</td>\n",
       "      <td>Empla. Super Deluxe *** Luz</td>\n",
       "    </tr>\n",
       "    <tr>\n",
       "      <th>3</th>\n",
       "      <td>320-22588</td>\n",
       "      <td>NaN</td>\n",
       "      <td>INDIV DIRECT</td>\n",
       "      <td>U20140528ENGEL311651611</td>\n",
       "      <td>N</td>\n",
       "      <td>43261.0</td>\n",
       "      <td>43040.0</td>\n",
       "      <td>59.0</td>\n",
       "      <td>TURISCAMPO</td>\n",
       "      <td>Portugal</td>\n",
       "      <td>EMPL</td>\n",
       "      <td>2.0</td>\n",
       "      <td>Emplacement nu de 0 à 3 *</td>\n",
       "      <td>43191.0</td>\n",
       "      <td>43252.0</td>\n",
       "      <td>61.0</td>\n",
       "      <td>1.0</td>\n",
       "      <td>2.0</td>\n",
       "      <td>0.0</td>\n",
       "      <td>0.0</td>\n",
       "      <td>61.0</td>\n",
       "      <td>41787.0</td>\n",
       "      <td>1686399.0</td>\n",
       "      <td>XXXXX</td>\n",
       "      <td>901.00</td>\n",
       "      <td>0.0</td>\n",
       "      <td>0.0</td>\n",
       "      <td>0.0</td>\n",
       "      <td>0.0</td>\n",
       "      <td>901.00</td>\n",
       "      <td>1.001700e+11</td>\n",
       "      <td>DE</td>\n",
       "      <td>49740</td>\n",
       "      <td>Y</td>\n",
       "      <td>43101.0</td>\n",
       "      <td>100.0</td>\n",
       "      <td>40835.0</td>\n",
       "      <td>DIRECT</td>\n",
       "      <td>Village</td>\n",
       "      <td>Village</td>\n",
       "      <td>999998.0</td>\n",
       "      <td>EMPL - Not Defined</td>\n",
       "    </tr>\n",
       "    <tr>\n",
       "      <th>4</th>\n",
       "      <td>320-22610</td>\n",
       "      <td>NaN</td>\n",
       "      <td>INDIV DIRECT</td>\n",
       "      <td>U20140529SRCOL428189086</td>\n",
       "      <td>N</td>\n",
       "      <td>43078.0</td>\n",
       "      <td>42675.0</td>\n",
       "      <td>59.0</td>\n",
       "      <td>TURISCAMPO</td>\n",
       "      <td>Portugal</td>\n",
       "      <td>LOCA</td>\n",
       "      <td>10.0</td>\n",
       "      <td>Locatif 2 ch. PREMIUM</td>\n",
       "      <td>43074.0</td>\n",
       "      <td>43078.0</td>\n",
       "      <td>4.0</td>\n",
       "      <td>1.0</td>\n",
       "      <td>2.0</td>\n",
       "      <td>0.0</td>\n",
       "      <td>0.0</td>\n",
       "      <td>4.0</td>\n",
       "      <td>41788.0</td>\n",
       "      <td>-1.0</td>\n",
       "      <td>XXXXX</td>\n",
       "      <td>0.00</td>\n",
       "      <td>0.0</td>\n",
       "      <td>0.0</td>\n",
       "      <td>0.0</td>\n",
       "      <td>0.0</td>\n",
       "      <td>0.00</td>\n",
       "      <td>0.000000e+00</td>\n",
       "      <td>PT</td>\n",
       "      <td>NaN</td>\n",
       "      <td>N</td>\n",
       "      <td>NaN</td>\n",
       "      <td>0.0</td>\n",
       "      <td>39721.0</td>\n",
       "      <td>DIRECT</td>\n",
       "      <td>Village</td>\n",
       "      <td>Village</td>\n",
       "      <td>999999.0</td>\n",
       "      <td>LOCA - Not Defined</td>\n",
       "    </tr>\n",
       "  </tbody>\n",
       "</table>\n",
       "</div>"
      ],
      "text/plain": [
       "      idstay idstay_to type_stay_lbl              resinternet type_guest  \\\n",
       "0  320-14150  NaN       INDIV DIRECT  U20130628DEBUR932214355  N           \n",
       "1  320-19097  NaN       INDIV DIRECT  U20131119GRIME393582153  N           \n",
       "2  320-20471  NaN       INDIV DIRECT  U20140228HINDL599191284  N           \n",
       "3  320-22588  NaN       INDIV DIRECT  U20140528ENGEL311651611  N           \n",
       "4  320-22610  NaN       INDIV DIRECT  U20140529SRCOL428189086  N           \n",
       "\n",
       "   extract_date  resdate  camping_code camping_label    Région  \\\n",
       "0  43220.0       43040.0  59.0          TURISCAMPO    Portugal   \n",
       "1  43136.0       42675.0  59.0          TURISCAMPO    Portugal   \n",
       "2  43327.0       43040.0  59.0          TURISCAMPO    Portugal   \n",
       "3  43261.0       43040.0  59.0          TURISCAMPO    Portugal   \n",
       "4  43078.0       42675.0  59.0          TURISCAMPO    Portugal   \n",
       "\n",
       "  type_hebergement  hebergement          hebergement_label   datein  dateout  \\\n",
       "0  LOCA             8.0          Locatif 3 ch. 4 *          43191.0  43220.0   \n",
       "1  EMPL             2.0          Emplacement nu de 0 à 3 *  43072.0  43136.0   \n",
       "2  EMPL             2.0          Emplacement nu de 0 à 3 *  43101.0  43165.0   \n",
       "3  EMPL             2.0          Emplacement nu de 0 à 3 *  43191.0  43252.0   \n",
       "4  LOCA             10.0         Locatif 2 ch. PREMIUM      43074.0  43078.0   \n",
       "\n",
       "    los  nbroom  nbguest  nb_nuit_fid  Séjour Gratuit  Nb Nuits Payantes  \\\n",
       "0  29.0  1.0     1.0      0.0          0.0             29.0                \n",
       "1  64.0  1.0     2.0      0.0          0.0             64.0                \n",
       "2  64.0  1.0     2.0      0.0          0.0             64.0                \n",
       "3  61.0  1.0     2.0      0.0          0.0             61.0                \n",
       "4  4.0   1.0     2.0      0.0          0.0             4.0                 \n",
       "\n",
       "   vrai_date_resa  client_id_grp client_name     rev1  rev2  rev3  rev4  rev5  \\\n",
       "0  41453.0         1939194.0      XXXXX       670.00   0.0   70.0  0.0   0.0    \n",
       "1  41597.0         1675500.0      XXXXX       915.64   0.0   0.0   0.0   0.0    \n",
       "2  41698.0         1664127.0      XXXXX       1074.66  0.0   64.0  0.0   0.0    \n",
       "3  41787.0         1686399.0      XXXXX       901.00   0.0   0.0   0.0   0.0    \n",
       "4  41788.0        -1.0            XXXXX       0.00     0.0   0.0   0.0   0.0    \n",
       "\n",
       "       rev        fid_id pays   region fidelisation  date_fid  camping_fid  \\\n",
       "0  740.00   1.001500e+11  BE   7322     Y            42005.0   100.0         \n",
       "1  915.64   5.912000e+10  GB   PO381NX  Y            41275.0   59.0          \n",
       "2  1138.66  5.917000e+10  GB   NaN      Y            42736.0   59.0          \n",
       "3  901.00   1.001700e+11  DE   49740    Y            43101.0   100.0         \n",
       "4  0.00     0.000000e+00  PT   NaN      N           NaN        0.0           \n",
       "\n",
       "   creation_date segment   scode1   scode2  hebergement_camping_id  \\\n",
       "0  41212.0        DIRECT  Village  Village  999999.0                 \n",
       "1  40835.0        DIRECT  Village  Village  999998.0                 \n",
       "2  40835.0        DIRECT  Village  Village  22.0                     \n",
       "3  40835.0        DIRECT  Village  Village  999998.0                 \n",
       "4  39721.0        DIRECT  Village  Village  999999.0                 \n",
       "\n",
       "       hebergement_camping_lbl  \n",
       "0  LOCA - Not Defined           \n",
       "1  EMPL - Not Defined           \n",
       "2  Empla. Super Deluxe *** Luz  \n",
       "3  EMPL - Not Defined           \n",
       "4  LOCA - Not Defined           "
      ]
     },
     "execution_count": 8,
     "metadata": {},
     "output_type": "execute_result"
    }
   ],
   "source": [
    "df.head()"
   ]
  },
  {
   "cell_type": "code",
   "execution_count": 9,
   "metadata": {},
   "outputs": [
    {
     "data": {
      "text/plain": [
       "(312552, 42)"
      ]
     },
     "execution_count": 9,
     "metadata": {},
     "output_type": "execute_result"
    }
   ],
   "source": [
    "df.shape"
   ]
  },
  {
   "cell_type": "code",
   "execution_count": 10,
   "metadata": {},
   "outputs": [],
   "source": [
    " df_camping = df[df['camping_label'] == 'GAVINA']"
   ]
  },
  {
   "cell_type": "code",
   "execution_count": 11,
   "metadata": {},
   "outputs": [
    {
     "data": {
      "text/html": [
       "<div>\n",
       "<style scoped>\n",
       "    .dataframe tbody tr th:only-of-type {\n",
       "        vertical-align: middle;\n",
       "    }\n",
       "\n",
       "    .dataframe tbody tr th {\n",
       "        vertical-align: top;\n",
       "    }\n",
       "\n",
       "    .dataframe thead th {\n",
       "        text-align: right;\n",
       "    }\n",
       "</style>\n",
       "<table border=\"1\" class=\"dataframe\">\n",
       "  <thead>\n",
       "    <tr style=\"text-align: right;\">\n",
       "      <th></th>\n",
       "      <th>idstay</th>\n",
       "      <th>idstay_to</th>\n",
       "      <th>type_stay_lbl</th>\n",
       "      <th>resinternet</th>\n",
       "      <th>type_guest</th>\n",
       "      <th>extract_date</th>\n",
       "      <th>resdate</th>\n",
       "      <th>camping_code</th>\n",
       "      <th>camping_label</th>\n",
       "      <th>Région</th>\n",
       "      <th>type_hebergement</th>\n",
       "      <th>hebergement</th>\n",
       "      <th>hebergement_label</th>\n",
       "      <th>datein</th>\n",
       "      <th>dateout</th>\n",
       "      <th>los</th>\n",
       "      <th>nbroom</th>\n",
       "      <th>nbguest</th>\n",
       "      <th>nb_nuit_fid</th>\n",
       "      <th>Séjour Gratuit</th>\n",
       "      <th>Nb Nuits Payantes</th>\n",
       "      <th>vrai_date_resa</th>\n",
       "      <th>client_id_grp</th>\n",
       "      <th>client_name</th>\n",
       "      <th>rev1</th>\n",
       "      <th>rev2</th>\n",
       "      <th>rev3</th>\n",
       "      <th>rev4</th>\n",
       "      <th>rev5</th>\n",
       "      <th>rev</th>\n",
       "      <th>fid_id</th>\n",
       "      <th>pays</th>\n",
       "      <th>region</th>\n",
       "      <th>fidelisation</th>\n",
       "      <th>date_fid</th>\n",
       "      <th>camping_fid</th>\n",
       "      <th>creation_date</th>\n",
       "      <th>segment</th>\n",
       "      <th>scode1</th>\n",
       "      <th>scode2</th>\n",
       "      <th>hebergement_camping_id</th>\n",
       "      <th>hebergement_camping_lbl</th>\n",
       "    </tr>\n",
       "  </thead>\n",
       "  <tbody>\n",
       "    <tr>\n",
       "      <th>138949</th>\n",
       "      <td>757-100</td>\n",
       "      <td>NaN</td>\n",
       "      <td>INDIV DIRECT</td>\n",
       "      <td>U20171027GOMAR509625244</td>\n",
       "      <td>N</td>\n",
       "      <td>43400.0</td>\n",
       "      <td>43040.0</td>\n",
       "      <td>109.0</td>\n",
       "      <td>GAVINA</td>\n",
       "      <td>Espagne</td>\n",
       "      <td>EMPL</td>\n",
       "      <td>2.0</td>\n",
       "      <td>Emplacement nu de 0 à 3 *</td>\n",
       "      <td>43182.0</td>\n",
       "      <td>43401.0</td>\n",
       "      <td>219.0</td>\n",
       "      <td>1.0</td>\n",
       "      <td>2.0</td>\n",
       "      <td>0.0</td>\n",
       "      <td>0.0</td>\n",
       "      <td>219.0</td>\n",
       "      <td>43035.0</td>\n",
       "      <td>3287372.0</td>\n",
       "      <td>XXXXX</td>\n",
       "      <td>3040.0</td>\n",
       "      <td>0.0</td>\n",
       "      <td>380.0</td>\n",
       "      <td>7.0</td>\n",
       "      <td>0.0</td>\n",
       "      <td>3427.0</td>\n",
       "      <td>1.091700e+11</td>\n",
       "      <td>ES</td>\n",
       "      <td>NaN</td>\n",
       "      <td>Y</td>\n",
       "      <td>43101.0</td>\n",
       "      <td>109.0</td>\n",
       "      <td>43035.0</td>\n",
       "      <td>DIRECT</td>\n",
       "      <td>Village</td>\n",
       "      <td>Village</td>\n",
       "      <td>1.0</td>\n",
       "      <td>Parcela 2p * 3Âª LÃ­nea</td>\n",
       "    </tr>\n",
       "    <tr>\n",
       "      <th>138950</th>\n",
       "      <td>757-1000</td>\n",
       "      <td>NaN</td>\n",
       "      <td>INDIV DIRECT</td>\n",
       "      <td>O20180205SCHUL562786563</td>\n",
       "      <td>N</td>\n",
       "      <td>43330.0</td>\n",
       "      <td>43137.0</td>\n",
       "      <td>109.0</td>\n",
       "      <td>GAVINA</td>\n",
       "      <td>Espagne</td>\n",
       "      <td>EMPL</td>\n",
       "      <td>2.0</td>\n",
       "      <td>Emplacement nu de 0 à 3 *</td>\n",
       "      <td>43197.0</td>\n",
       "      <td>43210.0</td>\n",
       "      <td>13.0</td>\n",
       "      <td>1.0</td>\n",
       "      <td>5.0</td>\n",
       "      <td>0.0</td>\n",
       "      <td>0.0</td>\n",
       "      <td>13.0</td>\n",
       "      <td>43137.0</td>\n",
       "      <td>3331204.0</td>\n",
       "      <td>XXXXX</td>\n",
       "      <td>327.6</td>\n",
       "      <td>15.0</td>\n",
       "      <td>0.0</td>\n",
       "      <td>7.0</td>\n",
       "      <td>0.0</td>\n",
       "      <td>349.6</td>\n",
       "      <td>1.091700e+11</td>\n",
       "      <td>FR</td>\n",
       "      <td>NaN</td>\n",
       "      <td>Y</td>\n",
       "      <td>43101.0</td>\n",
       "      <td>109.0</td>\n",
       "      <td>43137.0</td>\n",
       "      <td>INTERNET</td>\n",
       "      <td>Village</td>\n",
       "      <td>Wvillage</td>\n",
       "      <td>2.0</td>\n",
       "      <td>Parcela 2p * Frente de mar 1Âª LÃ­nea</td>\n",
       "    </tr>\n",
       "    <tr>\n",
       "      <th>138951</th>\n",
       "      <td>757-1001</td>\n",
       "      <td>NaN</td>\n",
       "      <td>INDIV DIRECT</td>\n",
       "      <td>O20180205STEVE31630440</td>\n",
       "      <td>N</td>\n",
       "      <td>43379.0</td>\n",
       "      <td>43137.0</td>\n",
       "      <td>109.0</td>\n",
       "      <td>GAVINA</td>\n",
       "      <td>Espagne</td>\n",
       "      <td>EMPL</td>\n",
       "      <td>2.0</td>\n",
       "      <td>Emplacement nu de 0 à 3 *</td>\n",
       "      <td>43276.0</td>\n",
       "      <td>43283.0</td>\n",
       "      <td>7.0</td>\n",
       "      <td>1.0</td>\n",
       "      <td>2.0</td>\n",
       "      <td>0.0</td>\n",
       "      <td>0.0</td>\n",
       "      <td>7.0</td>\n",
       "      <td>43137.0</td>\n",
       "      <td>3202963.0</td>\n",
       "      <td>XXXXX</td>\n",
       "      <td>265.0</td>\n",
       "      <td>15.0</td>\n",
       "      <td>0.0</td>\n",
       "      <td>7.0</td>\n",
       "      <td>0.0</td>\n",
       "      <td>287.0</td>\n",
       "      <td>1.091700e+11</td>\n",
       "      <td>BE</td>\n",
       "      <td>NaN</td>\n",
       "      <td>Y</td>\n",
       "      <td>43101.0</td>\n",
       "      <td>109.0</td>\n",
       "      <td>42962.0</td>\n",
       "      <td>Internet</td>\n",
       "      <td>Yelloh</td>\n",
       "      <td>Wyelloh</td>\n",
       "      <td>1.0</td>\n",
       "      <td>Parcela 2p * 3Âª LÃ­nea</td>\n",
       "    </tr>\n",
       "    <tr>\n",
       "      <th>138952</th>\n",
       "      <td>757-1002</td>\n",
       "      <td>NaN</td>\n",
       "      <td>INDIV DIRECT</td>\n",
       "      <td>O20180205FELLN1755348280</td>\n",
       "      <td>N</td>\n",
       "      <td>43295.0</td>\n",
       "      <td>43137.0</td>\n",
       "      <td>109.0</td>\n",
       "      <td>GAVINA</td>\n",
       "      <td>Espagne</td>\n",
       "      <td>LOCA</td>\n",
       "      <td>5.0</td>\n",
       "      <td>Locatif 2 ch. de 0 à 3 *</td>\n",
       "      <td>43281.0</td>\n",
       "      <td>43295.0</td>\n",
       "      <td>14.0</td>\n",
       "      <td>1.0</td>\n",
       "      <td>5.0</td>\n",
       "      <td>0.0</td>\n",
       "      <td>0.0</td>\n",
       "      <td>14.0</td>\n",
       "      <td>43137.0</td>\n",
       "      <td>3331219.0</td>\n",
       "      <td>XXXXX</td>\n",
       "      <td>2240.0</td>\n",
       "      <td>0.0</td>\n",
       "      <td>0.0</td>\n",
       "      <td>7.0</td>\n",
       "      <td>0.0</td>\n",
       "      <td>2247.0</td>\n",
       "      <td>1.091700e+11</td>\n",
       "      <td>DE</td>\n",
       "      <td>NaN</td>\n",
       "      <td>Y</td>\n",
       "      <td>43101.0</td>\n",
       "      <td>109.0</td>\n",
       "      <td>43137.0</td>\n",
       "      <td>INTERNET</td>\n",
       "      <td>Village</td>\n",
       "      <td>Wvillage</td>\n",
       "      <td>11.0</td>\n",
       "      <td>Chalet Beach 4/5p 2Hab ***</td>\n",
       "    </tr>\n",
       "    <tr>\n",
       "      <th>138953</th>\n",
       "      <td>757-1003</td>\n",
       "      <td>NaN</td>\n",
       "      <td>INDIV DIRECT</td>\n",
       "      <td>O20180206DOLEZ1523865485</td>\n",
       "      <td>N</td>\n",
       "      <td>43287.0</td>\n",
       "      <td>43138.0</td>\n",
       "      <td>109.0</td>\n",
       "      <td>GAVINA</td>\n",
       "      <td>Espagne</td>\n",
       "      <td>LOCA</td>\n",
       "      <td>5.0</td>\n",
       "      <td>Locatif 2 ch. de 0 à 3 *</td>\n",
       "      <td>43281.0</td>\n",
       "      <td>43287.0</td>\n",
       "      <td>6.0</td>\n",
       "      <td>1.0</td>\n",
       "      <td>2.0</td>\n",
       "      <td>0.0</td>\n",
       "      <td>0.0</td>\n",
       "      <td>6.0</td>\n",
       "      <td>43138.0</td>\n",
       "      <td>3331661.0</td>\n",
       "      <td>XXXXX</td>\n",
       "      <td>930.0</td>\n",
       "      <td>0.0</td>\n",
       "      <td>0.0</td>\n",
       "      <td>6.0</td>\n",
       "      <td>0.0</td>\n",
       "      <td>936.0</td>\n",
       "      <td>1.091700e+11</td>\n",
       "      <td>CZ</td>\n",
       "      <td>NaN</td>\n",
       "      <td>Y</td>\n",
       "      <td>43101.0</td>\n",
       "      <td>109.0</td>\n",
       "      <td>43138.0</td>\n",
       "      <td>Internet</td>\n",
       "      <td>Yelloh</td>\n",
       "      <td>Wyelloh</td>\n",
       "      <td>9.0</td>\n",
       "      <td>Tienda Lodge Safari 6p2Hab+entresuelo***</td>\n",
       "    </tr>\n",
       "    <tr>\n",
       "      <th>...</th>\n",
       "      <td>...</td>\n",
       "      <td>...</td>\n",
       "      <td>...</td>\n",
       "      <td>...</td>\n",
       "      <td>...</td>\n",
       "      <td>...</td>\n",
       "      <td>...</td>\n",
       "      <td>...</td>\n",
       "      <td>...</td>\n",
       "      <td>...</td>\n",
       "      <td>...</td>\n",
       "      <td>...</td>\n",
       "      <td>...</td>\n",
       "      <td>...</td>\n",
       "      <td>...</td>\n",
       "      <td>...</td>\n",
       "      <td>...</td>\n",
       "      <td>...</td>\n",
       "      <td>...</td>\n",
       "      <td>...</td>\n",
       "      <td>...</td>\n",
       "      <td>...</td>\n",
       "      <td>...</td>\n",
       "      <td>...</td>\n",
       "      <td>...</td>\n",
       "      <td>...</td>\n",
       "      <td>...</td>\n",
       "      <td>...</td>\n",
       "      <td>...</td>\n",
       "      <td>...</td>\n",
       "      <td>...</td>\n",
       "      <td>...</td>\n",
       "      <td>...</td>\n",
       "      <td>...</td>\n",
       "      <td>...</td>\n",
       "      <td>...</td>\n",
       "      <td>...</td>\n",
       "      <td>...</td>\n",
       "      <td>...</td>\n",
       "      <td>...</td>\n",
       "      <td>...</td>\n",
       "      <td>...</td>\n",
       "    </tr>\n",
       "    <tr>\n",
       "      <th>141906</th>\n",
       "      <td>757-995</td>\n",
       "      <td>NaN</td>\n",
       "      <td>INDIV DIRECT</td>\n",
       "      <td>O20180204MOREN1931420751</td>\n",
       "      <td>N</td>\n",
       "      <td>43330.0</td>\n",
       "      <td>43136.0</td>\n",
       "      <td>109.0</td>\n",
       "      <td>GAVINA</td>\n",
       "      <td>Espagne</td>\n",
       "      <td>LOCA</td>\n",
       "      <td>5.0</td>\n",
       "      <td>Locatif 2 ch. de 0 à 3 *</td>\n",
       "      <td>43217.0</td>\n",
       "      <td>43219.0</td>\n",
       "      <td>2.0</td>\n",
       "      <td>1.0</td>\n",
       "      <td>3.0</td>\n",
       "      <td>0.0</td>\n",
       "      <td>0.0</td>\n",
       "      <td>2.0</td>\n",
       "      <td>43136.0</td>\n",
       "      <td>3330454.0</td>\n",
       "      <td>XXXXX</td>\n",
       "      <td>150.0</td>\n",
       "      <td>0.0</td>\n",
       "      <td>0.0</td>\n",
       "      <td>2.0</td>\n",
       "      <td>0.0</td>\n",
       "      <td>152.0</td>\n",
       "      <td>1.091700e+11</td>\n",
       "      <td>ES</td>\n",
       "      <td>NaN</td>\n",
       "      <td>Y</td>\n",
       "      <td>43101.0</td>\n",
       "      <td>109.0</td>\n",
       "      <td>43136.0</td>\n",
       "      <td>INTERNET</td>\n",
       "      <td>Village</td>\n",
       "      <td>Wvillage</td>\n",
       "      <td>10.0</td>\n",
       "      <td>Chalet Costa 4p 2Hab ***</td>\n",
       "    </tr>\n",
       "    <tr>\n",
       "      <th>141907</th>\n",
       "      <td>757-996</td>\n",
       "      <td>NaN</td>\n",
       "      <td>INDIV DIRECT</td>\n",
       "      <td>O20180205HUISM628580937</td>\n",
       "      <td>N</td>\n",
       "      <td>43379.0</td>\n",
       "      <td>43136.0</td>\n",
       "      <td>109.0</td>\n",
       "      <td>GAVINA</td>\n",
       "      <td>Espagne</td>\n",
       "      <td>LOCA</td>\n",
       "      <td>5.0</td>\n",
       "      <td>Locatif 2 ch. de 0 à 3 *</td>\n",
       "      <td>43297.0</td>\n",
       "      <td>43311.0</td>\n",
       "      <td>14.0</td>\n",
       "      <td>1.0</td>\n",
       "      <td>4.0</td>\n",
       "      <td>0.0</td>\n",
       "      <td>0.0</td>\n",
       "      <td>14.0</td>\n",
       "      <td>43136.0</td>\n",
       "      <td>3330652.0</td>\n",
       "      <td>XXXXX</td>\n",
       "      <td>1490.0</td>\n",
       "      <td>0.0</td>\n",
       "      <td>108.0</td>\n",
       "      <td>14.0</td>\n",
       "      <td>0.0</td>\n",
       "      <td>1612.0</td>\n",
       "      <td>1.091700e+11</td>\n",
       "      <td>NL</td>\n",
       "      <td>NaN</td>\n",
       "      <td>Y</td>\n",
       "      <td>43101.0</td>\n",
       "      <td>109.0</td>\n",
       "      <td>43136.0</td>\n",
       "      <td>INTERNET</td>\n",
       "      <td>Village</td>\n",
       "      <td>Wvillage</td>\n",
       "      <td>5.0</td>\n",
       "      <td>Tienda amueblada Junior 5p 2Hab **</td>\n",
       "    </tr>\n",
       "    <tr>\n",
       "      <th>141908</th>\n",
       "      <td>757-997</td>\n",
       "      <td>NaN</td>\n",
       "      <td>INDIV DIRECT</td>\n",
       "      <td>U20180205CESAR693289184</td>\n",
       "      <td>N</td>\n",
       "      <td>43400.0</td>\n",
       "      <td>43136.0</td>\n",
       "      <td>109.0</td>\n",
       "      <td>GAVINA</td>\n",
       "      <td>Espagne</td>\n",
       "      <td>EMPL</td>\n",
       "      <td>2.0</td>\n",
       "      <td>Emplacement nu de 0 à 3 *</td>\n",
       "      <td>43182.0</td>\n",
       "      <td>43401.0</td>\n",
       "      <td>219.0</td>\n",
       "      <td>1.0</td>\n",
       "      <td>3.0</td>\n",
       "      <td>0.0</td>\n",
       "      <td>0.0</td>\n",
       "      <td>219.0</td>\n",
       "      <td>43136.0</td>\n",
       "      <td>3330711.0</td>\n",
       "      <td>XXXXX</td>\n",
       "      <td>3800.0</td>\n",
       "      <td>0.0</td>\n",
       "      <td>165.0</td>\n",
       "      <td>7.0</td>\n",
       "      <td>0.0</td>\n",
       "      <td>3972.0</td>\n",
       "      <td>0.000000e+00</td>\n",
       "      <td>ES</td>\n",
       "      <td>NaN</td>\n",
       "      <td>N</td>\n",
       "      <td>NaN</td>\n",
       "      <td>0.0</td>\n",
       "      <td>43136.0</td>\n",
       "      <td>DIRECT</td>\n",
       "      <td>Village</td>\n",
       "      <td>Village</td>\n",
       "      <td>1.0</td>\n",
       "      <td>Parcela 2p * 3Âª LÃ­nea</td>\n",
       "    </tr>\n",
       "    <tr>\n",
       "      <th>141909</th>\n",
       "      <td>757-998</td>\n",
       "      <td>NaN</td>\n",
       "      <td>INDIV DIRECT</td>\n",
       "      <td>O20180206IBORR925639546</td>\n",
       "      <td>N</td>\n",
       "      <td>43192.0</td>\n",
       "      <td>43137.0</td>\n",
       "      <td>109.0</td>\n",
       "      <td>GAVINA</td>\n",
       "      <td>Espagne</td>\n",
       "      <td>EMPL</td>\n",
       "      <td>2.0</td>\n",
       "      <td>Emplacement nu de 0 à 3 *</td>\n",
       "      <td>43189.0</td>\n",
       "      <td>43192.0</td>\n",
       "      <td>3.0</td>\n",
       "      <td>1.0</td>\n",
       "      <td>2.0</td>\n",
       "      <td>0.0</td>\n",
       "      <td>0.0</td>\n",
       "      <td>3.0</td>\n",
       "      <td>43137.0</td>\n",
       "      <td>3035723.0</td>\n",
       "      <td>XXXXX</td>\n",
       "      <td>66.0</td>\n",
       "      <td>0.0</td>\n",
       "      <td>0.0</td>\n",
       "      <td>3.0</td>\n",
       "      <td>0.0</td>\n",
       "      <td>69.0</td>\n",
       "      <td>1.091700e+11</td>\n",
       "      <td>ES</td>\n",
       "      <td>8005</td>\n",
       "      <td>Y</td>\n",
       "      <td>43101.0</td>\n",
       "      <td>109.0</td>\n",
       "      <td>42662.0</td>\n",
       "      <td>INTERNET</td>\n",
       "      <td>Village</td>\n",
       "      <td>Wvillage</td>\n",
       "      <td>999998.0</td>\n",
       "      <td>EMPL - Not Defined</td>\n",
       "    </tr>\n",
       "    <tr>\n",
       "      <th>141910</th>\n",
       "      <td>757-999</td>\n",
       "      <td>NaN</td>\n",
       "      <td>INDIV DIRECT</td>\n",
       "      <td>O20180205ROBIN1784447996</td>\n",
       "      <td>N</td>\n",
       "      <td>43379.0</td>\n",
       "      <td>43137.0</td>\n",
       "      <td>109.0</td>\n",
       "      <td>GAVINA</td>\n",
       "      <td>Espagne</td>\n",
       "      <td>EMPL</td>\n",
       "      <td>2.0</td>\n",
       "      <td>Emplacement nu de 0 à 3 *</td>\n",
       "      <td>43288.0</td>\n",
       "      <td>43301.0</td>\n",
       "      <td>13.0</td>\n",
       "      <td>1.0</td>\n",
       "      <td>2.0</td>\n",
       "      <td>0.0</td>\n",
       "      <td>0.0</td>\n",
       "      <td>13.0</td>\n",
       "      <td>43137.0</td>\n",
       "      <td>3293245.0</td>\n",
       "      <td>XXXXX</td>\n",
       "      <td>647.0</td>\n",
       "      <td>0.0</td>\n",
       "      <td>0.0</td>\n",
       "      <td>7.0</td>\n",
       "      <td>0.0</td>\n",
       "      <td>654.0</td>\n",
       "      <td>1.091700e+11</td>\n",
       "      <td>FR</td>\n",
       "      <td>NaN</td>\n",
       "      <td>Y</td>\n",
       "      <td>43101.0</td>\n",
       "      <td>109.0</td>\n",
       "      <td>43035.0</td>\n",
       "      <td>INTERNET</td>\n",
       "      <td>Village</td>\n",
       "      <td>Wvillage</td>\n",
       "      <td>1.0</td>\n",
       "      <td>Parcela 2p * 3Âª LÃ­nea</td>\n",
       "    </tr>\n",
       "  </tbody>\n",
       "</table>\n",
       "<p>2962 rows × 42 columns</p>\n",
       "</div>"
      ],
      "text/plain": [
       "          idstay idstay_to type_stay_lbl               resinternet type_guest  \\\n",
       "138949  757-100   NaN       INDIV DIRECT  U20171027GOMAR509625244   N           \n",
       "138950  757-1000  NaN       INDIV DIRECT  O20180205SCHUL562786563   N           \n",
       "138951  757-1001  NaN       INDIV DIRECT  O20180205STEVE31630440    N           \n",
       "138952  757-1002  NaN       INDIV DIRECT  O20180205FELLN1755348280  N           \n",
       "138953  757-1003  NaN       INDIV DIRECT  O20180206DOLEZ1523865485  N           \n",
       "...          ...  ...                ...                       ... ..           \n",
       "141906  757-995   NaN       INDIV DIRECT  O20180204MOREN1931420751  N           \n",
       "141907  757-996   NaN       INDIV DIRECT  O20180205HUISM628580937   N           \n",
       "141908  757-997   NaN       INDIV DIRECT  U20180205CESAR693289184   N           \n",
       "141909  757-998   NaN       INDIV DIRECT  O20180206IBORR925639546   N           \n",
       "141910  757-999   NaN       INDIV DIRECT  O20180205ROBIN1784447996  N           \n",
       "\n",
       "        extract_date  resdate  camping_code camping_label   Région  \\\n",
       "138949  43400.0       43040.0  109.0         GAVINA        Espagne   \n",
       "138950  43330.0       43137.0  109.0         GAVINA        Espagne   \n",
       "138951  43379.0       43137.0  109.0         GAVINA        Espagne   \n",
       "138952  43295.0       43137.0  109.0         GAVINA        Espagne   \n",
       "138953  43287.0       43138.0  109.0         GAVINA        Espagne   \n",
       "...         ...           ...    ...            ...            ...   \n",
       "141906  43330.0       43136.0  109.0         GAVINA        Espagne   \n",
       "141907  43379.0       43136.0  109.0         GAVINA        Espagne   \n",
       "141908  43400.0       43136.0  109.0         GAVINA        Espagne   \n",
       "141909  43192.0       43137.0  109.0         GAVINA        Espagne   \n",
       "141910  43379.0       43137.0  109.0         GAVINA        Espagne   \n",
       "\n",
       "       type_hebergement  hebergement          hebergement_label   datein  \\\n",
       "138949  EMPL             2.0          Emplacement nu de 0 à 3 *  43182.0   \n",
       "138950  EMPL             2.0          Emplacement nu de 0 à 3 *  43197.0   \n",
       "138951  EMPL             2.0          Emplacement nu de 0 à 3 *  43276.0   \n",
       "138952  LOCA             5.0          Locatif 2 ch. de 0 à 3 *   43281.0   \n",
       "138953  LOCA             5.0          Locatif 2 ch. de 0 à 3 *   43281.0   \n",
       "...      ...             ...                               ...       ...   \n",
       "141906  LOCA             5.0          Locatif 2 ch. de 0 à 3 *   43217.0   \n",
       "141907  LOCA             5.0          Locatif 2 ch. de 0 à 3 *   43297.0   \n",
       "141908  EMPL             2.0          Emplacement nu de 0 à 3 *  43182.0   \n",
       "141909  EMPL             2.0          Emplacement nu de 0 à 3 *  43189.0   \n",
       "141910  EMPL             2.0          Emplacement nu de 0 à 3 *  43288.0   \n",
       "\n",
       "        dateout    los  nbroom  nbguest  nb_nuit_fid  Séjour Gratuit  \\\n",
       "138949  43401.0  219.0  1.0     2.0      0.0          0.0              \n",
       "138950  43210.0  13.0   1.0     5.0      0.0          0.0              \n",
       "138951  43283.0  7.0    1.0     2.0      0.0          0.0              \n",
       "138952  43295.0  14.0   1.0     5.0      0.0          0.0              \n",
       "138953  43287.0  6.0    1.0     2.0      0.0          0.0              \n",
       "...         ...  ...    ...     ...      ...          ...              \n",
       "141906  43219.0  2.0    1.0     3.0      0.0          0.0              \n",
       "141907  43311.0  14.0   1.0     4.0      0.0          0.0              \n",
       "141908  43401.0  219.0  1.0     3.0      0.0          0.0              \n",
       "141909  43192.0  3.0    1.0     2.0      0.0          0.0              \n",
       "141910  43301.0  13.0   1.0     2.0      0.0          0.0              \n",
       "\n",
       "        Nb Nuits Payantes  vrai_date_resa  client_id_grp client_name    rev1  \\\n",
       "138949  219.0              43035.0         3287372.0      XXXXX       3040.0   \n",
       "138950  13.0               43137.0         3331204.0      XXXXX       327.6    \n",
       "138951  7.0                43137.0         3202963.0      XXXXX       265.0    \n",
       "138952  14.0               43137.0         3331219.0      XXXXX       2240.0   \n",
       "138953  6.0                43138.0         3331661.0      XXXXX       930.0    \n",
       "...     ...                    ...               ...        ...         ...    \n",
       "141906  2.0                43136.0         3330454.0      XXXXX       150.0    \n",
       "141907  14.0               43136.0         3330652.0      XXXXX       1490.0   \n",
       "141908  219.0              43136.0         3330711.0      XXXXX       3800.0   \n",
       "141909  3.0                43137.0         3035723.0      XXXXX       66.0     \n",
       "141910  13.0               43137.0         3293245.0      XXXXX       647.0    \n",
       "\n",
       "        rev2   rev3  rev4  rev5     rev        fid_id pays region  \\\n",
       "138949  0.0   380.0  7.0   0.0   3427.0  1.091700e+11  ES   NaN     \n",
       "138950  15.0  0.0    7.0   0.0   349.6   1.091700e+11  FR   NaN     \n",
       "138951  15.0  0.0    7.0   0.0   287.0   1.091700e+11  BE   NaN     \n",
       "138952  0.0   0.0    7.0   0.0   2247.0  1.091700e+11  DE   NaN     \n",
       "138953  0.0   0.0    6.0   0.0   936.0   1.091700e+11  CZ   NaN     \n",
       "...     ...   ...    ...   ...     ...            ...  ..   ...     \n",
       "141906  0.0   0.0    2.0   0.0   152.0   1.091700e+11  ES   NaN     \n",
       "141907  0.0   108.0  14.0  0.0   1612.0  1.091700e+11  NL   NaN     \n",
       "141908  0.0   165.0  7.0   0.0   3972.0  0.000000e+00  ES   NaN     \n",
       "141909  0.0   0.0    3.0   0.0   69.0    1.091700e+11  ES   8005    \n",
       "141910  0.0   0.0    7.0   0.0   654.0   1.091700e+11  FR   NaN     \n",
       "\n",
       "       fidelisation  date_fid  camping_fid  creation_date   segment   scode1  \\\n",
       "138949  Y            43101.0   109.0        43035.0        DIRECT    Village   \n",
       "138950  Y            43101.0   109.0        43137.0        INTERNET  Village   \n",
       "138951  Y            43101.0   109.0        42962.0        Internet  Yelloh    \n",
       "138952  Y            43101.0   109.0        43137.0        INTERNET  Village   \n",
       "138953  Y            43101.0   109.0        43138.0        Internet  Yelloh    \n",
       "...    ..                ...     ...            ...             ...     ...    \n",
       "141906  Y            43101.0   109.0        43136.0        INTERNET  Village   \n",
       "141907  Y            43101.0   109.0        43136.0        INTERNET  Village   \n",
       "141908  N           NaN        0.0          43136.0        DIRECT    Village   \n",
       "141909  Y            43101.0   109.0        42662.0        INTERNET  Village   \n",
       "141910  Y            43101.0   109.0        43035.0        INTERNET  Village   \n",
       "\n",
       "          scode2  hebergement_camping_id  \\\n",
       "138949  Village   1.0                      \n",
       "138950  Wvillage  2.0                      \n",
       "138951  Wyelloh   1.0                      \n",
       "138952  Wvillage  11.0                     \n",
       "138953  Wyelloh   9.0                      \n",
       "...         ...   ...                      \n",
       "141906  Wvillage  10.0                     \n",
       "141907  Wvillage  5.0                      \n",
       "141908  Village   1.0                      \n",
       "141909  Wvillage  999998.0                 \n",
       "141910  Wvillage  1.0                      \n",
       "\n",
       "                         hebergement_camping_lbl  \n",
       "138949  Parcela 2p * 3Âª LÃ­nea                   \n",
       "138950  Parcela 2p * Frente de mar 1Âª LÃ­nea     \n",
       "138951  Parcela 2p * 3Âª LÃ­nea                   \n",
       "138952  Chalet Beach 4/5p 2Hab ***                \n",
       "138953  Tienda Lodge Safari 6p2Hab+entresuelo***  \n",
       "...                                          ...  \n",
       "141906  Chalet Costa 4p 2Hab ***                  \n",
       "141907  Tienda amueblada Junior 5p 2Hab **        \n",
       "141908  Parcela 2p * 3Âª LÃ­nea                   \n",
       "141909  EMPL - Not Defined                        \n",
       "141910  Parcela 2p * 3Âª LÃ­nea                   \n",
       "\n",
       "[2962 rows x 42 columns]"
      ]
     },
     "execution_count": 11,
     "metadata": {},
     "output_type": "execute_result"
    }
   ],
   "source": [
    "df_camping"
   ]
  },
  {
   "cell_type": "code",
   "execution_count": 12,
   "metadata": {},
   "outputs": [
    {
     "name": "stdout",
     "output_type": "stream",
     "text": [
      "<class 'pandas.core.frame.DataFrame'>\n",
      "RangeIndex: 312552 entries, 0 to 312551\n",
      "Data columns (total 42 columns):\n",
      " #   Column                   Non-Null Count   Dtype  \n",
      "---  ------                   --------------   -----  \n",
      " 0   idstay                   305235 non-null  object \n",
      " 1   idstay_to                3116 non-null    object \n",
      " 2   type_stay_lbl            305235 non-null  object \n",
      " 3   resinternet              304637 non-null  object \n",
      " 4   type_guest               305235 non-null  object \n",
      " 5   extract_date             305235 non-null  float64\n",
      " 6   resdate                  305235 non-null  float64\n",
      " 7   camping_code             305235 non-null  float64\n",
      " 8   camping_label            305235 non-null  object \n",
      " 9   Région                   305235 non-null  object \n",
      " 10  type_hebergement         305235 non-null  object \n",
      " 11  hebergement              305235 non-null  float64\n",
      " 12  hebergement_label        305235 non-null  object \n",
      " 13  datein                   305235 non-null  float64\n",
      " 14  dateout                  305235 non-null  float64\n",
      " 15  los                      305235 non-null  float64\n",
      " 16  nbroom                   305235 non-null  float64\n",
      " 17  nbguest                  305235 non-null  float64\n",
      " 18  nb_nuit_fid              305235 non-null  float64\n",
      " 19  Séjour Gratuit           305235 non-null  float64\n",
      " 20  Nb Nuits Payantes        305235 non-null  float64\n",
      " 21  vrai_date_resa           305235 non-null  float64\n",
      " 22  client_id_grp            305235 non-null  float64\n",
      " 23  client_name              305235 non-null  object \n",
      " 24  rev1                     305235 non-null  float64\n",
      " 25  rev2                     305235 non-null  float64\n",
      " 26  rev3                     305235 non-null  float64\n",
      " 27  rev4                     305235 non-null  float64\n",
      " 28  rev5                     305235 non-null  float64\n",
      " 29  rev                      305235 non-null  float64\n",
      " 30  fid_id                   305235 non-null  float64\n",
      " 31  pays                     305235 non-null  object \n",
      " 32  region                   86412 non-null   object \n",
      " 33  fidelisation             305235 non-null  object \n",
      " 34  date_fid                 118366 non-null  float64\n",
      " 35  camping_fid              305235 non-null  float64\n",
      " 36  creation_date            305235 non-null  float64\n",
      " 37  segment                  305235 non-null  object \n",
      " 38  scode1                   305235 non-null  object \n",
      " 39  scode2                   305023 non-null  object \n",
      " 40  hebergement_camping_id   305235 non-null  float64\n",
      " 41  hebergement_camping_lbl  305235 non-null  object \n",
      "dtypes: float64(25), object(17)\n",
      "memory usage: 100.2+ MB\n"
     ]
    }
   ],
   "source": [
    "df.info()"
   ]
  },
  {
   "cell_type": "code",
   "execution_count": 13,
   "metadata": {
    "scrolled": true
   },
   "outputs": [
    {
     "data": {
      "text/html": [
       "<div>\n",
       "<style scoped>\n",
       "    .dataframe tbody tr th:only-of-type {\n",
       "        vertical-align: middle;\n",
       "    }\n",
       "\n",
       "    .dataframe tbody tr th {\n",
       "        vertical-align: top;\n",
       "    }\n",
       "\n",
       "    .dataframe thead th {\n",
       "        text-align: right;\n",
       "    }\n",
       "</style>\n",
       "<table border=\"1\" class=\"dataframe\">\n",
       "  <thead>\n",
       "    <tr style=\"text-align: right;\">\n",
       "      <th></th>\n",
       "      <th>extract_date</th>\n",
       "      <th>resdate</th>\n",
       "      <th>camping_code</th>\n",
       "      <th>hebergement</th>\n",
       "      <th>datein</th>\n",
       "      <th>dateout</th>\n",
       "      <th>los</th>\n",
       "      <th>nbroom</th>\n",
       "      <th>nbguest</th>\n",
       "      <th>nb_nuit_fid</th>\n",
       "      <th>Séjour Gratuit</th>\n",
       "      <th>Nb Nuits Payantes</th>\n",
       "      <th>vrai_date_resa</th>\n",
       "      <th>client_id_grp</th>\n",
       "      <th>rev1</th>\n",
       "      <th>rev2</th>\n",
       "      <th>rev3</th>\n",
       "      <th>rev4</th>\n",
       "      <th>rev5</th>\n",
       "      <th>rev</th>\n",
       "      <th>fid_id</th>\n",
       "      <th>date_fid</th>\n",
       "      <th>camping_fid</th>\n",
       "      <th>creation_date</th>\n",
       "      <th>hebergement_camping_id</th>\n",
       "    </tr>\n",
       "  </thead>\n",
       "  <tbody>\n",
       "    <tr>\n",
       "      <th>count</th>\n",
       "      <td>305235.000000</td>\n",
       "      <td>305235.000000</td>\n",
       "      <td>305235.000000</td>\n",
       "      <td>305235.000000</td>\n",
       "      <td>305235.000000</td>\n",
       "      <td>305235.000000</td>\n",
       "      <td>305235.00000</td>\n",
       "      <td>305235.0</td>\n",
       "      <td>305235.000000</td>\n",
       "      <td>305235.000000</td>\n",
       "      <td>305235.000000</td>\n",
       "      <td>305235.000000</td>\n",
       "      <td>305235.000000</td>\n",
       "      <td>3.052350e+05</td>\n",
       "      <td>305235.000000</td>\n",
       "      <td>305235.000000</td>\n",
       "      <td>305235.00000</td>\n",
       "      <td>305235.000000</td>\n",
       "      <td>305235.000000</td>\n",
       "      <td>305235.000000</td>\n",
       "      <td>3.052350e+05</td>\n",
       "      <td>118366.000000</td>\n",
       "      <td>305235.000000</td>\n",
       "      <td>305235.000000</td>\n",
       "      <td>305235.000000</td>\n",
       "    </tr>\n",
       "    <tr>\n",
       "      <th>mean</th>\n",
       "      <td>43299.119341</td>\n",
       "      <td>43212.494268</td>\n",
       "      <td>45.445725</td>\n",
       "      <td>4.789746</td>\n",
       "      <td>43289.007031</td>\n",
       "      <td>43295.507881</td>\n",
       "      <td>6.50085</td>\n",
       "      <td>1.0</td>\n",
       "      <td>3.460612</td>\n",
       "      <td>0.072908</td>\n",
       "      <td>0.005452</td>\n",
       "      <td>6.427942</td>\n",
       "      <td>43210.936000</td>\n",
       "      <td>2.643037e+06</td>\n",
       "      <td>583.742852</td>\n",
       "      <td>3.932891</td>\n",
       "      <td>38.68114</td>\n",
       "      <td>8.233819</td>\n",
       "      <td>0.000885</td>\n",
       "      <td>634.591586</td>\n",
       "      <td>2.966033e+10</td>\n",
       "      <td>42208.776591</td>\n",
       "      <td>31.281232</td>\n",
       "      <td>42286.529530</td>\n",
       "      <td>286923.124783</td>\n",
       "    </tr>\n",
       "    <tr>\n",
       "      <th>std</th>\n",
       "      <td>51.286247</td>\n",
       "      <td>91.420644</td>\n",
       "      <td>31.288675</td>\n",
       "      <td>3.000703</td>\n",
       "      <td>49.553522</td>\n",
       "      <td>50.072155</td>\n",
       "      <td>7.00520</td>\n",
       "      <td>0.0</td>\n",
       "      <td>1.336851</td>\n",
       "      <td>0.464705</td>\n",
       "      <td>0.073633</td>\n",
       "      <td>7.002484</td>\n",
       "      <td>95.699663</td>\n",
       "      <td>1.032134e+06</td>\n",
       "      <td>739.653708</td>\n",
       "      <td>9.569056</td>\n",
       "      <td>85.01661</td>\n",
       "      <td>9.042442</td>\n",
       "      <td>0.162899</td>\n",
       "      <td>765.081456</td>\n",
       "      <td>4.334142e+10</td>\n",
       "      <td>992.933777</td>\n",
       "      <td>44.115905</td>\n",
       "      <td>1250.907792</td>\n",
       "      <td>452318.103607</td>\n",
       "    </tr>\n",
       "    <tr>\n",
       "      <th>min</th>\n",
       "      <td>43041.000000</td>\n",
       "      <td>42675.000000</td>\n",
       "      <td>1.000000</td>\n",
       "      <td>2.000000</td>\n",
       "      <td>43040.000000</td>\n",
       "      <td>43041.000000</td>\n",
       "      <td>1.00000</td>\n",
       "      <td>1.0</td>\n",
       "      <td>1.000000</td>\n",
       "      <td>0.000000</td>\n",
       "      <td>0.000000</td>\n",
       "      <td>-4.000000</td>\n",
       "      <td>41031.000000</td>\n",
       "      <td>-1.000000e+00</td>\n",
       "      <td>0.000000</td>\n",
       "      <td>0.000000</td>\n",
       "      <td>0.00000</td>\n",
       "      <td>0.000000</td>\n",
       "      <td>0.000000</td>\n",
       "      <td>0.000000</td>\n",
       "      <td>0.000000e+00</td>\n",
       "      <td>39814.000000</td>\n",
       "      <td>0.000000</td>\n",
       "      <td>36555.000000</td>\n",
       "      <td>1.000000</td>\n",
       "    </tr>\n",
       "    <tr>\n",
       "      <th>25%</th>\n",
       "      <td>43261.000000</td>\n",
       "      <td>43139.000000</td>\n",
       "      <td>18.000000</td>\n",
       "      <td>2.000000</td>\n",
       "      <td>43253.000000</td>\n",
       "      <td>43259.000000</td>\n",
       "      <td>2.00000</td>\n",
       "      <td>1.0</td>\n",
       "      <td>2.000000</td>\n",
       "      <td>0.000000</td>\n",
       "      <td>0.000000</td>\n",
       "      <td>2.000000</td>\n",
       "      <td>43139.000000</td>\n",
       "      <td>2.135159e+06</td>\n",
       "      <td>102.000000</td>\n",
       "      <td>0.000000</td>\n",
       "      <td>0.00000</td>\n",
       "      <td>2.400000</td>\n",
       "      <td>0.000000</td>\n",
       "      <td>121.600000</td>\n",
       "      <td>0.000000e+00</td>\n",
       "      <td>41640.000000</td>\n",
       "      <td>0.000000</td>\n",
       "      <td>41655.000000</td>\n",
       "      <td>4.000000</td>\n",
       "    </tr>\n",
       "    <tr>\n",
       "      <th>50%</th>\n",
       "      <td>43308.000000</td>\n",
       "      <td>43220.000000</td>\n",
       "      <td>39.000000</td>\n",
       "      <td>5.000000</td>\n",
       "      <td>43295.000000</td>\n",
       "      <td>43303.000000</td>\n",
       "      <td>5.00000</td>\n",
       "      <td>1.0</td>\n",
       "      <td>4.000000</td>\n",
       "      <td>0.000000</td>\n",
       "      <td>0.000000</td>\n",
       "      <td>5.000000</td>\n",
       "      <td>43220.000000</td>\n",
       "      <td>3.199374e+06</td>\n",
       "      <td>288.000000</td>\n",
       "      <td>0.000000</td>\n",
       "      <td>0.00000</td>\n",
       "      <td>6.000000</td>\n",
       "      <td>0.000000</td>\n",
       "      <td>329.040000</td>\n",
       "      <td>0.000000e+00</td>\n",
       "      <td>42736.000000</td>\n",
       "      <td>0.000000</td>\n",
       "      <td>42956.000000</td>\n",
       "      <td>12.000000</td>\n",
       "    </tr>\n",
       "    <tr>\n",
       "      <th>75%</th>\n",
       "      <td>43338.000000</td>\n",
       "      <td>43284.000000</td>\n",
       "      <td>67.000000</td>\n",
       "      <td>6.000000</td>\n",
       "      <td>43327.000000</td>\n",
       "      <td>43335.000000</td>\n",
       "      <td>8.00000</td>\n",
       "      <td>1.0</td>\n",
       "      <td>4.000000</td>\n",
       "      <td>0.000000</td>\n",
       "      <td>0.000000</td>\n",
       "      <td>8.000000</td>\n",
       "      <td>43284.000000</td>\n",
       "      <td>3.381626e+06</td>\n",
       "      <td>777.000000</td>\n",
       "      <td>0.000000</td>\n",
       "      <td>38.00000</td>\n",
       "      <td>11.000000</td>\n",
       "      <td>0.000000</td>\n",
       "      <td>885.600000</td>\n",
       "      <td>9.817000e+10</td>\n",
       "      <td>43101.000000</td>\n",
       "      <td>100.000000</td>\n",
       "      <td>43229.000000</td>\n",
       "      <td>999998.000000</td>\n",
       "    </tr>\n",
       "    <tr>\n",
       "      <th>max</th>\n",
       "      <td>43467.000000</td>\n",
       "      <td>43404.000000</td>\n",
       "      <td>111.000000</td>\n",
       "      <td>15.000000</td>\n",
       "      <td>43404.000000</td>\n",
       "      <td>43658.000000</td>\n",
       "      <td>364.00000</td>\n",
       "      <td>1.0</td>\n",
       "      <td>54.000000</td>\n",
       "      <td>10.000000</td>\n",
       "      <td>1.000000</td>\n",
       "      <td>364.000000</td>\n",
       "      <td>43448.000000</td>\n",
       "      <td>3.539606e+06</td>\n",
       "      <td>12753.000000</td>\n",
       "      <td>138.000000</td>\n",
       "      <td>4699.53000</td>\n",
       "      <td>274.560000</td>\n",
       "      <td>30.000000</td>\n",
       "      <td>12810.720000</td>\n",
       "      <td>1.140900e+11</td>\n",
       "      <td>43466.000000</td>\n",
       "      <td>114.000000</td>\n",
       "      <td>43433.000000</td>\n",
       "      <td>999999.000000</td>\n",
       "    </tr>\n",
       "  </tbody>\n",
       "</table>\n",
       "</div>"
      ],
      "text/plain": [
       "        extract_date        resdate   camping_code    hebergement  \\\n",
       "count  305235.000000  305235.000000  305235.000000  305235.000000   \n",
       "mean   43299.119341   43212.494268   45.445725      4.789746        \n",
       "std    51.286247      91.420644      31.288675      3.000703        \n",
       "min    43041.000000   42675.000000   1.000000       2.000000        \n",
       "25%    43261.000000   43139.000000   18.000000      2.000000        \n",
       "50%    43308.000000   43220.000000   39.000000      5.000000        \n",
       "75%    43338.000000   43284.000000   67.000000      6.000000        \n",
       "max    43467.000000   43404.000000   111.000000     15.000000       \n",
       "\n",
       "              datein        dateout           los    nbroom        nbguest  \\\n",
       "count  305235.000000  305235.000000  305235.00000  305235.0  305235.000000   \n",
       "mean   43289.007031   43295.507881   6.50085       1.0       3.460612        \n",
       "std    49.553522      50.072155      7.00520       0.0       1.336851        \n",
       "min    43040.000000   43041.000000   1.00000       1.0       1.000000        \n",
       "25%    43253.000000   43259.000000   2.00000       1.0       2.000000        \n",
       "50%    43295.000000   43303.000000   5.00000       1.0       4.000000        \n",
       "75%    43327.000000   43335.000000   8.00000       1.0       4.000000        \n",
       "max    43404.000000   43658.000000   364.00000     1.0       54.000000       \n",
       "\n",
       "         nb_nuit_fid  Séjour Gratuit  Nb Nuits Payantes  vrai_date_resa  \\\n",
       "count  305235.000000  305235.000000   305235.000000      305235.000000    \n",
       "mean   0.072908       0.005452        6.427942           43210.936000     \n",
       "std    0.464705       0.073633        7.002484           95.699663        \n",
       "min    0.000000       0.000000       -4.000000           41031.000000     \n",
       "25%    0.000000       0.000000        2.000000           43139.000000     \n",
       "50%    0.000000       0.000000        5.000000           43220.000000     \n",
       "75%    0.000000       0.000000        8.000000           43284.000000     \n",
       "max    10.000000      1.000000        364.000000         43448.000000     \n",
       "\n",
       "       client_id_grp           rev1           rev2          rev3  \\\n",
       "count  3.052350e+05   305235.000000  305235.000000  305235.00000   \n",
       "mean   2.643037e+06   583.742852     3.932891       38.68114       \n",
       "std    1.032134e+06   739.653708     9.569056       85.01661       \n",
       "min   -1.000000e+00   0.000000       0.000000       0.00000        \n",
       "25%    2.135159e+06   102.000000     0.000000       0.00000        \n",
       "50%    3.199374e+06   288.000000     0.000000       0.00000        \n",
       "75%    3.381626e+06   777.000000     0.000000       38.00000       \n",
       "max    3.539606e+06   12753.000000   138.000000     4699.53000     \n",
       "\n",
       "                rev4           rev5            rev        fid_id  \\\n",
       "count  305235.000000  305235.000000  305235.000000  3.052350e+05   \n",
       "mean   8.233819       0.000885       634.591586     2.966033e+10   \n",
       "std    9.042442       0.162899       765.081456     4.334142e+10   \n",
       "min    0.000000       0.000000       0.000000       0.000000e+00   \n",
       "25%    2.400000       0.000000       121.600000     0.000000e+00   \n",
       "50%    6.000000       0.000000       329.040000     0.000000e+00   \n",
       "75%    11.000000      0.000000       885.600000     9.817000e+10   \n",
       "max    274.560000     30.000000      12810.720000   1.140900e+11   \n",
       "\n",
       "            date_fid    camping_fid  creation_date  hebergement_camping_id  \n",
       "count  118366.000000  305235.000000  305235.000000  305235.000000           \n",
       "mean   42208.776591   31.281232      42286.529530   286923.124783           \n",
       "std    992.933777     44.115905      1250.907792    452318.103607           \n",
       "min    39814.000000   0.000000       36555.000000   1.000000                \n",
       "25%    41640.000000   0.000000       41655.000000   4.000000                \n",
       "50%    42736.000000   0.000000       42956.000000   12.000000               \n",
       "75%    43101.000000   100.000000     43229.000000   999998.000000           \n",
       "max    43466.000000   114.000000     43433.000000   999999.000000           "
      ]
     },
     "execution_count": 13,
     "metadata": {},
     "output_type": "execute_result"
    }
   ],
   "source": [
    "df.describe()"
   ]
  },
  {
   "cell_type": "markdown",
   "metadata": {},
   "source": [
    "# EDA"
   ]
  },
  {
   "cell_type": "markdown",
   "metadata": {},
   "source": [
    "Removing rows that have NaN for idstay:"
   ]
  },
  {
   "cell_type": "code",
   "execution_count": 14,
   "metadata": {},
   "outputs": [],
   "source": [
    "df = df[df['idstay'].notna()]"
   ]
  },
  {
   "cell_type": "code",
   "execution_count": 15,
   "metadata": {},
   "outputs": [
    {
     "data": {
      "text/plain": [
       "(305235, 42)"
      ]
     },
     "execution_count": 15,
     "metadata": {},
     "output_type": "execute_result"
    }
   ],
   "source": [
    "df.shape"
   ]
  },
  {
   "cell_type": "markdown",
   "metadata": {},
   "source": [
    "Removing **idstay** column"
   ]
  },
  {
   "cell_type": "code",
   "execution_count": 16,
   "metadata": {},
   "outputs": [],
   "source": [
    "df.drop(columns=['idstay'], inplace=True)"
   ]
  },
  {
   "cell_type": "markdown",
   "metadata": {},
   "source": [
    "# Managing categorical features"
   ]
  },
  {
   "cell_type": "code",
   "execution_count": 17,
   "metadata": {},
   "outputs": [
    {
     "name": "stdout",
     "output_type": "stream",
     "text": [
      "<class 'pandas.core.frame.DataFrame'>\n",
      "Int64Index: 305235 entries, 0 to 305234\n",
      "Data columns (total 16 columns):\n",
      " #   Column                   Non-Null Count   Dtype \n",
      "---  ------                   --------------   ----- \n",
      " 0   idstay_to                3116 non-null    object\n",
      " 1   type_stay_lbl            305235 non-null  object\n",
      " 2   resinternet              304637 non-null  object\n",
      " 3   type_guest               305235 non-null  object\n",
      " 4   camping_label            305235 non-null  object\n",
      " 5   Région                   305235 non-null  object\n",
      " 6   type_hebergement         305235 non-null  object\n",
      " 7   hebergement_label        305235 non-null  object\n",
      " 8   client_name              305235 non-null  object\n",
      " 9   pays                     305235 non-null  object\n",
      " 10  region                   86412 non-null   object\n",
      " 11  fidelisation             305235 non-null  object\n",
      " 12  segment                  305235 non-null  object\n",
      " 13  scode1                   305235 non-null  object\n",
      " 14  scode2                   305023 non-null  object\n",
      " 15  hebergement_camping_lbl  305235 non-null  object\n",
      "dtypes: object(16)\n",
      "memory usage: 39.6+ MB\n"
     ]
    }
   ],
   "source": [
    "df.select_dtypes(include=['object']).info()"
   ]
  },
  {
   "cell_type": "code",
   "execution_count": 18,
   "metadata": {},
   "outputs": [
    {
     "data": {
      "text/plain": [
       "LOCA - Not Defined                  58855\n",
       "EMPL - Not Defined                  28722\n",
       "Emplacement **                      10636\n",
       "Emplacement ***                     7702 \n",
       "Emplacement ** + Eau                3718 \n",
       "                                    ...  \n",
       "Chalet 5p 2ch **** climatisé Z2     1    \n",
       "Cottage**** 4p 2Ch Climatisé        1    \n",
       "Cottage Rivière 2 p. 1 ch. ****     1    \n",
       "Cottage 4/6p 2ch *** Climatisé      1    \n",
       "Chalet Veyou 4p 2ch ** Climatisé    1    \n",
       "Name: hebergement_camping_lbl, Length: 1256, dtype: int64"
      ]
     },
     "execution_count": 18,
     "metadata": {},
     "output_type": "execute_result"
    }
   ],
   "source": [
    "data.hebergement_camping_lbl.value_counts()"
   ]
  },
  {
   "cell_type": "markdown",
   "metadata": {},
   "source": [
    "1. Feature **idstay_to**: External ID for a booking coming from a distributor"
   ]
  },
  {
   "cell_type": "markdown",
   "metadata": {},
   "source": [
    "1 if booking comes from a distributor, 0 otherwise"
   ]
  },
  {
   "cell_type": "code",
   "execution_count": 19,
   "metadata": {},
   "outputs": [
    {
     "name": "stderr",
     "output_type": "stream",
     "text": [
      "/opt/anaconda3/lib/python3.6/site-packages/pandas/core/indexing.py:670: SettingWithCopyWarning:\n",
      "\n",
      "\n",
      "A value is trying to be set on a copy of a slice from a DataFrame\n",
      "\n",
      "See the caveats in the documentation: https://pandas.pydata.org/pandas-docs/stable/user_guide/indexing.html#returning-a-view-versus-a-copy\n",
      "\n"
     ]
    }
   ],
   "source": [
    "df['idstay_to'].loc[~df['idstay_to'].isnull()] = 1\n",
    "df['idstay_to'].loc[df['idstay_to'].isnull()] = 0"
   ]
  },
  {
   "cell_type": "markdown",
   "metadata": {},
   "source": [
    "2. Removing **type_stay_lbl** and **client_name** because it has a single value"
   ]
  },
  {
   "cell_type": "code",
   "execution_count": 20,
   "metadata": {},
   "outputs": [],
   "source": [
    "df.drop(columns=['type_stay_lbl', 'client_name'], inplace=True)"
   ]
  },
  {
   "cell_type": "markdown",
   "metadata": {},
   "source": [
    "3. Feature **resinternet**: Internal ID for each booking. Beginning with U means a booking made by phone or on site by the campsite. Beginning with O means a Internet Booking"
   ]
  },
  {
   "cell_type": "code",
   "execution_count": 21,
   "metadata": {},
   "outputs": [],
   "source": [
    "df['resinternet'] = df['resinternet'].astype(str).str[0]"
   ]
  },
  {
   "cell_type": "code",
   "execution_count": 22,
   "metadata": {},
   "outputs": [
    {
     "data": {
      "text/plain": [
       "O    175426\n",
       "U    129211\n",
       "n    598   \n",
       "Name: resinternet, dtype: int64"
      ]
     },
     "execution_count": 22,
     "metadata": {},
     "output_type": "execute_result"
    }
   ],
   "source": [
    "df['resinternet'].value_counts()"
   ]
  },
  {
   "cell_type": "markdown",
   "metadata": {},
   "source": [
    "4. Feature **type_guest**"
   ]
  },
  {
   "cell_type": "code",
   "execution_count": 23,
   "metadata": {},
   "outputs": [
    {
     "data": {
      "text/plain": [
       "N    295615\n",
       "A    9620  \n",
       "Name: type_guest, dtype: int64"
      ]
     },
     "execution_count": 23,
     "metadata": {},
     "output_type": "execute_result"
    }
   ],
   "source": [
    "df['type_guest'].value_counts()"
   ]
  },
  {
   "cell_type": "markdown",
   "metadata": {},
   "source": [
    "5. Feature **camping_label**: nothing to change, it gives the name of the camping"
   ]
  },
  {
   "cell_type": "code",
   "execution_count": 24,
   "metadata": {},
   "outputs": [
    {
     "data": {
      "text/plain": [
       "TOURNELS                14216\n",
       "TURISCAMPO              13142\n",
       "SERIGNAN PLAGE          12022\n",
       "PETITS CAMARGUAIS       11666\n",
       "SYLVAMAR                11387\n",
       "                        ...  \n",
       "LAVEDAN                 1098 \n",
       "GORGES DU CHAMBON       1085 \n",
       "CHATEAU DE BOISSON      944  \n",
       "GRANGE DE MONTEILLAC    936  \n",
       "TALOUCH                 905  \n",
       "Name: camping_label, Length: 79, dtype: int64"
      ]
     },
     "execution_count": 24,
     "metadata": {},
     "output_type": "execute_result"
    }
   ],
   "source": [
    "df.camping_label.value_counts()"
   ]
  },
  {
   "cell_type": "markdown",
   "metadata": {},
   "source": [
    "6. Feature **Région**: nothing to change as well"
   ]
  },
  {
   "cell_type": "code",
   "execution_count": 25,
   "metadata": {},
   "outputs": [
    {
     "data": {
      "text/plain": [
       "LR                  63605\n",
       "Atlantique Sud      50167\n",
       "Bretagne            45199\n",
       "PACA                29342\n",
       "Atlantique Loire    17129\n",
       "Sud Ouest           16750\n",
       "Rhones Alpes        14693\n",
       "Espagne             13278\n",
       "Portugal            13142\n",
       "Centre              12615\n",
       "Jura-Vosges         11241\n",
       "Centre Sud          8772 \n",
       "Normandie           4077 \n",
       "Picardie            2824 \n",
       "Corse               2401 \n",
       "Name: Région, dtype: int64"
      ]
     },
     "execution_count": 25,
     "metadata": {},
     "output_type": "execute_result"
    }
   ],
   "source": [
    "df.Région.value_counts()"
   ]
  },
  {
   "cell_type": "markdown",
   "metadata": {},
   "source": [
    "7. Feature **type_hebergement**: nothing to change"
   ]
  },
  {
   "cell_type": "code",
   "execution_count": 26,
   "metadata": {},
   "outputs": [
    {
     "data": {
      "text/plain": [
       "LOCA    178089\n",
       "EMPL    127146\n",
       "Name: type_hebergement, dtype: int64"
      ]
     },
     "execution_count": 26,
     "metadata": {},
     "output_type": "execute_result"
    }
   ],
   "source": [
    "df.type_hebergement.value_counts()"
   ]
  },
  {
   "cell_type": "markdown",
   "metadata": {},
   "source": [
    "8.Feature **hebergement_label**: consider to keep it as it is, or remove it, with instead 2 columns:\n",
    "\n",
    "- column **type_hebergement** that already makes the difference between LOCA and EMPL\n",
    "\n",
    "- new column **nb_stars** (see below), that gives the quality of the room (< 3 stars vs. > 4 stars)"
   ]
  },
  {
   "cell_type": "code",
   "execution_count": 27,
   "metadata": {},
   "outputs": [
    {
     "data": {
      "text/plain": [
       "Emplacement nu de 0 à 3 *         121564\n",
       "Locatif 2 ch. de 0 à 3 *          76080 \n",
       "Locatif 2 ch. 4 *                 29515 \n",
       "Locatif 3 ch. de 0 à 3 *          19717 \n",
       "Locatif 3 ch. 4 *                 16582 \n",
       "Locatif 2 ch. PREMIUM             13912 \n",
       "Locatif 3 ch. PREMIUM             11022 \n",
       "Locatif 1 ch. de 0 à 3 *          9297  \n",
       "Emplacement nu 4 * et PREMIUM     5582  \n",
       "Locatif 1 ch. 4 *                 553   \n",
       "Tente et locatif 1 ch. PREMIUM    508   \n",
       "Locatif 4 ch. PREMIUM             376   \n",
       "Locatif 4 ch. 4 *                 350   \n",
       "Locatif 4 ch. de 0 à 3 *          177   \n",
       "Name: hebergement_label, dtype: int64"
      ]
     },
     "execution_count": 27,
     "metadata": {},
     "output_type": "execute_result"
    }
   ],
   "source": [
    "df.hebergement_label.value_counts()"
   ]
  },
  {
   "cell_type": "markdown",
   "metadata": {},
   "source": [
    "Creating new column nb_stars that gives **3_stars** or **4_stars_or_premium**:"
   ]
  },
  {
   "cell_type": "code",
   "execution_count": 28,
   "metadata": {},
   "outputs": [],
   "source": [
    "df['nb_stars'] = np.where(df['hebergement_label'].\n",
    "                          str.contains('0 à 3'),\n",
    "                          '3_stars_or_less',\n",
    "                          '4_stars_or_premium')"
   ]
  },
  {
   "cell_type": "code",
   "execution_count": 29,
   "metadata": {},
   "outputs": [
    {
     "data": {
      "text/plain": [
       "3_stars_or_less       226835\n",
       "4_stars_or_premium    78400 \n",
       "Name: nb_stars, dtype: int64"
      ]
     },
     "execution_count": 29,
     "metadata": {},
     "output_type": "execute_result"
    }
   ],
   "source": [
    "df['nb_stars'].value_counts()"
   ]
  },
  {
   "cell_type": "code",
   "execution_count": 30,
   "metadata": {},
   "outputs": [
    {
     "data": {
      "text/plain": [
       "LOCA - Not Defined                  58855\n",
       "EMPL - Not Defined                  28722\n",
       "Emplacement **                      10636\n",
       "Emplacement ***                     7702 \n",
       "Emplacement ** + Eau                3718 \n",
       "                                    ...  \n",
       "Chalet 5p 2ch **** climatisé Z2     1    \n",
       "Cottage**** 4p 2Ch Climatisé        1    \n",
       "Cottage Rivière 2 p. 1 ch. ****     1    \n",
       "Cottage 4/6p 2ch *** Climatisé      1    \n",
       "Chalet Veyou 4p 2ch ** Climatisé    1    \n",
       "Name: hebergement_camping_lbl, Length: 1256, dtype: int64"
      ]
     },
     "execution_count": 30,
     "metadata": {},
     "output_type": "execute_result"
    }
   ],
   "source": [
    "df.hebergement_camping_lbl.value_counts()"
   ]
  },
  {
   "cell_type": "code",
   "execution_count": 31,
   "metadata": {},
   "outputs": [],
   "source": [
    "df = df.drop(['hebergement_camping_lbl'], axis=1)"
   ]
  },
  {
   "cell_type": "markdown",
   "metadata": {},
   "source": [
    "Rempving hebergement_camping_lbl for the moment, since it gives info already in other features (loca vs. empl, number of stars...)"
   ]
  },
  {
   "cell_type": "code",
   "execution_count": 32,
   "metadata": {},
   "outputs": [],
   "source": [
    "df2 = df.copy()"
   ]
  },
  {
   "cell_type": "markdown",
   "metadata": {},
   "source": [
    "9. Feature **pays**: replacing outliers with \"Other\""
   ]
  },
  {
   "cell_type": "code",
   "execution_count": 33,
   "metadata": {},
   "outputs": [
    {
     "data": {
      "text/plain": [
       "86"
      ]
     },
     "execution_count": 33,
     "metadata": {},
     "output_type": "execute_result"
    }
   ],
   "source": [
    "df2.pays.nunique()"
   ]
  },
  {
   "cell_type": "code",
   "execution_count": 34,
   "metadata": {},
   "outputs": [],
   "source": [
    "def replace_outliers(df, col, rate_cumsum, value_replace):\n",
    "    low_elements_prob = list(df[col].value_counts().loc[df[col].value_counts(ascending=False, normalize=True).cumsum() > rate_cumsum].index)\n",
    "    df[col].loc[df2[col].isin(low_elements_prob)] = value_replace"
   ]
  },
  {
   "cell_type": "code",
   "execution_count": 35,
   "metadata": {},
   "outputs": [],
   "source": [
    "replace_outliers(df2, 'pays', 0.97, 'Other')"
   ]
  },
  {
   "cell_type": "code",
   "execution_count": 36,
   "metadata": {},
   "outputs": [
    {
     "data": {
      "text/plain": [
       "FR       167197\n",
       "DE       35856 \n",
       "NL       27127 \n",
       "ES       22371 \n",
       "GB       19382 \n",
       "BE       13532 \n",
       "Other    10684 \n",
       "CH       9086  \n",
       "Name: pays, dtype: int64"
      ]
     },
     "execution_count": 36,
     "metadata": {},
     "output_type": "execute_result"
    }
   ],
   "source": [
    "df2.pays.value_counts()"
   ]
  },
  {
   "cell_type": "markdown",
   "metadata": {},
   "source": [
    "Feature **region**: we delete it"
   ]
  },
  {
   "cell_type": "code",
   "execution_count": 37,
   "metadata": {},
   "outputs": [
    {
     "data": {
      "text/plain": [
       "0          396\n",
       "29200      259\n",
       "33000      181\n",
       "29800      164\n",
       "29260      128\n",
       "          ... \n",
       "ME15.0     1  \n",
       "8043 WE    1  \n",
       "GU9 9JU    1  \n",
       "50027      1  \n",
       "5988 ER    1  \n",
       "Name: region, Length: 18119, dtype: int64"
      ]
     },
     "execution_count": 37,
     "metadata": {},
     "output_type": "execute_result"
    }
   ],
   "source": [
    "df2.region.value_counts()"
   ]
  },
  {
   "cell_type": "code",
   "execution_count": 38,
   "metadata": {},
   "outputs": [],
   "source": [
    "df2 = df2.drop(['region'], axis=1)"
   ]
  },
  {
   "cell_type": "markdown",
   "metadata": {},
   "source": [
    "11. Feature **fidelisation**: nothing to change"
   ]
  },
  {
   "cell_type": "code",
   "execution_count": 39,
   "metadata": {},
   "outputs": [
    {
     "data": {
      "text/plain": [
       "N    186869\n",
       "Y    118366\n",
       "Name: fidelisation, dtype: int64"
      ]
     },
     "execution_count": 39,
     "metadata": {},
     "output_type": "execute_result"
    }
   ],
   "source": [
    "df2.fidelisation.value_counts()"
   ]
  },
  {
   "cell_type": "markdown",
   "metadata": {},
   "source": [
    "Feature segment:"
   ]
  },
  {
   "cell_type": "code",
   "execution_count": 40,
   "metadata": {
    "scrolled": true
   },
   "outputs": [
    {
     "data": {
      "text/plain": [
       "Internet    170309\n",
       "DIRECT      121432\n",
       "TO          9765  \n",
       "INTERNET    3602  \n",
       "CE          105   \n",
       "RESID       22    \n",
       "Name: segment, dtype: int64"
      ]
     },
     "execution_count": 40,
     "metadata": {},
     "output_type": "execute_result"
    }
   ],
   "source": [
    "df2.segment.value_counts()"
   ]
  },
  {
   "cell_type": "code",
   "execution_count": 41,
   "metadata": {},
   "outputs": [],
   "source": [
    "df2['segment'].replace('INTERNET', 'Internet', inplace=True)"
   ]
  },
  {
   "cell_type": "code",
   "execution_count": 42,
   "metadata": {},
   "outputs": [
    {
     "data": {
      "text/plain": [
       "Index(['Internet', 'DIRECT', 'TO', 'CE', 'RESID'], dtype='object')"
      ]
     },
     "execution_count": 42,
     "metadata": {},
     "output_type": "execute_result"
    }
   ],
   "source": [
    "df2.segment.value_counts().index"
   ]
  },
  {
   "cell_type": "code",
   "execution_count": 43,
   "metadata": {},
   "outputs": [],
   "source": [
    "def cumsum_valuecounts(df, col):\n",
    "    return df[col].value_counts().loc[df[col]].value_counts(ascending=False, normalize=True).cumsum()"
   ]
  },
  {
   "cell_type": "code",
   "execution_count": 44,
   "metadata": {},
   "outputs": [],
   "source": [
    "def cumsum_valuecounts_v2(df, col):\n",
    "    indices = pd.Series(df[col].value_counts().index)\n",
    "    values = pd.Series(df[col].value_counts().loc[df[col]].value_counts(ascending=False, normalize=True).cumsum().values)\n",
    "    return pd.concat([indices, values], axis=1)"
   ]
  },
  {
   "cell_type": "code",
   "execution_count": 45,
   "metadata": {},
   "outputs": [
    {
     "data": {
      "text/html": [
       "<div>\n",
       "<style scoped>\n",
       "    .dataframe tbody tr th:only-of-type {\n",
       "        vertical-align: middle;\n",
       "    }\n",
       "\n",
       "    .dataframe tbody tr th {\n",
       "        vertical-align: top;\n",
       "    }\n",
       "\n",
       "    .dataframe thead th {\n",
       "        text-align: right;\n",
       "    }\n",
       "</style>\n",
       "<table border=\"1\" class=\"dataframe\">\n",
       "  <thead>\n",
       "    <tr style=\"text-align: right;\">\n",
       "      <th></th>\n",
       "      <th>0</th>\n",
       "      <th>1</th>\n",
       "    </tr>\n",
       "  </thead>\n",
       "  <tbody>\n",
       "    <tr>\n",
       "      <th>0</th>\n",
       "      <td>Internet</td>\n",
       "      <td>0.569761</td>\n",
       "    </tr>\n",
       "    <tr>\n",
       "      <th>1</th>\n",
       "      <td>DIRECT</td>\n",
       "      <td>0.967592</td>\n",
       "    </tr>\n",
       "    <tr>\n",
       "      <th>2</th>\n",
       "      <td>TO</td>\n",
       "      <td>0.999584</td>\n",
       "    </tr>\n",
       "    <tr>\n",
       "      <th>3</th>\n",
       "      <td>CE</td>\n",
       "      <td>0.999928</td>\n",
       "    </tr>\n",
       "    <tr>\n",
       "      <th>4</th>\n",
       "      <td>RESID</td>\n",
       "      <td>1.000000</td>\n",
       "    </tr>\n",
       "  </tbody>\n",
       "</table>\n",
       "</div>"
      ],
      "text/plain": [
       "          0         1\n",
       "0  Internet  0.569761\n",
       "1  DIRECT    0.967592\n",
       "2  TO        0.999584\n",
       "3  CE        0.999928\n",
       "4  RESID     1.000000"
      ]
     },
     "execution_count": 45,
     "metadata": {},
     "output_type": "execute_result"
    }
   ],
   "source": [
    "cumsum_valuecounts_v2(df2, 'segment')"
   ]
  },
  {
   "cell_type": "markdown",
   "metadata": {},
   "source": [
    "Replacing rare elements by \"Other\""
   ]
  },
  {
   "cell_type": "code",
   "execution_count": 46,
   "metadata": {},
   "outputs": [
    {
     "name": "stderr",
     "output_type": "stream",
     "text": [
      "/opt/anaconda3/lib/python3.6/site-packages/pandas/core/indexing.py:670: SettingWithCopyWarning:\n",
      "\n",
      "\n",
      "A value is trying to be set on a copy of a slice from a DataFrame\n",
      "\n",
      "See the caveats in the documentation: https://pandas.pydata.org/pandas-docs/stable/user_guide/indexing.html#returning-a-view-versus-a-copy\n",
      "\n"
     ]
    }
   ],
   "source": [
    "replace_outliers(df2, 'segment', 0.98, \"Other\")"
   ]
  },
  {
   "cell_type": "code",
   "execution_count": 47,
   "metadata": {},
   "outputs": [
    {
     "data": {
      "text/plain": [
       "Internet    173911\n",
       "DIRECT      121432\n",
       "Other       9892  \n",
       "Name: segment, dtype: int64"
      ]
     },
     "execution_count": 47,
     "metadata": {},
     "output_type": "execute_result"
    }
   ],
   "source": [
    "df2['segment'].value_counts()"
   ]
  },
  {
   "cell_type": "markdown",
   "metadata": {},
   "source": [
    "# 12. Feature scode1 & scode2: TBD"
   ]
  },
  {
   "cell_type": "code",
   "execution_count": 48,
   "metadata": {},
   "outputs": [
    {
     "data": {
      "text/plain": [
       "Village       151133\n",
       "Yelloh        144202\n",
       "TO            9607  \n",
       "CTV           147   \n",
       "CE            105   \n",
       "RESID         22    \n",
       "Odesia        8     \n",
       "Opensystem    6     \n",
       "CDT           5     \n",
       "Name: scode1, dtype: int64"
      ]
     },
     "execution_count": 48,
     "metadata": {},
     "output_type": "execute_result"
    }
   ],
   "source": [
    "df.scode1.value_counts()"
   ]
  },
  {
   "cell_type": "markdown",
   "metadata": {},
   "source": [
    "Deleting meanwhile:"
   ]
  },
  {
   "cell_type": "code",
   "execution_count": 49,
   "metadata": {},
   "outputs": [],
   "source": [
    "df2 = df2.drop(['scode1'], axis=1)"
   ]
  },
  {
   "cell_type": "code",
   "execution_count": 50,
   "metadata": {},
   "outputs": [],
   "source": [
    "df2 = df2.drop(['scode2'], axis=1)"
   ]
  },
  {
   "cell_type": "code",
   "execution_count": 51,
   "metadata": {},
   "outputs": [
    {
     "name": "stdout",
     "output_type": "stream",
     "text": [
      "<class 'pandas.core.frame.DataFrame'>\n",
      "Int64Index: 305235 entries, 0 to 305234\n",
      "Data columns (total 11 columns):\n",
      " #   Column             Non-Null Count   Dtype \n",
      "---  ------             --------------   ----- \n",
      " 0   idstay_to          305235 non-null  object\n",
      " 1   resinternet        305235 non-null  object\n",
      " 2   type_guest         305235 non-null  object\n",
      " 3   camping_label      305235 non-null  object\n",
      " 4   Région             305235 non-null  object\n",
      " 5   type_hebergement   305235 non-null  object\n",
      " 6   hebergement_label  305235 non-null  object\n",
      " 7   pays               305235 non-null  object\n",
      " 8   fidelisation       305235 non-null  object\n",
      " 9   segment            305235 non-null  object\n",
      " 10  nb_stars           305235 non-null  object\n",
      "dtypes: object(11)\n",
      "memory usage: 27.9+ MB\n"
     ]
    }
   ],
   "source": [
    "df2.select_dtypes(include=['object']).info()"
   ]
  },
  {
   "cell_type": "markdown",
   "metadata": {},
   "source": [
    "# Managing numerical features"
   ]
  },
  {
   "cell_type": "code",
   "execution_count": 52,
   "metadata": {
    "scrolled": false
   },
   "outputs": [
    {
     "name": "stdout",
     "output_type": "stream",
     "text": [
      "<class 'pandas.core.frame.DataFrame'>\n",
      "Int64Index: 305235 entries, 0 to 305234\n",
      "Data columns (total 25 columns):\n",
      " #   Column                  Non-Null Count   Dtype  \n",
      "---  ------                  --------------   -----  \n",
      " 0   extract_date            305235 non-null  float64\n",
      " 1   resdate                 305235 non-null  float64\n",
      " 2   camping_code            305235 non-null  float64\n",
      " 3   hebergement             305235 non-null  float64\n",
      " 4   datein                  305235 non-null  float64\n",
      " 5   dateout                 305235 non-null  float64\n",
      " 6   los                     305235 non-null  float64\n",
      " 7   nbroom                  305235 non-null  float64\n",
      " 8   nbguest                 305235 non-null  float64\n",
      " 9   nb_nuit_fid             305235 non-null  float64\n",
      " 10  Séjour Gratuit          305235 non-null  float64\n",
      " 11  Nb Nuits Payantes       305235 non-null  float64\n",
      " 12  vrai_date_resa          305235 non-null  float64\n",
      " 13  client_id_grp           305235 non-null  float64\n",
      " 14  rev1                    305235 non-null  float64\n",
      " 15  rev2                    305235 non-null  float64\n",
      " 16  rev3                    305235 non-null  float64\n",
      " 17  rev4                    305235 non-null  float64\n",
      " 18  rev5                    305235 non-null  float64\n",
      " 19  rev                     305235 non-null  float64\n",
      " 20  fid_id                  305235 non-null  float64\n",
      " 21  date_fid                118366 non-null  float64\n",
      " 22  camping_fid             305235 non-null  float64\n",
      " 23  creation_date           305235 non-null  float64\n",
      " 24  hebergement_camping_id  305235 non-null  float64\n",
      "dtypes: float64(25)\n",
      "memory usage: 60.5 MB\n"
     ]
    }
   ],
   "source": [
    "df2.select_dtypes(include=['float64']).info()"
   ]
  },
  {
   "cell_type": "markdown",
   "metadata": {},
   "source": [
    "Deleting extract_date:"
   ]
  },
  {
   "cell_type": "code",
   "execution_count": 53,
   "metadata": {},
   "outputs": [],
   "source": [
    "df2 = df2.drop(['extract_date'], axis=1)"
   ]
  },
  {
   "cell_type": "markdown",
   "metadata": {},
   "source": [
    "Feature res_date: we will create a new feature that gives the number of days between reservation and vacation \n",
    "start"
   ]
  },
  {
   "cell_type": "code",
   "execution_count": 54,
   "metadata": {},
   "outputs": [],
   "source": [
    "df2['nb_days_between_resa_start'] = df['datein'] - df['resdate']"
   ]
  },
  {
   "cell_type": "code",
   "execution_count": 55,
   "metadata": {},
   "outputs": [
    {
     "data": {
      "text/plain": [
       "375"
      ]
     },
     "execution_count": 55,
     "metadata": {},
     "output_type": "execute_result"
    }
   ],
   "source": [
    "df2['nb_days_between_resa_start'].nunique()"
   ]
  },
  {
   "cell_type": "markdown",
   "metadata": {},
   "source": [
    "Then we can drop the resdate feature:"
   ]
  },
  {
   "cell_type": "code",
   "execution_count": 58,
   "metadata": {},
   "outputs": [],
   "source": [
    "df2 = df2.drop(['resdate'], axis=1)"
   ]
  },
  {
   "cell_type": "markdown",
   "metadata": {},
   "source": [
    "Deleting feature camping_code:"
   ]
  },
  {
   "cell_type": "code",
   "execution_count": 59,
   "metadata": {},
   "outputs": [],
   "source": [
    "df2 = df2.drop(['camping_code'], axis=1)"
   ]
  },
  {
   "cell_type": "markdown",
   "metadata": {},
   "source": [
    "Feature hebergement: ask for what it means (delete meanwhile)"
   ]
  },
  {
   "cell_type": "code",
   "execution_count": 60,
   "metadata": {},
   "outputs": [],
   "source": [
    "df2 = df2.drop(['hebergement'], axis=1)"
   ]
  },
  {
   "cell_type": "markdown",
   "metadata": {},
   "source": [
    "Feature datein: checking that it is indeed one year"
   ]
  },
  {
   "cell_type": "code",
   "execution_count": 61,
   "metadata": {},
   "outputs": [],
   "source": [
    "import datetime\n",
    "from dateutil import parser"
   ]
  },
  {
   "cell_type": "code",
   "execution_count": 62,
   "metadata": {},
   "outputs": [],
   "source": [
    "def serial_date_to_string(srl_no):\n",
    "    new_date = datetime.datetime(1900,1,1,0,0) + datetime.timedelta(srl_no - 1)\n",
    "    date_parsed = parser.parse(new_date.strftime(\"%Y-%m-%d\"))\n",
    "    return pd.Series(date_parsed).dt.dayofyear[0]"
   ]
  },
  {
   "cell_type": "code",
   "execution_count": 63,
   "metadata": {},
   "outputs": [],
   "source": [
    "def epoch_day_to_time(srl_no):\n",
    "    new_date = datetime.datetime(1900,1,1,0,0) + datetime.timedelta(srl_no - 1)\n",
    "    return new_date.strftime(\"%Y-%m-%d\")"
   ]
  },
  {
   "cell_type": "code",
   "execution_count": 64,
   "metadata": {},
   "outputs": [
    {
     "data": {
      "text/plain": [
       "305"
      ]
     },
     "execution_count": 64,
     "metadata": {},
     "output_type": "execute_result"
    }
   ],
   "source": [
    "serial_date_to_string(43404)"
   ]
  },
  {
   "cell_type": "code",
   "execution_count": 65,
   "metadata": {},
   "outputs": [
    {
     "data": {
      "text/plain": [
       "'2018-11-01'"
      ]
     },
     "execution_count": 65,
     "metadata": {},
     "output_type": "execute_result"
    }
   ],
   "source": [
    "epoch_day_to_time(43404)"
   ]
  },
  {
   "cell_type": "markdown",
   "metadata": {},
   "source": [
    "Deleting dayin and dayout for the revenue:"
   ]
  },
  {
   "cell_type": "code",
   "execution_count": 66,
   "metadata": {},
   "outputs": [],
   "source": [
    "df2 = df2.drop(['datein'], axis=1)"
   ]
  },
  {
   "cell_type": "code",
   "execution_count": 67,
   "metadata": {},
   "outputs": [],
   "source": [
    "df2 = df2.drop(['dateout'], axis=1)"
   ]
  },
  {
   "cell_type": "markdown",
   "metadata": {},
   "source": [
    "Feature los: all outliers over 20 days are put to 20\n"
   ]
  },
  {
   "cell_type": "code",
   "execution_count": 68,
   "metadata": {},
   "outputs": [
    {
     "data": {
      "text/plain": [
       "1.0"
      ]
     },
     "execution_count": 68,
     "metadata": {},
     "output_type": "execute_result"
    }
   ],
   "source": [
    "df2.los.min()"
   ]
  },
  {
   "cell_type": "code",
   "execution_count": 69,
   "metadata": {},
   "outputs": [],
   "source": [
    "df2.loc[df2['los'] >= 20, 'los'] = 20"
   ]
  },
  {
   "cell_type": "code",
   "execution_count": 70,
   "metadata": {},
   "outputs": [
    {
     "data": {
      "image/png": "[encoded data removed]",
      "text/plain": [
       "<Figure size 648x432 with 1 Axes>"
      ]
     },
     "metadata": {},
     "output_type": "display_data"
    }
   ],
   "source": [
    "NBplot.distribution_plot(df2,['los'])"
   ]
  },
  {
   "cell_type": "code",
   "execution_count": 71,
   "metadata": {},
   "outputs": [
    {
     "data": {
      "text/plain": [
       "7.0     54556\n",
       "2.0     49922\n",
       "1.0     34181\n",
       "3.0     34176\n",
       "4.0     23497\n",
       "14.0    23484\n",
       "5.0     13963\n",
       "10.0    13096\n",
       "6.0     11000\n",
       "8.0     8021 \n",
       "11.0    7839 \n",
       "9.0     6674 \n",
       "20.0    6352 \n",
       "13.0    5152 \n",
       "12.0    5136 \n",
       "15.0    2474 \n",
       "16.0    1770 \n",
       "17.0    1681 \n",
       "18.0    1290 \n",
       "19.0    971  \n",
       "Name: los, dtype: int64"
      ]
     },
     "execution_count": 71,
     "metadata": {},
     "output_type": "execute_result"
    }
   ],
   "source": [
    "df2.los.value_counts()"
   ]
  },
  {
   "cell_type": "markdown",
   "metadata": {},
   "source": [
    "Feature nbrooms:"
   ]
  },
  {
   "cell_type": "code",
   "execution_count": 72,
   "metadata": {},
   "outputs": [],
   "source": [
    "df2 = df2.drop(['nbroom'], axis=1)"
   ]
  },
  {
   "cell_type": "markdown",
   "metadata": {},
   "source": [
    "Feature nbguest: removing outliers when it's over 8 guests"
   ]
  },
  {
   "cell_type": "code",
   "execution_count": 73,
   "metadata": {},
   "outputs": [],
   "source": [
    "df3 = df2[~(df2['nbguest'] >= 8)] "
   ]
  },
  {
   "cell_type": "code",
   "execution_count": 74,
   "metadata": {},
   "outputs": [
    {
     "data": {
      "text/plain": [
       "4.0    107130\n",
       "2.0    82381 \n",
       "3.0    50789 \n",
       "5.0    36067 \n",
       "6.0    15708 \n",
       "1.0    9793  \n",
       "7.0    1875  \n",
       "Name: nbguest, dtype: int64"
      ]
     },
     "execution_count": 74,
     "metadata": {},
     "output_type": "execute_result"
    }
   ],
   "source": [
    "df3.nbguest.value_counts()"
   ]
  },
  {
   "cell_type": "markdown",
   "metadata": {},
   "source": [
    "Removing nbx_nuit_fid, Séjour Gratuit and Nb Nuits Payantes, because there will be no more free nights"
   ]
  },
  {
   "cell_type": "code",
   "execution_count": 75,
   "metadata": {},
   "outputs": [],
   "source": [
    "df3 = df3.drop(['nb_nuit_fid', 'Séjour Gratuit', 'Nb Nuits Payantes'], axis=1)"
   ]
  },
  {
   "cell_type": "markdown",
   "metadata": {},
   "source": [
    "For calculating revenue, I also remove vrai_date_resa"
   ]
  },
  {
   "cell_type": "code",
   "execution_count": 76,
   "metadata": {},
   "outputs": [],
   "source": [
    "df3 = df3.drop(['vrai_date_resa'], axis=1)"
   ]
  },
  {
   "cell_type": "markdown",
   "metadata": {},
   "source": [
    "Removing client_id_grp:"
   ]
  },
  {
   "cell_type": "code",
   "execution_count": 77,
   "metadata": {},
   "outputs": [],
   "source": [
    "df3 = df3.drop(['client_id_grp'], axis=1)"
   ]
  },
  {
   "cell_type": "markdown",
   "metadata": {},
   "source": [
    "Removing all columns revX:"
   ]
  },
  {
   "cell_type": "code",
   "execution_count": 78,
   "metadata": {},
   "outputs": [],
   "source": [
    "df3 = df3.drop(['rev1', 'rev2', 'rev3', 'rev4', 'rev5'], axis=1)"
   ]
  },
  {
   "cell_type": "markdown",
   "metadata": {},
   "source": [
    "Removing id columns:"
   ]
  },
  {
   "cell_type": "code",
   "execution_count": 79,
   "metadata": {},
   "outputs": [],
   "source": [
    "df3 = df3.drop(['fid_id', 'date_fid'], axis=1)"
   ]
  },
  {
   "cell_type": "code",
   "execution_count": 80,
   "metadata": {},
   "outputs": [
    {
     "data": {
      "text/plain": [
       "100"
      ]
     },
     "execution_count": 80,
     "metadata": {},
     "output_type": "execute_result"
    }
   ],
   "source": [
    "df3.camping_fid.nunique()"
   ]
  },
  {
   "cell_type": "code",
   "execution_count": 81,
   "metadata": {},
   "outputs": [],
   "source": [
    "df3 = df3.drop(['camping_fid'], axis=1)"
   ]
  },
  {
   "cell_type": "code",
   "execution_count": 82,
   "metadata": {},
   "outputs": [],
   "source": [
    "df3 = df3.drop(['hebergement_camping_id'], axis=1)"
   ]
  },
  {
   "cell_type": "code",
   "execution_count": 83,
   "metadata": {},
   "outputs": [],
   "source": [
    "df3 = df3.drop(['creation_date'], axis=1)"
   ]
  },
  {
   "cell_type": "code",
   "execution_count": 84,
   "metadata": {},
   "outputs": [
    {
     "name": "stdout",
     "output_type": "stream",
     "text": [
      "<class 'pandas.core.frame.DataFrame'>\n",
      "Int64Index: 303743 entries, 0 to 305234\n",
      "Data columns (total 4 columns):\n",
      " #   Column                      Non-Null Count   Dtype  \n",
      "---  ------                      --------------   -----  \n",
      " 0   los                         303743 non-null  float64\n",
      " 1   nbguest                     303743 non-null  float64\n",
      " 2   rev                         303743 non-null  float64\n",
      " 3   nb_days_between_resa_start  303743 non-null  float64\n",
      "dtypes: float64(4)\n",
      "memory usage: 11.6 MB\n"
     ]
    }
   ],
   "source": [
    "df3.select_dtypes(include=['float64']).info()"
   ]
  },
  {
   "cell_type": "code",
   "execution_count": 85,
   "metadata": {},
   "outputs": [
    {
     "name": "stdout",
     "output_type": "stream",
     "text": [
      "<class 'pandas.core.frame.DataFrame'>\n",
      "Int64Index: 303743 entries, 0 to 305234\n",
      "Data columns (total 15 columns):\n",
      " #   Column                      Non-Null Count   Dtype  \n",
      "---  ------                      --------------   -----  \n",
      " 0   idstay_to                   303743 non-null  object \n",
      " 1   resinternet                 303743 non-null  object \n",
      " 2   type_guest                  303743 non-null  object \n",
      " 3   camping_label               303743 non-null  object \n",
      " 4   Région                      303743 non-null  object \n",
      " 5   type_hebergement            303743 non-null  object \n",
      " 6   hebergement_label           303743 non-null  object \n",
      " 7   los                         303743 non-null  float64\n",
      " 8   nbguest                     303743 non-null  float64\n",
      " 9   rev                         303743 non-null  float64\n",
      " 10  pays                        303743 non-null  object \n",
      " 11  fidelisation                303743 non-null  object \n",
      " 12  segment                     303743 non-null  object \n",
      " 13  nb_stars                    303743 non-null  object \n",
      " 14  nb_days_between_resa_start  303743 non-null  float64\n",
      "dtypes: float64(4), object(11)\n",
      "memory usage: 37.1+ MB\n"
     ]
    }
   ],
   "source": [
    "df3.info()"
   ]
  },
  {
   "cell_type": "markdown",
   "metadata": {},
   "source": [
    "**We don't have any NA values**"
   ]
  },
  {
   "cell_type": "code",
   "execution_count": 86,
   "metadata": {},
   "outputs": [
    {
     "name": "stdout",
     "output_type": "stream",
     "text": [
      "in feature idstay_to the num of unique values is: 2\n",
      "in feature resinternet the num of unique values is: 3\n",
      "in feature type_guest the num of unique values is: 2\n",
      "in feature camping_label the num of unique values is: 79\n",
      "in feature Région the num of unique values is: 15\n",
      "in feature type_hebergement the num of unique values is: 2\n",
      "in feature hebergement_label the num of unique values is: 14\n",
      "in feature los the num of unique values is: 20\n",
      "in feature nbguest the num of unique values is: 7\n",
      "in feature rev the num of unique values is: 70742\n",
      "in feature pays the num of unique values is: 8\n",
      "in feature fidelisation the num of unique values is: 2\n",
      "in feature segment the num of unique values is: 3\n",
      "in feature nb_stars the num of unique values is: 2\n",
      "in feature nb_days_between_resa_start the num of unique values is: 375\n"
     ]
    }
   ],
   "source": [
    "for feat in df3:\n",
    "    print(f\"in feature {feat} the num of unique values is: {df3[feat].nunique()}\")"
   ]
  },
  {
   "cell_type": "markdown",
   "metadata": {},
   "source": [
    "# Dataviz:"
   ]
  },
  {
   "cell_type": "code",
   "execution_count": 87,
   "metadata": {
    "scrolled": true
   },
   "outputs": [
    {
     "data": {
      "text/html": [
       "<style  type=\"text/css\" >\n",
       "    #T_0b7b2c3a_ead2_11ea_afe1_4c3275959fabrow0_col0 {\n",
       "            color:  green;\n",
       "        }    #T_0b7b2c3a_ead2_11ea_afe1_4c3275959fabrow0_col1 {\n",
       "            color:  black;\n",
       "        }    #T_0b7b2c3a_ead2_11ea_afe1_4c3275959fabrow0_col2 {\n",
       "            color:  green;\n",
       "        }    #T_0b7b2c3a_ead2_11ea_afe1_4c3275959fabrow0_col3 {\n",
       "            color:  green;\n",
       "        }    #T_0b7b2c3a_ead2_11ea_afe1_4c3275959fabrow1_col0 {\n",
       "            color:  black;\n",
       "        }    #T_0b7b2c3a_ead2_11ea_afe1_4c3275959fabrow1_col1 {\n",
       "            color:  green;\n",
       "        }    #T_0b7b2c3a_ead2_11ea_afe1_4c3275959fabrow1_col2 {\n",
       "            color:  black;\n",
       "        }    #T_0b7b2c3a_ead2_11ea_afe1_4c3275959fabrow1_col3 {\n",
       "            color:  black;\n",
       "        }    #T_0b7b2c3a_ead2_11ea_afe1_4c3275959fabrow2_col0 {\n",
       "            color:  green;\n",
       "        }    #T_0b7b2c3a_ead2_11ea_afe1_4c3275959fabrow2_col1 {\n",
       "            color:  black;\n",
       "        }    #T_0b7b2c3a_ead2_11ea_afe1_4c3275959fabrow2_col2 {\n",
       "            color:  green;\n",
       "        }    #T_0b7b2c3a_ead2_11ea_afe1_4c3275959fabrow2_col3 {\n",
       "            color:  green;\n",
       "        }    #T_0b7b2c3a_ead2_11ea_afe1_4c3275959fabrow3_col0 {\n",
       "            color:  green;\n",
       "        }    #T_0b7b2c3a_ead2_11ea_afe1_4c3275959fabrow3_col1 {\n",
       "            color:  black;\n",
       "        }    #T_0b7b2c3a_ead2_11ea_afe1_4c3275959fabrow3_col2 {\n",
       "            color:  green;\n",
       "        }    #T_0b7b2c3a_ead2_11ea_afe1_4c3275959fabrow3_col3 {\n",
       "            color:  green;\n",
       "        }</style><table id=\"T_0b7b2c3a_ead2_11ea_afe1_4c3275959fab\" ><thead>    <tr>        <th class=\"blank level0\" ></th>        <th class=\"col_heading level0 col0\" >los</th>        <th class=\"col_heading level0 col1\" >nbguest</th>        <th class=\"col_heading level0 col2\" >rev</th>        <th class=\"col_heading level0 col3\" >nb_days_between_resa_start</th>    </tr></thead><tbody>\n",
       "                <tr>\n",
       "                        <th id=\"T_0b7b2c3a_ead2_11ea_afe1_4c3275959fablevel0_row0\" class=\"row_heading level0 row0\" >los</th>\n",
       "                        <td id=\"T_0b7b2c3a_ead2_11ea_afe1_4c3275959fabrow0_col0\" class=\"data row0 col0\" >1.000000</td>\n",
       "                        <td id=\"T_0b7b2c3a_ead2_11ea_afe1_4c3275959fabrow0_col1\" class=\"data row0 col1\" >0.103047</td>\n",
       "                        <td id=\"T_0b7b2c3a_ead2_11ea_afe1_4c3275959fabrow0_col2\" class=\"data row0 col2\" >0.697214</td>\n",
       "                        <td id=\"T_0b7b2c3a_ead2_11ea_afe1_4c3275959fabrow0_col3\" class=\"data row0 col3\" >0.609132</td>\n",
       "            </tr>\n",
       "            <tr>\n",
       "                        <th id=\"T_0b7b2c3a_ead2_11ea_afe1_4c3275959fablevel0_row1\" class=\"row_heading level0 row1\" >nbguest</th>\n",
       "                        <td id=\"T_0b7b2c3a_ead2_11ea_afe1_4c3275959fabrow1_col0\" class=\"data row1 col0\" >0.103047</td>\n",
       "                        <td id=\"T_0b7b2c3a_ead2_11ea_afe1_4c3275959fabrow1_col1\" class=\"data row1 col1\" >1.000000</td>\n",
       "                        <td id=\"T_0b7b2c3a_ead2_11ea_afe1_4c3275959fabrow1_col2\" class=\"data row1 col2\" >0.291820</td>\n",
       "                        <td id=\"T_0b7b2c3a_ead2_11ea_afe1_4c3275959fabrow1_col3\" class=\"data row1 col3\" >0.235659</td>\n",
       "            </tr>\n",
       "            <tr>\n",
       "                        <th id=\"T_0b7b2c3a_ead2_11ea_afe1_4c3275959fablevel0_row2\" class=\"row_heading level0 row2\" >rev</th>\n",
       "                        <td id=\"T_0b7b2c3a_ead2_11ea_afe1_4c3275959fabrow2_col0\" class=\"data row2 col0\" >0.697214</td>\n",
       "                        <td id=\"T_0b7b2c3a_ead2_11ea_afe1_4c3275959fabrow2_col1\" class=\"data row2 col1\" >0.291820</td>\n",
       "                        <td id=\"T_0b7b2c3a_ead2_11ea_afe1_4c3275959fabrow2_col2\" class=\"data row2 col2\" >1.000000</td>\n",
       "                        <td id=\"T_0b7b2c3a_ead2_11ea_afe1_4c3275959fabrow2_col3\" class=\"data row2 col3\" >0.600130</td>\n",
       "            </tr>\n",
       "            <tr>\n",
       "                        <th id=\"T_0b7b2c3a_ead2_11ea_afe1_4c3275959fablevel0_row3\" class=\"row_heading level0 row3\" >nb_days_between_resa_start</th>\n",
       "                        <td id=\"T_0b7b2c3a_ead2_11ea_afe1_4c3275959fabrow3_col0\" class=\"data row3 col0\" >0.609132</td>\n",
       "                        <td id=\"T_0b7b2c3a_ead2_11ea_afe1_4c3275959fabrow3_col1\" class=\"data row3 col1\" >0.235659</td>\n",
       "                        <td id=\"T_0b7b2c3a_ead2_11ea_afe1_4c3275959fabrow3_col2\" class=\"data row3 col2\" >0.600130</td>\n",
       "                        <td id=\"T_0b7b2c3a_ead2_11ea_afe1_4c3275959fabrow3_col3\" class=\"data row3 col3\" >1.000000</td>\n",
       "            </tr>\n",
       "    </tbody></table>"
      ],
      "text/plain": [
       "<pandas.io.formats.style.Styler at 0x132c9dfd0>"
      ]
     },
     "execution_count": 87,
     "metadata": {},
     "output_type": "execute_result"
    }
   ],
   "source": [
    "def color_map(val):\n",
    "    color = 'red' if float(val) < -0.4 else 'green' if float(val) > 0.4  else 'black'\n",
    "    return 'color: %s' % color\n",
    "\n",
    "corr = df3.corr()\n",
    "df_styled = corr.style.applymap(color_map)\n",
    "df_styled"
   ]
  },
  {
   "cell_type": "code",
   "execution_count": 88,
   "metadata": {
    "scrolled": true
   },
   "outputs": [
    {
     "data": {
      "image/png": "[encoded data removed]",
      "text/plain": [
       "<Figure size 432x288 with 2 Axes>"
      ]
     },
     "metadata": {},
     "output_type": "display_data"
    }
   ],
   "source": [
    "mask = np.tril(np.ones_like(corr, dtype=np.bool))\n",
    "ax = sns.heatmap(df3.corr(), annot=True, fmt=\".2f\", mask = mask, square = True)"
   ]
  },
  {
   "cell_type": "markdown",
   "metadata": {},
   "source": [
    "***To be checked:* correlation between nb_days_between_resa_start and nb_stars**"
   ]
  },
  {
   "cell_type": "markdown",
   "metadata": {},
   "source": [
    "# Splitting the data"
   ]
  },
  {
   "cell_type": "code",
   "execution_count": 89,
   "metadata": {},
   "outputs": [],
   "source": [
    "from sklearn.model_selection import train_test_split\n",
    "\n",
    "X = df3.loc[:, df3.columns != 'rev']\n",
    "y = df3['rev']"
   ]
  },
  {
   "cell_type": "code",
   "execution_count": 90,
   "metadata": {},
   "outputs": [],
   "source": [
    "X_train, X_test, y_train, y_test = train_test_split(X, y, test_size=0.25, random_state=1)"
   ]
  },
  {
   "cell_type": "code",
   "execution_count": 91,
   "metadata": {},
   "outputs": [],
   "source": [
    "df_train = pd.concat([X_train, y_train], axis=1)\n",
    "df_test = pd.concat([X_test, y_test], axis=1)"
   ]
  },
  {
   "cell_type": "code",
   "execution_count": 92,
   "metadata": {},
   "outputs": [],
   "source": [
    "datasets = [df_train, df_test]"
   ]
  },
  {
   "cell_type": "code",
   "execution_count": 93,
   "metadata": {},
   "outputs": [
    {
     "data": {
      "text/plain": [
       "((227807, 14), (227807,), (75936, 14), (75936,))"
      ]
     },
     "execution_count": 93,
     "metadata": {},
     "output_type": "execute_result"
    }
   ],
   "source": [
    "X_train.shape, y_train.shape, X_test.shape, y_test.shape"
   ]
  },
  {
   "cell_type": "code",
   "execution_count": 94,
   "metadata": {},
   "outputs": [
    {
     "data": {
      "text/plain": [
       "set()"
      ]
     },
     "execution_count": 94,
     "metadata": {},
     "output_type": "execute_result"
    }
   ],
   "source": [
    "set(X_train.index) & set(X_test.index)"
   ]
  },
  {
   "cell_type": "markdown",
   "metadata": {},
   "source": [
    "# Numerical features:"
   ]
  },
  {
   "cell_type": "code",
   "execution_count": 95,
   "metadata": {},
   "outputs": [
    {
     "name": "stdout",
     "output_type": "stream",
     "text": [
      "StandardScaler()\n"
     ]
    },
    {
     "name": "stderr",
     "output_type": "stream",
     "text": [
      "/opt/anaconda3/lib/python3.6/site-packages/pandas/core/indexing.py:965: SettingWithCopyWarning:\n",
      "\n",
      "\n",
      "A value is trying to be set on a copy of a slice from a DataFrame.\n",
      "Try using .loc[row_indexer,col_indexer] = value instead\n",
      "\n",
      "See the caveats in the documentation: https://pandas.pydata.org/pandas-docs/stable/user_guide/indexing.html#returning-a-view-versus-a-copy\n",
      "\n"
     ]
    }
   ],
   "source": [
    "from sklearn.preprocessing import StandardScaler\n",
    "\n",
    "scaler = StandardScaler()\n",
    "print(scaler.fit(X_train.loc[:, ['los', 'nbguest', 'nb_days_between_resa_start']]))\n",
    "X_train.loc[:, ['los', 'nbguest', 'nb_days_between_resa_start']] = scaler.transform(X_train.loc[:, ['los', 'nbguest', 'nb_days_between_resa_start']])"
   ]
  },
  {
   "cell_type": "markdown",
   "metadata": {},
   "source": [
    "Transforming on the test set with the scaler fitted on train set:"
   ]
  },
  {
   "cell_type": "code",
   "execution_count": 96,
   "metadata": {},
   "outputs": [
    {
     "name": "stderr",
     "output_type": "stream",
     "text": [
      "/opt/anaconda3/lib/python3.6/site-packages/pandas/core/indexing.py:965: SettingWithCopyWarning:\n",
      "\n",
      "\n",
      "A value is trying to be set on a copy of a slice from a DataFrame.\n",
      "Try using .loc[row_indexer,col_indexer] = value instead\n",
      "\n",
      "See the caveats in the documentation: https://pandas.pydata.org/pandas-docs/stable/user_guide/indexing.html#returning-a-view-versus-a-copy\n",
      "\n"
     ]
    }
   ],
   "source": [
    "X_test.loc[:, ['los', 'nbguest', 'nb_days_between_resa_start']] = scaler.transform(X_test.loc[:, ['los', 'nbguest', 'nb_days_between_resa_start']])"
   ]
  },
  {
   "cell_type": "code",
   "execution_count": 97,
   "metadata": {},
   "outputs": [
    {
     "data": {
      "text/plain": [
       "((227807, 14), (227807,), (75936, 14), (75936,))"
      ]
     },
     "execution_count": 97,
     "metadata": {},
     "output_type": "execute_result"
    }
   ],
   "source": [
    "X_train.shape, y_train.shape, X_test.shape, y_test.shape"
   ]
  },
  {
   "cell_type": "markdown",
   "metadata": {},
   "source": [
    "# Encoding categorical features:"
   ]
  },
  {
   "cell_type": "code",
   "execution_count": 98,
   "metadata": {},
   "outputs": [
    {
     "name": "stdout",
     "output_type": "stream",
     "text": [
      "in feature idstay_to the num of unique values is: 2\n",
      "in feature resinternet the num of unique values is: 3\n",
      "in feature type_guest the num of unique values is: 2\n",
      "in feature camping_label the num of unique values is: 79\n",
      "in feature Région the num of unique values is: 15\n",
      "in feature type_hebergement the num of unique values is: 2\n",
      "in feature hebergement_label the num of unique values is: 14\n",
      "in feature pays the num of unique values is: 8\n",
      "in feature fidelisation the num of unique values is: 2\n",
      "in feature segment the num of unique values is: 3\n",
      "in feature nb_stars the num of unique values is: 2\n"
     ]
    }
   ],
   "source": [
    "for feat in X_train.select_dtypes('object').columns:\n",
    "    print(f\"in feature {feat} the num of unique values is: {df3[feat].nunique()}\")"
   ]
  },
  {
   "cell_type": "code",
   "execution_count": 99,
   "metadata": {},
   "outputs": [
    {
     "data": {
      "text/plain": [
       "Index(['idstay_to', 'resinternet', 'type_guest', 'camping_label', 'Région',\n",
       "       'type_hebergement', 'hebergement_label', 'pays', 'fidelisation',\n",
       "       'segment', 'nb_stars'],\n",
       "      dtype='object')"
      ]
     },
     "execution_count": 99,
     "metadata": {},
     "output_type": "execute_result"
    }
   ],
   "source": [
    "cat_columns = X_train.select_dtypes('object').columns\n",
    "cat_columns"
   ]
  },
  {
   "cell_type": "code",
   "execution_count": 100,
   "metadata": {},
   "outputs": [],
   "source": [
    "X_train2 = pd.get_dummies(X_train, columns=cat_columns)"
   ]
  },
  {
   "cell_type": "code",
   "execution_count": 101,
   "metadata": {},
   "outputs": [
    {
     "name": "stdout",
     "output_type": "stream",
     "text": [
      "<class 'pandas.core.frame.DataFrame'>\n",
      "Int64Index: 227807 entries, 220714 to 128536\n",
      "Columns: 135 entries, los to nb_stars_4_stars_or_premium\n",
      "dtypes: float64(3), uint8(132)\n",
      "memory usage: 35.6 MB\n"
     ]
    }
   ],
   "source": [
    "X_train2.info()"
   ]
  },
  {
   "cell_type": "code",
   "execution_count": 102,
   "metadata": {},
   "outputs": [],
   "source": [
    "X_test2 = pd.get_dummies(X_test, columns=cat_columns)"
   ]
  },
  {
   "cell_type": "code",
   "execution_count": 103,
   "metadata": {},
   "outputs": [
    {
     "data": {
      "text/plain": [
       "((227807, 135), (227807,), (75936, 135), (75936,))"
      ]
     },
     "execution_count": 103,
     "metadata": {},
     "output_type": "execute_result"
    }
   ],
   "source": [
    "X_train2.shape, y_train.shape, X_test2.shape, y_test.shape"
   ]
  },
  {
   "cell_type": "markdown",
   "metadata": {},
   "source": [
    "# Testing models:"
   ]
  },
  {
   "cell_type": "markdown",
   "metadata": {},
   "source": [
    "**With LinearRegression:**"
   ]
  },
  {
   "cell_type": "code",
   "execution_count": 104,
   "metadata": {},
   "outputs": [],
   "source": [
    "from sklearn.linear_model import LinearRegression\n",
    "from sklearn.metrics import mean_squared_error\n",
    "\n",
    "reg = LinearRegression()\n",
    "reg.fit(X_train2, y_train)\n",
    "\n",
    "y_pred_lr = reg.predict(X_test2)"
   ]
  },
  {
   "cell_type": "code",
   "execution_count": 105,
   "metadata": {},
   "outputs": [
    {
     "data": {
      "text/plain": [
       "0.6643690333732752"
      ]
     },
     "execution_count": 105,
     "metadata": {},
     "output_type": "execute_result"
    }
   ],
   "source": [
    "reg.score(X_test2, y_test)"
   ]
  },
  {
   "cell_type": "code",
   "execution_count": 106,
   "metadata": {},
   "outputs": [
    {
     "data": {
      "text/plain": [
       "439.41701727425954"
      ]
     },
     "execution_count": 106,
     "metadata": {},
     "output_type": "execute_result"
    }
   ],
   "source": [
    "mean_squared_error(y_test, y_pred_lr, squared=False)"
   ]
  },
  {
   "cell_type": "code",
   "execution_count": 107,
   "metadata": {},
   "outputs": [],
   "source": [
    "coef = reg.coef_"
   ]
  },
  {
   "cell_type": "code",
   "execution_count": 108,
   "metadata": {},
   "outputs": [],
   "source": [
    "lr_top5features = abs(coef).argsort()[:5][::-1]"
   ]
  },
  {
   "cell_type": "code",
   "execution_count": 109,
   "metadata": {},
   "outputs": [
    {
     "data": {
      "text/plain": [
       "array([68, 28,  0,  2,  1])"
      ]
     },
     "execution_count": 109,
     "metadata": {},
     "output_type": "execute_result"
    }
   ],
   "source": [
    "lr_top5features"
   ]
  },
  {
   "cell_type": "code",
   "execution_count": 110,
   "metadata": {},
   "outputs": [
    {
     "data": {
      "text/plain": [
       "Index(['camping_label_POMME DE PIN', 'camping_label_DOMAINE DE LA FORET',\n",
       "       'los', 'nb_days_between_resa_start', 'nbguest'],\n",
       "      dtype='object')"
      ]
     },
     "execution_count": 110,
     "metadata": {},
     "output_type": "execute_result"
    }
   ],
   "source": [
    "X_train2.columns[lr_top5features]"
   ]
  },
  {
   "cell_type": "markdown",
   "metadata": {},
   "source": [
    "**With RandomForestRegressor:**"
   ]
  },
  {
   "cell_type": "code",
   "execution_count": 111,
   "metadata": {},
   "outputs": [
    {
     "name": "stdout",
     "output_type": "stream",
     "text": [
      "model trained\n"
     ]
    }
   ],
   "source": [
    "from sklearn.ensemble import RandomForestRegressor\n",
    "\n",
    "rfr = RandomForestRegressor(criterion='mse', max_depth=100, max_features='log2')\n",
    "rfr.fit(X_train2, y_train)\n",
    "print('model trained')\n",
    "\n",
    "y_pred_rfr = rfr.predict(X_test2)"
   ]
  },
  {
   "cell_type": "code",
   "execution_count": 112,
   "metadata": {},
   "outputs": [
    {
     "data": {
      "text/plain": [
       "0.8380661264960713"
      ]
     },
     "execution_count": 112,
     "metadata": {},
     "output_type": "execute_result"
    }
   ],
   "source": [
    "rfr.score(X_test2, y_test)"
   ]
  },
  {
   "cell_type": "code",
   "execution_count": 113,
   "metadata": {},
   "outputs": [
    {
     "data": {
      "text/plain": [
       "305.22121173114664"
      ]
     },
     "execution_count": 113,
     "metadata": {},
     "output_type": "execute_result"
    }
   ],
   "source": [
    "mean_squared_error(y_test, y_pred_rfr, squared=False)"
   ]
  },
  {
   "cell_type": "markdown",
   "metadata": {},
   "source": [
    "**Since it's a regression problem, we are trying with Lasso:**"
   ]
  },
  {
   "cell_type": "code",
   "execution_count": 114,
   "metadata": {},
   "outputs": [
    {
     "name": "stderr",
     "output_type": "stream",
     "text": [
      " 25%|██▌       | 1/4 [00:54<02:44, 54.72s/it]"
     ]
    },
    {
     "name": "stdout",
     "output_type": "stream",
     "text": [
      "trained for alpha =  0.1\n"
     ]
    },
    {
     "name": "stderr",
     "output_type": "stream",
     "text": [
      "\r",
      " 50%|█████     | 2/4 [01:13<01:28, 44.07s/it]"
     ]
    },
    {
     "name": "stdout",
     "output_type": "stream",
     "text": [
      "trained for alpha =  1\n"
     ]
    },
    {
     "name": "stderr",
     "output_type": "stream",
     "text": [
      "\r",
      " 75%|███████▌  | 3/4 [01:15<00:31, 31.44s/it]"
     ]
    },
    {
     "name": "stdout",
     "output_type": "stream",
     "text": [
      "trained for alpha =  10\n"
     ]
    },
    {
     "name": "stderr",
     "output_type": "stream",
     "text": [
      "100%|██████████| 4/4 [01:17<00:00, 19.31s/it]"
     ]
    },
    {
     "name": "stdout",
     "output_type": "stream",
     "text": [
      "trained for alpha =  100\n"
     ]
    },
    {
     "name": "stderr",
     "output_type": "stream",
     "text": [
      "\n"
     ]
    }
   ],
   "source": [
    "from sklearn.linear_model import Lasso\n",
    "from tqdm import tqdm\n",
    "\n",
    "alpha_list = [0.1, 1, 10, 100]\n",
    "\n",
    "result_score = []\n",
    "\n",
    "for alpha_choice in tqdm(alpha_list):\n",
    "    clf = Lasso(alpha=alpha_choice)\n",
    "    clf.fit(X_train2, y_train)\n",
    "    print('trained for alpha = ', alpha_choice)\n",
    "    y_lasso_pred = clf.predict(X_test2)\n",
    "    result_score.append(clf.score(X_test2, y_test))"
   ]
  },
  {
   "cell_type": "code",
   "execution_count": 115,
   "metadata": {},
   "outputs": [
    {
     "data": {
      "text/plain": [
       "[0.6641721418173896,\n",
       " 0.6583387107426572,\n",
       " 0.6303231970519365,\n",
       " 0.5368112038711853]"
      ]
     },
     "execution_count": 115,
     "metadata": {},
     "output_type": "execute_result"
    }
   ],
   "source": [
    "result_score"
   ]
  }
 ],
 "metadata": {
  "kernelspec": {
   "display_name": "Python 3",
   "language": "python",
   "name": "python3"
  },
  "language_info": {
   "codemirror_mode": {
    "name": "ipython",
    "version": 3
   },
   "file_extension": ".py",
   "mimetype": "text/x-python",
   "name": "python",
   "nbconvert_exporter": "python",
   "pygments_lexer": "ipython3",
   "version": "3.6.10"
  }
 },
 "nbformat": 4,
 "nbformat_minor": 4
}
